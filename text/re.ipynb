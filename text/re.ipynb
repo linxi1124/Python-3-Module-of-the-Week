{
 "cells": [
  {
   "cell_type": "markdown",
   "metadata": {},
   "source": [
    "Regular expressions are text matching patterns described with a formal syntax. The patterns are interpreted as a set of instructions, which are then executed with a string as input to produce a matching subset or modified version of the original. The term “regular expressions” is frequently shortened to “regex” or “regexp” in conversation. Expressions can include literal text matching, repetition, pattern composition, branching, and other sophisticated rules. A large number of parsing problems are easier to solve with a regular expression than by creating a special-purpose lexer and parser.\n",
    "\n",
    "Regular expressions are typically used in applications that involve a lot of text processing. For example, they are commonly used as search patterns in text editing programs used by developers, including vi, emacs, and modern IDEs. They are also an integral part of Unix command-line utilities such as sed, grep, and awk. Many programming languages include support for regular expressions in the language syntax (Perl, Ruby, Awk, and Tcl). Other languages, such as C, C++, and Python, support regular expressions through extension libraries.\n",
    "\n",
    "Multiple open source implementations of regular expressions exist, each sharing a common core syntax but with different extensions or modifications to their advanced features. The syntax used in Python’s re module is based on the syntax used for regular expressions in Perl, with a few Python-specific enhancements."
   ]
  },
  {
   "cell_type": "markdown",
   "metadata": {},
   "source": [
    "## Finding Patterns in Text"
   ]
  },
  {
   "cell_type": "markdown",
   "metadata": {},
   "source": [
    "The most common use for `re` is to search for patterns in text. the `search()` functions takes the pattern and text to scan, and returns a **Match object** when the pattern found. If the pattern is not fund, a `None` is returned"
   ]
  },
  {
   "cell_type": "code",
   "execution_count": 2,
   "metadata": {},
   "outputs": [
    {
     "name": "stdout",
     "output_type": "stream",
     "text": [
      "Found \"text\"\n",
      " in \"Does this text match the pattern?\"\n",
      " from 10 to 14 (\"text\")\n"
     ]
    }
   ],
   "source": [
    "import re\n",
    "pattern = 'text'\n",
    "text = 'Does this text match the pattern?'\n",
    "\n",
    "match = re.search(pattern, text)\n",
    "s = match.start()\n",
    "e = match.end()\n",
    "\n",
    "print('Found \"{}\"\\n in \"{}\"\\n from {} to {} (\"{}\")'.format(\n",
    "      match.re.pattern, match.string, s, e, text[s:e]))"
   ]
  },
  {
   "cell_type": "markdown",
   "metadata": {},
   "source": [
    "## Compiling Expressions"
   ]
  },
  {
   "cell_type": "markdown",
   "metadata": {},
   "source": [
    "Although re includes module-level functions for working with text, it is more efficient to compile the expression a  program uses frequently. The `compile` function converts an expression string into **RegexObject**"
   ]
  },
  {
   "cell_type": "code",
   "execution_count": 6,
   "metadata": {},
   "outputs": [
    {
     "name": "stdout",
     "output_type": "stream",
     "text": [
      "Text: 'Does this text match the pattern?'\n",
      "\n",
      "Seeking 'this' ->  match\n",
      "Seeking 'that' ->  no match\n"
     ]
    }
   ],
   "source": [
    "import re\n",
    "regexes = [re.compile(p) for p in ['this', 'that']]\n",
    "text = 'Does this text match the pattern?'\n",
    "\n",
    "print(\"Text: {!r}\\n\".format(text))\n",
    "\n",
    "for regex in regexes:\n",
    "    print(\"Seeking '{}' -> \".format(regex.pattern), end=' ')\n",
    "    if regex.search(text):\n",
    "        print(\"match\")\n",
    "    else:\n",
    "        print(\"no match\")"
   ]
  },
  {
   "cell_type": "markdown",
   "metadata": {},
   "source": [
    "## Multiple matches"
   ]
  },
  {
   "cell_type": "markdown",
   "metadata": {},
   "source": [
    "So far, the example patterns have all used `search` to look for single instance of text strings. The findall function returns all of the substrings of the input that match the pattern without overlapping"
   ]
  },
  {
   "cell_type": "code",
   "execution_count": 7,
   "metadata": {},
   "outputs": [
    {
     "name": "stdout",
     "output_type": "stream",
     "text": [
      "Found 'ab'\n",
      "Found 'ab'\n"
     ]
    }
   ],
   "source": [
    "import re\n",
    "\n",
    "text = 'abbaabbbbaaaaa'\n",
    "pattern = 'ab'\n",
    "\n",
    "for match in re.findall(pattern, text):\n",
    "    print('Found {!r}'.format(match))"
   ]
  },
  {
   "cell_type": "markdown",
   "metadata": {},
   "source": [
    "The `finditer()` function returns an iterator that produces `Match object` instances of the strings return by `findall()`"
   ]
  },
  {
   "cell_type": "code",
   "execution_count": 8,
   "metadata": {},
   "outputs": [
    {
     "name": "stdout",
     "output_type": "stream",
     "text": [
      "Found 'ab' at 0:2\n",
      "Found 'ab' at 4:6\n"
     ]
    }
   ],
   "source": [
    "import re\n",
    "\n",
    "text = 'abbaabbbbaaaaa'\n",
    "pattern = 'ab'\n",
    "\n",
    "for match in re.finditer(pattern, text):\n",
    "    s = match.start()\n",
    "    e = match.end()\n",
    "    print(\"Found '{}' at {:d}:{:d}\".format(text[s:e], s, e))"
   ]
  },
  {
   "cell_type": "markdown",
   "metadata": {},
   "source": [
    "## Pattern Syntax"
   ]
  },
  {
   "cell_type": "markdown",
   "metadata": {},
   "source": [
    "Regular expresions support more powerful patterns than simple text strings. Patterns can repeat, can be anchored to different logical locations within the input, and can be expressed in compact forms that do not require every character to be present in the pattern. All of the features are used by combing literal text values with meta-characters that are part of regular expression syntax"
   ]
  },
  {
   "cell_type": "code",
   "execution_count": 13,
   "metadata": {},
   "outputs": [
    {
     "name": "stdout",
     "output_type": "stream",
     "text": [
      "'ab' ('a' followed by 'b')\n",
      "\n",
      "scaned text:  'abbaaabbbbaaaaa'\n",
      "  'ab'\n",
      "  .....'ab'\n",
      "\n"
     ]
    }
   ],
   "source": [
    "import re\n",
    "\n",
    "\n",
    "def test_patterns(text, patterns):\n",
    "    \"\"\"Given source text and a list of patterns, look for\n",
    "    matches for each pattern within the text and print\n",
    "    them to stdout.\n",
    "    \"\"\"\n",
    "    # Look for each pattern in the text and print the results\n",
    "    for pattern, desc in patterns:\n",
    "        print(\"'{}' ({})\\n\".format(pattern, desc))\n",
    "        print(\"scaned text:  '{}'\".format(text))\n",
    "        for match in re.finditer(pattern, text):\n",
    "            s = match.start()\n",
    "            e = match.end()\n",
    "            substr = text[s:e]\n",
    "            n_backslashes = text[:s].count('\\\\')\n",
    "            prefix = '.' * (s + n_backslashes)\n",
    "            print(\"  {}'{}'\".format(prefix, substr))\n",
    "        print()\n",
    "    return\n",
    "\n",
    "\n",
    "if __name__ == '__main__':\n",
    "    test_patterns('abbaaabbbbaaaaa',\n",
    "                  [('ab', \"'a' followed by 'b'\"),\n",
    "                   ])"
   ]
  },
  {
   "cell_type": "markdown",
   "metadata": {},
   "source": [
    "## Repetition"
   ]
  },
  {
   "cell_type": "markdown",
   "metadata": {},
   "source": [
    "There are five ways to express repetition in a pattern. \n",
    "* A pattern followed by the meta-character * is repeated zero or more times (allowing a pattern to repeat zero times means it does not need to appear at all to match). \n",
    "* If the * is replaced with +, the pattern must appear at least once. \n",
    "* Using ? means the pattern appears zero or one time. \n",
    "* For a specific number of occurrences, use {m} after the pattern, where m is the number of times the pattern should repeat. Finally, to allow a variable but limited number of repetitions, \n",
    "* use {m,n}, where m is the minimum number of repetitions and n is the maximum. Leaving out n ({m,}) means the value must appear at least m times, with no maximum."
   ]
  },
  {
   "cell_type": "code",
   "execution_count": 14,
   "metadata": {},
   "outputs": [
    {
     "name": "stdout",
     "output_type": "stream",
     "text": [
      "'ab*' (a followed by zero or more b)\n",
      "\n",
      "scaned text:  'abbaabbba'\n",
      "  'abb'\n",
      "  ...'a'\n",
      "  ....'abbb'\n",
      "  ........'a'\n",
      "\n",
      "'ab+' (a followed by one or more b)\n",
      "\n",
      "scaned text:  'abbaabbba'\n",
      "  'abb'\n",
      "  ....'abbb'\n",
      "\n",
      "'ab?' (a followed by zero or one b)\n",
      "\n",
      "scaned text:  'abbaabbba'\n",
      "  'ab'\n",
      "  ...'a'\n",
      "  ....'ab'\n",
      "  ........'a'\n",
      "\n",
      "'ab{3}' (a followed by three b)\n",
      "\n",
      "scaned text:  'abbaabbba'\n",
      "  ....'abbb'\n",
      "\n",
      "'ab{2,3}' (a followed by two to three b)\n",
      "\n",
      "scaned text:  'abbaabbba'\n",
      "  'abb'\n",
      "  ....'abbb'\n",
      "\n"
     ]
    }
   ],
   "source": [
    "test_patterns(\n",
    "    'abbaabbba',\n",
    "    [('ab*', 'a followed by zero or more b'),\n",
    "     ('ab+', 'a followed by one or more b'),\n",
    "     ('ab?', 'a followed by zero or one b'),\n",
    "     ('ab{3}', 'a followed by three b'),\n",
    "     ('ab{2,3}', 'a followed by two to three b')],\n",
    ")"
   ]
  },
  {
   "cell_type": "markdown",
   "metadata": {},
   "source": [
    "When processing a repetition instruction, re will usually consume as much of the input as possible while matching the pattern. This so-called greedy behavior may result in fewer individual matches, or the matches may include more of the input text than intended. Greediness can be turned off by following the repetition instruction with ?."
   ]
  },
  {
   "cell_type": "code",
   "execution_count": 15,
   "metadata": {},
   "outputs": [
    {
     "name": "stdout",
     "output_type": "stream",
     "text": [
      "'ab*?' (a followed by zero or more b)\n",
      "\n",
      "scaned text:  'abbaabbba'\n",
      "  'a'\n",
      "  ...'a'\n",
      "  ....'a'\n",
      "  ........'a'\n",
      "\n",
      "'ab+?' (a followed by one or more b)\n",
      "\n",
      "scaned text:  'abbaabbba'\n",
      "  'ab'\n",
      "  ....'ab'\n",
      "\n",
      "'ab??' (a followed by zero or one b)\n",
      "\n",
      "scaned text:  'abbaabbba'\n",
      "  'a'\n",
      "  ...'a'\n",
      "  ....'a'\n",
      "  ........'a'\n",
      "\n",
      "'ab{3}?' (a followed by three b)\n",
      "\n",
      "scaned text:  'abbaabbba'\n",
      "  ....'abbb'\n",
      "\n",
      "'ab{2,3}?' (a followed by two to three b)\n",
      "\n",
      "scaned text:  'abbaabbba'\n",
      "  'abb'\n",
      "  ....'abb'\n",
      "\n"
     ]
    }
   ],
   "source": [
    "test_patterns(\n",
    "    'abbaabbba',\n",
    "    [('ab*?', 'a followed by zero or more b'),\n",
    "     ('ab+?', 'a followed by one or more b'),\n",
    "     ('ab??', 'a followed by zero or one b'),\n",
    "     ('ab{3}?', 'a followed by three b'),\n",
    "     ('ab{2,3}?', 'a followed by two to three b')],\n",
    ")"
   ]
  },
  {
   "cell_type": "markdown",
   "metadata": {},
   "source": [
    "Disabling greedy consumption of the input for any of the patterns where zero occurrences of b are allowed means the matched substring does not include any b characters."
   ]
  },
  {
   "cell_type": "markdown",
   "metadata": {},
   "source": [
    "## Character Sets"
   ]
  },
  {
   "cell_type": "markdown",
   "metadata": {},
   "source": [
    "A character set is a group of characters."
   ]
  },
  {
   "cell_type": "code",
   "execution_count": 16,
   "metadata": {},
   "outputs": [
    {
     "name": "stdout",
     "output_type": "stream",
     "text": [
      "'[ab]' (either a or b)\n",
      "\n",
      "scaned text:  'abbaabbba'\n",
      "  'a'\n",
      "  .'b'\n",
      "  ..'b'\n",
      "  ...'a'\n",
      "  ....'a'\n",
      "  .....'b'\n",
      "  ......'b'\n",
      "  .......'b'\n",
      "  ........'a'\n",
      "\n",
      "'a[ab]+' (a followed by 1 or more a or b)\n",
      "\n",
      "scaned text:  'abbaabbba'\n",
      "  'abbaabbba'\n",
      "\n",
      "'a[ab]+?' (a followed by 1 or more a or b, not greedy)\n",
      "\n",
      "scaned text:  'abbaabbba'\n",
      "  'ab'\n",
      "  ...'aa'\n",
      "\n"
     ]
    }
   ],
   "source": [
    "test_patterns(\n",
    "    'abbaabbba',\n",
    "    [('[ab]', 'either a or b'),\n",
    "     ('a[ab]+', 'a followed by 1 or more a or b'),\n",
    "     ('a[ab]+?', 'a followed by 1 or more a or b, not greedy')],\n",
    ")"
   ]
  },
  {
   "cell_type": "markdown",
   "metadata": {},
   "source": [
    "A character set can also be used to exclude specific characters. The carat (^) means to look for characters that are not in the set following the carat.\n",
    "\n"
   ]
  },
  {
   "cell_type": "code",
   "execution_count": 17,
   "metadata": {},
   "outputs": [
    {
     "name": "stdout",
     "output_type": "stream",
     "text": [
      "'[^-. ]+' (sequences without -, ., or space)\n",
      "\n",
      "scaned text:  'This is some text -- with punctuation.'\n",
      "  'This'\n",
      "  .....'is'\n",
      "  ........'some'\n",
      "  .............'text'\n",
      "  .....................'with'\n",
      "  ..........................'punctuation'\n",
      "\n"
     ]
    }
   ],
   "source": [
    "test_patterns(\n",
    "    'This is some text -- with punctuation.',\n",
    "    [('[^-. ]+', 'sequences without -, ., or space')],\n",
    ")"
   ]
  },
  {
   "cell_type": "markdown",
   "metadata": {},
   "source": [
    "As character sets grow larger, typing every character that should (or should not) match becomes tedious. A more compact format using character ranges can be used to define a character set to include all of the contiguous characters between the specified start and stop points."
   ]
  },
  {
   "cell_type": "code",
   "execution_count": 18,
   "metadata": {},
   "outputs": [
    {
     "name": "stdout",
     "output_type": "stream",
     "text": [
      "'[a-z]+' (sequences of lowercase letters)\n",
      "\n",
      "scaned text:  'This is some text -- with punctuation.'\n",
      "  .'his'\n",
      "  .....'is'\n",
      "  ........'some'\n",
      "  .............'text'\n",
      "  .....................'with'\n",
      "  ..........................'punctuation'\n",
      "\n",
      "'[A-Z]+' (sequences of uppercase letters)\n",
      "\n",
      "scaned text:  'This is some text -- with punctuation.'\n",
      "  'T'\n",
      "\n",
      "'[a-zA-Z]+' (sequences of letters of either case)\n",
      "\n",
      "scaned text:  'This is some text -- with punctuation.'\n",
      "  'This'\n",
      "  .....'is'\n",
      "  ........'some'\n",
      "  .............'text'\n",
      "  .....................'with'\n",
      "  ..........................'punctuation'\n",
      "\n",
      "'[A-Z][a-z]+' (one uppercase followed by lowercase)\n",
      "\n",
      "scaned text:  'This is some text -- with punctuation.'\n",
      "  'This'\n",
      "\n"
     ]
    }
   ],
   "source": [
    "test_patterns(\n",
    "    'This is some text -- with punctuation.',\n",
    "    [('[a-z]+', 'sequences of lowercase letters'),\n",
    "     ('[A-Z]+', 'sequences of uppercase letters'),\n",
    "     ('[a-zA-Z]+', 'sequences of letters of either case'),\n",
    "     ('[A-Z][a-z]+', 'one uppercase followed by lowercase')],\n",
    ")"
   ]
  },
  {
   "cell_type": "markdown",
   "metadata": {},
   "source": [
    "Here the range a-z includes the lowercase ASCII letters, and the range A-Z includes the uppercase ASCII letters. The ranges can also be combined into a single character set."
   ]
  },
  {
   "cell_type": "markdown",
   "metadata": {},
   "source": [
    "As a special case of a character set, the meta-character dot, or period (.), indicates that the pattern should match any single character in that position."
   ]
  },
  {
   "cell_type": "code",
   "execution_count": 19,
   "metadata": {},
   "outputs": [
    {
     "name": "stdout",
     "output_type": "stream",
     "text": [
      "'a.' (a followed by any one character)\n",
      "\n",
      "scaned text:  'abbaabbba'\n",
      "  'ab'\n",
      "  ...'aa'\n",
      "\n",
      "'b.' (b followed by any one character)\n",
      "\n",
      "scaned text:  'abbaabbba'\n",
      "  .'bb'\n",
      "  .....'bb'\n",
      "  .......'ba'\n",
      "\n",
      "'a.*b' (a followed by anything, ending in b)\n",
      "\n",
      "scaned text:  'abbaabbba'\n",
      "  'abbaabbb'\n",
      "\n",
      "'a.*?b' (a followed by anything, ending in b)\n",
      "\n",
      "scaned text:  'abbaabbba'\n",
      "  'ab'\n",
      "  ...'aab'\n",
      "\n"
     ]
    }
   ],
   "source": [
    "\n",
    "test_patterns(\n",
    "    'abbaabbba',\n",
    "    [('a.', 'a followed by any one character'),\n",
    "     ('b.', 'b followed by any one character'),\n",
    "     ('a.*b', 'a followed by anything, ending in b'),\n",
    "     ('a.*?b', 'a followed by anything, ending in b')],\n",
    ")"
   ]
  },
  {
   "cell_type": "markdown",
   "metadata": {},
   "source": [
    "## Escape codes"
   ]
  },
  {
   "cell_type": "markdown",
   "metadata": {},
   "source": [
    "An even more compact representation uses escape codes for several predefined character sets. The escape codes recognized by re are listed in the table below."
   ]
  },
  {
   "cell_type": "markdown",
   "metadata": {},
   "source": [
    "<table border=\"1\" class=\"docutils\" id=\"id12\">\n",
    "<caption><span class=\"caption-text\">Regular Expression Escape Codes</span><a class=\"headerlink\" href=\"#id12\" title=\"Permalink to this table\">¶</a></caption>\n",
    "<colgroup>\n",
    "<col width=\"14%\" />\n",
    "<col width=\"86%\" />\n",
    "</colgroup>\n",
    "<thead valign=\"bottom\">\n",
    "<tr class=\"row-odd\"><th class=\"head\">Code</th>\n",
    "<th class=\"head\">Meaning</th>\n",
    "</tr>\n",
    "</thead>\n",
    "<tbody valign=\"top\">\n",
    "<tr class=\"row-even\"><td><code class=\"docutils literal\"><span class=\"pre\">\\d</span></code></td>\n",
    "<td>a digit</td>\n",
    "</tr>\n",
    "<tr class=\"row-odd\"><td><code class=\"docutils literal\"><span class=\"pre\">\\D</span></code></td>\n",
    "<td>a non-digit</td>\n",
    "</tr>\n",
    "<tr class=\"row-even\"><td><code class=\"docutils literal\"><span class=\"pre\">\\s</span></code></td>\n",
    "<td>whitespace (tab, space, newline, etc.)</td>\n",
    "</tr>\n",
    "<tr class=\"row-odd\"><td><code class=\"docutils literal\"><span class=\"pre\">\\S</span></code></td>\n",
    "<td>non-whitespace</td>\n",
    "</tr>\n",
    "<tr class=\"row-even\"><td><code class=\"docutils literal\"><span class=\"pre\">\\w</span></code></td>\n",
    "<td>alphanumeric</td>\n",
    "</tr>\n",
    "<tr class=\"row-odd\"><td><code class=\"docutils literal\"><span class=\"pre\">\\W</span></code></td>\n",
    "<td>non-alphanumeric</td>\n",
    "</tr>\n",
    "</tbody>\n",
    "</table>"
   ]
  },
  {
   "cell_type": "code",
   "execution_count": 20,
   "metadata": {},
   "outputs": [
    {
     "name": "stdout",
     "output_type": "stream",
     "text": [
      "'\\d+' (sequence of digits)\n",
      "\n",
      "scaned text:  'A prime #1 example!'\n",
      "  .........'1'\n",
      "\n",
      "'\\D+' (sequence of non-digits)\n",
      "\n",
      "scaned text:  'A prime #1 example!'\n",
      "  'A prime #'\n",
      "  ..........' example!'\n",
      "\n",
      "'\\s+' (sequence of whitespace)\n",
      "\n",
      "scaned text:  'A prime #1 example!'\n",
      "  .' '\n",
      "  .......' '\n",
      "  ..........' '\n",
      "\n",
      "'\\S+' (sequence of non-whitespace)\n",
      "\n",
      "scaned text:  'A prime #1 example!'\n",
      "  'A'\n",
      "  ..'prime'\n",
      "  ........'#1'\n",
      "  ...........'example!'\n",
      "\n",
      "'\\w+' (alphanumeric characters)\n",
      "\n",
      "scaned text:  'A prime #1 example!'\n",
      "  'A'\n",
      "  ..'prime'\n",
      "  .........'1'\n",
      "  ...........'example'\n",
      "\n",
      "'\\W+' (non-alphanumeric)\n",
      "\n",
      "scaned text:  'A prime #1 example!'\n",
      "  .' '\n",
      "  .......' #'\n",
      "  ..........' '\n",
      "  ..................'!'\n",
      "\n"
     ]
    }
   ],
   "source": [
    "\n",
    "test_patterns(\n",
    "    'A prime #1 example!',\n",
    "    [(r'\\d+', 'sequence of digits'),\n",
    "     (r'\\D+', 'sequence of non-digits'),\n",
    "     (r'\\s+', 'sequence of whitespace'),\n",
    "     (r'\\S+', 'sequence of non-whitespace'),\n",
    "     (r'\\w+', 'alphanumeric characters'),\n",
    "     (r'\\W+', 'non-alphanumeric')],\n",
    ")"
   ]
  },
  {
   "cell_type": "markdown",
   "metadata": {},
   "source": [
    "To match the characters that are part of the regular expression syntax, escape the characters in the search pattern."
   ]
  },
  {
   "cell_type": "code",
   "execution_count": 21,
   "metadata": {},
   "outputs": [
    {
     "name": "stdout",
     "output_type": "stream",
     "text": [
      "'\\\\.\\+' (escape code)\n",
      "\n",
      "scaned text:  '\\d+ \\D+ \\s+'\n",
      "  '\\d+'\n",
      "  .....'\\D+'\n",
      "  ..........'\\s+'\n",
      "\n"
     ]
    }
   ],
   "source": [
    "test_patterns(\n",
    "    r'\\d+ \\D+ \\s+',\n",
    "    [(r'\\\\.\\+', 'escape code')],\n",
    ")"
   ]
  },
  {
   "cell_type": "markdown",
   "metadata": {},
   "source": [
    "## Anchoring"
   ]
  },
  {
   "cell_type": "markdown",
   "metadata": {},
   "source": [
    "In addition to describing the content of a pattern to match, the relative location can be specified in the input text where the pattern should appear by using anchoring instructions. the table below lists valid anchoring codes.c"
   ]
  },
  {
   "cell_type": "markdown",
   "metadata": {},
   "source": [
    "<table border=\"1\" class=\"docutils\" id=\"id15\">\n",
    "<caption><span class=\"caption-text\">Regular Expression Anchoring Codes</span><a class=\"headerlink\" href=\"#id15\" title=\"Permalink to this table\">¶</a></caption>\n",
    "<colgroup>\n",
    "<col width=\"11%\" />\n",
    "<col width=\"89%\" />\n",
    "</colgroup>\n",
    "<thead valign=\"bottom\">\n",
    "<tr class=\"row-odd\"><th class=\"head\">Code</th>\n",
    "<th class=\"head\">Meaning</th>\n",
    "</tr>\n",
    "</thead>\n",
    "<tbody valign=\"top\">\n",
    "<tr class=\"row-even\"><td><code class=\"docutils literal\"><span class=\"pre\">^</span></code></td>\n",
    "<td>start of string, or line</td>\n",
    "</tr>\n",
    "<tr class=\"row-odd\"><td><code class=\"docutils literal\"><span class=\"pre\">$</span></code></td>\n",
    "<td>end of string, or line</td>\n",
    "</tr>\n",
    "<tr class=\"row-even\"><td><code class=\"docutils literal\"><span class=\"pre\">\\A</span></code></td>\n",
    "<td>start of string</td>\n",
    "</tr>\n",
    "<tr class=\"row-odd\"><td><code class=\"docutils literal\"><span class=\"pre\">\\Z</span></code></td>\n",
    "<td>end of string</td>\n",
    "</tr>\n",
    "<tr class=\"row-even\"><td><code class=\"docutils literal\"><span class=\"pre\">\\b</span></code></td>\n",
    "<td>empty string at the beginning or end of a word</td>\n",
    "</tr>\n",
    "<tr class=\"row-odd\"><td><code class=\"docutils literal\"><span class=\"pre\">\\B</span></code></td>\n",
    "<td>empty string not at the beginning or end of a word</td>\n",
    "</tr>\n",
    "</tbody>\n",
    "</table>"
   ]
  },
  {
   "cell_type": "code",
   "execution_count": 22,
   "metadata": {},
   "outputs": [
    {
     "name": "stdout",
     "output_type": "stream",
     "text": [
      "'^\\w+' (word at start of string)\n",
      "\n",
      "scaned text:  'This is some text -- with punctuation.'\n",
      "  'This'\n",
      "\n",
      "'\\A\\w+' (word at start of string)\n",
      "\n",
      "scaned text:  'This is some text -- with punctuation.'\n",
      "  'This'\n",
      "\n",
      "'\\w+\\S*$' (word near end of string)\n",
      "\n",
      "scaned text:  'This is some text -- with punctuation.'\n",
      "  ..........................'punctuation.'\n",
      "\n",
      "'\\w+\\S*\\Z' (word near end of string)\n",
      "\n",
      "scaned text:  'This is some text -- with punctuation.'\n",
      "  ..........................'punctuation.'\n",
      "\n",
      "'\\w*t\\w*' (word containing t)\n",
      "\n",
      "scaned text:  'This is some text -- with punctuation.'\n",
      "  .............'text'\n",
      "  .....................'with'\n",
      "  ..........................'punctuation'\n",
      "\n",
      "'\\bt\\w+' (t at start of word)\n",
      "\n",
      "scaned text:  'This is some text -- with punctuation.'\n",
      "  .............'text'\n",
      "\n",
      "'\\w+t\\b' (t at end of word)\n",
      "\n",
      "scaned text:  'This is some text -- with punctuation.'\n",
      "  .............'text'\n",
      "\n",
      "'\\Bt\\B' (t, not start or end of word)\n",
      "\n",
      "scaned text:  'This is some text -- with punctuation.'\n",
      "  .......................'t'\n",
      "  ..............................'t'\n",
      "  .................................'t'\n",
      "\n"
     ]
    }
   ],
   "source": [
    "test_patterns(\n",
    "    'This is some text -- with punctuation.',\n",
    "    [(r'^\\w+', 'word at start of string'),\n",
    "     (r'\\A\\w+', 'word at start of string'),\n",
    "     (r'\\w+\\S*$', 'word near end of string'),\n",
    "     (r'\\w+\\S*\\Z', 'word near end of string'),\n",
    "     (r'\\w*t\\w*', 'word containing t'),\n",
    "     (r'\\bt\\w+', 't at start of word'),\n",
    "     (r'\\w+t\\b', 't at end of word'),\n",
    "     (r'\\Bt\\B', 't, not start or end of word')],\n",
    ")"
   ]
  },
  {
   "cell_type": "markdown",
   "metadata": {},
   "source": [
    "The patterns in the example for matching words at the beginning and the end of the string are different because the word at the end of the string is followed by punctuation to terminate the sentence. The pattern \\w+$ would not match, since . is not considered an alphanumeric character."
   ]
  },
  {
   "cell_type": "markdown",
   "metadata": {},
   "source": [
    "## Constraining the Search"
   ]
  },
  {
   "cell_type": "markdown",
   "metadata": {},
   "source": [
    "In situations where it is known in advance that only a subset of the full input should be searched, the regular expression match can be further constrained by telling re to limit the search range. For example, if the pattern must appear at the front of the input, then using match() instead of search() will anchor the search without having to explicitly include an anchor in the search pattern."
   ]
  },
  {
   "cell_type": "code",
   "execution_count": 23,
   "metadata": {},
   "outputs": [
    {
     "name": "stdout",
     "output_type": "stream",
     "text": [
      "Text   : This is some text -- with punctuation.\n",
      "Pattern: is\n",
      "Match  : None\n",
      "Search : <_sre.SRE_Match object; span=(2, 4), match='is'>\n"
     ]
    }
   ],
   "source": [
    "import re\n",
    "\n",
    "text = 'This is some text -- with punctuation.'\n",
    "pattern = 'is'\n",
    "\n",
    "print('Text   :', text)\n",
    "print('Pattern:', pattern)\n",
    "\n",
    "m = re.match(pattern, text)\n",
    "print('Match  :', m)\n",
    "s = re.search(pattern, text)\n",
    "print('Search :', s)"
   ]
  },
  {
   "cell_type": "markdown",
   "metadata": {},
   "source": [
    "## Dissecting Matches with Groups"
   ]
  },
  {
   "cell_type": "markdown",
   "metadata": {},
   "source": [
    "Searching for pattern matches is the basis of the powerful capabilities provided by regular expressions. Adding groups to a pattern isolates parts of the matching text, expanding those capabilities to create a parser. Groups are defined by enclosing patterns in parentheses."
   ]
  },
  {
   "cell_type": "code",
   "execution_count": 31,
   "metadata": {
    "collapsed": true
   },
   "outputs": [],
   "source": [
    "def test_patterns(text, patterns):\n",
    "    \"\"\"Given source text and a list of patterns, look for\n",
    "    matches for each pattern within the text and print\n",
    "    them to stdout.\n",
    "    \"\"\"\n",
    "    # Look for each pattern in the text and print the results\n",
    "    for pattern, desc in patterns:\n",
    "        print('{!r} ({})\\n'.format(pattern, desc))\n",
    "        print('  {!r}'.format(text))\n",
    "        for match in re.finditer(pattern, text):\n",
    "            s = match.start()\n",
    "            e = match.end()\n",
    "            prefix = ' ' * (s)\n",
    "            print(\n",
    "                '  {}{!r}{} '.format(prefix,\n",
    "                                     text[s:e],\n",
    "                                     ' ' * (len(text) - e)),\n",
    "                end=' ',\n",
    "            )\n",
    "            print(match.groups())\n",
    "            if match.groupdict():\n",
    "                print('{}{}'.format(\n",
    "                    ' ' * (len(text) - s),\n",
    "                    match.groupdict()),\n",
    "                )\n",
    "        print()\n",
    "    return"
   ]
  },
  {
   "cell_type": "code",
   "execution_count": 24,
   "metadata": {},
   "outputs": [
    {
     "name": "stdout",
     "output_type": "stream",
     "text": [
      "'a(ab)' (a followed by literal ab)\n",
      "\n",
      "scaned text:  'abbaaabbbbaaaaa'\n",
      "  ....'aab'\n",
      "\n",
      "'a(a*b*)' (a followed by 0-n a and 0-n b)\n",
      "\n",
      "scaned text:  'abbaaabbbbaaaaa'\n",
      "  'abb'\n",
      "  ...'aaabbbb'\n",
      "  ..........'aaaaa'\n",
      "\n",
      "'a(ab)*' (a followed by 0-n ab)\n",
      "\n",
      "scaned text:  'abbaaabbbbaaaaa'\n",
      "  'a'\n",
      "  ...'a'\n",
      "  ....'aab'\n",
      "  ..........'a'\n",
      "  ...........'a'\n",
      "  ............'a'\n",
      "  .............'a'\n",
      "  ..............'a'\n",
      "\n",
      "'a(ab)+' (a followed by 1-n ab)\n",
      "\n",
      "scaned text:  'abbaaabbbbaaaaa'\n",
      "  ....'aab'\n",
      "\n"
     ]
    }
   ],
   "source": [
    "test_patterns(\n",
    "    'abbaaabbbbaaaaa',\n",
    "    [('a(ab)', 'a followed by literal ab'),\n",
    "     ('a(a*b*)', 'a followed by 0-n a and 0-n b'),\n",
    "     ('a(ab)*', 'a followed by 0-n ab'),\n",
    "     ('a(ab)+', 'a followed by 1-n ab')],\n",
    ")"
   ]
  },
  {
   "cell_type": "markdown",
   "metadata": {},
   "source": [
    "To access the substrings matched by the individual groups within a pattern, use the groups() method of the Match object."
   ]
  },
  {
   "cell_type": "code",
   "execution_count": 25,
   "metadata": {},
   "outputs": [
    {
     "name": "stdout",
     "output_type": "stream",
     "text": [
      "This is some text -- with punctuation.\n",
      "\n",
      "'^(\\w+)' (word at start of string)\n",
      "\n",
      "   ('This',)\n",
      "\n",
      "'(\\w+)\\S*$' (word at end, with optional punctuation)\n",
      "\n",
      "   ('punctuation',)\n",
      "\n",
      "'(\\bt\\w+)\\W+(\\w+)' (word starting with t, another word)\n",
      "\n",
      "   ('text', 'with')\n",
      "\n",
      "'(\\w+t)\\b' (word ending with t)\n",
      "\n",
      "   ('text',)\n",
      "\n"
     ]
    }
   ],
   "source": [
    "import re\n",
    "\n",
    "text = 'This is some text -- with punctuation.'\n",
    "\n",
    "print(text)\n",
    "print()\n",
    "\n",
    "patterns = [\n",
    "    (r'^(\\w+)', 'word at start of string'),\n",
    "    (r'(\\w+)\\S*$', 'word at end, with optional punctuation'),\n",
    "    (r'(\\bt\\w+)\\W+(\\w+)', 'word starting with t, another word'),\n",
    "    (r'(\\w+t)\\b', 'word ending with t'),\n",
    "]\n",
    "\n",
    "for pattern, desc in patterns:\n",
    "    regex = re.compile(pattern)\n",
    "    match = regex.search(text)\n",
    "    print(\"'{}' ({})\\n\".format(pattern, desc))\n",
    "    print('  ', match.groups())\n",
    "    print()"
   ]
  },
  {
   "cell_type": "markdown",
   "metadata": {},
   "source": [
    "To ask for the match of a single group, use the group() method. This is useful when grouping is being used to find parts of the string, but some of the parts matched by groups are not needed in the results."
   ]
  },
  {
   "cell_type": "code",
   "execution_count": 26,
   "metadata": {},
   "outputs": [
    {
     "name": "stdout",
     "output_type": "stream",
     "text": [
      "Input text            : This is some text -- with punctuation.\n",
      "Pattern               : (\\bt\\w+)\\W+(\\w+)\n",
      "Entire match          : text -- with\n",
      "Word starting with \"t\": text\n",
      "Word after \"t\" word   : with\n"
     ]
    }
   ],
   "source": [
    "import re\n",
    "\n",
    "text = 'This is some text -- with punctuation.'\n",
    "\n",
    "print('Input text            :', text)\n",
    "\n",
    "# word starting with 't' then another word\n",
    "regex = re.compile(r'(\\bt\\w+)\\W+(\\w+)')\n",
    "print('Pattern               :', regex.pattern)\n",
    "\n",
    "match = regex.search(text)\n",
    "print('Entire match          :', match.group(0))\n",
    "print('Word starting with \"t\":', match.group(1))\n",
    "print('Word after \"t\" word   :', match.group(2))"
   ]
  },
  {
   "cell_type": "markdown",
   "metadata": {},
   "source": [
    "Group 0 represents the string matched by the entire expression, and subgroups are numbered starting with 1 in the order that their left parenthesis appears in the expression."
   ]
  },
  {
   "cell_type": "markdown",
   "metadata": {},
   "source": [
    "Python extends the basic grouping syntax to add named groups. Using names to refer to groups makes it easier to modify the pattern over time, without having to also modify the code using the match results. To set the name of a group, use the syntax (?P<name>pattern)."
   ]
  },
  {
   "cell_type": "code",
   "execution_count": 28,
   "metadata": {},
   "outputs": [
    {
     "name": "stdout",
     "output_type": "stream",
     "text": [
      "This is some text -- with punctuation.\n",
      "\n",
      "'^(?P<first_word>\\w+)'\n",
      "   ('This',)\n",
      "   {'first_word': 'This'}\n",
      "\n",
      "'(?P<last_word>\\w+)\\S*$'\n",
      "   ('punctuation',)\n",
      "   {'last_word': 'punctuation'}\n",
      "\n",
      "'(?P<t_word>\\bt\\w+)\\W+(?P<other_word>\\w+)'\n",
      "   ('text', 'with')\n",
      "   {'t_word': 'text', 'other_word': 'with'}\n",
      "\n",
      "'(?P<ends_with_t>\\w+t)\\b'\n",
      "   ('text',)\n",
      "   {'ends_with_t': 'text'}\n",
      "\n"
     ]
    }
   ],
   "source": [
    "import re\n",
    "\n",
    "text = 'This is some text -- with punctuation.'\n",
    "\n",
    "print(text)\n",
    "print()\n",
    "\n",
    "patterns = [\n",
    "    r'^(?P<first_word>\\w+)',\n",
    "    r'(?P<last_word>\\w+)\\S*$',\n",
    "    r'(?P<t_word>\\bt\\w+)\\W+(?P<other_word>\\w+)',\n",
    "    r'(?P<ends_with_t>\\w+t)\\b',\n",
    "]\n",
    "\n",
    "for pattern in patterns:\n",
    "    regex = re.compile(pattern)\n",
    "    match = regex.search(text)\n",
    "    print(\"'{}'\".format(pattern))\n",
    "    print('  ', match.groups())\n",
    "    print('  ', match.groupdict())\n",
    "    print()"
   ]
  },
  {
   "cell_type": "markdown",
   "metadata": {},
   "source": [
    "Groups are also useful for specifying alternative patterns. Use the pipe symbol (|) to separate two patterns and indicate that either pattern should match. Consider the placement of the pipe carefully, though. The first expression in this example matches a sequence of a followed by a sequence consisting entirely of a single letter, a or b. The second pattern matches a followed by a sequence that may include either a or b. The patterns are similar, but the resulting matches are completely different."
   ]
  },
  {
   "cell_type": "code",
   "execution_count": 29,
   "metadata": {},
   "outputs": [
    {
     "name": "stdout",
     "output_type": "stream",
     "text": [
      "'a((a+)|(b+))' (a then seq. of a or seq. of b)\n",
      "\n",
      "scaned text:  'abbaabbba'\n",
      "  'abb'\n",
      "  ...'aa'\n",
      "\n",
      "'a((a|b)+)' (a then seq. of [ab])\n",
      "\n",
      "scaned text:  'abbaabbba'\n",
      "  'abbaabbba'\n",
      "\n"
     ]
    }
   ],
   "source": [
    "test_patterns(\n",
    "    'abbaabbba',\n",
    "    [(r'a((a+)|(b+))', 'a then seq. of a or seq. of b'),\n",
    "     (r'a((a|b)+)', 'a then seq. of [ab]')],\n",
    ")"
   ]
  },
  {
   "cell_type": "markdown",
   "metadata": {},
   "source": [
    "When an alternative group is not matched, but the entire pattern does match, the return value of groups() includes a None value at the point in the sequence where the alternative group should appear."
   ]
  },
  {
   "cell_type": "markdown",
   "metadata": {},
   "source": [
    "Defining a group containing a subpattern is also useful in cases where the string matching the subpattern is not part of what should be extracted from the full text. These kinds of groups are called non-capturing. Non-capturing groups can be used to describe repetition patterns or alternatives, without isolating the matching portion of the string in the value returned. To create a non-capturing group, use the syntax (?:pattern)."
   ]
  },
  {
   "cell_type": "code",
   "execution_count": 32,
   "metadata": {},
   "outputs": [
    {
     "name": "stdout",
     "output_type": "stream",
     "text": [
      "'a((a+)|(b+))' (capturing form)\n",
      "\n",
      "  'abbaabbba'\n",
      "  'abb'        ('bb', None, 'bb')\n",
      "     'aa'      ('a', 'a', None)\n",
      "\n",
      "'a((?:a+)|(?:b+))' (noncapturing)\n",
      "\n",
      "  'abbaabbba'\n",
      "  'abb'        ('bb',)\n",
      "     'aa'      ('a',)\n",
      "\n"
     ]
    }
   ],
   "source": [
    "test_patterns(\n",
    "    'abbaabbba',\n",
    "    [(r'a((a+)|(b+))', 'capturing form'),\n",
    "     (r'a((?:a+)|(?:b+))', 'noncapturing')],\n",
    ")"
   ]
  },
  {
   "cell_type": "markdown",
   "metadata": {},
   "source": [
    "**re.findall(pattern, string, flags=0)**\n",
    "\n",
    "Return all non-overlapping matches of pattern in string, as a list of strings. The string is scanned left-to-right, and matches are returned in the order found. If one or more groups are present in the pattern, return a list of groups; **this will be a list of tuples if the pattern has more than one group**. Empty matches are included in the result unless they touch the beginning of another match."
   ]
  },
  {
   "cell_type": "markdown",
   "metadata": {},
   "source": [
    "## Search Options"
   ]
  },
  {
   "cell_type": "markdown",
   "metadata": {},
   "source": [
    "Option flags are used to change the way the matching engine processes an expression. The flags can be combined using a bitwise OR operation, then passed to compile(), search(), match(), and other functions that accept a pattern for searching.\n",
    "\n"
   ]
  },
  {
   "cell_type": "markdown",
   "metadata": {},
   "source": [
    "### Case-insensitive Matching¶\n",
    "\n"
   ]
  },
  {
   "cell_type": "markdown",
   "metadata": {},
   "source": [
    "IGNORECASE causes literal characters and character ranges in the pattern to match both uppercase and lowercase characters.\n",
    "\n"
   ]
  },
  {
   "cell_type": "code",
   "execution_count": 33,
   "metadata": {},
   "outputs": [
    {
     "name": "stdout",
     "output_type": "stream",
     "text": [
      "Text:\n",
      "  'This is some text -- with punctuation.'\n",
      "Pattern:\n",
      "  \\bT\\w+\n",
      "Case-sensitive:\n",
      "  'This'\n",
      "Case-insensitive:\n",
      "  'This'\n",
      "  'text'\n"
     ]
    }
   ],
   "source": [
    "import re\n",
    "\n",
    "text = 'This is some text -- with punctuation.'\n",
    "pattern = r'\\bT\\w+'\n",
    "with_case = re.compile(pattern)\n",
    "without_case = re.compile(pattern, re.IGNORECASE)\n",
    "\n",
    "print('Text:\\n  {!r}'.format(text))\n",
    "print('Pattern:\\n  {}'.format(pattern))\n",
    "print('Case-sensitive:')\n",
    "for match in with_case.findall(text):\n",
    "    print('  {!r}'.format(match))\n",
    "print('Case-insensitive:')\n",
    "for match in without_case.findall(text):\n",
    "    print('  {!r}'.format(match))"
   ]
  },
  {
   "cell_type": "markdown",
   "metadata": {},
   "source": [
    "### Input with Multiple Lines"
   ]
  },
  {
   "cell_type": "markdown",
   "metadata": {},
   "source": [
    "Two flags affect how searching in multi-line input works: MULTILINE and DOTALL. The MULTILINE flag controls how the pattern matching code processes anchoring instructions for text containing newline characters. When multiline mode is turned on, the anchor rules for ^ and $ apply at the beginning and end of each line, in addition to the entire string."
   ]
  },
  {
   "cell_type": "markdown",
   "metadata": {},
   "source": [
    "**MULTILINE**"
   ]
  },
  {
   "cell_type": "code",
   "execution_count": 34,
   "metadata": {},
   "outputs": [
    {
     "name": "stdout",
     "output_type": "stream",
     "text": [
      "Text:\n",
      "  'This is some text -- with punctuation.\\nA second line.'\n",
      "Pattern:\n",
      "  (^\\w+)|(\\w+\\S*$)\n",
      "Single Line :\n",
      "  ('This', '')\n",
      "  ('', 'line.')\n",
      "Multline    :\n",
      "  ('This', '')\n",
      "  ('', 'punctuation.')\n",
      "  ('A', '')\n",
      "  ('', 'line.')\n"
     ]
    }
   ],
   "source": [
    "import re\n",
    "\n",
    "text = 'This is some text -- with punctuation.\\nA second line.'\n",
    "pattern = r'(^\\w+)|(\\w+\\S*$)'\n",
    "single_line = re.compile(pattern)\n",
    "multiline = re.compile(pattern, re.MULTILINE)\n",
    "\n",
    "print('Text:\\n  {!r}'.format(text))\n",
    "print('Pattern:\\n  {}'.format(pattern))\n",
    "print('Single Line :')\n",
    "for match in single_line.findall(text):\n",
    "    print('  {!r}'.format(match))\n",
    "print('Multline    :')\n",
    "for match in multiline.findall(text):\n",
    "    print('  {!r}'.format(match))"
   ]
  },
  {
   "cell_type": "markdown",
   "metadata": {},
   "source": [
    "**DOTALL** is the other flag related to multiline text. Normally, the dot character (.) matches everything in the input text except a newline character. The flag allows the dot to match newlines as well."
   ]
  },
  {
   "cell_type": "code",
   "execution_count": 36,
   "metadata": {},
   "outputs": [
    {
     "name": "stdout",
     "output_type": "stream",
     "text": [
      "Text:\n",
      "  'This is some text -- with punctuation.\\nA second line.'\n",
      "Pattern:\n",
      "  .+\n",
      "No newlines :\n",
      "  'This is some text -- with punctuation.'\n",
      "  'A second line.'\n",
      "Dotall      :\n",
      "  'This is some text -- with punctuation.\\nA second line.'\n"
     ]
    }
   ],
   "source": [
    "import re\n",
    "\n",
    "text = 'This is some text -- with punctuation.\\nA second line.'\n",
    "pattern = r'.+'\n",
    "no_newlines = re.compile(pattern)\n",
    "dotall = re.compile(pattern, re.DOTALL)\n",
    "\n",
    "print('Text:\\n  {!r}'.format(text))\n",
    "print('Pattern:\\n  {}'.format(pattern))\n",
    "print('No newlines :')\n",
    "for match in no_newlines.findall(text):\n",
    "    print('  {!r}'.format(match))\n",
    "print('Dotall      :')\n",
    "for match in dotall.findall(text):\n",
    "    print('  {!r}'.format(match))"
   ]
  },
  {
   "cell_type": "markdown",
   "metadata": {},
   "source": [
    "## Unicode"
   ]
  },
  {
   "cell_type": "markdown",
   "metadata": {},
   "source": [
    "Under Python 3, str objects use the full Unicode character set, and regular expression processing on a str assumes that the pattern and input text are both Unicode. The escape codes described earlier are defined in terms of Unicode by default. Those assumptions mean that the pattern \\w+ will match both the words “French” and “Français”. To restrict escape codes to the ASCII character set, as was the default in Python 2, use the ASCII flag when compiling the pattern or when calling the module-level functions search() and match()."
   ]
  },
  {
   "cell_type": "code",
   "execution_count": 37,
   "metadata": {},
   "outputs": [
    {
     "name": "stdout",
     "output_type": "stream",
     "text": [
      "Text    : Français złoty Österreich\n",
      "Pattern : \\w+\n",
      "ASCII   : ['Fran', 'ais', 'z', 'oty', 'sterreich']\n",
      "Unicode : ['Français', 'złoty', 'Österreich']\n"
     ]
    }
   ],
   "source": [
    "import re\n",
    "\n",
    "text = u'Français złoty Österreich'\n",
    "pattern = r'\\w+'\n",
    "ascii_pattern = re.compile(pattern, re.ASCII)\n",
    "unicode_pattern = re.compile(pattern)\n",
    "\n",
    "print('Text    :', text)\n",
    "print('Pattern :', pattern)\n",
    "print('ASCII   :', list(ascii_pattern.findall(text)))\n",
    "print('Unicode :', list(unicode_pattern.findall(text)))"
   ]
  },
  {
   "cell_type": "markdown",
   "metadata": {},
   "source": [
    "### Verbose Expression Syntax\n",
    "\n",
    "The compact format of regular expression syntax can become a hindrance as expressions grow more complicated. As the number of groups in an expression increases, it will be more work to keep track of why each element is needed and how exactly the parts of the expression interact. Using named groups helps mitigate these issues, but a better solution is to use verbose mode expressions, which allow comments and extra whitespace to be embedded in the pattern.\n",
    "\n",
    "A pattern to validate email addresses will illustrate how verbose mode makes working with regular expressions easier. The first version recognizes addresses that end in one of three top-level domains: .com, .org, or .edu."
   ]
  },
  {
   "cell_type": "code",
   "execution_count": 38,
   "metadata": {},
   "outputs": [
    {
     "name": "stdout",
     "output_type": "stream",
     "text": [
      "first.last@example.com          Matches\n",
      "first.last+category@gmail.com   Matches\n",
      "valid-address@mail.example.com  Matches\n",
      "not-valid@example.foo           No match\n"
     ]
    }
   ],
   "source": [
    "import re\n",
    "\n",
    "address = re.compile('[\\w\\d.+-]+@([\\w\\d.]+\\.)+(com|org|edu)')\n",
    "\n",
    "candidates = [\n",
    "    u'first.last@example.com',\n",
    "    u'first.last+category@gmail.com',\n",
    "    u'valid-address@mail.example.com',\n",
    "    u'not-valid@example.foo',\n",
    "]\n",
    "\n",
    "for candidate in candidates:\n",
    "    match = address.search(candidate)\n",
    "    print('{:<30}  {}'.format(\n",
    "        candidate, 'Matches' if match else 'No match')\n",
    "    )"
   ]
  },
  {
   "cell_type": "markdown",
   "metadata": {},
   "source": [
    "Converting the expression to a more verbose format will make it easier to extend."
   ]
  },
  {
   "cell_type": "code",
   "execution_count": 39,
   "metadata": {},
   "outputs": [
    {
     "name": "stdout",
     "output_type": "stream",
     "text": [
      "first.last@example.com          Matches\n",
      "first.last+category@gmail.com   Matches\n",
      "valid-address@mail.example.com  Matches\n",
      "not-valid@example.foo           No match\n"
     ]
    }
   ],
   "source": [
    "import re\n",
    "\n",
    "address = re.compile(\n",
    "    '''\n",
    "    [\\w\\d.+-]+       # username\n",
    "    @\n",
    "    ([\\w\\d.]+\\.)+    # domain name prefix\n",
    "    (com|org|edu)    # TODO: support more top-level domains\n",
    "    ''',\n",
    "    re.VERBOSE)\n",
    "\n",
    "candidates = [\n",
    "    u'first.last@example.com',\n",
    "    u'first.last+category@gmail.com',\n",
    "    u'valid-address@mail.example.com',\n",
    "    u'not-valid@example.foo',\n",
    "]\n",
    "\n",
    "for candidate in candidates:\n",
    "    match = address.search(candidate)\n",
    "    print('{:<30}  {}'.format(\n",
    "        candidate, 'Matches' if match else 'No match'),\n",
    "    )"
   ]
  },
  {
   "cell_type": "markdown",
   "metadata": {},
   "source": [
    "## Embedding Flags in Patterns"
   ]
  },
  {
   "cell_type": "markdown",
   "metadata": {},
   "source": [
    "In situations where flags cannot be added when compiling an expression, such as when a pattern is passed as an argument to a library function that will compile it later, the flags can be embedded inside the expression string itself. For example, to turn case-insensitive matching on, add (?i) to the beginning of the expression."
   ]
  },
  {
   "cell_type": "code",
   "execution_count": 40,
   "metadata": {},
   "outputs": [
    {
     "name": "stdout",
     "output_type": "stream",
     "text": [
      "Text      : This is some text -- with punctuation.\n",
      "Pattern   : (?i)\\bT\\w+\n",
      "Matches   : ['This', 'text']\n"
     ]
    }
   ],
   "source": [
    "import re\n",
    "\n",
    "text = 'This is some text -- with punctuation.'\n",
    "pattern = r'(?i)\\bT\\w+'\n",
    "regex = re.compile(pattern)\n",
    "\n",
    "print('Text      :', text)\n",
    "print('Pattern   :', pattern)\n",
    "print('Matches   :', regex.findall(text))"
   ]
  },
  {
   "cell_type": "markdown",
   "metadata": {},
   "source": [
    "<p>The abbreviations for all of the flags are listed in the table below.</p>\n",
    "<table border=\"1\" class=\"docutils\" id=\"id36\">\n",
    "<caption><span class=\"caption-text\">Regular Expression Flag Abbreviations</span><a class=\"headerlink\" href=\"#id36\" title=\"Permalink to this table\">¶</a></caption>\n",
    "<colgroup>\n",
    "<col width=\"50%\" />\n",
    "<col width=\"50%\" />\n",
    "</colgroup>\n",
    "<thead valign=\"bottom\">\n",
    "<tr class=\"row-odd\"><th class=\"head\">Flag</th>\n",
    "<th class=\"head\">Abbreviation</th>\n",
    "</tr>\n",
    "</thead>\n",
    "<tbody valign=\"top\">\n",
    "<tr class=\"row-even\"><td><code class=\"docutils literal\"><span class=\"pre\">ASCII</span></code></td>\n",
    "<td><code class=\"docutils literal\"><span class=\"pre\">a</span></code></td>\n",
    "</tr>\n",
    "<tr class=\"row-odd\"><td><code class=\"docutils literal\"><span class=\"pre\">IGNORECASE</span></code></td>\n",
    "<td><code class=\"docutils literal\"><span class=\"pre\">i</span></code></td>\n",
    "</tr>\n",
    "<tr class=\"row-even\"><td><code class=\"docutils literal\"><span class=\"pre\">MULTILINE</span></code></td>\n",
    "<td><code class=\"docutils literal\"><span class=\"pre\">m</span></code></td>\n",
    "</tr>\n",
    "<tr class=\"row-odd\"><td><code class=\"docutils literal\"><span class=\"pre\">DOTALL</span></code></td>\n",
    "<td><code class=\"docutils literal\"><span class=\"pre\">s</span></code></td>\n",
    "</tr>\n",
    "<tr class=\"row-even\"><td><code class=\"docutils literal\"><span class=\"pre\">VERBOSE</span></code></td>\n",
    "<td><code class=\"docutils literal\"><span class=\"pre\">x</span></code></td>\n",
    "</tr>\n",
    "</tbody>\n",
    "</table>"
   ]
  },
  {
   "cell_type": "markdown",
   "metadata": {},
   "source": [
    "## Looking Ahead or Behind¶\n",
    "\n"
   ]
  },
  {
   "cell_type": "markdown",
   "metadata": {},
   "source": [
    "In many cases, it is useful to match a part of a pattern only if some other part will also match. For example, in the email parsing expression, the angle brackets were marked as optional. Realistically, the brackets should be paired, and the expression should match only if both are present, or neither is. This modified version of the expression uses a positive look ahead assertion to match the pair. The look ahead assertion syntax is (?=pattern)."
   ]
  },
  {
   "cell_type": "code",
   "execution_count": 42,
   "metadata": {},
   "outputs": [
    {
     "name": "stdout",
     "output_type": "stream",
     "text": [
      "Candidate: First Last <first.last@example.com>\n",
      "  Name : First Last\n",
      "  Email: first.last@example.com\n",
      "Candidate: No Brackets first.last@example.com\n",
      "  Name : No Brackets\n",
      "  Email: first.last@example.com\n",
      "Candidate: Open Bracket <first.last@example.com\n",
      "  No match\n",
      "Candidate: Close Bracket first.last@example.com>\n",
      "  No match\n"
     ]
    }
   ],
   "source": [
    "import re\n",
    "\n",
    "address = re.compile(\n",
    "    '''\n",
    "    # A name is made up of letters, and may include \".\"\n",
    "    # for title abbreviations and middle initials.\n",
    "    ((?P<name>\n",
    "       ([\\w.,]+\\s+)*[\\w.,]+\n",
    "     )\n",
    "     \\s+\n",
    "    ) # name is no longer optional\n",
    "\n",
    "    # LOOKAHEAD\n",
    "    # Email addresses are wrapped in angle brackets, but only\n",
    "    # if both are present or neither is.\n",
    "    (?= (<.*>$)       # remainder wrapped in angle brackets\n",
    "        |\n",
    "        ([^<].*[^>]$) # remainder *not* wrapped in angle brackets\n",
    "      )\n",
    "\n",
    "    <? # optional opening angle bracket\n",
    "\n",
    "    # The address itself: username@domain.tld\n",
    "    (?P<email>\n",
    "      [\\w\\d.+-]+       # username\n",
    "      @\n",
    "      ([\\w\\d.]+\\.)+    # domain name prefix\n",
    "      (com|org|edu)    # limit the allowed top-level domains\n",
    "    )\n",
    "\n",
    "    >? # optional closing angle bracket\n",
    "    ''',\n",
    "    re.VERBOSE)\n",
    "\n",
    "candidates = [\n",
    "    u'First Last <first.last@example.com>',\n",
    "    u'No Brackets first.last@example.com',\n",
    "    u'Open Bracket <first.last@example.com',\n",
    "    u'Close Bracket first.last@example.com>',\n",
    "]\n",
    "\n",
    "for candidate in candidates:\n",
    "    print('Candidate:', candidate)\n",
    "    match = address.search(candidate)\n",
    "    if match:\n",
    "        print('  Name :', match.groupdict()['name'])\n",
    "        print('  Email:', match.groupdict()['email'])\n",
    "    else:\n",
    "        print('  No match')"
   ]
  },
  {
   "cell_type": "markdown",
   "metadata": {},
   "source": [
    "There are several important changes in this version of the expression. First, the name portion is no longer optional. That means stand-alone addresses do not match, but it also prevents improperly formatted name/address combinations from matching. The positive look ahead rule after the “name” group asserts that either the remainder of the string is wrapped with a pair of angle brackets, or there is not a mismatched bracket; either both of or neither of the brackets is present. The look ahead is expressed as a group, but the match for a look ahead group does not consume any of the input text, so the rest of the pattern picks up from the same spot after the look ahead matches"
   ]
  },
  {
   "cell_type": "markdown",
   "metadata": {},
   "source": [
    "A negative look ahead assertion ((?!pattern)) says that the pattern does not match the text following the current point. For example, the email recognition pattern could be modified to ignore the noreply mailing addresses commonly used by automated systems."
   ]
  },
  {
   "cell_type": "code",
   "execution_count": 43,
   "metadata": {},
   "outputs": [
    {
     "name": "stdout",
     "output_type": "stream",
     "text": [
      "Candidate: first.last@example.com\n",
      "  Match: first.last@example.com\n",
      "Candidate: noreply@example.com\n",
      "  No match\n"
     ]
    }
   ],
   "source": [
    "import re\n",
    "\n",
    "address = re.compile(\n",
    "    '''\n",
    "    ^\n",
    "\n",
    "    # An address: username@domain.tld\n",
    "\n",
    "    # Ignore noreply addresses\n",
    "    (?!noreply@.*$)\n",
    "\n",
    "    [\\w\\d.+-]+       # username\n",
    "    @\n",
    "    ([\\w\\d.]+\\.)+    # domain name prefix\n",
    "    (com|org|edu)    # limit the allowed top-level domains\n",
    "\n",
    "    $\n",
    "    ''',\n",
    "    re.VERBOSE)\n",
    "\n",
    "candidates = [\n",
    "    u'first.last@example.com',\n",
    "    u'noreply@example.com',\n",
    "]\n",
    "\n",
    "for candidate in candidates:\n",
    "    print('Candidate:', candidate)\n",
    "    match = address.search(candidate)\n",
    "    if match:\n",
    "        print('  Match:', candidate[match.start():match.end()])\n",
    "    else:\n",
    "        print('  No match')"
   ]
  },
  {
   "cell_type": "markdown",
   "metadata": {},
   "source": [
    "Instead of looking ahead for noreply in the username portion of the email address, the pattern can alternatively be written using a negative look behind assertion after the username is matched using the syntax (?<!pattern).\n",
    "\n"
   ]
  },
  {
   "cell_type": "code",
   "execution_count": 44,
   "metadata": {},
   "outputs": [
    {
     "name": "stdout",
     "output_type": "stream",
     "text": [
      "Candidate: first.last@example.com\n",
      "  Match: first.last@example.com\n",
      "Candidate: noreply@example.com\n",
      "  No match\n"
     ]
    }
   ],
   "source": [
    "import re\n",
    "\n",
    "address = re.compile(\n",
    "    '''\n",
    "    ^\n",
    "\n",
    "    # An address: username@domain.tld\n",
    "\n",
    "    [\\w\\d.+-]+       # username\n",
    "\n",
    "    # Ignore noreply addresses\n",
    "    (?<!noreply)\n",
    "\n",
    "    @\n",
    "    ([\\w\\d.]+\\.)+    # domain name prefix\n",
    "    (com|org|edu)    # limit the allowed top-level domains\n",
    "\n",
    "    $\n",
    "    ''',\n",
    "    re.VERBOSE)\n",
    "\n",
    "candidates = [\n",
    "    u'first.last@example.com',\n",
    "    u'noreply@example.com',\n",
    "]\n",
    "\n",
    "for candidate in candidates:\n",
    "    print('Candidate:', candidate)\n",
    "    match = address.search(candidate)\n",
    "    if match:\n",
    "        print('  Match:', candidate[match.start():match.end()])\n",
    "    else:\n",
    "        print('  No match')"
   ]
  },
  {
   "cell_type": "markdown",
   "metadata": {},
   "source": [
    "Looking backward works a little differently than looking ahead, in that the expression must use a fixed-length pattern. Repetitions are allowed, as long as there is a fixed number of them (no wildcards or ranges)."
   ]
  },
  {
   "cell_type": "markdown",
   "metadata": {},
   "source": [
    "## Self-referencing Expressions"
   ]
  },
  {
   "cell_type": "markdown",
   "metadata": {},
   "source": [
    "Matched values can be used in later parts of an expression. For example, the email example can be updated to match only addresses composed of the first and last names of the person by including back-references to those groups. The easiest way to achieve this is by referring to the previously matched group by ID number, using \\num."
   ]
  },
  {
   "cell_type": "code",
   "execution_count": 45,
   "metadata": {},
   "outputs": [
    {
     "name": "stdout",
     "output_type": "stream",
     "text": [
      "Candidate: First Last <first.last@example.com>\n",
      "  Match name : First Last\n",
      "  Match email: first.last@example.com\n",
      "Candidate: Different Name <first.last@example.com>\n",
      "  No match\n",
      "Candidate: First Middle Last <first.last@example.com>\n",
      "  Match name : First Last\n",
      "  Match email: first.last@example.com\n",
      "Candidate: First M. Last <first.last@example.com>\n",
      "  Match name : First Last\n",
      "  Match email: first.last@example.com\n"
     ]
    }
   ],
   "source": [
    "import re\n",
    "\n",
    "address = re.compile(\n",
    "    r'''\n",
    "\n",
    "    # The regular name\n",
    "    (\\w+)               # first name\n",
    "    \\s+\n",
    "    (([\\w.]+)\\s+)?      # optional middle name or initial\n",
    "    (\\w+)               # last name\n",
    "\n",
    "    \\s+\n",
    "\n",
    "    <\n",
    "\n",
    "    # The address: first_name.last_name@domain.tld\n",
    "    (?P<email>\n",
    "      \\1               # first name\n",
    "      \\.\n",
    "      \\4               # last name\n",
    "      @\n",
    "      ([\\w\\d.]+\\.)+    # domain name prefix\n",
    "      (com|org|edu)    # limit the allowed top-level domains\n",
    "    )\n",
    "\n",
    "    >\n",
    "    ''',\n",
    "    re.VERBOSE | re.IGNORECASE)\n",
    "\n",
    "candidates = [\n",
    "    u'First Last <first.last@example.com>',\n",
    "    u'Different Name <first.last@example.com>',\n",
    "    u'First Middle Last <first.last@example.com>',\n",
    "    u'First M. Last <first.last@example.com>',\n",
    "]\n",
    "\n",
    "for candidate in candidates:\n",
    "    print('Candidate:', candidate)\n",
    "    match = address.search(candidate)\n",
    "    if match:\n",
    "        print('  Match name :', match.group(1), match.group(4))\n",
    "        print('  Match email:', match.group(5))\n",
    "    else:\n",
    "        print('  No match')"
   ]
  },
  {
   "cell_type": "markdown",
   "metadata": {},
   "source": [
    "Although the syntax is simple, creating back-references by numerical ID has a few disadvantages. From a practical standpoint, as the expression changes, the groups must be counted again and every reference may need to be updated. Another disadvantage is that only 99 references can be made using the standard back-reference syntax \\n, because if the ID number is three digits long, it will be interpreted as an octal character value instead of a group reference. Of course, if there are more than 99 groups in an expression, there will be more serious maintenance challenges than simply not being able to refer to all of them."
   ]
  },
  {
   "cell_type": "markdown",
   "metadata": {},
   "source": [
    "Python’s expression parser includes an extension that uses (?P=name) to refer to the value of a named group matched earlier in the expression."
   ]
  },
  {
   "cell_type": "code",
   "execution_count": 46,
   "metadata": {},
   "outputs": [
    {
     "name": "stdout",
     "output_type": "stream",
     "text": [
      "Candidate: First Last <first.last@example.com>\n",
      "  Match name : First Last\n",
      "  Match email: first.last@example.com\n",
      "Candidate: Different Name <first.last@example.com>\n",
      "  No match\n",
      "Candidate: First Middle Last <first.last@example.com>\n",
      "  Match name : First Last\n",
      "  Match email: first.last@example.com\n",
      "Candidate: First M. Last <first.last@example.com>\n",
      "  Match name : First Last\n",
      "  Match email: first.last@example.com\n"
     ]
    }
   ],
   "source": [
    "import re\n",
    "\n",
    "address = re.compile(\n",
    "    '''\n",
    "\n",
    "    # The regular name\n",
    "    (?P<first_name>\\w+)\n",
    "    \\s+\n",
    "    (([\\w.]+)\\s+)?      # optional middle name or initial\n",
    "    (?P<last_name>\\w+)\n",
    "\n",
    "    \\s+\n",
    "\n",
    "    <\n",
    "\n",
    "    # The address: first_name.last_name@domain.tld\n",
    "    (?P<email>\n",
    "      (?P=first_name)\n",
    "      \\.\n",
    "      (?P=last_name)\n",
    "      @\n",
    "      ([\\w\\d.]+\\.)+    # domain name prefix\n",
    "      (com|org|edu)    # limit the allowed top-level domains\n",
    "    )\n",
    "\n",
    "    >\n",
    "    ''',\n",
    "    re.VERBOSE | re.IGNORECASE)\n",
    "\n",
    "candidates = [\n",
    "    u'First Last <first.last@example.com>',\n",
    "    u'Different Name <first.last@example.com>',\n",
    "    u'First Middle Last <first.last@example.com>',\n",
    "    u'First M. Last <first.last@example.com>',\n",
    "]\n",
    "\n",
    "for candidate in candidates:\n",
    "    print('Candidate:', candidate)\n",
    "    match = address.search(candidate)\n",
    "    if match:\n",
    "        print('  Match name :', match.groupdict()['first_name'],\n",
    "              end=' ')\n",
    "        print(match.groupdict()['last_name'])\n",
    "        print('  Match email:', match.groupdict()['email'])\n",
    "    else:\n",
    "        print('  No match')"
   ]
  },
  {
   "cell_type": "markdown",
   "metadata": {},
   "source": [
    "The other mechanism for using back-references in expressions chooses a different pattern based on whether a previous group matched. The email pattern can be corrected so that the angle brackets are required if a name is present, and not required if the email address is by itself. The syntax for testing whether if a group has matched is (?(id)yes-expression|no-expression), where id is the group name or number, yes-expression is the pattern to use if the group has a value, and no-expression is the pattern to use otherwise."
   ]
  },
  {
   "cell_type": "code",
   "execution_count": 47,
   "metadata": {},
   "outputs": [
    {
     "name": "stdout",
     "output_type": "stream",
     "text": [
      "Candidate: First Last <first.last@example.com>\n",
      "  Match name : First Last\n",
      "  Match email: first.last@example.com\n",
      "Candidate: No Brackets first.last@example.com\n",
      "  No match\n",
      "Candidate: Open Bracket <first.last@example.com\n",
      "  No match\n",
      "Candidate: Close Bracket first.last@example.com>\n",
      "  No match\n",
      "Candidate: no.brackets@example.com\n",
      "  Match name : None\n",
      "  Match email: no.brackets@example.com\n"
     ]
    }
   ],
   "source": [
    "import re\n",
    "\n",
    "address = re.compile(\n",
    "    '''\n",
    "    ^\n",
    "\n",
    "    # A name is made up of letters, and may include \".\"\n",
    "    # for title abbreviations and middle initials.\n",
    "    (?P<name>\n",
    "       ([\\w.]+\\s+)*[\\w.]+\n",
    "     )?\n",
    "    \\s*\n",
    "\n",
    "    # Email addresses are wrapped in angle brackets, but\n",
    "    # only if a name is found.\n",
    "    (?(name)\n",
    "      # remainder wrapped in angle brackets because\n",
    "      # there is a name\n",
    "      (?P<brackets>(?=(<.*>$)))\n",
    "      |\n",
    "      # remainder does not include angle brackets without name\n",
    "      (?=([^<].*[^>]$))\n",
    "     )\n",
    "\n",
    "    # Look for a bracket only if the look-ahead assertion\n",
    "    # found both of them.\n",
    "    (?(brackets)<|\\s*)\n",
    "\n",
    "    # The address itself: username@domain.tld\n",
    "    (?P<email>\n",
    "      [\\w\\d.+-]+       # username\n",
    "      @\n",
    "      ([\\w\\d.]+\\.)+    # domain name prefix\n",
    "      (com|org|edu)    # limit the allowed top-level domains\n",
    "     )\n",
    "\n",
    "    # Look for a bracket only if the look-ahead assertion\n",
    "    # found both of them.\n",
    "    (?(brackets)>|\\s*)\n",
    "\n",
    "    $\n",
    "    ''',\n",
    "    re.VERBOSE)\n",
    "\n",
    "candidates = [\n",
    "    u'First Last <first.last@example.com>',\n",
    "    u'No Brackets first.last@example.com',\n",
    "    u'Open Bracket <first.last@example.com',\n",
    "    u'Close Bracket first.last@example.com>',\n",
    "    u'no.brackets@example.com',\n",
    "]\n",
    "\n",
    "for candidate in candidates:\n",
    "    print('Candidate:', candidate)\n",
    "    match = address.search(candidate)\n",
    "    if match:\n",
    "        print('  Match name :', match.groupdict()['name'])\n",
    "        print('  Match email:', match.groupdict()['email'])\n",
    "    else:\n",
    "        print('  No match')"
   ]
  },
  {
   "cell_type": "markdown",
   "metadata": {},
   "source": [
    "This version of the email address parser uses two tests. If the name group matches, then the look ahead assertion requires both angle brackets and sets up the brackets group. If name is not matched, the assertion requires the rest of the text to not have angle brackets around it. Later, if the brackets group is set, the actual pattern matching code consumes the brackets in the input using literal patterns; otherwise, it consumes any blank space.\n",
    "\n"
   ]
  },
  {
   "cell_type": "markdown",
   "metadata": {},
   "source": [
    "## Modifying Strings with Patterns"
   ]
  },
  {
   "cell_type": "markdown",
   "metadata": {},
   "source": [
    "In addition to searching through text, re supports modifying text using regular expressions as the search mechanism, and the replacements can reference groups matched in the pattern as part of the substitution text. Use sub() to replace all occurrences of a pattern with another string."
   ]
  },
  {
   "cell_type": "code",
   "execution_count": 48,
   "metadata": {},
   "outputs": [
    {
     "name": "stdout",
     "output_type": "stream",
     "text": [
      "Text: Make this **bold**.  This **too**.\n",
      "Bold: Make this <b>bold</b>.  This <b>too</b>.\n"
     ]
    }
   ],
   "source": [
    "import re\n",
    "\n",
    "bold = re.compile(r'\\*{2}(.*?)\\*{2}')\n",
    "\n",
    "text = 'Make this **bold**.  This **too**.'\n",
    "\n",
    "print('Text:', text)\n",
    "print('Bold:', bold.sub(r'<b>\\1</b>', text))"
   ]
  },
  {
   "cell_type": "markdown",
   "metadata": {},
   "source": [
    "References to the text matched by the pattern can be inserted using the \\num syntax used for back-references."
   ]
  },
  {
   "cell_type": "markdown",
   "metadata": {},
   "source": [
    "## Splitting with Patterns"
   ]
  },
  {
   "cell_type": "markdown",
   "metadata": {},
   "source": [
    "str.split() is one of the most frequently used methods for breaking apart strings to parse them. It supports only the use of literal values as separators, though, and sometimes a regular expression is necessary if the input is not consistently formatted. For example, many plain text markup languages define paragraph separators as two or more newline (\\n) characters. In this case, str.split() cannot be used because of the “or more” part of the definition."
   ]
  },
  {
   "cell_type": "code",
   "execution_count": 49,
   "metadata": {},
   "outputs": [
    {
     "name": "stdout",
     "output_type": "stream",
     "text": [
      "0 'Paragraph one\\non two lines.'\n",
      "\n",
      "1 'Paragraph two.'\n",
      "\n"
     ]
    }
   ],
   "source": [
    "import re\n",
    "\n",
    "text = '''Paragraph one\n",
    "on two lines.\n",
    "\n",
    "Paragraph two.\n",
    "\n",
    "\n",
    "Paragraph three.'''\n",
    "\n",
    "for num, para in enumerate(re.findall(r'(.+?)\\n{2,}',\n",
    "                                      text,\n",
    "                                      flags=re.DOTALL)\n",
    "                           ):\n",
    "    print(num, repr(para))\n",
    "    print()"
   ]
  },
  {
   "cell_type": "markdown",
   "metadata": {},
   "source": [
    "Extending the pattern to say that a paragraph ends with two or more newlines or the end of input fixes the problem, but makes the pattern more complicated. Converting to re.split() instead of re.findall() handles the boundary condition automatically and keeps the pattern simpler."
   ]
  },
  {
   "cell_type": "code",
   "execution_count": 50,
   "metadata": {},
   "outputs": [
    {
     "name": "stdout",
     "output_type": "stream",
     "text": [
      "With findall:\n",
      "0 ('Paragraph one\\non two lines.', '\\n\\n')\n",
      "\n",
      "1 ('Paragraph two.', '\\n\\n\\n')\n",
      "\n",
      "2 ('Paragraph three.', '')\n",
      "\n",
      "\n",
      "With split:\n",
      "0 'Paragraph one\\non two lines.'\n",
      "\n",
      "1 'Paragraph two.'\n",
      "\n",
      "2 'Paragraph three.'\n",
      "\n"
     ]
    }
   ],
   "source": [
    "import re\n",
    "\n",
    "text = '''Paragraph one\n",
    "on two lines.\n",
    "\n",
    "Paragraph two.\n",
    "\n",
    "\n",
    "Paragraph three.'''\n",
    "\n",
    "print('With findall:')\n",
    "for num, para in enumerate(re.findall(r'(.+?)(\\n{2,}|$)',\n",
    "                                      text,\n",
    "                                      flags=re.DOTALL)):\n",
    "    print(num, repr(para))\n",
    "    print()\n",
    "\n",
    "print()\n",
    "print('With split:')\n",
    "for num, para in enumerate(re.split(r'\\n{2,}', text)):\n",
    "    print(num, repr(para))\n",
    "    print()"
   ]
  },
  {
   "cell_type": "code",
   "execution_count": null,
   "metadata": {
    "collapsed": true
   },
   "outputs": [],
   "source": []
  }
 ],
 "metadata": {
  "kernelspec": {
   "display_name": "Python 3",
   "language": "python",
   "name": "python3"
  },
  "language_info": {
   "codemirror_mode": {
    "name": "ipython",
    "version": 3
   },
   "file_extension": ".py",
   "mimetype": "text/x-python",
   "name": "python",
   "nbconvert_exporter": "python",
   "pygments_lexer": "ipython3",
   "version": "3.6.1"
  }
 },
 "nbformat": 4,
 "nbformat_minor": 2
}
