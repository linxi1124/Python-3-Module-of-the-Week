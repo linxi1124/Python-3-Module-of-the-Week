{
 "cells": [
  {
   "cell_type": "markdown",
   "metadata": {},
   "source": [
    "The textwrap module can be used to format text for output in situations where pretty-printing is desired. It offers programmatic functionality similar to the paragraph wrapping or filling features found in many text editors and word processors."
   ]
  },
  {
   "cell_type": "code",
   "execution_count": 2,
   "metadata": {
    "collapsed": true
   },
   "outputs": [],
   "source": [
    "import textwrap"
   ]
  },
  {
   "cell_type": "markdown",
   "metadata": {},
   "source": [
    "## Structure of this module\n"
   ]
  },
  {
   "cell_type": "markdown",
   "metadata": {},
   "source": [
    "There are 2 way of invoking this module\n",
    "\n",
    "* textwrap.TextWrapper(**kwargs)\n",
    "* this module also provide some convinient function \n",
    "\n",
    "Let's start with convinient functiones."
   ]
  },
  {
   "cell_type": "code",
   "execution_count": 53,
   "metadata": {
    "collapsed": true
   },
   "outputs": [],
   "source": [
    "sample_text = '''\n",
    "    The textwrap module can be used to format text for output in\n",
    "    situations where pretty-printing is desired.  It offers\n",
    "    programmatic functionality similar to the paragraph wrapping\n",
    "    or filling features found in many text editors.\n",
    "    '''"
   ]
  },
  {
   "cell_type": "markdown",
   "metadata": {},
   "source": [
    "### Convinient functiones"
   ]
  },
  {
   "cell_type": "markdown",
   "metadata": {},
   "source": [
    "#####   textwrap.wrap(text, width=70, **kwargs)"
   ]
  },
  {
   "cell_type": "markdown",
   "metadata": {},
   "source": [
    "Wraps the single paragraph in text (a string) so every line is at most width characters long. Returns a list of output lines, without final newlines"
   ]
  },
  {
   "cell_type": "code",
   "execution_count": 54,
   "metadata": {
    "collapsed": true
   },
   "outputs": [],
   "source": [
    "wrap_result = textwrap.wrap(sample_text,width=30)"
   ]
  },
  {
   "cell_type": "code",
   "execution_count": 55,
   "metadata": {},
   "outputs": [
    {
     "data": {
      "text/plain": [
       "['     The textwrap module can',\n",
       " 'be used to format text for',\n",
       " 'output in     situations where',\n",
       " 'pretty-printing is desired.',\n",
       " 'It offers     programmatic',\n",
       " 'functionality similar to the',\n",
       " 'paragraph wrapping     or',\n",
       " 'filling features found in many',\n",
       " 'text editors.']"
      ]
     },
     "execution_count": 55,
     "metadata": {},
     "output_type": "execute_result"
    }
   ],
   "source": [
    "wrap_result"
   ]
  },
  {
   "cell_type": "markdown",
   "metadata": {},
   "source": [
    "##### textwrap.fill(text, width=70, **kwargs)\n",
    "\n",
    "Wraps the single paragraph in text, and returns a single string containing the wrapped paragraph"
   ]
  },
  {
   "cell_type": "code",
   "execution_count": 56,
   "metadata": {
    "collapsed": true
   },
   "outputs": [],
   "source": [
    "fill_result = textwrap.fill(sample_text,width=30)"
   ]
  },
  {
   "cell_type": "code",
   "execution_count": 57,
   "metadata": {},
   "outputs": [
    {
     "data": {
      "text/plain": [
       "'     The textwrap module can\\nbe used to format text for\\noutput in     situations where\\npretty-printing is desired.\\nIt offers     programmatic\\nfunctionality similar to the\\nparagraph wrapping     or\\nfilling features found in many\\ntext editors.'"
      ]
     },
     "execution_count": 57,
     "metadata": {},
     "output_type": "execute_result"
    }
   ],
   "source": [
    "fill_result"
   ]
  },
  {
   "cell_type": "markdown",
   "metadata": {},
   "source": [
    "##### textwrap.dedent(text)\n",
    "\n",
    "Remove any **common** leading whitespace from every line in text."
   ]
  },
  {
   "cell_type": "code",
   "execution_count": 58,
   "metadata": {},
   "outputs": [
    {
     "data": {
      "text/plain": [
       "'\\n    The textwrap module can be used to format text for output in\\n    situations where pretty-printing is desired.  It offers\\n    programmatic functionality similar to the paragraph wrapping\\n    or filling features found in many text editors.\\n    '"
      ]
     },
     "execution_count": 58,
     "metadata": {},
     "output_type": "execute_result"
    }
   ],
   "source": [
    "# before dedent\n",
    "sample_text"
   ]
  },
  {
   "cell_type": "code",
   "execution_count": 59,
   "metadata": {
    "collapsed": true
   },
   "outputs": [],
   "source": [
    "dedent_result = textwrap.dedent(sample_text)"
   ]
  },
  {
   "cell_type": "code",
   "execution_count": 60,
   "metadata": {},
   "outputs": [
    {
     "data": {
      "text/plain": [
       "'\\nThe textwrap module can be used to format text for output in\\nsituations where pretty-printing is desired.  It offers\\nprogrammatic functionality similar to the paragraph wrapping\\nor filling features found in many text editors.\\n'"
      ]
     },
     "execution_count": 60,
     "metadata": {},
     "output_type": "execute_result"
    }
   ],
   "source": [
    "# after dedent\n",
    "dedent_result"
   ]
  },
  {
   "cell_type": "markdown",
   "metadata": {},
   "source": [
    "you probaly notice that the result of `textwrap.fill` have some unwanted space. in this case we can work around this by dedent it first then fill."
   ]
  },
  {
   "cell_type": "code",
   "execution_count": 61,
   "metadata": {
    "collapsed": true
   },
   "outputs": [],
   "source": [
    "dedent_result_wrap = textwrap.fill(dedent_result,width=30)"
   ]
  },
  {
   "cell_type": "code",
   "execution_count": 62,
   "metadata": {},
   "outputs": [
    {
     "data": {
      "text/plain": [
       "' The textwrap module can be\\nused to format text for output\\nin situations where pretty-\\nprinting is desired.  It\\noffers programmatic\\nfunctionality similar to the\\nparagraph wrapping or filling\\nfeatures found in many text\\neditors.'"
      ]
     },
     "execution_count": 62,
     "metadata": {},
     "output_type": "execute_result"
    }
   ],
   "source": [
    "dedent_result_wrap"
   ]
  },
  {
   "cell_type": "markdown",
   "metadata": {},
   "source": [
    "##### textwrap.indent(text, prefix, predicate=None)\n",
    "\n",
    "Add prefix to the beginning of selected lines in text."
   ]
  },
  {
   "cell_type": "code",
   "execution_count": 63,
   "metadata": {
    "collapsed": true
   },
   "outputs": [],
   "source": [
    "indent_result = textwrap.indent(sample_text,prefix=\"=A=\")"
   ]
  },
  {
   "cell_type": "code",
   "execution_count": 64,
   "metadata": {},
   "outputs": [
    {
     "data": {
      "text/plain": [
       "'\\n=A=    The textwrap module can be used to format text for output in\\n=A=    situations where pretty-printing is desired.  It offers\\n=A=    programmatic functionality similar to the paragraph wrapping\\n=A=    or filling features found in many text editors.\\n    '"
      ]
     },
     "execution_count": 64,
     "metadata": {},
     "output_type": "execute_result"
    }
   ],
   "source": [
    "indent_result"
   ]
  },
  {
   "cell_type": "code",
   "execution_count": 65,
   "metadata": {},
   "outputs": [
    {
     "name": "stdout",
     "output_type": "stream",
     "text": [
      "\n",
      "=A=    The textwrap module can be used to format text for output in\n",
      "=A=    situations where pretty-printing is desired.  It offers\n",
      "=A=    programmatic functionality similar to the paragraph wrapping\n",
      "=A=    or filling features found in many text editors.\n",
      "    \n"
     ]
    }
   ],
   "source": [
    "print(indent_result)"
   ]
  },
  {
   "cell_type": "markdown",
   "metadata": {},
   "source": [
    "To control which lines receive the new prefix, pass a callable as the predicate argument to indent(). The callable will be invoked for each line of text in turn and the prefix will be added for lines where the return value is true."
   ]
  },
  {
   "cell_type": "code",
   "execution_count": 66,
   "metadata": {
    "collapsed": true
   },
   "outputs": [],
   "source": [
    "def should_indent(line):\n",
    "    print('Indent {!r}?'.format(line))\n",
    "    return len(line.strip()) % 2 == 0"
   ]
  },
  {
   "cell_type": "code",
   "execution_count": 67,
   "metadata": {},
   "outputs": [
    {
     "name": "stdout",
     "output_type": "stream",
     "text": [
      "Indent ' The textwrap module can be used to format text\\n'?\n",
      "Indent 'for output in situations where pretty-printing is\\n'?\n",
      "Indent 'desired.  It offers programmatic functionality\\n'?\n",
      "Indent 'similar to the paragraph wrapping or filling\\n'?\n",
      "Indent 'features found in many text editors.'?\n",
      "\n",
      "Quoted block:\n",
      "\n",
      "EVEN  The textwrap module can be used to format text\n",
      "for output in situations where pretty-printing is\n",
      "EVEN desired.  It offers programmatic functionality\n",
      "EVEN similar to the paragraph wrapping or filling\n",
      "EVEN features found in many text editors.\n"
     ]
    }
   ],
   "source": [
    "dedented_text = textwrap.dedent(sample_text)\n",
    "wrapped = textwrap.fill(dedented_text, width=50)\n",
    "final = textwrap.indent(wrapped, 'EVEN ',\n",
    "                        predicate=should_indent)\n",
    "\n",
    "print('\\nQuoted block:\\n')\n",
    "print(final)"
   ]
  },
  {
   "cell_type": "markdown",
   "metadata": {},
   "source": [
    "This example adds the prefix EVEN to lines that contain an even number of characters."
   ]
  },
  {
   "cell_type": "markdown",
   "metadata": {},
   "source": [
    "##### textwrap.shorten(text, width, **kwargs)\n",
    "\n",
    "* Collapse and truncate the given text to fit in the given width.\n",
    "* First the whitespace in text is collapsed (all whitespace is replaced by single spaces). If the result fits in the width, it is returned. Otherwise, enough words are dropped from the end so that the remaining words plus the placeholder fit within width"
   ]
  },
  {
   "cell_type": "code",
   "execution_count": 68,
   "metadata": {
    "collapsed": true
   },
   "outputs": [],
   "source": [
    "shorten_result = textwrap.shorten(sample_text,width=90)"
   ]
  },
  {
   "cell_type": "code",
   "execution_count": 69,
   "metadata": {},
   "outputs": [
    {
     "data": {
      "text/plain": [
       "'The textwrap module can be used to format text for output in situations where [...]'"
      ]
     },
     "execution_count": 69,
     "metadata": {},
     "output_type": "execute_result"
    }
   ],
   "source": [
    "shorten_result"
   ]
  },
  {
   "cell_type": "code",
   "execution_count": 70,
   "metadata": {
    "collapsed": true
   },
   "outputs": [],
   "source": [
    "# use different placeholder\n",
    "shorten_result_1 = textwrap.shorten(sample_text,width=90,placeholder='....')"
   ]
  },
  {
   "cell_type": "code",
   "execution_count": 71,
   "metadata": {
    "scrolled": false
   },
   "outputs": [
    {
     "data": {
      "text/plain": [
       "'The textwrap module can be used to format text for output in situations where pretty-....'"
      ]
     },
     "execution_count": 71,
     "metadata": {},
     "output_type": "execute_result"
    }
   ],
   "source": [
    "shorten_result_1"
   ]
  },
  {
   "cell_type": "markdown",
   "metadata": {},
   "source": [
    "### textwrap.TextWrapper(**kwargs)\n",
    "\n",
    "If you want more convinient or efficient solution. you should use TextWrapper directly.\n",
    "you may notice that \n",
    "```\n",
    "textwrap.wrap(text, width=70, **kwargs)\n",
    "textwrap.fill(text, width=70, **kwargs)\n",
    "textwrap.shorten(text, width=70, **kwargs)\n",
    "```\n",
    "have optional `kwargs` arguments. These optional arguments correspond to the instance attributes of TextWrapper.\n",
    "\n",
    "for complete list, refer to [official doc](https://docs.python.org/3.5/library/textwrap.html#textwrap.TextWrapper)"
   ]
  },
  {
   "cell_type": "markdown",
   "metadata": {},
   "source": [
    "**Example**:\n",
    "it is possible to set the width of the output, the indent of the first line can be controlled independently of subsequent lines."
   ]
  },
  {
   "cell_type": "code",
   "execution_count": 52,
   "metadata": {},
   "outputs": [
    {
     "name": "stdout",
     "output_type": "stream",
     "text": [
      "The textwrap module can be used to format text for\n",
      "    output in situations where pretty-printing is\n",
      "    desired.  It offers programmatic functionality\n",
      "    similar to the paragraph wrapping or filling\n",
      "    features found in many text editors.\n"
     ]
    }
   ],
   "source": [
    "dedented_text = textwrap.dedent(sample_text).strip()\n",
    "print(textwrap.fill(dedented_text,\n",
    "                    initial_indent='',\n",
    "                    subsequent_indent=' ' * 4,\n",
    "                    width=50,\n",
    "                    ))"
   ]
  }
 ],
 "metadata": {
  "kernelspec": {
   "display_name": "Python [conda env:py35]",
   "language": "python",
   "name": "conda-env-py35-py"
  },
  "language_info": {
   "codemirror_mode": {
    "name": "ipython",
    "version": 3
   },
   "file_extension": ".py",
   "mimetype": "text/x-python",
   "name": "python",
   "nbconvert_exporter": "python",
   "pygments_lexer": "ipython3",
   "version": "3.5.4"
  }
 },
 "nbformat": 4,
 "nbformat_minor": 2
}
