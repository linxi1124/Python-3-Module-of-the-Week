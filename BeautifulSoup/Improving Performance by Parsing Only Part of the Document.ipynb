{
 "cells": [
  {
   "cell_type": "markdown",
   "metadata": {},
   "source": [
    "# Introduction [reference](https://www.crummy.com/software/BeautifulSoup/bs3/documentation.html#Improving%20Performance%20by%20Parsing%20Only%20Part%20of%20the%20Document)"
   ]
  },
  {
   "cell_type": "markdown",
   "metadata": {},
   "source": [
    "Beautiful Soup turns every element of a document into a Python object and connects it to a bunch of other Python objects. If you only need a subset of the document, this is really slow. But you can pass in a SoupStrainer as the ***parse_only*** argument to the soup constructor. Beautiful Soup checks each element against the SoupStrainer, and only if it matches is the element turned into a Tag or NavigableText, and added to the tree.\n",
    "\n",
    "If an element is added to to the tree, then so are its children—even if they wouldn't have matched the SoupStrainer on their own. This lets you parse only the chunks of a document that contain the data you want. "
   ]
  },
  {
   "cell_type": "code",
   "execution_count": 11,
   "metadata": {
    "collapsed": true
   },
   "outputs": [],
   "source": [
    "from bs4 import BeautifulSoup,SoupStrainer\n",
    "import re"
   ]
  },
  {
   "cell_type": "code",
   "execution_count": 6,
   "metadata": {
    "collapsed": true
   },
   "outputs": [],
   "source": [
    "doc = '''Bob reports <a href=\"http://www.bob.com/\">success</a>\n",
    "with his plasma breeding <a\n",
    "href=\"http://www.bob.com/plasma\">experiments</a>. <i>Don't get any on\n",
    "us, Bob!</i>\n",
    "\n",
    "<br><br>Ever hear of annular fusion? The folks at <a\n",
    "href=\"http://www.boogabooga.net/\">BoogaBooga</a> sure seem obsessed\n",
    "with it. Secret project, or <b>WEB MADNESS?</b> You decide!'''"
   ]
  },
  {
   "cell_type": "markdown",
   "metadata": {},
   "source": [
    "## parse only a tag"
   ]
  },
  {
   "cell_type": "code",
   "execution_count": 19,
   "metadata": {},
   "outputs": [
    {
     "data": {
      "text/plain": [
       "[<a href=\"http://www.bob.com/\">success</a>,\n",
       " <a href=\"http://www.bob.com/plasma\">experiments</a>,\n",
       " <a href=\"http://www.boogabooga.net/\">BoogaBooga</a>]"
      ]
     },
     "execution_count": 19,
     "metadata": {},
     "output_type": "execute_result"
    }
   ],
   "source": [
    "links = SoupStrainer('a')\n",
    "[tag for tag in BeautifulSoup(doc,\"lxml\",parse_only=links)]"
   ]
  },
  {
   "cell_type": "markdown",
   "metadata": {},
   "source": [
    "## pare a tags with specified contecnt inside it"
   ]
  },
  {
   "cell_type": "code",
   "execution_count": 18,
   "metadata": {},
   "outputs": [
    {
     "data": {
      "text/plain": [
       "[<a href=\"http://www.bob.com/\">success</a>,\n",
       " <a href=\"http://www.bob.com/plasma\">experiments</a>]"
      ]
     },
     "execution_count": 18,
     "metadata": {},
     "output_type": "execute_result"
    }
   ],
   "source": [
    "linksToBob = SoupStrainer('a', href=re.compile('bob.com/'))\n",
    "[tag for tag in BeautifulSoup(doc,\"lxml\", parse_only=linksToBob)]"
   ]
  },
  {
   "cell_type": "code",
   "execution_count": 23,
   "metadata": {},
   "outputs": [
    {
     "data": {
      "text/plain": [
       "['Bob reports ', \"Don't get any on\\nus, Bob!\"]"
      ]
     },
     "execution_count": 23,
     "metadata": {},
     "output_type": "execute_result"
    }
   ],
   "source": [
    "mentionsOfBob = SoupStrainer(text=re.compile(\"Bob\"))\n",
    "[text for text in BeautifulSoup(doc,\"lxml\", parse_only=mentionsOfBob)]\n"
   ]
  },
  {
   "cell_type": "markdown",
   "metadata": {},
   "source": [
    "## specify criterion for tags"
   ]
  },
  {
   "cell_type": "code",
   "execution_count": 24,
   "metadata": {},
   "outputs": [
    {
     "data": {
      "text/plain": [
       "['. ', '\\n', 'WEB MADNESS?']"
      ]
     },
     "execution_count": 24,
     "metadata": {},
     "output_type": "execute_result"
    }
   ],
   "source": [
    "allCaps = SoupStrainer(text=lambda t:t.upper()==t)\n",
    "[text for text in BeautifulSoup(doc,\"lxml\", parse_only=allCaps)]\n"
   ]
  },
  {
   "cell_type": "code",
   "execution_count": null,
   "metadata": {
    "collapsed": true
   },
   "outputs": [],
   "source": []
  }
 ],
 "metadata": {
  "kernelspec": {
   "display_name": "Python 3",
   "language": "python",
   "name": "python3"
  },
  "language_info": {
   "codemirror_mode": {
    "name": "ipython",
    "version": 3
   },
   "file_extension": ".py",
   "mimetype": "text/x-python",
   "name": "python",
   "nbconvert_exporter": "python",
   "pygments_lexer": "ipython3",
   "version": "3.6.1"
  }
 },
 "nbformat": 4,
 "nbformat_minor": 2
}
