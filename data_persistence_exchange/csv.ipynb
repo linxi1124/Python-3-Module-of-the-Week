{
 "cells": [
  {
   "cell_type": "code",
   "execution_count": 2,
   "metadata": {
    "collapsed": true
   },
   "outputs": [],
   "source": [
    "import csv"
   ]
  },
  {
   "cell_type": "markdown",
   "metadata": {},
   "source": [
    "## reader"
   ]
  },
  {
   "cell_type": "markdown",
   "metadata": {},
   "source": [
    "```\n",
    "csv.reader(\n",
    "csvfile, dialect='excel', **fmtparams\n",
    ")\n",
    "```"
   ]
  },
  {
   "cell_type": "markdown",
   "metadata": {},
   "source": [
    "return a `reader` object which will iterate over lines in the give `csvfile`\n",
    "\n",
    "\n",
    "* if csvfile is a file object, it should be opened with `newline=''`"
   ]
  },
  {
   "cell_type": "markdown",
   "metadata": {},
   "source": [
    "## writer"
   ]
  },
  {
   "cell_type": "markdown",
   "metadata": {},
   "source": [
    "```\n",
    "csv.writer(\n",
    "csvfile, dialect='excel', **fmtparams\n",
    ")\n",
    "```"
   ]
  },
  {
   "cell_type": "markdown",
   "metadata": {},
   "source": [
    "return a `writer` object responsible for converting the user's data into delimited strings on the give file-like object.\n",
    "\n",
    "\n",
    "* if csvfile is a file object, it should be opened with `newline=''`"
   ]
  },
  {
   "cell_type": "markdown",
   "metadata": {},
   "source": [
    "## Dialect"
   ]
  },
  {
   "cell_type": "markdown",
   "metadata": {},
   "source": [
    "Group parameters that control how to parse a csv file."
   ]
  },
  {
   "cell_type": "markdown",
   "metadata": {},
   "source": [
    "### Get list of existing `Dialect`"
   ]
  },
  {
   "cell_type": "code",
   "execution_count": 5,
   "metadata": {
    "scrolled": true
   },
   "outputs": [
    {
     "data": {
      "text/plain": [
       "['excel', 'excel-tab', 'unix']"
      ]
     },
     "execution_count": 5,
     "metadata": {},
     "output_type": "execute_result"
    }
   ],
   "source": [
    "csv.list_dialects()"
   ]
  },
  {
   "cell_type": "markdown",
   "metadata": {},
   "source": [
    "* excel: microsoft excel, libreoffice\n",
    "* unix: quotes field with double-quotes and use \\n as record separator"
   ]
  },
  {
   "cell_type": "markdown",
   "metadata": {},
   "source": [
    "### Register/Unregister a dialect\n",
    "\n",
    "```\n",
    "csv.register_dialect(name[, dialect[, **fmtparams]])\n",
    "```\n",
    "\n",
    "```\n",
    "csv.unregister_dialect(name)\n",
    "```"
   ]
  },
  {
   "cell_type": "code",
   "execution_count": null,
   "metadata": {
    "collapsed": true
   },
   "outputs": [],
   "source": [
    "# %load data/testdata.pipes\n",
    "\"Title 1\"|\"Title 2\"|\"Title 3\"\n",
    "1|\"first line\n",
    "second line\"|08/18/07\n"
   ]
  },
  {
   "cell_type": "code",
   "execution_count": 6,
   "metadata": {},
   "outputs": [
    {
     "name": "stdout",
     "output_type": "stream",
     "text": [
      "['Title 1', 'Title 2', 'Title 3']\n",
      "['1', 'first line\\nsecond line', '08/18/07']\n"
     ]
    }
   ],
   "source": [
    "csv.register_dialect('pipes', delimiter='|')\n",
    "with open(\"data/testdata.pipes\",'r') as f:\n",
    "    reader = csv.reader(f,dialect='pipes')\n",
    "    for row in reader:\n",
    "        print(row)"
   ]
  },
  {
   "cell_type": "code",
   "execution_count": 15,
   "metadata": {
    "collapsed": true
   },
   "outputs": [],
   "source": [
    "csv.unregister_dialect(\"pipes\")"
   ]
  },
  {
   "cell_type": "markdown",
   "metadata": {},
   "source": [
    "### get_dialect\n",
    "\n",
    "```\n",
    "csv.get_dialect(name)\n",
    "```"
   ]
  },
  {
   "cell_type": "code",
   "execution_count": 9,
   "metadata": {},
   "outputs": [],
   "source": [
    "dialect_pipes = csv.get_dialect(\"pipes\")"
   ]
  },
  {
   "cell_type": "code",
   "execution_count": 11,
   "metadata": {},
   "outputs": [
    {
     "data": {
      "text/plain": [
       "('|', 1)"
      ]
     },
     "execution_count": 11,
     "metadata": {},
     "output_type": "execute_result"
    }
   ],
   "source": [
    "dialect_pipes.delimiter, dialect_pipes.doublequote"
   ]
  },
  {
   "cell_type": "markdown",
   "metadata": {},
   "source": [
    "### Dialect Paramters"
   ]
  },
  {
   "cell_type": "markdown",
   "metadata": {},
   "source": [
    "<table border=\"1\" class=\"docutils\" id=\"id5\">\n",
    "<caption><span class=\"caption-text\">CSV Dialect Parameters</span><a class=\"headerlink\" href=\"#id5\" title=\"Permalink to this table\">¶</a></caption>\n",
    "<colgroup>\n",
    "<col width=\"20%\" />\n",
    "<col width=\"20%\" />\n",
    "<col width=\"60%\" />\n",
    "</colgroup>\n",
    "<thead valign=\"bottom\">\n",
    "<tr class=\"row-odd\"><th class=\"head\">Attribute</th>\n",
    "<th class=\"head\">Default</th>\n",
    "<th class=\"head\">Meaning</th>\n",
    "</tr>\n",
    "</thead>\n",
    "<tbody valign=\"top\">\n",
    "<tr class=\"row-even\"><td>delimiter</td>\n",
    "<td><code class=\"docutils literal\"><span class=\"pre\">,</span></code></td>\n",
    "<td>Field separator (one character)</td>\n",
    "</tr>\n",
    "<tr class=\"row-odd\"><td>doublequote</td>\n",
    "<td>True</td>\n",
    "<td>Flag controlling whether quotechar instances are doubled</td>\n",
    "</tr>\n",
    "<tr class=\"row-even\"><td>escapechar</td>\n",
    "<td>None</td>\n",
    "<td>Character used to indicate an escape sequence</td>\n",
    "</tr>\n",
    "<tr class=\"row-odd\"><td>lineterminator</td>\n",
    "<td><code class=\"docutils literal\"><span class=\"pre\">\\r\\n</span></code></td>\n",
    "<td>String used by writer to terminate a line</td>\n",
    "</tr>\n",
    "<tr class=\"row-even\"><td>quotechar</td>\n",
    "<td><code class=\"docutils literal\"><span class=\"pre\">&quot;</span></code></td>\n",
    "<td>String to surround fields containing special values (one character)</td>\n",
    "</tr>\n",
    "<tr class=\"row-odd\"><td>quoting</td>\n",
    "<td><code class=\"docutils literal\"><span class=\"pre\">QUOTE_MINIMAL</span></code></td>\n",
    "<td>Controls quoting behavior described earlier</td>\n",
    "</tr>\n",
    "<tr class=\"row-even\"><td>skipinitialspace</td>\n",
    "<td>False</td>\n",
    "<td>Ignore whitespace after the field delimiter</td>\n",
    "</tr>\n",
    "</tbody>\n",
    "</table>"
   ]
  },
  {
   "cell_type": "markdown",
   "metadata": {},
   "source": [
    "**Examples:**"
   ]
  },
  {
   "cell_type": "code",
   "execution_count": 16,
   "metadata": {
    "scrolled": false
   },
   "outputs": [
    {
     "name": "stdout",
     "output_type": "stream",
     "text": [
      "Dialect: \"escaped\"\n",
      "\n",
      "  delimiter   = ','       skipinitialspace = 0\n",
      "  doublequote = 0         quoting          = QUOTE_NONE\n",
      "  quotechar   = '\"'       lineterminator   = '\\r\\n'\n",
      "  escapechar  = '\\\\'  \n",
      "\n",
      "col1,1,10/01/2010,Special chars: \\\" ' \\, to parse\r\n",
      "\n",
      "Dialect: \"excel\"\n",
      "\n",
      "  delimiter   = ','       skipinitialspace = 0\n",
      "  doublequote = 1         quoting          = QUOTE_MINIMAL\n",
      "  quotechar   = '\"'       lineterminator   = '\\r\\n'\n",
      "  escapechar  = None  \n",
      "\n",
      "col1,1,10/01/2010,\"Special chars: \"\" ' , to parse\"\r\n",
      "\n",
      "Dialect: \"excel-tab\"\n",
      "\n",
      "  delimiter   = '\\t'      skipinitialspace = 0\n",
      "  doublequote = 1         quoting          = QUOTE_MINIMAL\n",
      "  quotechar   = '\"'       lineterminator   = '\\r\\n'\n",
      "  escapechar  = None  \n",
      "\n",
      "col1\t1\t10/01/2010\t\"Special chars: \"\" ' \t to parse\"\r\n",
      "\n",
      "Dialect: \"singlequote\"\n",
      "\n",
      "  delimiter   = ','       skipinitialspace = 0\n",
      "  doublequote = 1         quoting          = QUOTE_ALL\n",
      "  quotechar   = \"'\"       lineterminator   = '\\r\\n'\n",
      "  escapechar  = None  \n",
      "\n",
      "'col1','1','10/01/2010','Special chars: \" '' , to parse'\r\n",
      "\n",
      "Dialect: \"unix\"\n",
      "\n",
      "  delimiter   = ','       skipinitialspace = 0\n",
      "  doublequote = 1         quoting          = QUOTE_ALL\n",
      "  quotechar   = '\"'       lineterminator   = '\\n'\n",
      "  escapechar  = None  \n",
      "\n",
      "\"col1\",\"1\",\"10/01/2010\",\"Special chars: \"\" ' , to parse\"\n",
      "\n"
     ]
    }
   ],
   "source": [
    "import csv\n",
    "import sys\n",
    "\n",
    "csv.register_dialect('escaped',\n",
    "                     escapechar='\\\\',\n",
    "                     doublequote=False,\n",
    "                     quoting=csv.QUOTE_NONE,\n",
    "                     )\n",
    "csv.register_dialect('singlequote',\n",
    "                     quotechar=\"'\",\n",
    "                     quoting=csv.QUOTE_ALL,\n",
    "                     )\n",
    "\n",
    "quoting_modes = {\n",
    "    getattr(csv, n): n\n",
    "    for n in dir(csv)\n",
    "    if n.startswith('QUOTE_')\n",
    "}\n",
    "\n",
    "TEMPLATE = '''\\\n",
    "Dialect: \"{name}\"\n",
    "\n",
    "  delimiter   = {dl!r:<6}    skipinitialspace = {si!r}\n",
    "  doublequote = {dq!r:<6}    quoting          = {qu}\n",
    "  quotechar   = {qc!r:<6}    lineterminator   = {lt!r}\n",
    "  escapechar  = {ec!r:<6}\n",
    "'''\n",
    "\n",
    "for name in sorted(csv.list_dialects()):\n",
    "    dialect = csv.get_dialect(name)\n",
    "\n",
    "    print(TEMPLATE.format(\n",
    "        name=name,\n",
    "        dl=dialect.delimiter,\n",
    "        si=dialect.skipinitialspace,\n",
    "        dq=dialect.doublequote,\n",
    "        qu=quoting_modes[dialect.quoting],\n",
    "        qc=dialect.quotechar,\n",
    "        lt=dialect.lineterminator,\n",
    "        ec=dialect.escapechar,\n",
    "    ))\n",
    "\n",
    "    writer = csv.writer(sys.stdout, dialect=dialect)\n",
    "    writer.writerow(\n",
    "        ('col1', 1, '10/01/2010',\n",
    "         'Special chars: \" \\' {} to parse'.format(\n",
    "             dialect.delimiter))\n",
    "    )\n",
    "    print()"
   ]
  },
  {
   "cell_type": "markdown",
   "metadata": {},
   "source": [
    "### Automatically Detect Dialects"
   ]
  },
  {
   "cell_type": "markdown",
   "metadata": {},
   "source": [
    "for data where the dialect parameters are unknown, the `Sniffer` class can be used to make an educated guess. `Sniffer` class takes a sample of the input data and an optional argument giving the possible delimiter characters."
   ]
  },
  {
   "cell_type": "code",
   "execution_count": 17,
   "metadata": {},
   "outputs": [
    {
     "name": "stdout",
     "output_type": "stream",
     "text": [
      "Dialect: \"escaped\"\n",
      "In: col1,1,10/01/2010,Special chars \\\" ' \\, to parse\n",
      "Parsed:\n",
      "  'col1'\n",
      "  '1'\n",
      "  '10/01/2010'\n",
      "  'Special chars \\\\\" \\' \\\\'\n",
      "  ' to parse'\n",
      "\n",
      "Dialect: \"excel\"\n",
      "In: col1,1,10/01/2010,\"Special chars \"\" ' , to parse\"\n",
      "Parsed:\n",
      "  'col1'\n",
      "  '1'\n",
      "  '10/01/2010'\n",
      "  'Special chars \" \\' , to parse'\n",
      "\n",
      "Dialect: \"excel-tab\"\n",
      "In: col1\t1\t10/01/2010\t\"Special chars \"\" ' \t to parse\"\n",
      "Parsed:\n",
      "  'col1'\n",
      "  '1'\n",
      "  '10/01/2010'\n",
      "  'Special chars \" \\' \\t to parse'\n",
      "\n",
      "Dialect: \"singlequote\"\n",
      "In: 'col1','1','10/01/2010','Special chars \" '' , to parse'\n",
      "Parsed:\n",
      "  'col1'\n",
      "  '1'\n",
      "  '10/01/2010'\n",
      "  'Special chars \" \\' , to parse'\n",
      "\n",
      "Dialect: \"unix\"\n",
      "In: \"col1\",\"1\",\"10/01/2010\",\"Special chars \"\" ' , to parse\"\n",
      "Parsed:\n",
      "  'col1'\n",
      "  '1'\n",
      "  '10/01/2010'\n",
      "  'Special chars \" \\' , to parse'\n",
      "\n"
     ]
    }
   ],
   "source": [
    "\n",
    "import csv\n",
    "from io import StringIO\n",
    "import textwrap\n",
    "\n",
    "csv.register_dialect('escaped',\n",
    "                     escapechar='\\\\',\n",
    "                     doublequote=False,\n",
    "                     quoting=csv.QUOTE_NONE)\n",
    "csv.register_dialect('singlequote',\n",
    "                     quotechar=\"'\",\n",
    "                     quoting=csv.QUOTE_ALL)\n",
    "\n",
    "# Generate sample data for all known dialects\n",
    "samples = []\n",
    "for name in sorted(csv.list_dialects()):\n",
    "    buffer = StringIO()\n",
    "    dialect = csv.get_dialect(name)\n",
    "    writer = csv.writer(buffer, dialect=dialect)\n",
    "    writer.writerow(\n",
    "        ('col1', 1, '10/01/2010',\n",
    "         'Special chars \" \\' {} to parse'.format(\n",
    "             dialect.delimiter))\n",
    "    )\n",
    "    samples.append((name, dialect, buffer.getvalue()))\n",
    "\n",
    "# Guess the dialect for a given sample, and then use the results\n",
    "# to parse the data.\n",
    "sniffer = csv.Sniffer()\n",
    "for name, expected, sample in samples:\n",
    "    print('Dialect: \"{}\"'.format(name))\n",
    "    print('In: {}'.format(sample.rstrip()))\n",
    "    dialect = sniffer.sniff(sample, delimiters=',\\t')\n",
    "    reader = csv.reader(StringIO(sample), dialect=dialect)\n",
    "    print('Parsed:\\n  {}\\n'.format(\n",
    "          '\\n  '.join(repr(r) for r in next(reader))))\n"
   ]
  },
  {
   "cell_type": "markdown",
   "metadata": {},
   "source": [
    "## Using field name: DictReader/DictWriter"
   ]
  },
  {
   "cell_type": "markdown",
   "metadata": {},
   "source": [
    "translate rows to dictionaries instead of lists"
   ]
  },
  {
   "cell_type": "markdown",
   "metadata": {},
   "source": [
    "### DictReader\n",
    "```\n",
    "csv.DictReader(csvfile, fieldnames=None, restkey=None, restval=None, dialect=’excel’, *args, **kwds)\n",
    "```"
   ]
  },
  {
   "cell_type": "code",
   "execution_count": 21,
   "metadata": {},
   "outputs": [
    {
     "name": "stdout",
     "output_type": "stream",
     "text": [
      "OrderedDict([('title', 'a'), ('number', '2'), ('price', '5.0')])\n",
      "OrderedDict([('title', 'b'), ('number', '89'), ('price', '9.9')])\n",
      "OrderedDict([('title', 'c'), ('number', '78'), ('price', '12.0')])\n"
     ]
    }
   ],
   "source": [
    "with open(\"data/csv_data.csv\",'r') as f:\n",
    "    reader = csv.DictReader(f)\n",
    "    for row in reader:\n",
    "        print(row)"
   ]
  },
  {
   "cell_type": "markdown",
   "metadata": {},
   "source": [
    "### DictWriter\n",
    "```\n",
    "csv.DictWriter(csvfile, fieldnames, restval=”, extrasaction=’raise’, dialect=’excel’, *args, **kwds)\n",
    "```"
   ]
  },
  {
   "cell_type": "markdown",
   "metadata": {},
   "source": [
    "**Note**:\n",
    "The writer must be given a list of field names so it knows how to order the columns in the output."
   ]
  },
  {
   "cell_type": "code",
   "execution_count": 22,
   "metadata": {
    "collapsed": true
   },
   "outputs": [],
   "source": [
    "with open('data/csv_dict_writer.csv', 'w') as csvfile:\n",
    "    fieldnames = ['first_name', 'last_name']\n",
    "    writer = csv.DictWriter(csvfile, fieldnames=fieldnames)\n",
    "\n",
    "    writer.writeheader()\n",
    "    writer.writerow({'first_name': 'Baked', 'last_name': 'Beans'})\n",
    "    writer.writerow({'first_name': 'Lovely', 'last_name': 'Spam'})\n",
    "    writer.writerow({'first_name': 'Wonderful', 'last_name': 'Spam'})"
   ]
  },
  {
   "cell_type": "code",
   "execution_count": null,
   "metadata": {
    "collapsed": true
   },
   "outputs": [],
   "source": [
    "# %load data/csv_dict_writer.csv\n",
    "first_name,last_name\n",
    "Baked,Beans\n",
    "Lovely,Spam\n",
    "Wonderful,Spam\n"
   ]
  },
  {
   "cell_type": "markdown",
   "metadata": {},
   "source": [
    "## Quoting"
   ]
  },
  {
   "cell_type": "markdown",
   "metadata": {},
   "source": [
    "There are four different quoting options, defined as constants in the csv module.\n",
    "\n",
    "* QUOTE_ALL\n",
    "Quote everything, regardless of type.\n",
    "* QUOTE_MINIMAL\n",
    "Quote fields with special characters (anything that would confuse a parser configured with the same dialect and options). This is the default\n",
    "* QUOTE_NONNUMERIC\n",
    "Quote all fields that are not integers or floats. When used with the reader, input fields that are not quoted are converted to floats.\n",
    "* QUOTE_NONE\n",
    "Do not quote anything on output. When used with the reader, quote characters are included in the field values (normally, they are treated as delimiters and stripped)."
   ]
  },
  {
   "cell_type": "code",
   "execution_count": null,
   "metadata": {
    "collapsed": true
   },
   "outputs": [],
   "source": []
  }
 ],
 "metadata": {
  "kernelspec": {
   "display_name": "Python 3",
   "language": "python",
   "name": "python3"
  },
  "language_info": {
   "codemirror_mode": {
    "name": "ipython",
    "version": 3
   },
   "file_extension": ".py",
   "mimetype": "text/x-python",
   "name": "python",
   "nbconvert_exporter": "python",
   "pygments_lexer": "ipython3",
   "version": "3.6.1"
  }
 },
 "nbformat": 4,
 "nbformat_minor": 2
}
