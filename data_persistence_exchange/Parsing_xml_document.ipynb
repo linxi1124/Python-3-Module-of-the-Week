{
 "cells": [
  {
   "cell_type": "markdown",
   "metadata": {},
   "source": [
    "Example xml file:"
   ]
  },
  {
   "cell_type": "markdown",
   "metadata": {},
   "source": [
    "```\n",
    "<?xml version=\"1.0\" encoding=\"UTF-8\"?>\n",
    "<opml version=\"1.0\">\n",
    "<head>\n",
    "    <title>My Podcasts</title>\n",
    "    <dateCreated>Sat, 06 Aug 2016 15:53:26 GMT</dateCreated>\n",
    "    <dateModified>Sat, 06 Aug 2016 15:53:26 GMT</dateModified>\n",
    "</head>\n",
    "<body>\n",
    "  <outline text=\"Non-tech\">\n",
    "    <outline\n",
    "        text=\"99% Invisible\" type=\"rss\"\n",
    "        xmlUrl=\"http://feeds.99percentinvisible.org/99percentinvisible\"\n",
    "        htmlUrl=\"http://99percentinvisible.org\" />\n",
    "  </outline>\n",
    "  <outline text=\"Python\">\n",
    "    <outline\n",
    "        text=\"Talk Python to Me\" type=\"rss\"\n",
    "        xmlUrl=\"https://talkpython.fm/episodes/rss\"\n",
    "        htmlUrl=\"https://talkpython.fm\" />\n",
    "    <outline\n",
    "        text=\"Podcast.__init__\" type=\"rss\"\n",
    "        xmlUrl=\"http://podcastinit.podbean.com/feed/\"\n",
    "        htmlUrl=\"http://podcastinit.com\" />\n",
    "  </outline>\n",
    "</body>\n",
    "</opml>\n",
    "```"
   ]
  },
  {
   "cell_type": "markdown",
   "metadata": {},
   "source": [
    "To parse the file, pass an open file handle to parse()"
   ]
  },
  {
   "cell_type": "code",
   "execution_count": 3,
   "metadata": {},
   "outputs": [
    {
     "name": "stdout",
     "output_type": "stream",
     "text": [
      "<xml.etree.ElementTree.ElementTree object at 0x7f403026aef0>\n"
     ]
    }
   ],
   "source": [
    "from xml.etree import ElementTree\n",
    "\n",
    "with open('podcasts.opml', 'rt') as f:\n",
    "    tree = ElementTree.parse(f)\n",
    "    \n",
    "print(tree)"
   ]
  },
  {
   "cell_type": "markdown",
   "metadata": {},
   "source": [
    "## Traversing the parsed tree"
   ]
  },
  {
   "cell_type": "markdown",
   "metadata": {},
   "source": [
    "To visit all the children in order, user `iter()` to create a generator that iterates over the `ElementTree` instance."
   ]
  },
  {
   "cell_type": "code",
   "execution_count": 4,
   "metadata": {},
   "outputs": [
    {
     "name": "stdout",
     "output_type": "stream",
     "text": [
      "opml\n",
      "head\n",
      "title\n",
      "dateCreated\n",
      "dateModified\n",
      "body\n",
      "outline\n",
      "outline\n",
      "outline\n",
      "outline\n",
      "outline\n"
     ]
    }
   ],
   "source": [
    "from xml.etree import ElementTree\n",
    "import pprint\n",
    "\n",
    "with open('podcasts.opml', 'rt') as f:\n",
    "    tree = ElementTree.parse(f)\n",
    "    \n",
    "for node in tree.iter():\n",
    "    print(node.tag)"
   ]
  },
  {
   "cell_type": "markdown",
   "metadata": {},
   "source": [
    "To print only the groups of names and feed URL for the podcasts, leaving out all of the data in the header section by iterating over only the outline nodes and print the text and xmlURL attributes by looking up the values in the attrib dictionary"
   ]
  },
  {
   "cell_type": "code",
   "execution_count": 5,
   "metadata": {},
   "outputs": [
    {
     "name": "stdout",
     "output_type": "stream",
     "text": [
      "Non-tech\n",
      "  99% Invisible\n",
      "    http://feeds.99percentinvisible.org/99percentinvisible\n",
      "Python\n",
      "  Talk Python to Me\n",
      "    https://talkpython.fm/episodes/rss\n",
      "  Podcast.__init__\n",
      "    http://podcastinit.podbean.com/feed/\n"
     ]
    }
   ],
   "source": [
    "from xml.etree import ElementTree\n",
    "\n",
    "with open('podcasts.opml', 'rt') as f:\n",
    "    tree = ElementTree.parse(f)\n",
    "\n",
    "for node in tree.iter('outline'):\n",
    "    name = node.attrib.get('text')\n",
    "    url = node.attrib.get('xmlUrl')\n",
    "    if name and url:\n",
    "        print('  %s' % name)\n",
    "        print('    %s' % url)\n",
    "    else:\n",
    "        print(name)"
   ]
  },
  {
   "cell_type": "markdown",
   "metadata": {},
   "source": [
    "## Finding Nodes in a Documents"
   ]
  },
  {
   "cell_type": "markdown",
   "metadata": {},
   "source": [
    "Walking the entire tree like this, searching for relevant nodes, can be error prone. The previous example had to look at each outline node to determine if it was a group (nodes with only a text attribute) or podcast (with both text and xmlUrl). To produce a simple list of the podcast feed URLs, without names or groups, the logic could be simplified using findall() to look for nodes with more descriptive search characteristics.\n",
    "\n"
   ]
  },
  {
   "cell_type": "markdown",
   "metadata": {},
   "source": [
    "As a first pass at converting the first version, an XPath argument can be used to look for all outline nodes."
   ]
  },
  {
   "cell_type": "code",
   "execution_count": 6,
   "metadata": {},
   "outputs": [
    {
     "name": "stdout",
     "output_type": "stream",
     "text": [
      "http://feeds.99percentinvisible.org/99percentinvisible\n",
      "https://talkpython.fm/episodes/rss\n",
      "http://podcastinit.podbean.com/feed/\n"
     ]
    }
   ],
   "source": [
    "from xml.etree import ElementTree\n",
    "\n",
    "with open('podcasts.opml', 'rt') as f:\n",
    "    tree = ElementTree.parse(f)\n",
    "\n",
    "for node in tree.findall('.//outline'):\n",
    "    url = node.attrib.get('xmlUrl')\n",
    "    if url:\n",
    "        print(url)"
   ]
  },
  {
   "cell_type": "markdown",
   "metadata": {},
   "source": [
    "It is possible to take advantage of the fact that the outline nodes are only nested two levels deep. Changing the search path to .//outline/outline means the loop will process only the second level of outline nodes.\n",
    "\n"
   ]
  },
  {
   "cell_type": "code",
   "execution_count": 7,
   "metadata": {},
   "outputs": [
    {
     "name": "stdout",
     "output_type": "stream",
     "text": [
      "http://feeds.99percentinvisible.org/99percentinvisible\n",
      "https://talkpython.fm/episodes/rss\n",
      "http://podcastinit.podbean.com/feed/\n"
     ]
    }
   ],
   "source": [
    "from xml.etree import ElementTree\n",
    "\n",
    "with open('podcasts.opml', 'rt') as f:\n",
    "    tree = ElementTree.parse(f)\n",
    "\n",
    "for node in tree.findall('.//outline/outline'):\n",
    "    url = node.attrib.get('xmlUrl')\n",
    "    print(url)"
   ]
  },
  {
   "cell_type": "markdown",
   "metadata": {},
   "source": [
    "## Parsed Node Attributes"
   ]
  },
  {
   "cell_type": "markdown",
   "metadata": {},
   "source": [
    "The items returned by findall() and iter() are Element objects, each representing a node in the XML parse tree. Each Element has attributes for accessing data pulled out of the XML. This can be illustrated with a somewhat more contrived example input file, data.xml."
   ]
  },
  {
   "cell_type": "markdown",
   "metadata": {},
   "source": [
    "```\n",
    "<?xml version=\"1.0\" encoding=\"UTF-8\"?>\n",
    "<top>\n",
    "  <child>Regular text.</child>\n",
    "  <child_with_tail>Regular text.</child_with_tail>\"Tail\" text.\n",
    "  <with_attributes name=\"value\" foo=\"bar\" />\n",
    "  <entity_expansion attribute=\"This &#38; That\">\n",
    "    That &#38; This\n",
    "  </entity_expansion>\n",
    "</top>\n",
    "```"
   ]
  },
  {
   "cell_type": "code",
   "execution_count": 9,
   "metadata": {},
   "outputs": [
    {
     "name": "stdout",
     "output_type": "stream",
     "text": [
      "with_attributes\n",
      "  foo  = \"bar\"\n",
      "  name = \"value\"\n"
     ]
    }
   ],
   "source": [
    "from xml.etree import ElementTree\n",
    "\n",
    "with open('data.xml', 'rt') as f:\n",
    "    tree = ElementTree.parse(f)\n",
    "\n",
    "node = tree.find('./with_attributes')\n",
    "print(node.tag)\n",
    "for name, value in sorted(node.attrib.items()):\n",
    "    print('  %-4s = \"%s\"' % (name, value))"
   ]
  },
  {
   "cell_type": "markdown",
   "metadata": {},
   "source": [
    "The text content of the nodes is available, along with the tail text, which comes after the end of a close tag.\n",
    "\n"
   ]
  },
  {
   "cell_type": "code",
   "execution_count": 10,
   "metadata": {},
   "outputs": [
    {
     "name": "stdout",
     "output_type": "stream",
     "text": [
      "child\n",
      "  child node text: Regular text.\n",
      "  and tail text  : \n",
      "  \n",
      "child_with_tail\n",
      "  child node text: Regular text.\n",
      "  and tail text  : \"Tail\" text.\n",
      "  \n"
     ]
    }
   ],
   "source": [
    "from xml.etree import ElementTree\n",
    "\n",
    "with open('data.xml', 'rt') as f:\n",
    "    tree = ElementTree.parse(f)\n",
    "\n",
    "for path in ['./child', './child_with_tail']:\n",
    "    node = tree.find(path)\n",
    "    print(node.tag)\n",
    "    print('  child node text:', node.text)\n",
    "    print('  and tail text  :', node.tail)"
   ]
  },
  {
   "cell_type": "markdown",
   "metadata": {},
   "source": [
    "XML entity references embedded in the document are converted to the appropriate characters before values are returned."
   ]
  },
  {
   "cell_type": "code",
   "execution_count": 11,
   "metadata": {},
   "outputs": [
    {
     "name": "stdout",
     "output_type": "stream",
     "text": [
      "entity_expansion\n",
      "  in attribute: This & That\n",
      "  in text     : That & This\n"
     ]
    }
   ],
   "source": [
    "from xml.etree import ElementTree\n",
    "\n",
    "with open('data.xml', 'rt') as f:\n",
    "    tree = ElementTree.parse(f)\n",
    "\n",
    "node = tree.find('entity_expansion')\n",
    "print(node.tag)\n",
    "print('  in attribute:', node.attrib['attribute'])\n",
    "print('  in text     :', node.text.strip())"
   ]
  },
  {
   "cell_type": "markdown",
   "metadata": {},
   "source": [
    "## Watching Events While Parsing"
   ]
  },
  {
   "cell_type": "code",
   "execution_count": null,
   "metadata": {
    "collapsed": true
   },
   "outputs": [],
   "source": []
  }
 ],
 "metadata": {
  "kernelspec": {
   "display_name": "Python [default]",
   "language": "python",
   "name": "python3"
  },
  "language_info": {
   "codemirror_mode": {
    "name": "ipython",
    "version": 3
   },
   "file_extension": ".py",
   "mimetype": "text/x-python",
   "name": "python",
   "nbconvert_exporter": "python",
   "pygments_lexer": "ipython3",
   "version": "3.6.1"
  }
 },
 "nbformat": 4,
 "nbformat_minor": 2
}
