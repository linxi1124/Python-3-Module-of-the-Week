{
 "cells": [
  {
   "cell_type": "markdown",
   "metadata": {},
   "source": [
    "Example xml file:"
   ]
  },
  {
   "cell_type": "markdown",
   "metadata": {},
   "source": [
    "```\n",
    "<?xml version=\"1.0\" encoding=\"UTF-8\"?>\n",
    "<opml version=\"1.0\">\n",
    "<head>\n",
    "    <title>My Podcasts</title>\n",
    "    <dateCreated>Sat, 06 Aug 2016 15:53:26 GMT</dateCreated>\n",
    "    <dateModified>Sat, 06 Aug 2016 15:53:26 GMT</dateModified>\n",
    "</head>\n",
    "<body>\n",
    "  <outline text=\"Non-tech\">\n",
    "    <outline\n",
    "        text=\"99% Invisible\" type=\"rss\"\n",
    "        xmlUrl=\"http://feeds.99percentinvisible.org/99percentinvisible\"\n",
    "        htmlUrl=\"http://99percentinvisible.org\" />\n",
    "  </outline>\n",
    "  <outline text=\"Python\">\n",
    "    <outline\n",
    "        text=\"Talk Python to Me\" type=\"rss\"\n",
    "        xmlUrl=\"https://talkpython.fm/episodes/rss\"\n",
    "        htmlUrl=\"https://talkpython.fm\" />\n",
    "    <outline\n",
    "        text=\"Podcast.__init__\" type=\"rss\"\n",
    "        xmlUrl=\"http://podcastinit.podbean.com/feed/\"\n",
    "        htmlUrl=\"http://podcastinit.com\" />\n",
    "  </outline>\n",
    "</body>\n",
    "</opml>\n",
    "```"
   ]
  },
  {
   "cell_type": "markdown",
   "metadata": {},
   "source": [
    "To parse the file, pass an open file handle to parse()"
   ]
  },
  {
   "cell_type": "code",
   "execution_count": 1,
   "metadata": {},
   "outputs": [
    {
     "name": "stdout",
     "output_type": "stream",
     "text": [
      "<xml.etree.ElementTree.ElementTree object at 0x7f1ad0070080>\n"
     ]
    }
   ],
   "source": [
    "from xml.etree import ElementTree\n",
    "\n",
    "with open('podcasts.opml', 'rt') as f:\n",
    "    tree = ElementTree.parse(f)\n",
    "    \n",
    "print(tree)"
   ]
  },
  {
   "cell_type": "markdown",
   "metadata": {},
   "source": [
    "## Traversing the parsed tree"
   ]
  },
  {
   "cell_type": "markdown",
   "metadata": {},
   "source": [
    "To visit all the children in order, user `iter()` to create a generator that iterates over the `ElementTree` instance."
   ]
  },
  {
   "cell_type": "code",
   "execution_count": 2,
   "metadata": {},
   "outputs": [
    {
     "name": "stdout",
     "output_type": "stream",
     "text": [
      "opml\n",
      "head\n",
      "title\n",
      "dateCreated\n",
      "dateModified\n",
      "body\n",
      "outline\n",
      "outline\n",
      "outline\n",
      "outline\n",
      "outline\n"
     ]
    }
   ],
   "source": [
    "from xml.etree import ElementTree\n",
    "import pprint\n",
    "\n",
    "with open('podcasts.opml', 'rt') as f:\n",
    "    tree = ElementTree.parse(f)\n",
    "    \n",
    "for node in tree.iter():\n",
    "    print(node.tag)"
   ]
  },
  {
   "cell_type": "markdown",
   "metadata": {},
   "source": [
    "To print only the groups of names and feed URL for the podcasts, leaving out all of the data in the header section by iterating over only the outline nodes and print the text and xmlURL attributes by looking up the values in the attrib dictionary"
   ]
  },
  {
   "cell_type": "code",
   "execution_count": 3,
   "metadata": {},
   "outputs": [
    {
     "name": "stdout",
     "output_type": "stream",
     "text": [
      "Non-tech\n",
      "  99% Invisible\n",
      "    http://feeds.99percentinvisible.org/99percentinvisible\n",
      "Python\n",
      "  Talk Python to Me\n",
      "    https://talkpython.fm/episodes/rss\n",
      "  Podcast.__init__\n",
      "    http://podcastinit.podbean.com/feed/\n"
     ]
    }
   ],
   "source": [
    "from xml.etree import ElementTree\n",
    "\n",
    "with open('podcasts.opml', 'rt') as f:\n",
    "    tree = ElementTree.parse(f)\n",
    "\n",
    "for node in tree.iter('outline'):\n",
    "    name = node.attrib.get('text')\n",
    "    url = node.attrib.get('xmlUrl')\n",
    "    if name and url:\n",
    "        print('  %s' % name)\n",
    "        print('    %s' % url)\n",
    "    else:\n",
    "        print(name)"
   ]
  },
  {
   "cell_type": "markdown",
   "metadata": {},
   "source": [
    "## Finding Nodes in a Documents"
   ]
  },
  {
   "cell_type": "markdown",
   "metadata": {},
   "source": [
    "Walking the entire tree like this, searching for relevant nodes, can be error prone. The previous example had to look at each outline node to determine if it was a group (nodes with only a text attribute) or podcast (with both text and xmlUrl). To produce a simple list of the podcast feed URLs, without names or groups, the logic could be simplified using findall() to look for nodes with more descriptive search characteristics.\n",
    "\n"
   ]
  },
  {
   "cell_type": "markdown",
   "metadata": {},
   "source": [
    "As a first pass at converting the first version, an XPath argument can be used to look for all outline nodes."
   ]
  },
  {
   "cell_type": "code",
   "execution_count": 4,
   "metadata": {},
   "outputs": [
    {
     "name": "stdout",
     "output_type": "stream",
     "text": [
      "http://feeds.99percentinvisible.org/99percentinvisible\n",
      "https://talkpython.fm/episodes/rss\n",
      "http://podcastinit.podbean.com/feed/\n"
     ]
    }
   ],
   "source": [
    "from xml.etree import ElementTree\n",
    "\n",
    "with open('podcasts.opml', 'rt') as f:\n",
    "    tree = ElementTree.parse(f)\n",
    "\n",
    "for node in tree.findall('.//outline'):\n",
    "    url = node.attrib.get('xmlUrl')\n",
    "    if url:\n",
    "        print(url)"
   ]
  },
  {
   "cell_type": "markdown",
   "metadata": {},
   "source": [
    "It is possible to take advantage of the fact that the outline nodes are only nested two levels deep. Changing the search path to .//outline/outline means the loop will process only the second level of outline nodes.\n",
    "\n"
   ]
  },
  {
   "cell_type": "code",
   "execution_count": 5,
   "metadata": {},
   "outputs": [
    {
     "name": "stdout",
     "output_type": "stream",
     "text": [
      "http://feeds.99percentinvisible.org/99percentinvisible\n",
      "https://talkpython.fm/episodes/rss\n",
      "http://podcastinit.podbean.com/feed/\n"
     ]
    }
   ],
   "source": [
    "from xml.etree import ElementTree\n",
    "\n",
    "with open('podcasts.opml', 'rt') as f:\n",
    "    tree = ElementTree.parse(f)\n",
    "\n",
    "for node in tree.findall('.//outline/outline'):\n",
    "    url = node.attrib.get('xmlUrl')\n",
    "    print(url)"
   ]
  },
  {
   "cell_type": "markdown",
   "metadata": {},
   "source": [
    "## Parsed Node Attributes"
   ]
  },
  {
   "cell_type": "markdown",
   "metadata": {},
   "source": [
    "The items returned by findall() and iter() are Element objects, each representing a node in the XML parse tree. Each Element has attributes for accessing data pulled out of the XML. This can be illustrated with a somewhat more contrived example input file, data.xml."
   ]
  },
  {
   "cell_type": "markdown",
   "metadata": {},
   "source": [
    "```\n",
    "<?xml version=\"1.0\" encoding=\"UTF-8\"?>\n",
    "<top>\n",
    "  <child>Regular text.</child>\n",
    "  <child_with_tail>Regular text.</child_with_tail>\"Tail\" text.\n",
    "  <with_attributes name=\"value\" foo=\"bar\" />\n",
    "  <entity_expansion attribute=\"This &#38; That\">\n",
    "    That &#38; This\n",
    "  </entity_expansion>\n",
    "</top>\n",
    "```"
   ]
  },
  {
   "cell_type": "code",
   "execution_count": 6,
   "metadata": {},
   "outputs": [
    {
     "name": "stdout",
     "output_type": "stream",
     "text": [
      "with_attributes\n",
      "  foo  = \"bar\"\n",
      "  name = \"value\"\n"
     ]
    }
   ],
   "source": [
    "from xml.etree import ElementTree\n",
    "\n",
    "with open('data.xml', 'rt') as f:\n",
    "    tree = ElementTree.parse(f)\n",
    "\n",
    "node = tree.find('./with_attributes')\n",
    "print(node.tag)\n",
    "for name, value in sorted(node.attrib.items()):\n",
    "    print('  %-4s = \"%s\"' % (name, value))"
   ]
  },
  {
   "cell_type": "markdown",
   "metadata": {},
   "source": [
    "The text content of the nodes is available, along with the tail text, which comes after the end of a close tag.\n",
    "\n"
   ]
  },
  {
   "cell_type": "code",
   "execution_count": 7,
   "metadata": {},
   "outputs": [
    {
     "name": "stdout",
     "output_type": "stream",
     "text": [
      "child\n",
      "  child node text: Regular text.\n",
      "  and tail text  : \n",
      "  \n",
      "child_with_tail\n",
      "  child node text: Regular text.\n",
      "  and tail text  : \"Tail\" text.\n",
      "  \n"
     ]
    }
   ],
   "source": [
    "from xml.etree import ElementTree\n",
    "\n",
    "with open('data.xml', 'rt') as f:\n",
    "    tree = ElementTree.parse(f)\n",
    "\n",
    "for path in ['./child', './child_with_tail']:\n",
    "    node = tree.find(path)\n",
    "    print(node.tag)\n",
    "    print('  child node text:', node.text)\n",
    "    print('  and tail text  :', node.tail)"
   ]
  },
  {
   "cell_type": "markdown",
   "metadata": {},
   "source": [
    "XML entity references embedded in the document are converted to the appropriate characters before values are returned."
   ]
  },
  {
   "cell_type": "code",
   "execution_count": 8,
   "metadata": {},
   "outputs": [
    {
     "name": "stdout",
     "output_type": "stream",
     "text": [
      "entity_expansion\n",
      "  in attribute: This & That\n",
      "  in text     : That & This\n"
     ]
    }
   ],
   "source": [
    "from xml.etree import ElementTree\n",
    "\n",
    "with open('data.xml', 'rt') as f:\n",
    "    tree = ElementTree.parse(f)\n",
    "\n",
    "node = tree.find('entity_expansion')\n",
    "print(node.tag)\n",
    "print('  in attribute:', node.attrib['attribute'])\n",
    "print('  in text     :', node.text.strip())"
   ]
  },
  {
   "cell_type": "markdown",
   "metadata": {},
   "source": [
    "## Watching Events While Parsing"
   ]
  },
  {
   "cell_type": "markdown",
   "metadata": {
    "collapsed": true
   },
   "source": [
    "The other API for processing XML documents is event-based. The parser generates start events for opening tags and end events for closing tags. Data can be extracted from the document during the parsing phase by iterating over the event stream, which is convenient if it is not necessary to manipulate the entire document afterwards and there is no need to hold the entire parsed document in memory.\n",
    "\n"
   ]
  },
  {
   "cell_type": "markdown",
   "metadata": {},
   "source": [
    "Events can be one of:\n",
    "\n",
    "* start    \n",
    "    A new tag has been encountered. The closing angle bracket of the tag was processed, but not the contents.\n",
    "* end    \n",
    "     The closing angle bracket of a closing tag has been processed. All of the children were already processed.\n",
    "* start-ns    \n",
    "    Start a namespace declaration.\n",
    "* end-ns    \n",
    "    End a namespace declaration."
   ]
  },
  {
   "cell_type": "code",
   "execution_count": 9,
   "metadata": {},
   "outputs": [
    {
     "name": "stdout",
     "output_type": "stream",
     "text": [
      "start            opml         139753017928664\n",
      "..start          head         139753153420008\n",
      "....start        title        139753153420648\n",
      "....end          title        139753153420648\n",
      "....start        dateCreated  139753017964248\n",
      "....end          dateCreated  139753017964248\n",
      "....start        dateModified 139753017963768\n",
      "....end          dateModified 139753017963768\n",
      "..end            head         139753153420008\n",
      "..start          body         139753017963288\n",
      "....start        outline      139753017963128\n",
      "......start      outline      139753017962968\n",
      "......end        outline      139753017962968\n",
      "....end          outline      139753017963128\n",
      "....start        outline      139753017962648\n",
      "......start      outline      139753017962808\n",
      "......end        outline      139753017962808\n",
      "......start      outline      139753017962728\n",
      "......end        outline      139753017962728\n",
      "....end          outline      139753017962648\n",
      "..end            body         139753017963288\n",
      "end              opml         139753017928664\n"
     ]
    }
   ],
   "source": [
    "from xml.etree.ElementTree import iterparse\n",
    "\n",
    "depth = 0\n",
    "prefix_width = 8\n",
    "prefix_dots = '.' * prefix_width\n",
    "line_template = ''.join([\n",
    "    '{prefix:<0.{prefix_len}}',\n",
    "    '{event:<8}',\n",
    "    '{suffix:<{suffix_len}} ',\n",
    "    '{node.tag:<12} ',\n",
    "    '{node_id}',\n",
    "])\n",
    "\n",
    "EVENT_NAMES = ['start', 'end', 'start-ns', 'end-ns']\n",
    "\n",
    "for (event, node) in iterparse('podcasts.opml', EVENT_NAMES):\n",
    "    if event == 'end':\n",
    "        depth -= 1\n",
    "\n",
    "    prefix_len = depth * 2\n",
    "\n",
    "    print(line_template.format(\n",
    "        prefix=prefix_dots,\n",
    "        prefix_len=prefix_len,\n",
    "        suffix='',\n",
    "        suffix_len=(prefix_width - prefix_len),\n",
    "        node=node,\n",
    "        node_id=id(node),\n",
    "        event=event,\n",
    "    ))\n",
    "\n",
    "    if event == 'start':\n",
    "        depth += 1\n"
   ]
  },
  {
   "cell_type": "markdown",
   "metadata": {},
   "source": [
    "The event-style of processing is more natural for some operations, such as converting XML input to some other format. This technique can be used to convert list of podcasts from the earlier examples from an XML file to a CSV file, so they can be loaded into a spreadsheet or database application."
   ]
  },
  {
   "cell_type": "code",
   "execution_count": 10,
   "metadata": {},
   "outputs": [
    {
     "name": "stdout",
     "output_type": "stream",
     "text": [
      "\"Non-tech\",\"99% Invisible\",\"http://feeds.99percentinvisible.org/99percentinvisible\",\"http://99percentinvisible.org\"\r\n",
      "\"Python\",\"Talk Python to Me\",\"https://talkpython.fm/episodes/rss\",\"https://talkpython.fm\"\r\n",
      "\"Python\",\"Podcast.__init__\",\"http://podcastinit.podbean.com/feed/\",\"http://podcastinit.com\"\r\n"
     ]
    }
   ],
   "source": [
    "import csv\n",
    "from xml.etree.ElementTree import iterparse\n",
    "import sys\n",
    "\n",
    "writer = csv.writer(sys.stdout, quoting=csv.QUOTE_NONNUMERIC)\n",
    "\n",
    "group_name = ''\n",
    "\n",
    "parsing = iterparse('podcasts.opml', events=['start'])\n",
    "\n",
    "for (event, node) in parsing:\n",
    "    if node.tag != 'outline':\n",
    "        # Ignore anything not part of the outline\n",
    "        continue\n",
    "    if not node.attrib.get('xmlUrl'):\n",
    "        # Remember the current group\n",
    "        group_name = node.attrib['text']\n",
    "    else:\n",
    "        # Output a podcast entry\n",
    "        writer.writerow(\n",
    "            (group_name, node.attrib['text'],\n",
    "             node.attrib['xmlUrl'],\n",
    "             node.attrib.get('htmlUrl', ''))\n",
    "        )"
   ]
  },
  {
   "cell_type": "markdown",
   "metadata": {},
   "source": [
    "## Parsing Strings"
   ]
  },
  {
   "cell_type": "markdown",
   "metadata": {},
   "source": [
    "To work with smaller bits of XML text, especially string literals that might be embedded in the source of a program, use XML() and the string containing the XML to be parsed as the only argument."
   ]
  },
  {
   "cell_type": "code",
   "execution_count": 12,
   "metadata": {},
   "outputs": [
    {
     "name": "stdout",
     "output_type": "stream",
     "text": [
      "parsed = <Element 'root' at 0x7f1ac8fec138>\n",
      "group\n",
      "child\n",
      "  text: \"This is child \"a\".\"\n",
      "  id   = \"a\"\n",
      "child\n",
      "  text: \"This is child \"b\".\"\n",
      "  id   = \"b\"\n",
      "group\n",
      "child\n",
      "  text: \"This is child \"c\".\"\n",
      "  id   = \"c\"\n"
     ]
    }
   ],
   "source": [
    "from xml.etree.ElementTree import XML\n",
    "\n",
    "\n",
    "def show_node(node):\n",
    "    print(node.tag)\n",
    "    if node.text is not None and node.text.strip():\n",
    "        print('  text: \"%s\"' % node.text)\n",
    "    if node.tail is not None and node.tail.strip():\n",
    "        print('  tail: \"%s\"' % node.tail)\n",
    "    for name, value in sorted(node.attrib.items()):\n",
    "        print('  %-4s = \"%s\"' % (name, value))\n",
    "    for child in node:\n",
    "        show_node(child)\n",
    "\n",
    "\n",
    "parsed = XML('''\n",
    "<root>\n",
    "  <group>\n",
    "    <child id=\"a\">This is child \"a\".</child>\n",
    "    <child id=\"b\">This is child \"b\".</child>\n",
    "  </group>\n",
    "  <group>\n",
    "    <child id=\"c\">This is child \"c\".</child>\n",
    "  </group>\n",
    "</root>\n",
    "''')\n",
    "\n",
    "print('parsed =', parsed)\n",
    "\n",
    "for elem in parsed:\n",
    "    show_node(elem)"
   ]
  },
  {
   "cell_type": "markdown",
   "metadata": {},
   "source": [
    "For structured XML that uses the id attribute to identify unique nodes of interest, XMLID() is a convenient way to access the parse results.\n",
    "\n",
    "XMLID() returns the parsed tree as an Element object, along with a dictionary mapping the id attribute strings to the individual nodes in the tree.\n",
    "\n",
    "\n"
   ]
  },
  {
   "cell_type": "code",
   "execution_count": 13,
   "metadata": {},
   "outputs": [
    {
     "name": "stdout",
     "output_type": "stream",
     "text": [
      "a = <Element 'child' at 0x7f1ac8fdfc78>\n",
      "b = <Element 'child' at 0x7f1ac8fdfae8>\n",
      "c = <Element 'child' at 0x7f1ac8fdfbd8>\n"
     ]
    }
   ],
   "source": [
    "\n",
    "from xml.etree.ElementTree import XMLID\n",
    "\n",
    "tree, id_map = XMLID('''\n",
    "<root>\n",
    "  <group>\n",
    "    <child id=\"a\">This is child \"a\".</child>\n",
    "    <child id=\"b\">This is child \"b\".</child>\n",
    "  </group>\n",
    "  <group>\n",
    "    <child id=\"c\">This is child \"c\".</child>\n",
    "  </group>\n",
    "</root>\n",
    "''')\n",
    "\n",
    "for key, value in sorted(id_map.items()):\n",
    "    print('%s = %s' % (key, value))"
   ]
  },
  {
   "cell_type": "code",
   "execution_count": null,
   "metadata": {
    "collapsed": true
   },
   "outputs": [],
   "source": []
  }
 ],
 "metadata": {
  "kernelspec": {
   "display_name": "Python 3",
   "language": "python",
   "name": "python3"
  },
  "language_info": {
   "codemirror_mode": {
    "name": "ipython",
    "version": 3
   },
   "file_extension": ".py",
   "mimetype": "text/x-python",
   "name": "python",
   "nbconvert_exporter": "python",
   "pygments_lexer": "ipython3",
   "version": "3.6.1"
  }
 },
 "nbformat": 4,
 "nbformat_minor": 2
}
