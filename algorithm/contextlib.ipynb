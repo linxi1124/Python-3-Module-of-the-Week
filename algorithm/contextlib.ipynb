{
 "cells": [
  {
   "cell_type": "markdown",
   "metadata": {},
   "source": [
    "The `contextlib` module contains utilities for working with context managers and the with statement."
   ]
  },
  {
   "cell_type": "markdown",
   "metadata": {},
   "source": [
    "## Context Manager API"
   ]
  },
  {
   "cell_type": "markdown",
   "metadata": {},
   "source": [
    "A context manager is responsible for a resource within a code block, possibly creating it when the block is entered and then cleaning it up after the block is exited. For example, files support the context manager API to make it easy to ensure they are closed after all reading or writing is done."
   ]
  },
  {
   "cell_type": "code",
   "execution_count": 4,
   "metadata": {
    "collapsed": false
   },
   "outputs": [],
   "source": [
    "with open('tmp/pymotw.txt', 'wt') as f:\n",
    "    f.write('contents go here')"
   ]
  },
  {
   "cell_type": "markdown",
   "metadata": {},
   "source": [
    "A context manager is enabled by the with statement, and the API involves two methods. The `__enter__()` method is run when execution flow enters the code block inside the with. It returns an object to be used within the context. When execution flow leaves the with block, the `__exit__()` method of the context manager is called to clean up any resources being used."
   ]
  },
  {
   "cell_type": "code",
   "execution_count": 5,
   "metadata": {
    "collapsed": true
   },
   "outputs": [],
   "source": [
    "class Context:\n",
    "\n",
    "    def __init__(self):\n",
    "        print('__init__()')\n",
    "\n",
    "    def __enter__(self):\n",
    "        print('__enter__()')\n",
    "        return self\n",
    "\n",
    "    def __exit__(self, exc_type, exc_val, exc_tb):\n",
    "        print('__exit__()')"
   ]
  },
  {
   "cell_type": "code",
   "execution_count": 6,
   "metadata": {
    "collapsed": false
   },
   "outputs": [
    {
     "name": "stdout",
     "output_type": "stream",
     "text": [
      "__init__()\n",
      "__enter__()\n",
      "Doing work in the context\n",
      "__exit__()\n"
     ]
    }
   ],
   "source": [
    "with Context():\n",
    "    print('Doing work in the context')"
   ]
  },
  {
   "cell_type": "markdown",
   "metadata": {},
   "source": [
    "The `__enter__()` method can return any object to be associated with a name specified in the as clause of the with statement. In this example, the Context returns an object that uses the open context."
   ]
  },
  {
   "cell_type": "code",
   "execution_count": 7,
   "metadata": {
    "collapsed": false
   },
   "outputs": [
    {
     "name": "stdout",
     "output_type": "stream",
     "text": [
      "Context.__init__()\n",
      "Context.__enter__()\n",
      "WithinContext.__init__(<__main__.Context object at 0x0000021AA5A52C88>)\n",
      "WithinContext.do_something()\n",
      "Context.__exit__()\n"
     ]
    }
   ],
   "source": [
    "class WithinContext:\n",
    "\n",
    "    def __init__(self, context):\n",
    "        print('WithinContext.__init__({})'.format(context))\n",
    "\n",
    "    def do_something(self):\n",
    "        print('WithinContext.do_something()')\n",
    "\n",
    "    def __del__(self):\n",
    "        print('WithinContext.__del__')\n",
    "\n",
    "\n",
    "class Context:\n",
    "\n",
    "    def __init__(self):\n",
    "        print('Context.__init__()')\n",
    "\n",
    "    def __enter__(self):\n",
    "        print('Context.__enter__()')\n",
    "        return WithinContext(self)\n",
    "\n",
    "    def __exit__(self, exc_type, exc_val, exc_tb):\n",
    "        print('Context.__exit__()')\n",
    "\n",
    "\n",
    "with Context() as c:\n",
    "    c.do_something()"
   ]
  },
  {
   "cell_type": "markdown",
   "metadata": {},
   "source": [
    "The value associated with the variable c is the object returned by `__enter__()`, which is not necessarily the Context instance created in the with statement.\n",
    "\n"
   ]
  },
  {
   "cell_type": "markdown",
   "metadata": {},
   "source": [
    "The `__exit__()` method receives arguments containing details of any exception raised in the with block."
   ]
  },
  {
   "cell_type": "code",
   "execution_count": 8,
   "metadata": {
    "collapsed": false
   },
   "outputs": [
    {
     "name": "stdout",
     "output_type": "stream",
     "text": [
      "__init__(True)\n",
      "__enter__()\n",
      "__exit__()\n",
      "  exc_type = <class 'RuntimeError'>\n",
      "  exc_val  = error message handled\n",
      "  exc_tb   = <traceback object at 0x0000021AA5A6DA88>\n",
      "\n",
      "__init__(False)\n",
      "__enter__()\n",
      "__exit__()\n",
      "  exc_type = <class 'RuntimeError'>\n",
      "  exc_val  = error message propagated\n",
      "  exc_tb   = <traceback object at 0x0000021AA5A6DB08>\n"
     ]
    },
    {
     "ename": "RuntimeError",
     "evalue": "error message propagated",
     "output_type": "error",
     "traceback": [
      "\u001b[1;31m---------------------------------------------------------------------------\u001b[0m",
      "\u001b[1;31mRuntimeError\u001b[0m                              Traceback (most recent call last)",
      "\u001b[1;32m<ipython-input-8-c2f64363f95f>\u001b[0m in \u001b[0;36m<module>\u001b[1;34m()\u001b[0m\n\u001b[0;32m     23\u001b[0m \u001b[1;33m\u001b[0m\u001b[0m\n\u001b[0;32m     24\u001b[0m \u001b[1;32mwith\u001b[0m \u001b[0mContext\u001b[0m\u001b[1;33m(\u001b[0m\u001b[1;32mFalse\u001b[0m\u001b[1;33m)\u001b[0m\u001b[1;33m:\u001b[0m\u001b[1;33m\u001b[0m\u001b[0m\n\u001b[1;32m---> 25\u001b[1;33m     \u001b[1;32mraise\u001b[0m \u001b[0mRuntimeError\u001b[0m\u001b[1;33m(\u001b[0m\u001b[1;34m'error message propagated'\u001b[0m\u001b[1;33m)\u001b[0m\u001b[1;33m\u001b[0m\u001b[0m\n\u001b[0m",
      "\u001b[1;31mRuntimeError\u001b[0m: error message propagated"
     ]
    }
   ],
   "source": [
    "class Context:\n",
    "\n",
    "    def __init__(self, handle_error):\n",
    "        print('__init__({})'.format(handle_error))\n",
    "        self.handle_error = handle_error\n",
    "\n",
    "    def __enter__(self):\n",
    "        print('__enter__()')\n",
    "        return self\n",
    "\n",
    "    def __exit__(self, exc_type, exc_val, exc_tb):\n",
    "        print('__exit__()')\n",
    "        print('  exc_type =', exc_type)\n",
    "        print('  exc_val  =', exc_val)\n",
    "        print('  exc_tb   =', exc_tb)\n",
    "        return self.handle_error\n",
    "\n",
    "\n",
    "with Context(True):\n",
    "    raise RuntimeError('error message handled')\n",
    "\n",
    "print()\n",
    "\n",
    "with Context(False):\n",
    "    raise RuntimeError('error message propagated')"
   ]
  },
  {
   "cell_type": "markdown",
   "metadata": {},
   "source": [
    "If the context manager can handle the exception, `__exit__()` should return a true value to indicate that the exception does not need to be propagated. Returning false causes the exception to be re-raised after `__exit__()` returns."
   ]
  },
  {
   "cell_type": "markdown",
   "metadata": {},
   "source": [
    "## Context Managers as Function Decorators"
   ]
  },
  {
   "cell_type": "markdown",
   "metadata": {},
   "source": [
    "The class ContextDecorator adds support to regular context manager classes to let them be used as function decorators as well as context managers."
   ]
  },
  {
   "cell_type": "code",
   "execution_count": 9,
   "metadata": {
    "collapsed": false
   },
   "outputs": [
    {
     "name": "stdout",
     "output_type": "stream",
     "text": [
      "__init__(as decorator)\n",
      "\n",
      "__init__(as context manager)\n",
      "__enter__(as context manager)\n",
      "Doing work in the context\n",
      "__exit__(as context manager)\n",
      "\n",
      "__enter__(as decorator)\n",
      "Doing work in the wrapped function\n",
      "__exit__(as decorator)\n"
     ]
    }
   ],
   "source": [
    "import contextlib\n",
    "\n",
    "\n",
    "class Context(contextlib.ContextDecorator):\n",
    "\n",
    "    def __init__(self, how_used):\n",
    "        self.how_used = how_used\n",
    "        print('__init__({})'.format(how_used))\n",
    "\n",
    "    def __enter__(self):\n",
    "        print('__enter__({})'.format(self.how_used))\n",
    "        return self\n",
    "\n",
    "    def __exit__(self, exc_type, exc_val, exc_tb):\n",
    "        print('__exit__({})'.format(self.how_used))\n",
    "\n",
    "\n",
    "@Context('as decorator')\n",
    "def func(message):\n",
    "    print(message)\n",
    "\n",
    "\n",
    "print()\n",
    "with Context('as context manager'):\n",
    "    print('Doing work in the context')\n",
    "\n",
    "print()\n",
    "func('Doing work in the wrapped function')"
   ]
  },
  {
   "cell_type": "markdown",
   "metadata": {},
   "source": [
    "One difference with using the context manager as a decorator is that the value returned by __enter__() is not available inside the function being decorated, unlike when using with and as. Arguments passed to the decorated function are available in the usual way."
   ]
  },
  {
   "cell_type": "markdown",
   "metadata": {},
   "source": [
    "## From Generator to Context Manager"
   ]
  },
  {
   "cell_type": "markdown",
   "metadata": {},
   "source": [
    "Creating context managers the traditional way, by writing a class with `__enter__()` and `__exit__()` methods, is not difficult. But sometimes writing everything out fully is extra overhead for a trivial bit of context. In those sorts of situations, use the `contextmanager()` decorator to convert a **generator function** into a context **manager**.\n",
    "\n"
   ]
  },
  {
   "cell_type": "code",
   "execution_count": 10,
   "metadata": {
    "collapsed": false
   },
   "outputs": [
    {
     "name": "stdout",
     "output_type": "stream",
     "text": [
      "Normal:\n",
      "  entering\n",
      "  inside with statement: {}\n",
      "  exiting\n",
      "\n",
      "Handled error:\n",
      "  entering\n",
      "  ERROR: showing example of handling an error\n",
      "  exiting\n",
      "\n",
      "Unhandled error:\n",
      "  entering\n",
      "  exiting\n"
     ]
    },
    {
     "ename": "ValueError",
     "evalue": "this exception is not handled",
     "output_type": "error",
     "traceback": [
      "\u001b[1;31m---------------------------------------------------------------------------\u001b[0m",
      "\u001b[1;31mValueError\u001b[0m                                Traceback (most recent call last)",
      "\u001b[1;32m<ipython-input-10-13ed52b7765f>\u001b[0m in \u001b[0;36m<module>\u001b[1;34m()\u001b[0m\n\u001b[0;32m     23\u001b[0m \u001b[0mprint\u001b[0m\u001b[1;33m(\u001b[0m\u001b[1;34m'\\nUnhandled error:'\u001b[0m\u001b[1;33m)\u001b[0m\u001b[1;33m\u001b[0m\u001b[0m\n\u001b[0;32m     24\u001b[0m \u001b[1;32mwith\u001b[0m \u001b[0mmake_context\u001b[0m\u001b[1;33m(\u001b[0m\u001b[1;33m)\u001b[0m \u001b[1;32mas\u001b[0m \u001b[0mvalue\u001b[0m\u001b[1;33m:\u001b[0m\u001b[1;33m\u001b[0m\u001b[0m\n\u001b[1;32m---> 25\u001b[1;33m     \u001b[1;32mraise\u001b[0m \u001b[0mValueError\u001b[0m\u001b[1;33m(\u001b[0m\u001b[1;34m'this exception is not handled'\u001b[0m\u001b[1;33m)\u001b[0m\u001b[1;33m\u001b[0m\u001b[0m\n\u001b[0m",
      "\u001b[1;31mValueError\u001b[0m: this exception is not handled"
     ]
    }
   ],
   "source": [
    "import contextlib\n",
    "\n",
    "\n",
    "@contextlib.contextmanager\n",
    "def make_context():\n",
    "    print('  entering')\n",
    "    try:\n",
    "        yield {}\n",
    "    except RuntimeError as err:\n",
    "        print('  ERROR:', err)\n",
    "    finally:\n",
    "        print('  exiting')\n",
    "\n",
    "\n",
    "print('Normal:')\n",
    "with make_context() as value:\n",
    "    print('  inside with statement:', value)\n",
    "\n",
    "print('\\nHandled error:')\n",
    "with make_context() as value:\n",
    "    raise RuntimeError('showing example of handling an error')\n",
    "\n",
    "print('\\nUnhandled error:')\n",
    "with make_context() as value:\n",
    "    raise ValueError('this exception is not handled')"
   ]
  },
  {
   "cell_type": "markdown",
   "metadata": {},
   "source": [
    "The generator should initialize the context, yield exactly one time, then clean up the context. The value yielded, if any, is bound to the variable in the as clause of the with statement. Exceptions from within the with block are re-raised inside the generator, so they can be handled there."
   ]
  },
  {
   "cell_type": "markdown",
   "metadata": {},
   "source": [
    "The context manager returned by contextmanager() is derived from ContextDecorator, so it also works as a function decorator.\n",
    "\n"
   ]
  },
  {
   "cell_type": "code",
   "execution_count": 11,
   "metadata": {
    "collapsed": false
   },
   "outputs": [
    {
     "name": "stdout",
     "output_type": "stream",
     "text": [
      "Normal:\n",
      "  entering\n",
      "  inside with statement\n",
      "  exiting\n",
      "\n",
      "Handled error:\n",
      "  entering\n",
      "  ERROR: showing example of handling an error\n",
      "  exiting\n",
      "\n",
      "Unhandled error:\n",
      "  entering\n",
      "  exiting\n"
     ]
    },
    {
     "ename": "ValueError",
     "evalue": "this exception is not handled",
     "output_type": "error",
     "traceback": [
      "\u001b[1;31m---------------------------------------------------------------------------\u001b[0m",
      "\u001b[1;31mValueError\u001b[0m                                Traceback (most recent call last)",
      "\u001b[1;32m<ipython-input-11-358e384886b8>\u001b[0m in \u001b[0;36m<module>\u001b[1;34m()\u001b[0m\n\u001b[0;32m     33\u001b[0m \u001b[1;33m\u001b[0m\u001b[0m\n\u001b[0;32m     34\u001b[0m \u001b[0mprint\u001b[0m\u001b[1;33m(\u001b[0m\u001b[1;34m'\\nUnhandled error:'\u001b[0m\u001b[1;33m)\u001b[0m\u001b[1;33m\u001b[0m\u001b[0m\n\u001b[1;32m---> 35\u001b[1;33m \u001b[0mthrow_error\u001b[0m\u001b[1;33m(\u001b[0m\u001b[0mValueError\u001b[0m\u001b[1;33m(\u001b[0m\u001b[1;34m'this exception is not handled'\u001b[0m\u001b[1;33m)\u001b[0m\u001b[1;33m)\u001b[0m\u001b[1;33m\u001b[0m\u001b[0m\n\u001b[0m",
      "\u001b[1;32m~\\AppData\\Local\\Continuum\\Anaconda3\\lib\\contextlib.py\u001b[0m in \u001b[0;36minner\u001b[1;34m(*args, **kwds)\u001b[0m\n\u001b[0;32m     51\u001b[0m         \u001b[1;32mdef\u001b[0m \u001b[0minner\u001b[0m\u001b[1;33m(\u001b[0m\u001b[1;33m*\u001b[0m\u001b[0margs\u001b[0m\u001b[1;33m,\u001b[0m \u001b[1;33m**\u001b[0m\u001b[0mkwds\u001b[0m\u001b[1;33m)\u001b[0m\u001b[1;33m:\u001b[0m\u001b[1;33m\u001b[0m\u001b[0m\n\u001b[0;32m     52\u001b[0m             \u001b[1;32mwith\u001b[0m \u001b[0mself\u001b[0m\u001b[1;33m.\u001b[0m\u001b[0m_recreate_cm\u001b[0m\u001b[1;33m(\u001b[0m\u001b[1;33m)\u001b[0m\u001b[1;33m:\u001b[0m\u001b[1;33m\u001b[0m\u001b[0m\n\u001b[1;32m---> 53\u001b[1;33m                 \u001b[1;32mreturn\u001b[0m \u001b[0mfunc\u001b[0m\u001b[1;33m(\u001b[0m\u001b[1;33m*\u001b[0m\u001b[0margs\u001b[0m\u001b[1;33m,\u001b[0m \u001b[1;33m**\u001b[0m\u001b[0mkwds\u001b[0m\u001b[1;33m)\u001b[0m\u001b[1;33m\u001b[0m\u001b[0m\n\u001b[0m\u001b[0;32m     54\u001b[0m         \u001b[1;32mreturn\u001b[0m \u001b[0minner\u001b[0m\u001b[1;33m\u001b[0m\u001b[0m\n\u001b[0;32m     55\u001b[0m \u001b[1;33m\u001b[0m\u001b[0m\n",
      "\u001b[1;32m<ipython-input-11-358e384886b8>\u001b[0m in \u001b[0;36mthrow_error\u001b[1;34m(err)\u001b[0m\n\u001b[0;32m     23\u001b[0m \u001b[1;33m@\u001b[0m\u001b[0mmake_context\u001b[0m\u001b[1;33m(\u001b[0m\u001b[1;33m)\u001b[0m\u001b[1;33m\u001b[0m\u001b[0m\n\u001b[0;32m     24\u001b[0m \u001b[1;32mdef\u001b[0m \u001b[0mthrow_error\u001b[0m\u001b[1;33m(\u001b[0m\u001b[0merr\u001b[0m\u001b[1;33m)\u001b[0m\u001b[1;33m:\u001b[0m\u001b[1;33m\u001b[0m\u001b[0m\n\u001b[1;32m---> 25\u001b[1;33m     \u001b[1;32mraise\u001b[0m \u001b[0merr\u001b[0m\u001b[1;33m\u001b[0m\u001b[0m\n\u001b[0m\u001b[0;32m     26\u001b[0m \u001b[1;33m\u001b[0m\u001b[0m\n\u001b[0;32m     27\u001b[0m \u001b[1;33m\u001b[0m\u001b[0m\n",
      "\u001b[1;31mValueError\u001b[0m: this exception is not handled"
     ]
    }
   ],
   "source": [
    "import contextlib\n",
    "\n",
    "\n",
    "@contextlib.contextmanager\n",
    "def make_context():\n",
    "    print('  entering')\n",
    "    try:\n",
    "        # Yield control, but not a value, because any value\n",
    "        # yielded is not available when the context manager\n",
    "        # is used as a decorator.\n",
    "        yield\n",
    "    except RuntimeError as err:\n",
    "        print('  ERROR:', err)\n",
    "    finally:\n",
    "        print('  exiting')\n",
    "\n",
    "\n",
    "@make_context()\n",
    "def normal():\n",
    "    print('  inside with statement')\n",
    "\n",
    "\n",
    "@make_context()\n",
    "def throw_error(err):\n",
    "    raise err\n",
    "\n",
    "\n",
    "print('Normal:')\n",
    "normal()\n",
    "\n",
    "print('\\nHandled error:')\n",
    "throw_error(RuntimeError('showing example of handling an error'))\n",
    "\n",
    "print('\\nUnhandled error:')\n",
    "throw_error(ValueError('this exception is not handled'))"
   ]
  },
  {
   "cell_type": "markdown",
   "metadata": {},
   "source": [
    "## Closing Open Handles"
   ]
  },
  {
   "cell_type": "markdown",
   "metadata": {},
   "source": [
    "The file class supports the context manager API directly, but some other objects that represent open handles do not. The example given in the standard library documentation for contextlib is the object returned from urllib.urlopen(). There are other legacy classes that use a close() method but do not support the context manager API. To ensure that a handle is closed, use closing() to create a context manager for it.\n",
    "\n"
   ]
  },
  {
   "cell_type": "code",
   "execution_count": 13,
   "metadata": {
    "collapsed": false
   },
   "outputs": [
    {
     "name": "stdout",
     "output_type": "stream",
     "text": [
      "Normal Example:\n",
      "  __init__()\n",
      "  inside with statement: open\n",
      "  close()\n",
      "  outside with statement: closed\n",
      "\n",
      "Error handling example:\n",
      "  __init__()\n",
      "  raising from inside with statement\n",
      "  close()\n",
      "  Had an error: error message\n"
     ]
    }
   ],
   "source": [
    "import contextlib\n",
    "\n",
    "\n",
    "class Door:\n",
    "\n",
    "    def __init__(self):\n",
    "        print('  __init__()')\n",
    "        self.status = 'open'\n",
    "\n",
    "    def close(self):\n",
    "        print('  close()')\n",
    "        self.status = 'closed'\n",
    "\n",
    "\n",
    "print('Normal Example:')\n",
    "with contextlib.closing(Door()) as door:\n",
    "    print('  inside with statement: {}'.format(door.status))\n",
    "print('  outside with statement: {}'.format(door.status))\n",
    "\n",
    "print('\\nError handling example:')\n",
    "try:\n",
    "    with contextlib.closing(Door()) as door:\n",
    "        print('  raising from inside with statement')\n",
    "        raise RuntimeError('error message')\n",
    "except Exception as err:\n",
    "    print('  Had an error:', err)"
   ]
  },
  {
   "cell_type": "markdown",
   "metadata": {},
   "source": [
    "## Ignoring Exceptions"
   ]
  },
  {
   "cell_type": "markdown",
   "metadata": {},
   "source": [
    "It is frequently useful to ignore exceptions raised by libraries, because the error indicates that the desired state has already been achieved, or it can otherwise be ignored. The most common way to ignore exceptions is with a try:except statement with only a pass statement in the except block."
   ]
  },
  {
   "cell_type": "code",
   "execution_count": 14,
   "metadata": {
    "collapsed": false
   },
   "outputs": [
    {
     "name": "stdout",
     "output_type": "stream",
     "text": [
      "trying non-idempotent operation\n",
      "done\n"
     ]
    }
   ],
   "source": [
    "import contextlib\n",
    "\n",
    "\n",
    "class NonFatalError(Exception):\n",
    "    pass\n",
    "\n",
    "\n",
    "def non_idempotent_operation():\n",
    "    raise NonFatalError(\n",
    "        'The operation failed because of existing state'\n",
    "    )\n",
    "\n",
    "\n",
    "try:\n",
    "    print('trying non-idempotent operation')\n",
    "    non_idempotent_operation()\n",
    "    print('succeeded!')\n",
    "except NonFatalError:\n",
    "    pass\n",
    "\n",
    "print('done')"
   ]
  },
  {
   "cell_type": "markdown",
   "metadata": {},
   "source": [
    "The try:except\n",
    "form can be replaced with contextlib.suppress() to more explicitly suppress a class of exceptions happening anywhere in the with block.\n",
    "\n"
   ]
  },
  {
   "cell_type": "code",
   "execution_count": 15,
   "metadata": {
    "collapsed": false
   },
   "outputs": [
    {
     "name": "stdout",
     "output_type": "stream",
     "text": [
      "trying non-idempotent operation\n",
      "done\n"
     ]
    }
   ],
   "source": [
    "import contextlib\n",
    "\n",
    "\n",
    "class NonFatalError(Exception):\n",
    "    pass\n",
    "\n",
    "\n",
    "def non_idempotent_operation():\n",
    "    raise NonFatalError(\n",
    "        'The operation failed because of existing state'\n",
    "    )\n",
    "\n",
    "\n",
    "with contextlib.suppress(NonFatalError):\n",
    "    print('trying non-idempotent operation')\n",
    "    non_idempotent_operation()\n",
    "    print('succeeded!')\n",
    "\n",
    "print('done')"
   ]
  },
  {
   "cell_type": "markdown",
   "metadata": {},
   "source": [
    "## Redirecting Output Streams"
   ]
  },
  {
   "cell_type": "markdown",
   "metadata": {},
   "source": [
    "Poorly designed library code may write directly to sys.stdout or sys.stderr, without providing arguments to configure different output destinations. The `redirect_stdout()` and `redirect_stderr()` context managers can be used to capture output from functions like this, for which the source cannot be changed to accept a new output argument."
   ]
  },
  {
   "cell_type": "code",
   "execution_count": 16,
   "metadata": {
    "collapsed": false,
    "scrolled": false
   },
   "outputs": [
    {
     "name": "stdout",
     "output_type": "stream",
     "text": [
      "(stdout) A: 5\n",
      "(stderr) A: 5\n",
      "\n"
     ]
    }
   ],
   "source": [
    "from contextlib import redirect_stdout, redirect_stderr\n",
    "import io\n",
    "import sys\n",
    "\n",
    "\n",
    "def misbehaving_function(a):\n",
    "    sys.stdout.write('(stdout) A: {!r}\\n'.format(a))\n",
    "    sys.stderr.write('(stderr) A: {!r}\\n'.format(a))\n",
    "\n",
    "\n",
    "capture = io.StringIO()\n",
    "with redirect_stdout(capture), redirect_stderr(capture):\n",
    "    misbehaving_function(5)\n",
    "\n",
    "print(capture.getvalue())"
   ]
  },
  {
   "cell_type": "markdown",
   "metadata": {},
   "source": [
    "## Dynamic Context Manager Stacks"
   ]
  },
  {
   "cell_type": "markdown",
   "metadata": {},
   "source": [
    "Most context managers operate on one object at a time, such as a single file or database handle. In these cases, the object is known in advance and the code using the context manager can be built around that one object. In other cases, a program may need to create an unknown number of objects in a context, while wanting all of them to be cleaned up when control flow exits the context. ExitStack was created to handle these more dynamic cases.\n",
    "\n",
    "An ExitStack instance maintains a stack data structure of cleanup callbacks. The callbacks are populated explicitly within the context, and any registered callbacks are called in the reverse order when control flow exits the context. The result is like having multple nested with statements, except they are established dynamically."
   ]
  },
  {
   "cell_type": "markdown",
   "metadata": {},
   "source": [
    "### Stacking Context Managers"
   ]
  },
  {
   "cell_type": "markdown",
   "metadata": {},
   "source": [
    "There are several ways to populate the ExitStack. This example uses enter_context() to add a new context manager to the stack."
   ]
  },
  {
   "cell_type": "code",
   "execution_count": 21,
   "metadata": {
    "collapsed": false
   },
   "outputs": [
    {
     "name": "stdout",
     "output_type": "stream",
     "text": [
      "0 entering\n",
      "1 entering\n",
      "inside context\n",
      "1 exiting\n",
      "0 exiting\n"
     ]
    }
   ],
   "source": [
    "import contextlib\n",
    "\n",
    "\n",
    "@contextlib.contextmanager\n",
    "def make_context(i):\n",
    "    print('{} entering'.format(i))\n",
    "    yield {}\n",
    "    print('{} exiting'.format(i))\n",
    "\n",
    "\n",
    "def variable_stack(n, msg):\n",
    "    with contextlib.ExitStack() as stack:\n",
    "        for i in range(n):\n",
    "            stack.enter_context(make_context(i))\n",
    "        print(msg)\n",
    "\n",
    "\n",
    "variable_stack(2, 'inside context')"
   ]
  },
  {
   "cell_type": "markdown",
   "metadata": {},
   "source": [
    "The context managers given to ExitStack are treated as though they are in a series of nested with statements. Errors that happen anywhere within the context propagate through the normal error handling of the context managers. These context manager classes illustrate the way errors propagate."
   ]
  },
  {
   "cell_type": "code",
   "execution_count": 18,
   "metadata": {
    "collapsed": true
   },
   "outputs": [],
   "source": [
    "import contextlib\n",
    "\n",
    "\n",
    "class Tracker:\n",
    "    \"Base class for noisy context managers.\"\n",
    "\n",
    "    def __init__(self, i):\n",
    "        self.i = i\n",
    "\n",
    "    def msg(self, s):\n",
    "        print('  {}({}): {}'.format(\n",
    "            self.__class__.__name__, self.i, s))\n",
    "\n",
    "    def __enter__(self):\n",
    "        self.msg('entering')\n",
    "\n",
    "\n",
    "class HandleError(Tracker):\n",
    "    \"If an exception is received, treat it as handled.\"\n",
    "\n",
    "    def __exit__(self, *exc_details):\n",
    "        received_exc = exc_details[1] is not None\n",
    "        if received_exc:\n",
    "            self.msg('handling exception {!r}'.format(\n",
    "                exc_details[1]))\n",
    "        self.msg('exiting {}'.format(received_exc))\n",
    "        # Return Boolean value indicating whether the exception\n",
    "        # was handled.\n",
    "        return received_exc\n",
    "\n",
    "\n",
    "class PassError(Tracker):\n",
    "    \"If an exception is received, propagate it.\"\n",
    "\n",
    "    def __exit__(self, *exc_details):\n",
    "        received_exc = exc_details[1] is not None\n",
    "        if received_exc:\n",
    "            self.msg('passing exception {!r}'.format(\n",
    "                exc_details[1]))\n",
    "        self.msg('exiting')\n",
    "        # Return False, indicating any exception was not handled.\n",
    "        return False\n",
    "\n",
    "\n",
    "class ErrorOnExit(Tracker):\n",
    "    \"Cause an exception.\"\n",
    "\n",
    "    def __exit__(self, *exc_details):\n",
    "        self.msg('throwing error')\n",
    "        raise RuntimeError('from {}'.format(self.i))\n",
    "\n",
    "\n",
    "class ErrorOnEnter(Tracker):\n",
    "    \"Cause an exception.\"\n",
    "\n",
    "    def __enter__(self):\n",
    "        self.msg('throwing error on enter')\n",
    "        raise RuntimeError('from {}'.format(self.i))\n",
    "\n",
    "    def __exit__(self, *exc_info):\n",
    "        self.msg('exiting')"
   ]
  },
  {
   "cell_type": "markdown",
   "metadata": {},
   "source": [
    "The examples using these classes are based around variable_stack(), which uses the context managers passed to construct an ExitStack, building up the overall context one by one. The examples below pass different context managers to explore the error handling behavior. First, the normal case of no exceptions.\n",
    "\n"
   ]
  },
  {
   "cell_type": "code",
   "execution_count": 23,
   "metadata": {
    "collapsed": false
   },
   "outputs": [
    {
     "name": "stdout",
     "output_type": "stream",
     "text": [
      "No errors:\n"
     ]
    },
    {
     "ename": "TypeError",
     "evalue": "'list' object cannot be interpreted as an integer",
     "output_type": "error",
     "traceback": [
      "\u001b[1;31m---------------------------------------------------------------------------\u001b[0m",
      "\u001b[1;31mTypeError\u001b[0m                                 Traceback (most recent call last)",
      "\u001b[1;32m<ipython-input-23-c6a2e28184d8>\u001b[0m in \u001b[0;36m<module>\u001b[1;34m()\u001b[0m\n\u001b[0;32m      3\u001b[0m     \u001b[0mHandleError\u001b[0m\u001b[1;33m(\u001b[0m\u001b[1;36m1\u001b[0m\u001b[1;33m)\u001b[0m\u001b[1;33m,\u001b[0m\u001b[1;33m\u001b[0m\u001b[0m\n\u001b[0;32m      4\u001b[0m     \u001b[0mPassError\u001b[0m\u001b[1;33m(\u001b[0m\u001b[1;36m2\u001b[0m\u001b[1;33m)\u001b[0m\u001b[1;33m,\u001b[0m\u001b[1;33m\u001b[0m\u001b[0m\n\u001b[1;32m----> 5\u001b[1;33m ],\"test error\")\n\u001b[0m",
      "\u001b[1;32m<ipython-input-21-2de8275c7bf4>\u001b[0m in \u001b[0;36mvariable_stack\u001b[1;34m(n, msg)\u001b[0m\n\u001b[0;32m     11\u001b[0m \u001b[1;32mdef\u001b[0m \u001b[0mvariable_stack\u001b[0m\u001b[1;33m(\u001b[0m\u001b[0mn\u001b[0m\u001b[1;33m,\u001b[0m \u001b[0mmsg\u001b[0m\u001b[1;33m)\u001b[0m\u001b[1;33m:\u001b[0m\u001b[1;33m\u001b[0m\u001b[0m\n\u001b[0;32m     12\u001b[0m     \u001b[1;32mwith\u001b[0m \u001b[0mcontextlib\u001b[0m\u001b[1;33m.\u001b[0m\u001b[0mExitStack\u001b[0m\u001b[1;33m(\u001b[0m\u001b[1;33m)\u001b[0m \u001b[1;32mas\u001b[0m \u001b[0mstack\u001b[0m\u001b[1;33m:\u001b[0m\u001b[1;33m\u001b[0m\u001b[0m\n\u001b[1;32m---> 13\u001b[1;33m         \u001b[1;32mfor\u001b[0m \u001b[0mi\u001b[0m \u001b[1;32min\u001b[0m \u001b[0mrange\u001b[0m\u001b[1;33m(\u001b[0m\u001b[0mn\u001b[0m\u001b[1;33m)\u001b[0m\u001b[1;33m:\u001b[0m\u001b[1;33m\u001b[0m\u001b[0m\n\u001b[0m\u001b[0;32m     14\u001b[0m             \u001b[0mstack\u001b[0m\u001b[1;33m.\u001b[0m\u001b[0menter_context\u001b[0m\u001b[1;33m(\u001b[0m\u001b[0mmake_context\u001b[0m\u001b[1;33m(\u001b[0m\u001b[0mi\u001b[0m\u001b[1;33m)\u001b[0m\u001b[1;33m)\u001b[0m\u001b[1;33m\u001b[0m\u001b[0m\n\u001b[0;32m     15\u001b[0m         \u001b[0mprint\u001b[0m\u001b[1;33m(\u001b[0m\u001b[0mmsg\u001b[0m\u001b[1;33m)\u001b[0m\u001b[1;33m\u001b[0m\u001b[0m\n",
      "\u001b[1;31mTypeError\u001b[0m: 'list' object cannot be interpreted as an integer"
     ]
    }
   ],
   "source": [
    "print('No errors:')\n",
    "variable_stack([\n",
    "    HandleError(1),\n",
    "    PassError(2),\n",
    "],\"test error\")"
   ]
  },
  {
   "cell_type": "code",
   "execution_count": null,
   "metadata": {
    "collapsed": true
   },
   "outputs": [],
   "source": []
  }
 ],
 "metadata": {
  "kernelspec": {
   "display_name": "Python 3",
   "language": "python",
   "name": "python3"
  },
  "language_info": {
   "codemirror_mode": {
    "name": "ipython",
    "version": 3
   },
   "file_extension": ".py",
   "mimetype": "text/x-python",
   "name": "python",
   "nbconvert_exporter": "python",
   "pygments_lexer": "ipython3",
   "version": "3.6.0"
  }
 },
 "nbformat": 4,
 "nbformat_minor": 2
}
