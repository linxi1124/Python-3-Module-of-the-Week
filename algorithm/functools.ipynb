{
 "cells": [
  {
   "cell_type": "markdown",
   "metadata": {},
   "source": [
    "The functools module provides tools for adapting or extending functions and other callable objects, without completely rewriting them."
   ]
  },
  {
   "cell_type": "markdown",
   "metadata": {},
   "source": [
    "## Decorators"
   ]
  },
  {
   "cell_type": "markdown",
   "metadata": {},
   "source": [
    "The primary tool supplied by the functools module is the class partial, which can be used to “wrap” a callable object with default arguments. The resulting object is itself callable and can be treated as though it is the original function. It takes all of the same arguments as the original, and can be invoked with extra positional or named arguments as well. A partial can be used instead of a lambda to provide default arguments to a function, while leaving some arguments unspecified."
   ]
  },
  {
   "cell_type": "code",
   "execution_count": 1,
   "metadata": {},
   "outputs": [
    {
     "name": "stdout",
     "output_type": "stream",
     "text": [
      "myfunc:\n",
      "  object: <function myfunc at 0x7fc6bdf30048>\n",
      "  __name__: myfunc\n",
      "  called myfunc with: ('a', 3)\n",
      "\n",
      "partial with named default:\n",
      "  object: functools.partial(<function myfunc at 0x7fc6bdf30048>, b=4)\n",
      "  func: <function myfunc at 0x7fc6bdf30048>\n",
      "  args: ()\n",
      "  keywords: {'b': 4}\n",
      "  called myfunc with: ('passing a', 4)\n",
      "  called myfunc with: ('override b', 5)\n",
      "\n",
      "partial with defaults:\n",
      "  object: functools.partial(<function myfunc at 0x7fc6bdf30048>, 'default a', b=99)\n",
      "  func: <function myfunc at 0x7fc6bdf30048>\n",
      "  args: ('default a',)\n",
      "  keywords: {'b': 99}\n",
      "  called myfunc with: ('default a', 99)\n",
      "  called myfunc with: ('default a', 'override b')\n",
      "\n",
      "Insufficient arguments:\n"
     ]
    },
    {
     "ename": "TypeError",
     "evalue": "myfunc() missing 1 required positional argument: 'a'",
     "output_type": "error",
     "traceback": [
      "\u001b[0;31m---------------------------------------------------------------------------\u001b[0m",
      "\u001b[0;31mTypeError\u001b[0m                                 Traceback (most recent call last)",
      "\u001b[0;32m<ipython-input-1-846ed327bba6>\u001b[0m in \u001b[0;36m<module>\u001b[0;34m()\u001b[0m\n\u001b[1;32m     40\u001b[0m \u001b[0;34m\u001b[0m\u001b[0m\n\u001b[1;32m     41\u001b[0m \u001b[0mprint\u001b[0m\u001b[0;34m(\u001b[0m\u001b[0;34m'Insufficient arguments:'\u001b[0m\u001b[0;34m)\u001b[0m\u001b[0;34m\u001b[0m\u001b[0m\n\u001b[0;32m---> 42\u001b[0;31m \u001b[0mp1\u001b[0m\u001b[0;34m(\u001b[0m\u001b[0;34m)\u001b[0m\u001b[0;34m\u001b[0m\u001b[0m\n\u001b[0m",
      "\u001b[0;31mTypeError\u001b[0m: myfunc() missing 1 required positional argument: 'a'"
     ]
    }
   ],
   "source": [
    "import functools\n",
    "\n",
    "\n",
    "def myfunc(a, b=2):\n",
    "    \"Docstring for myfunc().\"\n",
    "    print('  called myfunc with:', (a, b))\n",
    "\n",
    "\n",
    "def show_details(name, f, is_partial=False):\n",
    "    \"Show details of a callable object.\"\n",
    "    print('{}:'.format(name))\n",
    "    print('  object:', f)\n",
    "    if not is_partial:\n",
    "        print('  __name__:', f.__name__)\n",
    "    if is_partial:\n",
    "        print('  func:', f.func)\n",
    "        print('  args:', f.args)\n",
    "        print('  keywords:', f.keywords)\n",
    "    return\n",
    "\n",
    "\n",
    "show_details('myfunc', myfunc)\n",
    "myfunc('a', 3)\n",
    "print()\n",
    "\n",
    "# Set a different default value for 'b', but require\n",
    "# the caller to provide 'a'.\n",
    "p1 = functools.partial(myfunc, b=4)\n",
    "show_details('partial with named default', p1, True)\n",
    "p1('passing a')\n",
    "p1('override b', b=5)\n",
    "print()\n",
    "\n",
    "# Set default values for both 'a' and 'b'.\n",
    "p2 = functools.partial(myfunc, 'default a', b=99)\n",
    "show_details('partial with defaults', p2, True)\n",
    "p2()\n",
    "p2(b='override b')\n",
    "print()\n",
    "\n",
    "print('Insufficient arguments:')\n",
    "p1()"
   ]
  },
  {
   "cell_type": "markdown",
   "metadata": {},
   "source": [
    "## Acquiring Function Properties"
   ]
  },
  {
   "cell_type": "markdown",
   "metadata": {},
   "source": [
    "The partial object does not have __name__ or __doc__ attributes by default, and without those attributes, decorated functions are more difficult to debug. Using update_wrapper(), copies or adds attributes from the original function to the partial object."
   ]
  },
  {
   "cell_type": "code",
   "execution_count": 2,
   "metadata": {},
   "outputs": [
    {
     "name": "stdout",
     "output_type": "stream",
     "text": [
      "myfunc:\n",
      "  object: <function myfunc at 0x7fc6b4457840>\n",
      "  __name__: myfunc\n",
      "  __doc__ 'Docstring for myfunc().'\n",
      "\n",
      "raw wrapper:\n",
      "  object: functools.partial(<function myfunc at 0x7fc6b4457840>, b=4)\n",
      "  __name__: (no __name__)\n",
      "  __doc__ 'partial(func, *args, **keywords) - new function with partial application\\n    of the given arguments and keywords.\\n'\n",
      "\n",
      "Updating wrapper:\n",
      "  assign: ('__module__', '__name__', '__qualname__', '__doc__', '__annotations__')\n",
      "  update: ('__dict__',)\n",
      "\n",
      "updated wrapper:\n",
      "  object: functools.partial(<function myfunc at 0x7fc6b4457840>, b=4)\n",
      "  __name__: myfunc\n",
      "  __doc__ 'Docstring for myfunc().'\n",
      "\n"
     ]
    }
   ],
   "source": [
    "import functools\n",
    "\n",
    "\n",
    "def myfunc(a, b=2):\n",
    "    \"Docstring for myfunc().\"\n",
    "    print('  called myfunc with:', (a, b))\n",
    "\n",
    "\n",
    "def show_details(name, f):\n",
    "    \"Show details of a callable object.\"\n",
    "    print('{}:'.format(name))\n",
    "    print('  object:', f)\n",
    "    print('  __name__:', end=' ')\n",
    "    try:\n",
    "        print(f.__name__)\n",
    "    except AttributeError:\n",
    "        print('(no __name__)')\n",
    "    print('  __doc__', repr(f.__doc__))\n",
    "    print()\n",
    "\n",
    "\n",
    "show_details('myfunc', myfunc)\n",
    "\n",
    "p1 = functools.partial(myfunc, b=4)\n",
    "show_details('raw wrapper', p1)\n",
    "\n",
    "print('Updating wrapper:')\n",
    "print('  assign:', functools.WRAPPER_ASSIGNMENTS)\n",
    "print('  update:', functools.WRAPPER_UPDATES)\n",
    "print()\n",
    "\n",
    "functools.update_wrapper(p1, myfunc)\n",
    "show_details('updated wrapper', p1)"
   ]
  },
  {
   "cell_type": "markdown",
   "metadata": {},
   "source": [
    "## Other Callables"
   ]
  },
  {
   "cell_type": "markdown",
   "metadata": {},
   "source": [
    "Partials work with any callable object, not just with standalone functions."
   ]
  },
  {
   "cell_type": "code",
   "execution_count": 3,
   "metadata": {},
   "outputs": [
    {
     "name": "stdout",
     "output_type": "stream",
     "text": [
      "instance:\n",
      "  object: <__main__.MyClass object at 0x7fc6b44c6208>\n",
      "  __name__: (no __name__)\n",
      "  __doc__ 'Demonstration class for functools'\n",
      "  called object with: (<__main__.MyClass object at 0x7fc6b44c6208>, 'e goes here', 6)\n",
      "\n",
      "instance wrapper:\n",
      "  object: functools.partial(<__main__.MyClass object at 0x7fc6b44c6208>, e='default for e', f=8)\n",
      "  __name__: (no __name__)\n",
      "  __doc__ 'Demonstration class for functools'\n",
      "  called object with: (<__main__.MyClass object at 0x7fc6b44c6208>, 'default for e', 8)\n"
     ]
    }
   ],
   "source": [
    "import functools\n",
    "\n",
    "\n",
    "class MyClass:\n",
    "    \"Demonstration class for functools\"\n",
    "\n",
    "    def __call__(self, e, f=6):\n",
    "        \"Docstring for MyClass.__call__\"\n",
    "        print('  called object with:', (self, e, f))\n",
    "\n",
    "\n",
    "def show_details(name, f):\n",
    "    \"Show details of a callable object.\"\n",
    "    print('{}:'.format(name))\n",
    "    print('  object:', f)\n",
    "    print('  __name__:', end=' ')\n",
    "    try:\n",
    "        print(f.__name__)\n",
    "    except AttributeError:\n",
    "        print('(no __name__)')\n",
    "    print('  __doc__', repr(f.__doc__))\n",
    "    return\n",
    "\n",
    "\n",
    "o = MyClass()\n",
    "\n",
    "show_details('instance', o)\n",
    "o('e goes here')\n",
    "print()\n",
    "\n",
    "p = functools.partial(o, e='default for e', f=8)\n",
    "functools.update_wrapper(p, o)\n",
    "show_details('instance wrapper', p)\n",
    "p()"
   ]
  },
  {
   "cell_type": "markdown",
   "metadata": {},
   "source": [
    "## Methods and Functions"
   ]
  },
  {
   "cell_type": "markdown",
   "metadata": {},
   "source": [
    "While partial() returns a callable ready to be used directly, partialmethod() returns a callable ready to be used as an unbound method of an object. In the following example, the same standalone function is added as an attribute of MyClass twice, once using partialmethod() as method1() and again using partial() as method2()."
   ]
  },
  {
   "cell_type": "code",
   "execution_count": 4,
   "metadata": {},
   "outputs": [
    {
     "name": "stdout",
     "output_type": "stream",
     "text": [
      "standalone\n",
      "  called standalone with: (None, 1, 2)\n",
      "\n",
      "method1 as partialmethod\n",
      "  called standalone with: (<__main__.MyClass object at 0x7fc6b6ce3400>, 1, 2)\n",
      "  self.attr = instance attribute\n",
      "\n",
      "method2 as partial\n",
      "ERROR: standalone() missing 1 required positional argument: 'self'\n"
     ]
    }
   ],
   "source": [
    "import functools\n",
    "\n",
    "\n",
    "def standalone(self, a=1, b=2):\n",
    "    \"Standalone function\"\n",
    "    print('  called standalone with:', (self, a, b))\n",
    "    if self is not None:\n",
    "        print('  self.attr =', self.attr)\n",
    "\n",
    "\n",
    "class MyClass:\n",
    "    \"Demonstration class for functools\"\n",
    "\n",
    "    def __init__(self):\n",
    "        self.attr = 'instance attribute'\n",
    "\n",
    "    method1 = functools.partialmethod(standalone)\n",
    "    method2 = functools.partial(standalone)\n",
    "\n",
    "\n",
    "o = MyClass()\n",
    "\n",
    "print('standalone')\n",
    "standalone(None)\n",
    "print()\n",
    "\n",
    "print('method1 as partialmethod')\n",
    "o.method1()\n",
    "print()\n",
    "\n",
    "print('method2 as partial')\n",
    "try:\n",
    "    o.method2()\n",
    "except TypeError as err:\n",
    "    print('ERROR: {}'.format(err))"
   ]
  },
  {
   "cell_type": "markdown",
   "metadata": {},
   "source": [
    "method1() can be called from an instance of MyClass, and the instance is passed as the first argument just as with methods defined normally. method2() is not set up as a bound method, and so the self argument must be passed explicitly, or the call will result in a TypeError."
   ]
  },
  {
   "cell_type": "markdown",
   "metadata": {},
   "source": [
    "## Acquiring Function Properties for Decorators"
   ]
  },
  {
   "cell_type": "markdown",
   "metadata": {},
   "source": [
    "Updating the properties of a wrapped callable is especially useful when used in a decorator, since the transformed function ends up with properties of the original “bare” function."
   ]
  },
  {
   "cell_type": "code",
   "execution_count": 6,
   "metadata": {},
   "outputs": [
    {
     "name": "stdout",
     "output_type": "stream",
     "text": [
      "myfunc:\n",
      "  object: <function myfunc at 0x7fc6b44737b8>\n",
      "  __name__: myfunc\n",
      "  __doc__ 'myfunc() is not complicated'\n",
      "\n",
      "  myfunc: ('unwrapped, default b', 2)\n",
      "  myfunc: ('unwrapped, passing b', 3)\n",
      "\n",
      "wrapped_myfunc:\n",
      "  object: <function myfunc at 0x7fc6b4457f28>\n",
      "  __name__: myfunc\n",
      "  __doc__ 'myfunc() is not complicated'\n",
      "\n",
      "  decorated: ('decorated defaults', 1)\n",
      "     myfunc: ('decorated defaults', 1)\n",
      "  decorated: ('args to wrapped', 4)\n",
      "     myfunc: ('args to wrapped', 4)\n",
      "\n",
      "decorated_myfunc:\n",
      "  object: <function decorated_myfunc at 0x7fc6b43fa400>\n",
      "  __name__: decorated_myfunc\n",
      "  __doc__ None\n",
      "\n",
      "  decorated: ('decorated defaults', 1)\n",
      "     myfunc: ('decorated defaults', 1)\n",
      "  decorated: ('args to decorated', 4)\n",
      "     myfunc: ('args to decorated', 4)\n"
     ]
    }
   ],
   "source": [
    "import functools\n",
    "\n",
    "\n",
    "def show_details(name, f):\n",
    "    \"Show details of a callable object.\"\n",
    "    print('{}:'.format(name))\n",
    "    print('  object:', f)\n",
    "    print('  __name__:', end=' ')\n",
    "    try:\n",
    "        print(f.__name__)\n",
    "    except AttributeError:\n",
    "        print('(no __name__)')\n",
    "    print('  __doc__', repr(f.__doc__))\n",
    "    print()\n",
    "\n",
    "\n",
    "def simple_decorator(f):\n",
    "    @functools.wraps(f)\n",
    "    def decorated(a='decorated defaults', b=1):\n",
    "        print('  decorated:', (a, b))\n",
    "        print('  ', end=' ')\n",
    "        return f(a, b=b)\n",
    "    return decorated\n",
    "\n",
    "\n",
    "def myfunc(a, b=2):\n",
    "    \"myfunc() is not complicated\"\n",
    "    print('  myfunc:', (a, b))\n",
    "    return\n",
    "\n",
    "\n",
    "# The raw function\n",
    "show_details('myfunc', myfunc)\n",
    "myfunc('unwrapped, default b')\n",
    "myfunc('unwrapped, passing b', 3)\n",
    "print()\n",
    "\n",
    "# Wrap explicitly\n",
    "wrapped_myfunc = simple_decorator(myfunc)\n",
    "show_details('wrapped_myfunc', wrapped_myfunc)\n",
    "wrapped_myfunc()\n",
    "wrapped_myfunc('args to wrapped', 4)\n",
    "print()\n",
    "\n",
    "\n",
    "# Wrap with decorator syntax\n",
    "@simple_decorator\n",
    "def decorated_myfunc(a, b):\n",
    "    myfunc(a, b)\n",
    "    return\n",
    "\n",
    "\n",
    "show_details('decorated_myfunc', decorated_myfunc)\n",
    "decorated_myfunc()\n",
    "decorated_myfunc('args to decorated', 4)"
   ]
  },
  {
   "cell_type": "markdown",
   "metadata": {},
   "source": [
    "## Comparison"
   ]
  },
  {
   "cell_type": "markdown",
   "metadata": {},
   "source": [
    "Under Python 2, classes could define a \\_\\_cmp\\_\\_() method that returns -1, 0, or 1 based on whether the object is less than, equal to, or greater than the item being compared. Python 2.1 introduced the rich comparison methods API (\\_\\_lt\\_\\_(), \\_\\_le\\_\\_(), \\_\\_eq\\_\\_(), \\_\\_ne\\_\\_(), \\_\\_gt\\_\\_(), and \\_\\_ge\\_\\_()), which perform a single comparison operation and return a boolean value. Python 3 deprecated \\_\\_cmp\\_\\_() in favor of these new methods and functools provides tools to make it easier to write classes that comply with the new comparison requirements in Python 3."
   ]
  },
  {
   "cell_type": "markdown",
   "metadata": {},
   "source": [
    "### Rich Comparison"
   ]
  },
  {
   "cell_type": "markdown",
   "metadata": {},
   "source": [
    "The rich comparison API is designed to allow classes with complex comparisons to implement each test in the most efficient way possible. However, for classes where comparison is relatively simple, there is no point in manually creating each of the rich comparison methods. The total_ordering() class decorator takes a class that provides some of the methods, and adds the rest of them."
   ]
  },
  {
   "cell_type": "code",
   "execution_count": 7,
   "metadata": {},
   "outputs": [
    {
     "name": "stdout",
     "output_type": "stream",
     "text": [
      "Methods:\n",
      "\n",
      "[('__eq__', <function MyObject.__eq__ at 0x7fc6b43fa048>),\n",
      " ('__ge__', <function _ge_from_gt at 0x7fc6bde78a60>),\n",
      " ('__gt__', <function MyObject.__gt__ at 0x7fc6b44579d8>),\n",
      " ('__init__', <function MyObject.__init__ at 0x7fc6b43fa0d0>),\n",
      " ('__le__', <function _le_from_gt at 0x7fc6bde78ae8>),\n",
      " ('__lt__', <function _lt_from_gt at 0x7fc6bde789d8>)]\n",
      "\n",
      "Comparisons:\n",
      "\n",
      "a < b :\n",
      "  testing __gt__(1, 2)\n",
      "  testing __eq__(1, 2)\n",
      "  result of a < b: True\n",
      "\n",
      "a <= b:\n",
      "  testing __gt__(1, 2)\n",
      "  result of a <= b: True\n",
      "\n",
      "a == b:\n",
      "  testing __eq__(1, 2)\n",
      "  result of a == b: False\n",
      "\n",
      "a >= b:\n",
      "  testing __gt__(1, 2)\n",
      "  testing __eq__(1, 2)\n",
      "  result of a >= b: False\n",
      "\n",
      "a > b :\n",
      "  testing __gt__(1, 2)\n",
      "  result of a > b: False\n"
     ]
    }
   ],
   "source": [
    "import functools\n",
    "import inspect\n",
    "from pprint import pprint\n",
    "\n",
    "\n",
    "@functools.total_ordering\n",
    "class MyObject:\n",
    "\n",
    "    def __init__(self, val):\n",
    "        self.val = val\n",
    "\n",
    "    def __eq__(self, other):\n",
    "        print('  testing __eq__({}, {})'.format(\n",
    "            self.val, other.val))\n",
    "        return self.val == other.val\n",
    "\n",
    "    def __gt__(self, other):\n",
    "        print('  testing __gt__({}, {})'.format(\n",
    "            self.val, other.val))\n",
    "        return self.val > other.val\n",
    "\n",
    "\n",
    "print('Methods:\\n')\n",
    "pprint(inspect.getmembers(MyObject, inspect.isfunction))\n",
    "\n",
    "a = MyObject(1)\n",
    "b = MyObject(2)\n",
    "\n",
    "print('\\nComparisons:')\n",
    "for expr in ['a < b', 'a <= b', 'a == b', 'a >= b', 'a > b']:\n",
    "    print('\\n{:<6}:'.format(expr))\n",
    "    result = eval(expr)\n",
    "    print('  result of {}: {}'.format(expr, result))"
   ]
  },
  {
   "cell_type": "markdown",
   "metadata": {},
   "source": [
    "### Collation Order"
   ]
  },
  {
   "cell_type": "markdown",
   "metadata": {},
   "source": [
    "Since old-style comparison functions are deprecated in Python 3, the cmp argument to functions like sort() are also no longer supported. Older programs that use comparison functions can use cmp_to_key() to convert them to a function that returns a collation key, which is used to determine the position in the final sequence."
   ]
  },
  {
   "cell_type": "code",
   "execution_count": 9,
   "metadata": {},
   "outputs": [
    {
     "name": "stdout",
     "output_type": "stream",
     "text": [
      "key_wrapper(MyObject(5)) -> <functools.KeyWrapper object at 0x7fc6b6f37770>\n",
      "key_wrapper(MyObject(4)) -> <functools.KeyWrapper object at 0x7fc6b6f37a90>\n",
      "key_wrapper(MyObject(3)) -> <functools.KeyWrapper object at 0x7fc6b6f37a70>\n",
      "key_wrapper(MyObject(2)) -> <functools.KeyWrapper object at 0x7fc6b6f37970>\n",
      "key_wrapper(MyObject(1)) -> <functools.KeyWrapper object at 0x7fc6b6f37990>\n",
      "comparing MyObject(4) and MyObject(5)\n",
      "comparing MyObject(3) and MyObject(4)\n",
      "comparing MyObject(2) and MyObject(3)\n",
      "comparing MyObject(1) and MyObject(2)\n",
      "MyObject(1)\n",
      "MyObject(2)\n",
      "MyObject(3)\n",
      "MyObject(4)\n",
      "MyObject(5)\n"
     ]
    }
   ],
   "source": [
    "import functools\n",
    "\n",
    "\n",
    "class MyObject:\n",
    "\n",
    "    def __init__(self, val):\n",
    "        self.val = val\n",
    "\n",
    "    def __str__(self):\n",
    "        return 'MyObject({})'.format(self.val)\n",
    "\n",
    "\n",
    "def compare_obj(a, b):\n",
    "    \"\"\"Old-style comparison function.\n",
    "    \"\"\"\n",
    "    print('comparing {} and {}'.format(a, b))\n",
    "    if a.val < b.val:\n",
    "        return -1\n",
    "    elif a.val > b.val:\n",
    "        return 1\n",
    "    return 0\n",
    "\n",
    "\n",
    "# Make a key function using cmp_to_key()\n",
    "get_key = functools.cmp_to_key(compare_obj)\n",
    "\n",
    "def get_key_wrapper(o):\n",
    "    \"Wrapper function for get_key to allow for print statements.\"\n",
    "    new_key = get_key(o)\n",
    "    print('key_wrapper({}) -> {!r}'.format(o, new_key))\n",
    "    return new_key\n",
    "\n",
    "\n",
    "objs = [MyObject(x) for x in range(5, 0, -1)]\n",
    "\n",
    "for o in sorted(objs, key=get_key_wrapper):\n",
    "    print(o)"
   ]
  },
  {
   "cell_type": "markdown",
   "metadata": {},
   "source": [
    "## Caching"
   ]
  },
  {
   "cell_type": "markdown",
   "metadata": {},
   "source": [
    "The lru_cache() decorator wraps a function in a least-recently-used cache. Arguments to the function are used to build a hash key, which is then mapped to the result. Subsequent calls with the same arguments will fetch the value from the cache instead of calling the function. The decorator also adds methods to the function to examine the state of the cache (cache_info()) and empty the cache (cache_clear())."
   ]
  },
  {
   "cell_type": "code",
   "execution_count": 10,
   "metadata": {},
   "outputs": [
    {
     "name": "stdout",
     "output_type": "stream",
     "text": [
      "First set of calls:\n",
      "expensive(0, 0)\n",
      "expensive(0, 1)\n",
      "expensive(1, 0)\n",
      "expensive(1, 1)\n",
      "CacheInfo(hits=0, misses=4, maxsize=128, currsize=4)\n",
      "\n",
      "Second set of calls:\n",
      "expensive(0, 2)\n",
      "expensive(1, 2)\n",
      "expensive(2, 0)\n",
      "expensive(2, 1)\n",
      "expensive(2, 2)\n",
      "CacheInfo(hits=4, misses=9, maxsize=128, currsize=9)\n",
      "\n",
      "Clearing cache:\n",
      "CacheInfo(hits=0, misses=0, maxsize=128, currsize=0)\n",
      "\n",
      "Third set of calls:\n",
      "expensive(0, 0)\n",
      "expensive(0, 1)\n",
      "expensive(1, 0)\n",
      "expensive(1, 1)\n",
      "CacheInfo(hits=0, misses=4, maxsize=128, currsize=4)\n"
     ]
    }
   ],
   "source": [
    "import functools\n",
    "\n",
    "\n",
    "@functools.lru_cache()\n",
    "def expensive(a, b):\n",
    "    print('expensive({}, {})'.format(a, b))\n",
    "    return a * b\n",
    "\n",
    "\n",
    "MAX = 2\n",
    "\n",
    "print('First set of calls:')\n",
    "for i in range(MAX):\n",
    "    for j in range(MAX):\n",
    "        expensive(i, j)\n",
    "print(expensive.cache_info())\n",
    "\n",
    "print('\\nSecond set of calls:')\n",
    "for i in range(MAX + 1):\n",
    "    for j in range(MAX + 1):\n",
    "        expensive(i, j)\n",
    "print(expensive.cache_info())\n",
    "\n",
    "print('\\nClearing cache:')\n",
    "expensive.cache_clear()\n",
    "print(expensive.cache_info())\n",
    "\n",
    "print('\\nThird set of calls:')\n",
    "for i in range(MAX):\n",
    "    for j in range(MAX):\n",
    "        expensive(i, j)\n",
    "print(expensive.cache_info())"
   ]
  },
  {
   "cell_type": "markdown",
   "metadata": {},
   "source": [
    "## Reducing a Data Set"
   ]
  },
  {
   "cell_type": "markdown",
   "metadata": {},
   "source": [
    "The reduce() function takes a callable and a sequence of data as input and produces a single value as output based on invoking the callable with the values from the sequence and accumulating the resulting output."
   ]
  },
  {
   "cell_type": "code",
   "execution_count": 11,
   "metadata": {},
   "outputs": [
    {
     "name": "stdout",
     "output_type": "stream",
     "text": [
      "range(1, 5)\n",
      "do_reduce(1, 2)\n",
      "do_reduce(3, 3)\n",
      "do_reduce(6, 4)\n",
      "result: 10\n"
     ]
    }
   ],
   "source": [
    "import functools\n",
    "\n",
    "\n",
    "def do_reduce(a, b):\n",
    "    print('do_reduce({}, {})'.format(a, b))\n",
    "    return a + b\n",
    "\n",
    "\n",
    "data = range(1, 5)\n",
    "print(data)\n",
    "result = functools.reduce(do_reduce, data)\n",
    "print('result: {}'.format(result))"
   ]
  },
  {
   "cell_type": "markdown",
   "metadata": {},
   "source": [
    "## Generic Functions"
   ]
  },
  {
   "cell_type": "markdown",
   "metadata": {},
   "source": [
    "In a dynamically typed language like Python it is common to need to perform slightly different operation based on the type of an argument, especially when dealing with the difference between a list of items and a single item. It is simple enough to check the type of an argument directly, but in cases where the behavioral difference can be isolated into separate functions functools provides the singledispatch() decorator to register a set of generic functions for automatic switching based on the type of the first argument to a function."
   ]
  },
  {
   "cell_type": "code",
   "execution_count": 12,
   "metadata": {},
   "outputs": [
    {
     "name": "stdout",
     "output_type": "stream",
     "text": [
      "default myfunc('string argument')\n",
      "myfunc_int(1)\n",
      "default myfunc(2.3)\n",
      "myfunc_list()\n",
      "  a\n",
      "  b\n",
      "  c\n"
     ]
    }
   ],
   "source": [
    "import functools\n",
    "\n",
    "\n",
    "@functools.singledispatch\n",
    "def myfunc(arg):\n",
    "    print('default myfunc({!r})'.format(arg))\n",
    "\n",
    "\n",
    "@myfunc.register(int)\n",
    "def myfunc_int(arg):\n",
    "    print('myfunc_int({})'.format(arg))\n",
    "\n",
    "\n",
    "@myfunc.register(list)\n",
    "def myfunc_list(arg):\n",
    "    print('myfunc_list()')\n",
    "    for item in arg:\n",
    "        print('  {}'.format(item))\n",
    "\n",
    "\n",
    "myfunc('string argument')\n",
    "myfunc(1)\n",
    "myfunc(2.3)\n",
    "myfunc(['a', 'b', 'c'])"
   ]
  },
  {
   "cell_type": "code",
   "execution_count": null,
   "metadata": {},
   "outputs": [],
   "source": []
  }
 ],
 "metadata": {
  "kernelspec": {
   "display_name": "Python 3",
   "language": "python",
   "name": "python3"
  },
  "language_info": {
   "codemirror_mode": {
    "name": "ipython",
    "version": 3
   },
   "file_extension": ".py",
   "mimetype": "text/x-python",
   "name": "python",
   "nbconvert_exporter": "python",
   "pygments_lexer": "ipython3",
   "version": "3.5.2"
  }
 },
 "nbformat": 4,
 "nbformat_minor": 2
}
