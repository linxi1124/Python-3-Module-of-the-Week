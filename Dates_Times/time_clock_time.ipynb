{
 "cells": [
  {
   "cell_type": "markdown",
   "metadata": {},
   "source": [
    "The time module provides access to several different types of clocks, each useful for different purposes. The standard system calls like time() report the system “wall clock” time. The monotonic() clock can be used to measure elapsed time in a long-running process because it is guaranteed never to move backwards, even if the system time is changed. For performance testing, perf_counter() provides access to the clock with the highest available resolution to make short time measurements more accurate. The CPU time is available through clock(), and process_time() returns the combined processor time and system tim"
   ]
  },
  {
   "cell_type": "markdown",
   "metadata": {},
   "source": [
    "## Comparing clocks"
   ]
  },
  {
   "cell_type": "markdown",
   "metadata": {},
   "source": [
    "Implementation details for the clocks varies by platform. Use get_clock_info() to access basic information about the current implementation, including the clock’s resolution."
   ]
  },
  {
   "cell_type": "code",
   "execution_count": 1,
   "metadata": {},
   "outputs": [
    {
     "name": "stdout",
     "output_type": "stream",
     "text": [
      "clock:\n",
      "    adjustable    : False\n",
      "    implementation: clock()\n",
      "    monotonic     : True\n",
      "    resolution    : 1e-06\n",
      "    current       : 0.944783\n",
      "\n",
      "monotonic:\n",
      "    adjustable    : False\n",
      "    implementation: clock_gettime(CLOCK_MONOTONIC)\n",
      "    monotonic     : True\n",
      "    resolution    : 1e-09\n",
      "    current       : 28403.77271287\n",
      "\n",
      "perf_counter:\n",
      "    adjustable    : False\n",
      "    implementation: clock_gettime(CLOCK_MONOTONIC)\n",
      "    monotonic     : True\n",
      "    resolution    : 1e-09\n",
      "    current       : 28403.773025282\n",
      "\n",
      "process_time:\n",
      "    adjustable    : False\n",
      "    implementation: clock_gettime(CLOCK_PROCESS_CPUTIME_ID)\n",
      "    monotonic     : True\n",
      "    resolution    : 1e-09\n",
      "    current       : 0.946722253\n",
      "\n",
      "time:\n",
      "    adjustable    : True\n",
      "    implementation: clock_gettime(CLOCK_REALTIME)\n",
      "    monotonic     : False\n",
      "    resolution    : 1e-09\n",
      "    current       : 1508825387.078691\n",
      "\n"
     ]
    }
   ],
   "source": [
    "import textwrap\n",
    "import time\n",
    "\n",
    "available_clocks = [\n",
    "    ('clock', time.clock),\n",
    "    ('monotonic', time.monotonic),\n",
    "    ('perf_counter', time.perf_counter),\n",
    "    ('process_time', time.process_time),\n",
    "    ('time', time.time),\n",
    "]\n",
    "\n",
    "for clock_name, func in available_clocks:\n",
    "    print(textwrap.dedent('''\\\n",
    "    {name}:\n",
    "        adjustable    : {info.adjustable}\n",
    "        implementation: {info.implementation}\n",
    "        monotonic     : {info.monotonic}\n",
    "        resolution    : {info.resolution}\n",
    "        current       : {current}\n",
    "    ''').format(\n",
    "        name=clock_name,\n",
    "        info=time.get_clock_info(clock_name),\n",
    "        current=func())\n",
    "    )"
   ]
  },
  {
   "cell_type": "markdown",
   "metadata": {},
   "source": [
    "## Wall Clock Time"
   ]
  },
  {
   "cell_type": "markdown",
   "metadata": {},
   "source": [
    "One of the core functions of the time module is time(), which returns the number of seconds since the start of the “epoch” as a floating point value."
   ]
  },
  {
   "cell_type": "code",
   "execution_count": 2,
   "metadata": {},
   "outputs": [
    {
     "name": "stdout",
     "output_type": "stream",
     "text": [
      "The time is: 1508825674.2591293\n"
     ]
    }
   ],
   "source": [
    "import time\n",
    "\n",
    "print('The time is:', time.time())"
   ]
  },
  {
   "cell_type": "markdown",
   "metadata": {},
   "source": [
    "The epoch is the start of measurement for time, which for Unix systems is 0:00 on January 1, 1970. Although the value is always a float, actual precision is platform-dependent."
   ]
  },
  {
   "cell_type": "markdown",
   "metadata": {},
   "source": [
    "The float representation is useful when storing or comparing dates, but not as useful for producing human readable representations. For logging or printing time ctime() can be more useful."
   ]
  },
  {
   "cell_type": "code",
   "execution_count": 3,
   "metadata": {},
   "outputs": [
    {
     "name": "stdout",
     "output_type": "stream",
     "text": [
      "The time is      : Tue Oct 24 14:16:03 2017\n",
      "15 secs from now : Tue Oct 24 14:16:18 2017\n"
     ]
    }
   ],
   "source": [
    "import time\n",
    "\n",
    "print('The time is      :', time.ctime())\n",
    "later = time.time() + 15\n",
    "print('15 secs from now :', time.ctime(later))"
   ]
  },
  {
   "cell_type": "markdown",
   "metadata": {},
   "source": [
    "## Monotonic Clocks"
   ]
  },
  {
   "cell_type": "markdown",
   "metadata": {},
   "source": [
    "Because time() looks at the system clock, and the system clock can be changed by the user or system services for synchronizing clocks across multiple computers, calling time() repeatedly may produce values that go forwards and backwards. This can result in unexpected behavior when trying to measure durations or otherwise use those times for computation. Avoid those situations by using monotonic(), which always returns values that go forward.\n",
    "\n",
    "**Note**:\n",
    "\n",
    "The start point for the monotonic clock is not defined, so return values are only useful for doing calculations with other clock values. In this example the duration of the sleep is measured using monotonic()."
   ]
  },
  {
   "cell_type": "code",
   "execution_count": 5,
   "metadata": {},
   "outputs": [
    {
     "name": "stdout",
     "output_type": "stream",
     "text": [
      "start :  28911.54\n",
      "end   :  28911.64\n",
      "span  :      0.10\n"
     ]
    }
   ],
   "source": [
    "import time\n",
    "\n",
    "start = time.monotonic()\n",
    "time.sleep(0.1)\n",
    "end = time.monotonic()\n",
    "print('start : {:>9.2f}'.format(start))\n",
    "print('end   : {:>9.2f}'.format(end))\n",
    "print('span  : {:>9.2f}'.format(end - start))"
   ]
  },
  {
   "cell_type": "markdown",
   "metadata": {},
   "source": [
    "## Processor Clock Time"
   ]
  },
  {
   "cell_type": "markdown",
   "metadata": {},
   "source": [
    "While time() returns a wall clock time, clock() returns processor clock time. The values returned from clock() reflect the actual time used by the program as it runs."
   ]
  },
  {
   "cell_type": "code",
   "execution_count": 7,
   "metadata": {},
   "outputs": [
    {
     "name": "stdout",
     "output_type": "stream",
     "text": [
      "Tue Oct 24 14:19:25 2017 : 1508825965.774 1.255\n",
      "Tue Oct 24 14:19:26 2017 : 1508825966.278 1.759\n",
      "Tue Oct 24 14:19:26 2017 : 1508825966.769 2.251\n",
      "Tue Oct 24 14:19:27 2017 : 1508825967.254 2.734\n",
      "Tue Oct 24 14:19:27 2017 : 1508825967.738 3.215\n"
     ]
    }
   ],
   "source": [
    "import hashlib\n",
    "import time\n",
    "\n",
    "# Data to use to calculate md5 checksums\n",
    "data = open(\"README.md\", 'rb').read()\n",
    "\n",
    "for i in range(5):\n",
    "    h = hashlib.sha1()\n",
    "    print(time.ctime(), ': {:0.3f} {:0.3f}'.format(\n",
    "        time.time(), time.clock()))\n",
    "    for i in range(300000):\n",
    "        h.update(data)\n",
    "    cksum = h.digest()"
   ]
  },
  {
   "cell_type": "markdown",
   "metadata": {},
   "source": [
    "In this example, the formatted ctime() is printed along with the floating point values from time(), and clock() for each iteration through the loop.\n",
    "\n",
    "Typically, the processor clock does not tick if a program is not doing anything."
   ]
  },
  {
   "cell_type": "code",
   "execution_count": 8,
   "metadata": {},
   "outputs": [
    {
     "name": "stdout",
     "output_type": "stream",
     "text": [
      "Tue Oct 24 14:21:00 2017 - 1508826060.54 - 3.74\n",
      "Sleeping 3\n",
      "Tue Oct 24 14:21:03 2017 - 1508826063.54 - 3.75\n",
      "Sleeping 2\n",
      "Tue Oct 24 14:21:05 2017 - 1508826065.54 - 3.75\n",
      "Sleeping 1\n",
      "Tue Oct 24 14:21:06 2017 - 1508826066.55 - 3.76\n"
     ]
    }
   ],
   "source": [
    "import time\n",
    "\n",
    "template = '{} - {:0.2f} - {:0.2f}'\n",
    "\n",
    "print(template.format(\n",
    "    time.ctime(), time.time(), time.clock())\n",
    ")\n",
    "\n",
    "for i in range(3, 0, -1):\n",
    "    print('Sleeping', i)\n",
    "    time.sleep(i)\n",
    "    print(template.format(\n",
    "        time.ctime(), time.time(), time.clock())\n",
    "    )"
   ]
  },
  {
   "cell_type": "markdown",
   "metadata": {},
   "source": [
    "In this example, the loop does very little work by going to sleep after each iteration. The time() value increases even while the application is asleep, but the clock() value does not.\n",
    "\n",
    "Calling sleep() yields control from the current thread and asks it to wait for the system to wake it back up. If a program has only one thread, this effectively blocks the app and it does no work."
   ]
  },
  {
   "cell_type": "markdown",
   "metadata": {},
   "source": [
    "## Performance Counter"
   ]
  },
  {
   "cell_type": "markdown",
   "metadata": {},
   "source": [
    "It is important to have a high-resolution monotonic clock for measuring performance. Determining the best clock data source requires platform-specific knowledge, which Python provides in perf_counter()."
   ]
  },
  {
   "cell_type": "code",
   "execution_count": 10,
   "metadata": {},
   "outputs": [
    {
     "name": "stdout",
     "output_type": "stream",
     "text": [
      "Tue Oct 24 16:43:57 2017 : 0.495 0.495\n",
      "Tue Oct 24 16:43:58 2017 : 0.484 0.980\n",
      "Tue Oct 24 16:43:58 2017 : 0.485 1.465\n",
      "Tue Oct 24 16:43:59 2017 : 0.486 1.951\n",
      "Tue Oct 24 16:43:59 2017 : 0.476 2.426\n"
     ]
    }
   ],
   "source": [
    "import hashlib\n",
    "import time\n",
    "\n",
    "# Data to use to calculate md5 checksums\n",
    "data = open(\"README.md\", 'rb').read()\n",
    "\n",
    "loop_start = time.perf_counter()\n",
    "\n",
    "for i in range(5):\n",
    "    iter_start = time.perf_counter()\n",
    "    h = hashlib.sha1()\n",
    "    for i in range(300000):\n",
    "        h.update(data)\n",
    "    cksum = h.digest()\n",
    "    now = time.perf_counter()\n",
    "    loop_elapsed = now - loop_start\n",
    "    iter_elapsed = now - iter_start\n",
    "    print(time.ctime(), ': {:0.3f} {:0.3f}'.format(\n",
    "        iter_elapsed, loop_elapsed))"
   ]
  },
  {
   "cell_type": "markdown",
   "metadata": {},
   "source": [
    "As with monotonic(), the epoch for perf_counter() is undefined, and the values are meant to be used for comparing and computing values, not as absolute times."
   ]
  },
  {
   "cell_type": "markdown",
   "metadata": {},
   "source": [
    "## Time Components"
   ]
  },
  {
   "cell_type": "markdown",
   "metadata": {},
   "source": [
    "Storing times as elapsed seconds is useful in some situations, but there are times when a program needs to have access to the individual fields of a date (year, month, etc.). The time module defines struct_time for holding date and time values with components broken out so they are easy to access. There are several functions that work with struct_time values instead of floats."
   ]
  },
  {
   "cell_type": "code",
   "execution_count": 11,
   "metadata": {},
   "outputs": [
    {
     "name": "stdout",
     "output_type": "stream",
     "text": [
      "gmtime:\n",
      "  tm_year : 2017\n",
      "  tm_mon  : 10\n",
      "  tm_mday : 24\n",
      "  tm_hour : 8\n",
      "  tm_min  : 47\n",
      "  tm_sec  : 5\n",
      "  tm_wday : 1\n",
      "  tm_yday : 297\n",
      "  tm_isdst: 0\n",
      "\n",
      "localtime:\n",
      "  tm_year : 2017\n",
      "  tm_mon  : 10\n",
      "  tm_mday : 24\n",
      "  tm_hour : 16\n",
      "  tm_min  : 47\n",
      "  tm_sec  : 5\n",
      "  tm_wday : 1\n",
      "  tm_yday : 297\n",
      "  tm_isdst: 0\n",
      "\n",
      "mktime: 1508834825.0\n"
     ]
    }
   ],
   "source": [
    "import time\n",
    "\n",
    "\n",
    "def show_struct(s):\n",
    "    print('  tm_year :', s.tm_year)\n",
    "    print('  tm_mon  :', s.tm_mon)\n",
    "    print('  tm_mday :', s.tm_mday)\n",
    "    print('  tm_hour :', s.tm_hour)\n",
    "    print('  tm_min  :', s.tm_min)\n",
    "    print('  tm_sec  :', s.tm_sec)\n",
    "    print('  tm_wday :', s.tm_wday)\n",
    "    print('  tm_yday :', s.tm_yday)\n",
    "    print('  tm_isdst:', s.tm_isdst)\n",
    "\n",
    "\n",
    "print('gmtime:')\n",
    "show_struct(time.gmtime())\n",
    "print('\\nlocaltime:')\n",
    "show_struct(time.localtime())\n",
    "print('\\nmktime:', time.mktime(time.localtime()))"
   ]
  },
  {
   "cell_type": "markdown",
   "metadata": {},
   "source": [
    "* The gmtime() function returns the current time in UTC. \n",
    "\n",
    "* localtime() returns the current time with the current time zone applied. \n",
    "\n",
    "* mktime() takes a struct_time and converts it to the floating point representation.\n",
    "\n"
   ]
  },
  {
   "cell_type": "markdown",
   "metadata": {},
   "source": [
    "## Working with Time Zones"
   ]
  },
  {
   "cell_type": "markdown",
   "metadata": {},
   "source": [
    "The functions for determining the current time depend on having the time zone set, either by the program or by using a default time zone set for the system. Changing the time zone does not change the actual time, just the way it is represented.\n",
    "\n",
    "To change the time zone, set the environment variable TZ, then call tzset(). The time zone can be specified with a lot of detail, right down to the start and stop times for daylight savings time. It is usually easier to use the time zone name and let the underlying libraries derive the other information, though.\n",
    "\n",
    "This example program changes the time zone to a few different values and shows how the changes affect other settings in the time module."
   ]
  },
  {
   "cell_type": "code",
   "execution_count": 12,
   "metadata": {},
   "outputs": [
    {
     "name": "stdout",
     "output_type": "stream",
     "text": [
      "Default :\n",
      "  TZ    : (not set)\n",
      "  tzname: ('CST', 'CST')\n",
      "  Zone  : -28800 (-8.0)\n",
      "  DST   : 0\n",
      "  Time  : Tue Oct 24 16:56:53 2017\n",
      "\n",
      "GMT :\n",
      "  TZ    : GMT\n",
      "  tzname: ('GMT', 'GMT')\n",
      "  Zone  : 0 (0.0)\n",
      "  DST   : 0\n",
      "  Time  : Tue Oct 24 08:56:53 2017\n",
      "\n",
      "Europe/Amsterdam :\n",
      "  TZ    : Europe/Amsterdam\n",
      "  tzname: ('CET', 'CEST')\n",
      "  Zone  : -3600 (-1.0)\n",
      "  DST   : 1\n",
      "  Time  : Tue Oct 24 10:56:53 2017\n",
      "\n"
     ]
    }
   ],
   "source": [
    "import time\n",
    "import os\n",
    "\n",
    "\n",
    "def show_zone_info():\n",
    "    print('  TZ    :', os.environ.get('TZ', '(not set)'))\n",
    "    print('  tzname:', time.tzname)\n",
    "    print('  Zone  : {} ({})'.format(\n",
    "        time.timezone, (time.timezone / 3600)))\n",
    "    print('  DST   :', time.daylight)\n",
    "    print('  Time  :', time.ctime())\n",
    "    print()\n",
    "\n",
    "\n",
    "print('Default :')\n",
    "show_zone_info()\n",
    "\n",
    "ZONES = [\n",
    "    'GMT',\n",
    "    'Europe/Amsterdam',\n",
    "]\n",
    "\n",
    "for zone in ZONES:\n",
    "    os.environ['TZ'] = zone\n",
    "    time.tzset()\n",
    "    print(zone, ':')\n",
    "    show_zone_info()"
   ]
  },
  {
   "cell_type": "markdown",
   "metadata": {},
   "source": [
    "The default time zone on the system used to prepare the examples is US/Eastern. The other zones in the example change the tzname, daylight flag, and timezone offset value."
   ]
  },
  {
   "cell_type": "markdown",
   "metadata": {},
   "source": [
    "## Parsing and Formatting Times"
   ]
  },
  {
   "cell_type": "markdown",
   "metadata": {},
   "source": [
    "The two functions strptime() and strftime() convert between struct_time and string representations of time values. There is a long list of formatting instructions available to support input and output in different styles. The complete list is documented in the library documentation for the time module.\n",
    "\n",
    "This example converts the current time from a string to a struct_time instance and back to a string."
   ]
  },
  {
   "cell_type": "code",
   "execution_count": 15,
   "metadata": {},
   "outputs": [
    {
     "name": "stdout",
     "output_type": "stream",
     "text": [
      "Now: Mon Jan  2 22:17:27 2017\n",
      "tyoe of now: <class 'str'>\n",
      "\n",
      "Parsed:\n",
      "  tm_year : 2017\n",
      "  tm_mon  : 1\n",
      "  tm_mday : 2\n",
      "  tm_hour : 22\n",
      "  tm_min  : 17\n",
      "  tm_sec  : 27\n",
      "  tm_wday : 0\n",
      "  tm_yday : 2\n",
      "  tm_isdst: -1\n",
      "tyoe of parsed: <class 'time.struct_time'>\n",
      "\n",
      "Formatted: Mon Jan 02 22:17:27 2017\n"
     ]
    }
   ],
   "source": [
    "import time\n",
    "\n",
    "\n",
    "def show_struct(s):\n",
    "    print('  tm_year :', s.tm_year)\n",
    "    print('  tm_mon  :', s.tm_mon)\n",
    "    print('  tm_mday :', s.tm_mday)\n",
    "    print('  tm_hour :', s.tm_hour)\n",
    "    print('  tm_min  :', s.tm_min)\n",
    "    print('  tm_sec  :', s.tm_sec)\n",
    "    print('  tm_wday :', s.tm_wday)\n",
    "    print('  tm_yday :', s.tm_yday)\n",
    "    print('  tm_isdst:', s.tm_isdst)\n",
    "\n",
    "\n",
    "now = time.ctime(1483391847.433716)\n",
    "print('Now:', now)\n",
    "print(\"tyoe of now:\", type(now))\n",
    "\n",
    "parsed = time.strptime(now)\n",
    "print('\\nParsed:')\n",
    "show_struct(parsed)\n",
    "print(\"tyoe of parsed:\", type(parsed))\n",
    "\n",
    "print('\\nFormatted:',\n",
    "      time.strftime(\"%a %b %d %H:%M:%S %Y\", parsed))"
   ]
  },
  {
   "cell_type": "code",
   "execution_count": null,
   "metadata": {
    "collapsed": true
   },
   "outputs": [],
   "source": []
  }
 ],
 "metadata": {
  "kernelspec": {
   "display_name": "Python 3",
   "language": "python",
   "name": "python3"
  },
  "language_info": {
   "codemirror_mode": {
    "name": "ipython",
    "version": 3
   },
   "file_extension": ".py",
   "mimetype": "text/x-python",
   "name": "python",
   "nbconvert_exporter": "python",
   "pygments_lexer": "ipython3",
   "version": "3.6.1"
  }
 },
 "nbformat": 4,
 "nbformat_minor": 2
}
