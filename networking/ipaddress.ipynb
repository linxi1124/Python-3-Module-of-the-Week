{
 "cells": [
  {
   "cell_type": "markdown",
   "metadata": {},
   "source": [
    "The ipaddress module includes classes for working with IPv4 and IPv6 network addresses. The classes support validation, finding addresses and hosts on a network, and other common operations."
   ]
  },
  {
   "cell_type": "markdown",
   "metadata": {},
   "source": [
    "## Addresses"
   ]
  },
  {
   "cell_type": "markdown",
   "metadata": {},
   "source": [
    "The most basic object represents the network address itself. Pass a string, integer, or byte sequence to ip_address() to construct an address. The return value will be a IPv4Address or IPv6Address instance, depending on the type of address being used.\n",
    "\n"
   ]
  },
  {
   "cell_type": "code",
   "execution_count": 3,
   "metadata": {},
   "outputs": [
    {
     "name": "stdout",
     "output_type": "stream",
     "text": [
      "IPv4Address('10.9.0.6')\n",
      "   IP version: 4\n",
      "   is private: True\n",
      "  packed form: b'0a090006'\n",
      "      integer: 168361990\n",
      "\n",
      "IPv6Address('fdfd:87b5:b475:5e3e:b1bc:e121:a8eb:14aa')\n",
      "   IP version: 6\n",
      "   is private: True\n",
      "  packed form: b'fdfd87b5b4755e3eb1bce121a8eb14aa'\n",
      "      integer: 337611086560236126439725644408160982186\n",
      "\n"
     ]
    }
   ],
   "source": [
    "import binascii\n",
    "import ipaddress\n",
    "\n",
    "ADDRESSES = [\n",
    "    '10.9.0.6',\n",
    "    'fdfd:87b5:b475:5e3e:b1bc:e121:a8eb:14aa',\n",
    "]\n",
    "\n",
    "for ip in ADDRESSES:\n",
    "    addr = ipaddress.ip_address(ip)\n",
    "    print('{!r}'.format(addr))\n",
    "    print('   IP version:', addr.version)\n",
    "    print('   is private:', addr.is_private)\n",
    "    print('  packed form:', binascii.hexlify(addr.packed))\n",
    "    print('      integer:', int(addr))\n",
    "    print()"
   ]
  },
  {
   "cell_type": "markdown",
   "metadata": {},
   "source": [
    "Both classes can provide various representations of the address for different purposes, as well as answer basic assertions such as whether the address is reserved for multicast communication or if it is on a private network."
   ]
  },
  {
   "cell_type": "markdown",
   "metadata": {},
   "source": [
    "## Networks"
   ]
  },
  {
   "cell_type": "markdown",
   "metadata": {},
   "source": [
    "A network is defined by a range of addresses. It is usually expressed with a base address and a mask indicating which portions of the address represent the network, and which portions are remaining to represent addresses on that network. The mask can be expressed explicitly, or using a prefix length value as in the example below.\n",
    "\n"
   ]
  },
  {
   "cell_type": "code",
   "execution_count": 4,
   "metadata": {},
   "outputs": [
    {
     "name": "stdout",
     "output_type": "stream",
     "text": [
      "IPv4Network('10.9.0.0/24')\n",
      "     is private: True\n",
      "      broadcast: 10.9.0.255\n",
      "     compressed: 10.9.0.0/24\n",
      "   with netmask: 10.9.0.0/255.255.255.0\n",
      "  with hostmask: 10.9.0.0/0.0.0.255\n",
      "  num addresses: 256\n",
      "\n",
      "IPv6Network('fdfd:87b5:b475:5e3e::/64')\n",
      "     is private: True\n",
      "      broadcast: fdfd:87b5:b475:5e3e:ffff:ffff:ffff:ffff\n",
      "     compressed: fdfd:87b5:b475:5e3e::/64\n",
      "   with netmask: fdfd:87b5:b475:5e3e::/ffff:ffff:ffff:ffff::\n",
      "  with hostmask: fdfd:87b5:b475:5e3e::/::ffff:ffff:ffff:ffff\n",
      "  num addresses: 18446744073709551616\n",
      "\n"
     ]
    }
   ],
   "source": [
    "import ipaddress\n",
    "\n",
    "NETWORKS = [\n",
    "    '10.9.0.0/24',\n",
    "    'fdfd:87b5:b475:5e3e::/64',\n",
    "]\n",
    "\n",
    "for n in NETWORKS:\n",
    "    net = ipaddress.ip_network(n)\n",
    "    print('{!r}'.format(net))\n",
    "    print('     is private:', net.is_private)\n",
    "    print('      broadcast:', net.broadcast_address)\n",
    "    print('     compressed:', net.compressed)\n",
    "    print('   with netmask:', net.with_netmask)\n",
    "    print('  with hostmask:', net.with_hostmask)\n",
    "    print('  num addresses:', net.num_addresses)\n",
    "    print()"
   ]
  },
  {
   "cell_type": "markdown",
   "metadata": {},
   "source": [
    "As with addresses, there are two network classes for IPv4 and IPv6 networks. Each class provides properties or methods for accessing values associated with the network such as the broadcast address and the addresses on the network available for hosts to use.\n",
    "\n"
   ]
  },
  {
   "cell_type": "markdown",
   "metadata": {},
   "source": [
    "A network instance is iterable, and yields the addresses on the network.\n",
    "\n"
   ]
  },
  {
   "cell_type": "code",
   "execution_count": 5,
   "metadata": {},
   "outputs": [
    {
     "name": "stdout",
     "output_type": "stream",
     "text": [
      "IPv4Network('10.9.0.0/24')\n",
      "10.9.0.0\n",
      "10.9.0.1\n",
      "10.9.0.2\n",
      "\n",
      "IPv6Network('fdfd:87b5:b475:5e3e::/64')\n",
      "fdfd:87b5:b475:5e3e::\n",
      "fdfd:87b5:b475:5e3e::1\n",
      "fdfd:87b5:b475:5e3e::2\n",
      "\n"
     ]
    }
   ],
   "source": [
    "import ipaddress\n",
    "\n",
    "NETWORKS = [\n",
    "    '10.9.0.0/24',\n",
    "    'fdfd:87b5:b475:5e3e::/64',\n",
    "]\n",
    "\n",
    "for n in NETWORKS:\n",
    "    net = ipaddress.ip_network(n)\n",
    "    print('{!r}'.format(net))\n",
    "    for i, ip in zip(range(3), net):\n",
    "        print(ip)\n",
    "    print()"
   ]
  },
  {
   "cell_type": "markdown",
   "metadata": {},
   "source": [
    "Iterating over the network yields addresses, but not all of them are valid for hosts. For example, the base address of the network and the broadcast address are both included. To find the addresses that can be used by regular hosts on the network, use the hosts() method, which produces a generator.\n",
    "\n"
   ]
  },
  {
   "cell_type": "code",
   "execution_count": 6,
   "metadata": {},
   "outputs": [
    {
     "name": "stdout",
     "output_type": "stream",
     "text": [
      "IPv4Network('10.9.0.0/24')\n",
      "10.9.0.1\n",
      "10.9.0.2\n",
      "10.9.0.3\n",
      "\n",
      "IPv6Network('fdfd:87b5:b475:5e3e::/64')\n",
      "fdfd:87b5:b475:5e3e::1\n",
      "fdfd:87b5:b475:5e3e::2\n",
      "fdfd:87b5:b475:5e3e::3\n",
      "\n"
     ]
    }
   ],
   "source": [
    "import ipaddress\n",
    "\n",
    "NETWORKS = [\n",
    "    '10.9.0.0/24',\n",
    "    'fdfd:87b5:b475:5e3e::/64',\n",
    "]\n",
    "\n",
    "for n in NETWORKS:\n",
    "    net = ipaddress.ip_network(n)\n",
    "    print('{!r}'.format(net))\n",
    "    for i, ip in zip(range(3), net.hosts()):\n",
    "        print(ip)\n",
    "    print()"
   ]
  },
  {
   "cell_type": "markdown",
   "metadata": {},
   "source": [
    "In addition to the iterator protocol, networks support the in operator to determine if an address is part of a network."
   ]
  },
  {
   "cell_type": "code",
   "execution_count": 7,
   "metadata": {},
   "outputs": [
    {
     "name": "stdout",
     "output_type": "stream",
     "text": [
      "10.9.0.6\n",
      "is on 10.9.0.0/24\n",
      "\n",
      "10.7.0.31\n",
      "is not on a known network\n",
      "\n",
      "fdfd:87b5:b475:5e3e:b1bc:e121:a8eb:14aa\n",
      "is on fdfd:87b5:b475:5e3e::/64\n",
      "\n",
      "fe80::3840:c439:b25e:63b0\n",
      "is not on a known network\n",
      "\n"
     ]
    }
   ],
   "source": [
    "import ipaddress\n",
    "\n",
    "\n",
    "NETWORKS = [\n",
    "    ipaddress.ip_network('10.9.0.0/24'),\n",
    "    ipaddress.ip_network('fdfd:87b5:b475:5e3e::/64'),\n",
    "]\n",
    "\n",
    "ADDRESSES = [\n",
    "    ipaddress.ip_address('10.9.0.6'),\n",
    "    ipaddress.ip_address('10.7.0.31'),\n",
    "    ipaddress.ip_address(\n",
    "        'fdfd:87b5:b475:5e3e:b1bc:e121:a8eb:14aa'\n",
    "    ),\n",
    "    ipaddress.ip_address('fe80::3840:c439:b25e:63b0'),\n",
    "]\n",
    "\n",
    "\n",
    "for ip in ADDRESSES:\n",
    "    for net in NETWORKS:\n",
    "        if ip in net:\n",
    "            print('{}\\nis on {}'.format(ip, net))\n",
    "            break\n",
    "    else:\n",
    "        print('{}\\nis not on a known network'.format(ip))\n",
    "    print()"
   ]
  },
  {
   "cell_type": "markdown",
   "metadata": {},
   "source": [
    "## Interfaces"
   ]
  },
  {
   "cell_type": "markdown",
   "metadata": {},
   "source": [
    "A network interface represents a specific address on a network and can be represented by a host address and a network prefix or netmask."
   ]
  },
  {
   "cell_type": "code",
   "execution_count": 8,
   "metadata": {},
   "outputs": [
    {
     "name": "stdout",
     "output_type": "stream",
     "text": [
      "IPv4Interface('10.9.0.6/24')\n",
      "network:\n",
      "   10.9.0.0/24\n",
      "ip:\n",
      "   10.9.0.6\n",
      "IP with prefixlen:\n",
      "   10.9.0.6/24\n",
      "netmask:\n",
      "   10.9.0.6/255.255.255.0\n",
      "hostmask:\n",
      "   10.9.0.6/0.0.0.255\n",
      "\n",
      "IPv6Interface('fdfd:87b5:b475:5e3e:b1bc:e121:a8eb:14aa/64')\n",
      "network:\n",
      "   fdfd:87b5:b475:5e3e::/64\n",
      "ip:\n",
      "   fdfd:87b5:b475:5e3e:b1bc:e121:a8eb:14aa\n",
      "IP with prefixlen:\n",
      "   fdfd:87b5:b475:5e3e:b1bc:e121:a8eb:14aa/64\n",
      "netmask:\n",
      "   fdfd:87b5:b475:5e3e:b1bc:e121:a8eb:14aa/ffff:ffff:ffff:ffff::\n",
      "hostmask:\n",
      "   fdfd:87b5:b475:5e3e:b1bc:e121:a8eb:14aa/::ffff:ffff:ffff:ffff\n",
      "\n"
     ]
    }
   ],
   "source": [
    "import ipaddress\n",
    "\n",
    "\n",
    "ADDRESSES = [\n",
    "    '10.9.0.6/24',\n",
    "    'fdfd:87b5:b475:5e3e:b1bc:e121:a8eb:14aa/64',\n",
    "]\n",
    "\n",
    "\n",
    "for ip in ADDRESSES:\n",
    "    iface = ipaddress.ip_interface(ip)\n",
    "    print('{!r}'.format(iface))\n",
    "    print('network:\\n  ', iface.network)\n",
    "    print('ip:\\n  ', iface.ip)\n",
    "    print('IP with prefixlen:\\n  ', iface.with_prefixlen)\n",
    "    print('netmask:\\n  ', iface.with_netmask)\n",
    "    print('hostmask:\\n  ', iface.with_hostmask)\n",
    "    print()"
   ]
  },
  {
   "cell_type": "markdown",
   "metadata": {},
   "source": [
    "The interface object has properties to access the full network and address separately, as well as several different ways to express the interface and network mask.\n",
    "\n"
   ]
  },
  {
   "cell_type": "code",
   "execution_count": null,
   "metadata": {
    "collapsed": true
   },
   "outputs": [],
   "source": []
  }
 ],
 "metadata": {
  "kernelspec": {
   "display_name": "Python 3",
   "language": "python",
   "name": "python3"
  },
  "language_info": {
   "codemirror_mode": {
    "name": "ipython",
    "version": 3
   },
   "file_extension": ".py",
   "mimetype": "text/x-python",
   "name": "python",
   "nbconvert_exporter": "python",
   "pygments_lexer": "ipython3",
   "version": "3.6.1"
  }
 },
 "nbformat": 4,
 "nbformat_minor": 2
}
