{
 "cells": [
  {
   "cell_type": "markdown",
   "metadata": {},
   "source": [
    "From the programmer’s perspective there are two essential differences between using a Unix domain socket and an TCP/IP socket. First, the address of the socket is a path on the file system, rather than a tuple containing the server name and port. Second, the node created in the file system to represent the socket persists after the socket is closed, and needs to be removed each time the server starts up. The echo server example from earlier can be updated to use UDS by making a few changes in the setup section.\n",
    "\n",
    "The socket needs to be created with address family AF_UNIX. Binding the socket and managing the incoming connections works the same as with TCP/IP sockets."
   ]
  },
  {
   "cell_type": "code",
   "execution_count": 1,
   "metadata": {},
   "outputs": [],
   "source": [
    "# %load socket_echo_server_uds.py\n",
    "import socket\n",
    "import sys\n",
    "import os\n",
    "\n",
    "server_address = './uds_socket'\n",
    "\n",
    "# Make sure the socket does not already exist\n",
    "try:\n",
    "    os.unlink(server_address)\n",
    "except OSError:\n",
    "    if os.path.exists(server_address):\n",
    "        raise\n",
    "\n",
    "# Create a UDS socket\n",
    "sock = socket.socket(socket.AF_UNIX, socket.SOCK_STREAM)\n",
    "\n",
    "# Bind the socket to the address\n",
    "print('starting up on {}'.format(server_address))\n",
    "sock.bind(server_address)\n",
    "\n",
    "# Listen for incoming connections\n",
    "sock.listen(1)\n",
    "\n",
    "while True:\n",
    "    # Wait for a connection\n",
    "    print('waiting for a connection')\n",
    "    connection, client_address = sock.accept()\n",
    "    try:\n",
    "        print('connection from', client_address)\n",
    "\n",
    "        # Receive the data in small chunks and retransmit it\n",
    "        while True:\n",
    "            data = connection.recv(16)\n",
    "            print('received {!r}'.format(data))\n",
    "            if data:\n",
    "                print('sending data back to the client')\n",
    "                connection.sendall(data)\n",
    "            else:\n",
    "                print('no data from', client_address)\n",
    "                break\n",
    "\n",
    "    finally:\n",
    "        # Clean up the connection\n",
    "        connection.close()"
   ]
  },
  {
   "cell_type": "markdown",
   "metadata": {},
   "source": [
    "The client setup also needs to be modified to work with UDS. It should assume the file system node for the socket exists, since the server creates it by binding to the address. Sending and receiving data works the same way in the UDS client as the TCP/IP client from before.\n",
    "\n"
   ]
  },
  {
   "cell_type": "code",
   "execution_count": 2,
   "metadata": {},
   "outputs": [],
   "source": [
    "# %load socket_echo_client_uds.py\n",
    "import socket\n",
    "import sys\n",
    "\n",
    "# Create a UDS socket\n",
    "sock = socket.socket(socket.AF_UNIX, socket.SOCK_STREAM)\n",
    "\n",
    "# Connect the socket to the port where the server is listening\n",
    "server_address = './uds_socket'\n",
    "print('connecting to {}'.format(server_address))\n",
    "try:\n",
    "    sock.connect(server_address)\n",
    "except socket.error as msg:\n",
    "    print(msg)\n",
    "    sys.exit(1)\n",
    "\n",
    "try:\n",
    "\n",
    "    # Send data\n",
    "    message = b'This is the message.  It will be repeated.'\n",
    "    print('sending {!r}'.format(message))\n",
    "    sock.sendall(message)\n",
    "\n",
    "    amount_received = 0\n",
    "    amount_expected = len(message)\n",
    "\n",
    "    while amount_received < amount_expected:\n",
    "        data = sock.recv(16)\n",
    "        amount_received += len(data)\n",
    "        print('received {!r}'.format(data))\n",
    "\n",
    "finally:\n",
    "    print('closing socket')\n",
    "    sock.close()"
   ]
  },
  {
   "cell_type": "markdown",
   "metadata": {},
   "source": [
    "## Permissions"
   ]
  },
  {
   "cell_type": "markdown",
   "metadata": {},
   "source": [
    "Since the UDS socket is represented by a node on the file system, standard file system permissions can be used to control access to the server.\n",
    "\n",
    "Running the client as a user other than root now results in an error because the process does not have permission to open the socket.\n",
    "\n",
    "\n"
   ]
  },
  {
   "cell_type": "markdown",
   "metadata": {},
   "source": [
    "## Communication Between Parent and Child Processes"
   ]
  },
  {
   "cell_type": "markdown",
   "metadata": {},
   "source": [
    "The socketpair() function is useful for setting up UDS sockets for inter-process communication under Unix. It creates a pair of connected sockets that can be used to communicate between a parent process and a child process after the child is forked.\n",
    "\n"
   ]
  },
  {
   "cell_type": "code",
   "execution_count": 4,
   "metadata": {},
   "outputs": [
    {
     "name": "stdout",
     "output_type": "stream",
     "text": [
      "in child, waiting for message\n",
      "message from parent: b'ping'\n",
      "in parent, sending message\n",
      "response from child: b'pong'\n"
     ]
    }
   ],
   "source": [
    "\n",
    "import socket\n",
    "import os\n",
    "\n",
    "parent, child = socket.socketpair()\n",
    "\n",
    "pid = os.fork()\n",
    "\n",
    "if pid:\n",
    "    print('in parent, sending message')\n",
    "    child.close()\n",
    "    parent.sendall(b'ping')\n",
    "    response = parent.recv(1024)\n",
    "    print('response from child:', response)\n",
    "    parent.close()\n",
    "\n",
    "else:\n",
    "    print('in child, waiting for message')\n",
    "    parent.close()\n",
    "    message = child.recv(1024)\n",
    "    print('message from parent:', message)\n",
    "    child.sendall(b'pong')\n",
    "    child.close()"
   ]
  },
  {
   "cell_type": "code",
   "execution_count": null,
   "metadata": {},
   "outputs": [],
   "source": []
  }
 ],
 "metadata": {
  "kernelspec": {
   "display_name": "Python 3",
   "language": "python",
   "name": "python3"
  },
  "language_info": {
   "codemirror_mode": {
    "name": "ipython",
    "version": 3
   },
   "file_extension": ".py",
   "mimetype": "text/x-python",
   "name": "python",
   "nbconvert_exporter": "python",
   "pygments_lexer": "ipython3",
   "version": "3.6.1"
  }
 },
 "nbformat": 4,
 "nbformat_minor": 2
}
