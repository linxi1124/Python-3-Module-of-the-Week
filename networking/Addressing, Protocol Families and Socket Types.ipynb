{
 "cells": [
  {
   "cell_type": "markdown",
   "metadata": {},
   "source": [
    "A socket is one endpoint of a communication channel used by programs to pass data back and forth locally or across the Internet. Sockets have two primary properties controlling the way they send data: the address family controls the OSI network layer protocol used and the socket type controls the transport layer protocol.\n",
    "\n",
    "Python supports three address families. The most common, AF_INET, is used for IPv4 Internet addressing. IPv4 addresses are four bytes long and are usually represented as a sequence of four numbers, one per octet, separated by dots (e.g., 10.1.1.5 and 127.0.0.1). These values are more commonly referred to as “IP addresses.” Almost all Internet networking is done using IP version 4 at this time.\n",
    "\n",
    "AF_INET6 is used for IPv6 Internet addressing. IPv6 is the “next generation” version of the Internet protocol, and supports 128-bit addresses, traffic shaping, and routing features not available under IPv4. Adoption of IPv6 continues to grow, especially with the proliferation of cloud computing and the extra devices being added to the network because of Internet-of-things projects.\n",
    "\n",
    "AF_UNIX is the address family for Unix Domain Sockets (UDS), an inter-process communication protocol available on POSIX-compliant systems. The implementation of UDS typically allows the operating system to pass data directly from process to process, without going through the network stack. This is more efficient than using AF_INET, but because the file system is used as the namespace for addressing, UDS is restricted to processes on the same system. The appeal of using UDS over other IPC mechanisms such as named pipes or shared memory is that the programming interface is the same as for IP networking, so the application can take advantage of efficient communication when running on a single host, but use the same code when sending data across the network.\n",
    "\n",
    "**Note**:\n",
    "\n",
    "THE AF_UNIX constant is only defined on systems where UDS is supported.\n",
    "\n",
    "The socket type is usually either SOCK_DGRAM for message-oriented datagram transport or SOCK_STREAM for stream-oriented transport. Datagram sockets are most often associated with UDP, the user datagram protocol. They provide unreliable delivery of individual messages. Stream-oriented sockets are associated with TCP, transmission control protocol. They provide byte streams between the client and server, ensuring message delivery or failure notification through timeout management, retransmission, and other features.\n",
    "\n",
    "Most application protocols that deliver a large amount of data, such as HTTP, are built on top of TCP because it makes it simpler to create complex applications when message ordering and delivery is handled automatically. UDP is commonly used for protocols where order is less important (since the messages are self-contained and often small, such as name look-ups via DNS), or for multicasting (sending the same data to several hosts). Both UDP and TCP can be used with either IPv4 or IPv6 addressing."
   ]
  },
  {
   "cell_type": "markdown",
   "metadata": {},
   "source": [
    "## Looking up Hosts on the Network"
   ]
  },
  {
   "cell_type": "markdown",
   "metadata": {},
   "source": [
    "socket includes functions to interface with the domain name services on the network so a program can convert the host name of a server into its numerical network address. Applications do not need to convert addresses explicitly before using them to connect to a server, but it can be useful when reporting errors to include the numerical address as well as the name value being used.\n",
    "\n",
    "To find the official name of the current host, use gethostname()"
   ]
  },
  {
   "cell_type": "code",
   "execution_count": 1,
   "metadata": {},
   "outputs": [
    {
     "name": "stdout",
     "output_type": "stream",
     "text": [
      "scott-t460\n"
     ]
    }
   ],
   "source": [
    "import socket\n",
    " \n",
    "print(socket.gethostname())\n",
    "    "
   ]
  },
  {
   "cell_type": "markdown",
   "metadata": {},
   "source": [
    "Use gethostbyname() to consult the operating system hostname resolution API and convert the name of a server to its numerical address.\n",
    "\n"
   ]
  },
  {
   "cell_type": "code",
   "execution_count": 2,
   "metadata": {},
   "outputs": [
    {
     "name": "stdout",
     "output_type": "stream",
     "text": [
      "apu : [Errno -2] Name or service not known\n",
      "pymotw.com : 66.33.211.242\n",
      "www.python.org : 151.101.40.223\n",
      "nosuchname : [Errno -2] Name or service not known\n"
     ]
    }
   ],
   "source": [
    "import socket\n",
    "\n",
    "HOSTS = [\n",
    "    'apu',\n",
    "    'pymotw.com',\n",
    "    'www.python.org',\n",
    "    'nosuchname',\n",
    "]\n",
    "\n",
    "for host in HOSTS:\n",
    "    try:\n",
    "        print('{} : {}'.format(host, socket.gethostbyname(host)))\n",
    "    except socket.error as msg:\n",
    "        print('{} : {}'.format(host, msg))"
   ]
  },
  {
   "cell_type": "markdown",
   "metadata": {},
   "source": [
    "For access to more naming information about a server, use gethostbyname_ex(). It returns the canonical hostname of the server, any aliases, and all of the available IP addresses that can be used to reach it."
   ]
  },
  {
   "cell_type": "code",
   "execution_count": 3,
   "metadata": {},
   "outputs": [
    {
     "name": "stdout",
     "output_type": "stream",
     "text": [
      "apu\n",
      "ERROR: [Errno -2] Name or service not known\n",
      "\n",
      "pymotw.com\n",
      "  Hostname: pymotw.com\n",
      "  Aliases : []\n",
      " Addresses: ['66.33.211.242']\n",
      "\n",
      "www.python.org\n",
      "  Hostname: python.map.fastly.net\n",
      "  Aliases : ['www.python.org']\n",
      " Addresses: ['151.101.40.223']\n",
      "\n",
      "nosuchname\n",
      "ERROR: [Errno -2] Name or service not known\n",
      "\n"
     ]
    }
   ],
   "source": [
    "import socket\n",
    "\n",
    "HOSTS = [\n",
    "    'apu',\n",
    "    'pymotw.com',\n",
    "    'www.python.org',\n",
    "    'nosuchname',\n",
    "]\n",
    "\n",
    "for host in HOSTS:\n",
    "    print(host)\n",
    "    try:\n",
    "        name, aliases, addresses = socket.gethostbyname_ex(host)\n",
    "        print('  Hostname:', name)\n",
    "        print('  Aliases :', aliases)\n",
    "        print(' Addresses:', addresses)\n",
    "    except socket.error as msg:\n",
    "        print('ERROR:', msg)\n",
    "    print()"
   ]
  },
  {
   "cell_type": "markdown",
   "metadata": {},
   "source": [
    "Use getfqdn() to convert a partial name to a fully qualified domain name."
   ]
  },
  {
   "cell_type": "code",
   "execution_count": 5,
   "metadata": {},
   "outputs": [
    {
     "name": "stdout",
     "output_type": "stream",
     "text": [
      "scott-t460 : scott-t460\n",
      "pymotw.com : apache2-zoo.george-washington.dreamhost.com\n"
     ]
    }
   ],
   "source": [
    "import socket\n",
    "\n",
    "for host in ['scott-t460', 'pymotw.com']:\n",
    "    print('{:>10} : {}'.format(host, socket.getfqdn(host)))"
   ]
  },
  {
   "cell_type": "markdown",
   "metadata": {},
   "source": [
    "When the address of a server is available, use gethostbyaddr() to do a “reverse” lookup for the name.\n",
    "\n"
   ]
  },
  {
   "cell_type": "code",
   "execution_count": 7,
   "metadata": {},
   "outputs": [
    {
     "name": "stdout",
     "output_type": "stream",
     "text": [
      "Hostname : scott-t460\n",
      "Aliases  : []\n",
      "Addresses: ['10.104.190.53', '172.17.0.1']\n"
     ]
    }
   ],
   "source": [
    "import socket\n",
    "\n",
    "hostname, aliases, addresses = socket.gethostbyaddr('10.104.190.53')\n",
    "\n",
    "print('Hostname :', hostname)\n",
    "print('Aliases  :', aliases)\n",
    "print('Addresses:', addresses)"
   ]
  },
  {
   "cell_type": "markdown",
   "metadata": {},
   "source": [
    "## Finding Service Information"
   ]
  },
  {
   "cell_type": "markdown",
   "metadata": {},
   "source": [
    "In addition to an IP address, each socket address includes an integer port number. Many applications can run on the same host, listening on a single IP address, but only one socket at a time can use a port at that address. The combination of IP address, protocol, and port number uniquely identify a communication channel and ensure that messages sent through a socket arrive at the correct destination.\n",
    "\n",
    "Some of the port numbers are pre-allocated for a specific protocol. For example, communication between email servers using SMTP occurs over port number 25 using TCP, and web clients and servers use port 80 for HTTP. The port numbers for network services with standardized names can be looked up with getservbyname()."
   ]
  },
  {
   "cell_type": "code",
   "execution_count": 8,
   "metadata": {},
   "outputs": [
    {
     "name": "stdout",
     "output_type": "stream",
     "text": [
      "  http : 80\n",
      " https : 443\n",
      "   ftp : 21\n",
      "gopher : 70\n",
      "  smtp : 25\n",
      "  imap : 143\n",
      " imaps : 993\n",
      "  pop3 : 110\n",
      " pop3s : 995\n"
     ]
    }
   ],
   "source": [
    "import socket\n",
    "from urllib.parse import urlparse\n",
    "\n",
    "URLS = [\n",
    "    'http://www.python.org',\n",
    "    'https://www.mybank.com',\n",
    "    'ftp://prep.ai.mit.edu',\n",
    "    'gopher://gopher.micro.umn.edu',\n",
    "    'smtp://mail.example.com',\n",
    "    'imap://mail.example.com',\n",
    "    'imaps://mail.example.com',\n",
    "    'pop3://pop.example.com',\n",
    "    'pop3s://pop.example.com',\n",
    "]\n",
    "\n",
    "for url in URLS:\n",
    "    parsed_url = urlparse(url)\n",
    "    port = socket.getservbyname(parsed_url.scheme)\n",
    "    print('{:>6} : {}'.format(parsed_url.scheme, port))"
   ]
  },
  {
   "cell_type": "markdown",
   "metadata": {},
   "source": [
    "To reverse the service port lookup, use getservbyport().\n",
    "\n"
   ]
  },
  {
   "cell_type": "code",
   "execution_count": 9,
   "metadata": {},
   "outputs": [
    {
     "name": "stdout",
     "output_type": "stream",
     "text": [
      "http://example.com/\n",
      "https://example.com/\n",
      "ftp://example.com/\n",
      "gopher://example.com/\n",
      "smtp://example.com/\n",
      "imap2://example.com/\n",
      "imaps://example.com/\n",
      "pop3://example.com/\n",
      "pop3s://example.com/\n"
     ]
    }
   ],
   "source": [
    "import socket\n",
    "from urllib.parse import urlunparse\n",
    "\n",
    "for port in [80, 443, 21, 70, 25, 143, 993, 110, 995]:\n",
    "    url = '{}://example.com/'.format(socket.getservbyport(port))\n",
    "    print(url)"
   ]
  },
  {
   "cell_type": "markdown",
   "metadata": {},
   "source": [
    "The number assigned to a transport protocol can be retrieved with getprotobyname().\n",
    "\n"
   ]
  },
  {
   "cell_type": "code",
   "execution_count": 10,
   "metadata": {},
   "outputs": [
    {
     "name": "stdout",
     "output_type": "stream",
     "text": [
      "icmp ->  1 (socket.IPPROTO_ICMP =  1)\n",
      " udp -> 17 (socket.IPPROTO_UDP  = 17)\n",
      " tcp ->  6 (socket.IPPROTO_TCP  =  6)\n"
     ]
    }
   ],
   "source": [
    "import socket\n",
    "\n",
    "\n",
    "def get_constants(prefix):\n",
    "    \"\"\"Create a dictionary mapping socket module\n",
    "    constants to their names.\n",
    "    \"\"\"\n",
    "    return {\n",
    "        getattr(socket, n): n\n",
    "        for n in dir(socket)\n",
    "        if n.startswith(prefix)\n",
    "    }\n",
    "\n",
    "\n",
    "protocols = get_constants('IPPROTO_')\n",
    "\n",
    "for name in ['icmp', 'udp', 'tcp']:\n",
    "    proto_num = socket.getprotobyname(name)\n",
    "    const_name = protocols[proto_num]\n",
    "    print('{:>4} -> {:2d} (socket.{:<12} = {:2d})'.format(\n",
    "        name, proto_num, const_name,\n",
    "        getattr(socket, const_name)))"
   ]
  },
  {
   "cell_type": "markdown",
   "metadata": {},
   "source": [
    "## Looking Up Server Addresses"
   ]
  },
  {
   "cell_type": "markdown",
   "metadata": {},
   "source": [
    "getaddrinfo() converts the basic address of a service into a list of tuples with all of the information necessary to make a connection. The contents of each tuple will vary, containing different network families or protocols.\n",
    "\n"
   ]
  },
  {
   "cell_type": "code",
   "execution_count": 13,
   "metadata": {},
   "outputs": [
    {
     "name": "stdout",
     "output_type": "stream",
     "text": [
      "Family        : AF_INET\n",
      "Type          : SOCK_STREAM\n",
      "Protocol      : IPPROTO_TCP\n",
      "Canonical name: \n",
      "Socket address: ('151.101.52.223', 80)\n",
      "\n",
      "Family        : AF_INET\n",
      "Type          : SOCK_DGRAM\n",
      "Protocol      : IPPROTO_UDP\n",
      "Canonical name: \n",
      "Socket address: ('151.101.52.223', 80)\n",
      "\n",
      "Family        : AF_INET6\n",
      "Type          : SOCK_STREAM\n",
      "Protocol      : IPPROTO_TCP\n",
      "Canonical name: \n",
      "Socket address: ('2a04:4e42:d::223', 80, 0, 0)\n",
      "\n",
      "Family        : AF_INET6\n",
      "Type          : SOCK_DGRAM\n",
      "Protocol      : IPPROTO_UDP\n",
      "Canonical name: \n",
      "Socket address: ('2a04:4e42:d::223', 80, 0, 0)\n",
      "\n"
     ]
    }
   ],
   "source": [
    "import socket\n",
    "\n",
    "\n",
    "def get_constants(prefix):\n",
    "    \"\"\"Create a dictionary mapping socket module\n",
    "    constants to their names.\n",
    "    \"\"\"\n",
    "    return {\n",
    "        getattr(socket, n): n\n",
    "        for n in dir(socket)\n",
    "        if n.startswith(prefix)\n",
    "    }\n",
    "\n",
    "\n",
    "families = get_constants('AF_')\n",
    "types = get_constants('SOCK_')\n",
    "protocols = get_constants('IPPROTO_')\n",
    "\n",
    "for response in socket.getaddrinfo('www.python.org', 'http'):\n",
    "\n",
    "    # Unpack the response tuple\n",
    "    family, socktype, proto, canonname, sockaddr = response\n",
    "\n",
    "    print('Family        :', families[family])\n",
    "    print('Type          :', types[socktype])\n",
    "    print('Protocol      :', protocols[proto])\n",
    "    print('Canonical name:', canonname)\n",
    "    print('Socket address:', sockaddr)\n",
    "    print()"
   ]
  },
  {
   "cell_type": "markdown",
   "metadata": {},
   "source": [
    "## IP Address Representations"
   ]
  },
  {
   "cell_type": "markdown",
   "metadata": {},
   "source": [
    "Network programs written in C use the data type struct sockaddr to represent IP addresses as binary values (instead of the string addresses usually found in Python programs). To convert IPv4 addresses between the Python representation and the C representation, use inet_aton() and inet_ntoa()."
   ]
  },
  {
   "cell_type": "code",
   "execution_count": 14,
   "metadata": {},
   "outputs": [
    {
     "name": "stdout",
     "output_type": "stream",
     "text": [
      "Original: 192.168.1.1\n",
      "Packed  : b'c0a80101'\n",
      "Unpacked: 192.168.1.1\n",
      "\n",
      "Original: 127.0.0.1\n",
      "Packed  : b'7f000001'\n",
      "Unpacked: 127.0.0.1\n",
      "\n"
     ]
    }
   ],
   "source": [
    "import binascii\n",
    "import socket\n",
    "import struct\n",
    "import sys\n",
    "\n",
    "for string_address in ['192.168.1.1', '127.0.0.1']:\n",
    "    packed = socket.inet_aton(string_address)\n",
    "    print('Original:', string_address)\n",
    "    print('Packed  :', binascii.hexlify(packed))\n",
    "    print('Unpacked:', socket.inet_ntoa(packed))\n",
    "    print()"
   ]
  },
  {
   "cell_type": "markdown",
   "metadata": {},
   "source": [
    "The four bytes in the packed format can be passed to C libraries, transmitted safely over the network, or saved to a database compactly.\n",
    "\n"
   ]
  },
  {
   "cell_type": "markdown",
   "metadata": {},
   "source": [
    "The related functions inet_pton() and inet_ntop() work with both IPv4 and IPv6 addresses, producing the appropriate format based on the address family parameter passed in.\n"
   ]
  },
  {
   "cell_type": "code",
   "execution_count": 15,
   "metadata": {},
   "outputs": [
    {
     "name": "stdout",
     "output_type": "stream",
     "text": [
      "Original: 2002:ac10:10a:1234:21e:52ff:fe74:40e\n",
      "Packed  : b'2002ac10010a1234021e52fffe74040e'\n",
      "Unpacked: 2002:ac10:10a:1234:21e:52ff:fe74:40e\n"
     ]
    }
   ],
   "source": [
    "import binascii\n",
    "import socket\n",
    "import struct\n",
    "import sys\n",
    "\n",
    "string_address = '2002:ac10:10a:1234:21e:52ff:fe74:40e'\n",
    "packed = socket.inet_pton(socket.AF_INET6, string_address)\n",
    "\n",
    "print('Original:', string_address)\n",
    "print('Packed  :', binascii.hexlify(packed))\n",
    "print('Unpacked:', socket.inet_ntop(socket.AF_INET6, packed))"
   ]
  },
  {
   "cell_type": "code",
   "execution_count": null,
   "metadata": {
    "collapsed": true
   },
   "outputs": [],
   "source": []
  }
 ],
 "metadata": {
  "kernelspec": {
   "display_name": "Python 3",
   "language": "python",
   "name": "python3"
  },
  "language_info": {
   "codemirror_mode": {
    "name": "ipython",
    "version": 3
   },
   "file_extension": ".py",
   "mimetype": "text/x-python",
   "name": "python",
   "nbconvert_exporter": "python",
   "pygments_lexer": "ipython3",
   "version": "3.6.1"
  }
 },
 "nbformat": 4,
 "nbformat_minor": 2
}
