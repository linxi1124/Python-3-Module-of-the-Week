{
 "cells": [
  {
   "cell_type": "markdown",
   "metadata": {},
   "source": [
    "The selectors module provides a platform-independent abstraction layer on top of the platform-specific I/O monitoring functions in select."
   ]
  },
  {
   "cell_type": "markdown",
   "metadata": {},
   "source": [
    "## Operating Model"
   ]
  },
  {
   "cell_type": "markdown",
   "metadata": {},
   "source": [
    "The APIs in selectors are event-based, similar to poll() from select. There are several implementations and the module automatically sets the alias DefaultSelector to refer to the most efficient one for the current system configuration.\n",
    "\n",
    "A selector object provides methods for specifying what events to look for on a socket, and then lets the caller wait for events in a platform-independent way. Registering interest in an event creates a SelectorKey, which holds the socket, information about the events of interest, and optional application data. The owner of the selector calls its select() method to learn about events. The return value is a sequence of key objects and a bitmask indicating what events have occurred. A program using a selector should repeatedly call select(), then handle the events appropriately."
   ]
  },
  {
   "cell_type": "markdown",
   "metadata": {},
   "source": [
    "## Echo Server"
   ]
  },
  {
   "cell_type": "markdown",
   "metadata": {},
   "source": [
    "The echo server example below uses the application data in the SelectorKey to register a callback function to be invoked on the new event. The main loop gets the callback from the key and passes the socket and event mask to it. As the server starts, it registers the accept() function to be called for read events on the main server socket. Accepting the connection produces a new socket, which is then registered with the read() function as a callback for read events."
   ]
  },
  {
   "cell_type": "code",
   "execution_count": 1,
   "metadata": {},
   "outputs": [],
   "source": [
    "# %load selectors_echo_server.py\n",
    "import selectors\n",
    "import socket\n",
    "\n",
    "mysel = selectors.DefaultSelector()\n",
    "keep_running = True\n",
    "\n",
    "\n",
    "def read(connection, mask):\n",
    "    \"Callback for read events\"\n",
    "    global keep_running\n",
    "\n",
    "    client_address = connection.getpeername()\n",
    "    print('read({})'.format(client_address))\n",
    "    data = connection.recv(1024)\n",
    "    if data:\n",
    "        # A readable client socket has data\n",
    "        print('  received {!r}'.format(data))\n",
    "        connection.sendall(data)\n",
    "    else:\n",
    "        # Interpret empty result as closed connection\n",
    "        print('  closing')\n",
    "        mysel.unregister(connection)\n",
    "        connection.close()\n",
    "        # Tell the main loop to stop\n",
    "        keep_running = False\n",
    "\n",
    "\n",
    "def accept(sock, mask):\n",
    "    \"Callback for new connections\"\n",
    "    new_connection, addr = sock.accept()\n",
    "    print('accept({})'.format(addr))\n",
    "    new_connection.setblocking(False)\n",
    "    mysel.register(new_connection, selectors.EVENT_READ, read)\n",
    "\n",
    "\n",
    "server_address = ('localhost', 10000)\n",
    "print('starting up on {} port {}'.format(*server_address))\n",
    "server = socket.socket(socket.AF_INET, socket.SOCK_STREAM)\n",
    "server.setblocking(False)\n",
    "server.bind(server_address)\n",
    "server.listen(5)\n",
    "\n",
    "mysel.register(server, selectors.EVENT_READ, accept)\n",
    "\n",
    "while keep_running:\n",
    "    print('waiting for I/O')\n",
    "    for key, mask in mysel.select(timeout=1):\n",
    "        callback = key.data\n",
    "        callback(key.fileobj, mask)\n",
    "\n",
    "print('shutting down')\n",
    "mysel.close()"
   ]
  },
  {
   "cell_type": "markdown",
   "metadata": {},
   "source": [
    "When read() receives no data from the socket, it interprets the read event as the other side of the connection being closed instead of sending data. It removes the socket from the selector and closes it. In order to avoid an infinite loop, this server also shuts itself down after it has finished communicating with a single client."
   ]
  },
  {
   "cell_type": "markdown",
   "metadata": {},
   "source": [
    "## Echo Client"
   ]
  },
  {
   "cell_type": "markdown",
   "metadata": {},
   "source": [
    "The echo client example below processes all of the I/O events in the main loop, instead of using callbacks. It sets up the selector to report read events on the socket, and to report when the socket is ready to send data. Because it is looking at two types of events, the client must check which occurred by examining the mask value. After all of its outgoing data has been sent, it changes the selector configuration to only report when there is data to read."
   ]
  },
  {
   "cell_type": "code",
   "execution_count": 2,
   "metadata": {},
   "outputs": [],
   "source": [
    "# %load selectors_echo_client.py\n",
    "import selectors\n",
    "import socket\n",
    "\n",
    "mysel = selectors.DefaultSelector()\n",
    "keep_running = True\n",
    "outgoing = [\n",
    "    b'It will be repeated.',\n",
    "    b'This is the message.  ',\n",
    "]\n",
    "bytes_sent = 0\n",
    "bytes_received = 0\n",
    "\n",
    "# Connecting is a blocking operation, so call setblocking()\n",
    "# after it returns.\n",
    "server_address = ('localhost', 10000)\n",
    "print('connecting to {} port {}'.format(*server_address))\n",
    "sock = socket.socket(socket.AF_INET, socket.SOCK_STREAM)\n",
    "sock.connect(server_address)\n",
    "sock.setblocking(False)\n",
    "\n",
    "# Set up the selector to watch for when the socket is ready\n",
    "# to send data as well as when there is data to read.\n",
    "mysel.register(\n",
    "    sock,\n",
    "    selectors.EVENT_READ | selectors.EVENT_WRITE,\n",
    ")\n",
    "\n",
    "while keep_running:\n",
    "    print('waiting for I/O')\n",
    "    for key, mask in mysel.select(timeout=1):\n",
    "        connection = key.fileobj\n",
    "        client_address = connection.getpeername()\n",
    "        print('client({})'.format(client_address))\n",
    "\n",
    "        if mask & selectors.EVENT_READ:\n",
    "            print('  ready to read')\n",
    "            data = connection.recv(1024)\n",
    "            if data:\n",
    "                # A readable client socket has data\n",
    "                print('  received {!r}'.format(data))\n",
    "                bytes_received += len(data)\n",
    "\n",
    "            # Interpret empty result as closed connection,\n",
    "            # and also close when we have received a copy\n",
    "            # of all of the data sent.\n",
    "            keep_running = not (\n",
    "                data or\n",
    "                (bytes_received and\n",
    "                 (bytes_received == bytes_sent))\n",
    "            )\n",
    "\n",
    "        if mask & selectors.EVENT_WRITE:\n",
    "            print('  ready to write')\n",
    "            if not outgoing:\n",
    "                # We are out of messages, so we no longer need to\n",
    "                # write anything. Change our registration to let\n",
    "                # us keep reading responses from the server.\n",
    "                print('  switching to read-only')\n",
    "                mysel.modify(sock, selectors.EVENT_READ)\n",
    "            else:\n",
    "                # Send the next message.\n",
    "                next_msg = outgoing.pop()\n",
    "                print('  sending {!r}'.format(next_msg))\n",
    "                sock.sendall(next_msg)\n",
    "                bytes_sent += len(next_msg)\n",
    "\n",
    "print('shutting down')\n",
    "mysel.unregister(connection)\n",
    "connection.close()\n",
    "mysel.close()"
   ]
  },
  {
   "cell_type": "markdown",
   "metadata": {},
   "source": [
    "The client tracks the amount of data it has sent, and the amount it has received. When those values match and are non-zero, the client exits the processing loop and cleanly shuts down by removing the socket from the selector and closing both the socket and the selector.\n",
    "\n"
   ]
  },
  {
   "cell_type": "code",
   "execution_count": null,
   "metadata": {},
   "outputs": [],
   "source": []
  }
 ],
 "metadata": {
  "kernelspec": {
   "display_name": "Python 3",
   "language": "python",
   "name": "python3"
  },
  "language_info": {
   "codemirror_mode": {
    "name": "ipython",
    "version": 3
   },
   "file_extension": ".py",
   "mimetype": "text/x-python",
   "name": "python",
   "nbconvert_exporter": "python",
   "pygments_lexer": "ipython3",
   "version": "3.6.1"
  }
 },
 "nbformat": 4,
 "nbformat_minor": 2
}
