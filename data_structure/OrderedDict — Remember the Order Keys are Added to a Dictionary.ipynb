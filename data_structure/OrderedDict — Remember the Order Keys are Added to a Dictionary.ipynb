{
 "cells": [
  {
   "cell_type": "markdown",
   "metadata": {},
   "source": [
    "An OrderedDict is a dictionary subclass that remembers the order in which its contents are added."
   ]
  },
  {
   "cell_type": "code",
   "execution_count": 1,
   "metadata": {},
   "outputs": [
    {
     "name": "stdout",
     "output_type": "stream",
     "text": [
      "Regular dictionary:\n",
      "a A\n",
      "b B\n",
      "c C\n",
      "\n",
      "OrderedDict:\n",
      "a A\n",
      "b B\n",
      "c C\n"
     ]
    }
   ],
   "source": [
    "import collections\n",
    "\n",
    "print('Regular dictionary:')\n",
    "d = {}\n",
    "d['a'] = 'A'\n",
    "d['b'] = 'B'\n",
    "d['c'] = 'C'\n",
    "\n",
    "for k, v in d.items():\n",
    "    print(k, v)\n",
    "\n",
    "print('\\nOrderedDict:')\n",
    "d = collections.OrderedDict()\n",
    "d['a'] = 'A'\n",
    "d['b'] = 'B'\n",
    "d['c'] = 'C'\n",
    "\n",
    "for k, v in d.items():\n",
    "    print(k, v)"
   ]
  },
  {
   "cell_type": "markdown",
   "metadata": {},
   "source": [
    "A regular dict does not track the insertion order, and iterating over it produces the values in order based on how the keys are stored in the hash table, which is in turn influenced by a random value to reduce collisions. In an OrderedDict, by contrast, the order in which the items are inserted is remembered and used when creating an iterator."
   ]
  },
  {
   "cell_type": "markdown",
   "metadata": {},
   "source": [
    "## Equality"
   ]
  },
  {
   "cell_type": "markdown",
   "metadata": {},
   "source": [
    "A regular dict looks at its contents when testing for equality. An OrderedDict also considers the order in which the items were added."
   ]
  },
  {
   "cell_type": "code",
   "execution_count": 2,
   "metadata": {},
   "outputs": [
    {
     "name": "stdout",
     "output_type": "stream",
     "text": [
      "dict       : True\n",
      "OrderedDict: False\n"
     ]
    }
   ],
   "source": [
    "import collections\n",
    "\n",
    "print('dict       :', end=' ')\n",
    "d1 = {}\n",
    "d1['a'] = 'A'\n",
    "d1['b'] = 'B'\n",
    "d1['c'] = 'C'\n",
    "\n",
    "d2 = {}\n",
    "d2['c'] = 'C'\n",
    "d2['b'] = 'B'\n",
    "d2['a'] = 'A'\n",
    "\n",
    "print(d1 == d2)\n",
    "\n",
    "print('OrderedDict:', end=' ')\n",
    "\n",
    "d1 = collections.OrderedDict()\n",
    "d1['a'] = 'A'\n",
    "d1['b'] = 'B'\n",
    "d1['c'] = 'C'\n",
    "\n",
    "d2 = collections.OrderedDict()\n",
    "d2['c'] = 'C'\n",
    "d2['b'] = 'B'\n",
    "d2['a'] = 'A'\n",
    "\n",
    "print(d1 == d2)"
   ]
  },
  {
   "cell_type": "markdown",
   "metadata": {},
   "source": [
    "In this case, since the two ordered dictionaries are created from values in a different order, they are considered to be different."
   ]
  },
  {
   "cell_type": "markdown",
   "metadata": {},
   "source": [
    "## Reordering"
   ]
  },
  {
   "cell_type": "markdown",
   "metadata": {},
   "source": [
    "It is possible to change the order of the keys in an OrderedDict by moving them to either the beginning or the end of the sequence using move_to_end()."
   ]
  },
  {
   "cell_type": "code",
   "execution_count": 3,
   "metadata": {},
   "outputs": [
    {
     "name": "stdout",
     "output_type": "stream",
     "text": [
      "Before:\n",
      "a A\n",
      "b B\n",
      "c C\n",
      "\n",
      "move_to_end():\n",
      "a A\n",
      "c C\n",
      "b B\n",
      "\n",
      "move_to_end(last=False):\n",
      "b B\n",
      "a A\n",
      "c C\n"
     ]
    }
   ],
   "source": [
    "import collections\n",
    "\n",
    "d = collections.OrderedDict(\n",
    "    [('a', 'A'), ('b', 'B'), ('c', 'C')]\n",
    ")\n",
    "\n",
    "print('Before:')\n",
    "for k, v in d.items():\n",
    "    print(k, v)\n",
    "\n",
    "d.move_to_end('b')\n",
    "\n",
    "print('\\nmove_to_end():')\n",
    "for k, v in d.items():\n",
    "    print(k, v)\n",
    "\n",
    "d.move_to_end('b', last=False)\n",
    "\n",
    "print('\\nmove_to_end(last=False):')\n",
    "for k, v in d.items():\n",
    "    print(k, v)"
   ]
  },
  {
   "cell_type": "code",
   "execution_count": null,
   "metadata": {
    "collapsed": true
   },
   "outputs": [],
   "source": []
  }
 ],
 "metadata": {
  "kernelspec": {
   "display_name": "Python 3",
   "language": "python",
   "name": "python3"
  },
  "language_info": {
   "codemirror_mode": {
    "name": "ipython",
    "version": 3
   },
   "file_extension": ".py",
   "mimetype": "text/x-python",
   "name": "python",
   "nbconvert_exporter": "python",
   "pygments_lexer": "ipython3",
   "version": "3.6.1"
  }
 },
 "nbformat": 4,
 "nbformat_minor": 2
}
