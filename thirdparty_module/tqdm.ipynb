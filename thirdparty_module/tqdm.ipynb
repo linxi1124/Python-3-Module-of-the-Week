{
 "cells": [
  {
   "cell_type": "code",
   "execution_count": 6,
   "metadata": {
    "collapsed": false
   },
   "outputs": [],
   "source": [
    "from tqdm import tqdm, trange\n",
    "import time"
   ]
  },
  {
   "cell_type": "markdown",
   "metadata": {},
   "source": [
    "## Iterable-based"
   ]
  },
  {
   "cell_type": "code",
   "execution_count": 3,
   "metadata": {
    "collapsed": false
   },
   "outputs": [
    {
     "name": "stderr",
     "output_type": "stream",
     "text": [
      "100%|████████████████████████████████████████████████████████████████████████████████████| 4/4 [00:20<00:00,  5.00s/it]\n"
     ]
    }
   ],
   "source": [
    "text = \"\"\n",
    "for char in tqdm([\"a\", \"b\", \"c\", \"d\"]):\n",
    "    time.sleep(2)\n",
    "    text = text + char"
   ]
  },
  {
   "cell_type": "markdown",
   "metadata": {
    "collapsed": true
   },
   "source": [
    "trange is a special optimized instance of tqdm(range(i))"
   ]
  },
  {
   "cell_type": "code",
   "execution_count": 8,
   "metadata": {
    "collapsed": false
   },
   "outputs": [
    {
     "name": "stderr",
     "output_type": "stream",
     "text": [
      "100%|████████████████████████████████████████████████████████████████████████████████| 100/100 [00:10<00:00,  9.64it/s]\n"
     ]
    }
   ],
   "source": [
    "for i in trange(100):\n",
    "    time.sleep(0.1)"
   ]
  },
  {
   "cell_type": "markdown",
   "metadata": {},
   "source": [
    "## Manual"
   ]
  },
  {
   "cell_type": "markdown",
   "metadata": {},
   "source": [
    "Manual control on tqdm() updates by using a with statement:"
   ]
  },
  {
   "cell_type": "code",
   "execution_count": 12,
   "metadata": {
    "collapsed": false
   },
   "outputs": [
    {
     "name": "stderr",
     "output_type": "stream",
     "text": [
      "100%|████████████████████████████████████████████████████████████████████████████████| 100/100 [00:20<00:00,  4.99it/s]\n"
     ]
    }
   ],
   "source": [
    "with tqdm(total=100) as pbar:\n",
    "    for i in range(10):\n",
    "        time.sleep(2)\n",
    "        pbar.update(10)"
   ]
  },
  {
   "cell_type": "markdown",
   "metadata": {},
   "source": [
    "## Example"
   ]
  },
  {
   "cell_type": "markdown",
   "metadata": {},
   "source": [
    "### Description and additional stats"
   ]
  },
  {
   "cell_type": "code",
   "execution_count": 14,
   "metadata": {
    "collapsed": false
   },
   "outputs": [
    {
     "name": "stderr",
     "output_type": "stream",
     "text": [
      "GEN 99: 100%|████████████████████████████████| 100/100 [00:11<00:00,  8.89it/s, gen=966, loss=0.793, lst=[1, 2], str=h]\n"
     ]
    }
   ],
   "source": [
    "from tqdm import trange\n",
    "from random import random, randint\n",
    "from time import sleep\n",
    "\n",
    "t = trange(100)\n",
    "for i in t:\n",
    "    # Description will be displayed on the left\n",
    "    t.set_description('GEN %i' % i)\n",
    "    # Postfix will be displayed on the right, and will format automatically\n",
    "    # based on argument's datatype\n",
    "    t.set_postfix(loss=random(), gen=randint(1,999), str='h', lst=[1, 2])\n",
    "    sleep(0.1)"
   ]
  },
  {
   "cell_type": "markdown",
   "metadata": {},
   "source": [
    "### Nested progress bars"
   ]
  },
  {
   "cell_type": "code",
   "execution_count": null,
   "metadata": {
    "collapsed": false
   },
   "outputs": [],
   "source": [
    "from tqdm import trange\n",
    "from time import sleep\n",
    "\n",
    "for i in trange(10, desc='1st loop'):\n",
    "    for j in trange(5, desc='2nd loop', leave=False):\n",
    "        for k in trange(100, desc='3nd loop'):\n",
    "            sleep(0.01)"
   ]
  },
  {
   "cell_type": "markdown",
   "metadata": {},
   "source": [
    "For manual control over positioning (e.g. for multi-threaded use), you may specify position=n where n=0 for the outermost bar, n=1 for the next, and so on:"
   ]
  },
  {
   "cell_type": "code",
   "execution_count": null,
   "metadata": {
    "collapsed": true
   },
   "outputs": [],
   "source": [
    "from time import sleep\n",
    "from tqdm import trange\n",
    "from multiprocessing import Pool, freeze_support, Lock\n",
    "\n",
    "L = list(range(9))\n",
    "\n",
    "def progresser(n):\n",
    "    interval = 0.001 / (n + 2)\n",
    "    total = 5000\n",
    "    text = \"#{}, est. {:<04.2}s\".format(n, interval * total)\n",
    "    for i in trange(total, desc=text, position=n):\n",
    "        sleep(interval)\n",
    "\n",
    "if __name__ == '__main__':\n",
    "    freeze_support()  # for Windows support\n",
    "    p = Pool(len(L),\n",
    "             # again, for Windows support\n",
    "             initializer=tqdm.set_lock, initargs=(Lock(),))\n",
    "    p.map(progresser, L)\n",
    "    print(\"\\n\" * (len(L) - 2))"
   ]
  },
  {
   "cell_type": "markdown",
   "metadata": {
    "collapsed": true
   },
   "source": [
    "### Pandas Integration"
   ]
  },
  {
   "cell_type": "code",
   "execution_count": 2,
   "metadata": {
    "collapsed": false
   },
   "outputs": [
    {
     "name": "stderr",
     "output_type": "stream",
     "text": [
      "my bar!: 100%|█████████████████████████████████████████████████████████████████████| 101/101 [00:00<00:00, 1978.99it/s]\n"
     ]
    },
    {
     "data": {
      "text/html": [
       "<div>\n",
       "<table border=\"1\" class=\"dataframe\">\n",
       "  <thead>\n",
       "    <tr style=\"text-align: right;\">\n",
       "      <th></th>\n",
       "      <th>0</th>\n",
       "      <th>1</th>\n",
       "      <th>2</th>\n",
       "      <th>3</th>\n",
       "      <th>4</th>\n",
       "      <th>5</th>\n",
       "    </tr>\n",
       "  </thead>\n",
       "  <tbody>\n",
       "    <tr>\n",
       "      <th>0</th>\n",
       "      <td>361</td>\n",
       "      <td>3025</td>\n",
       "      <td>5329</td>\n",
       "      <td>1156</td>\n",
       "      <td>2025</td>\n",
       "      <td>8100</td>\n",
       "    </tr>\n",
       "    <tr>\n",
       "      <th>1</th>\n",
       "      <td>6400</td>\n",
       "      <td>4225</td>\n",
       "      <td>2704</td>\n",
       "      <td>289</td>\n",
       "      <td>3481</td>\n",
       "      <td>81</td>\n",
       "    </tr>\n",
       "    <tr>\n",
       "      <th>2</th>\n",
       "      <td>3844</td>\n",
       "      <td>3969</td>\n",
       "      <td>3364</td>\n",
       "      <td>3721</td>\n",
       "      <td>2209</td>\n",
       "      <td>4624</td>\n",
       "    </tr>\n",
       "    <tr>\n",
       "      <th>3</th>\n",
       "      <td>3025</td>\n",
       "      <td>8100</td>\n",
       "      <td>1024</td>\n",
       "      <td>8836</td>\n",
       "      <td>2704</td>\n",
       "      <td>6241</td>\n",
       "    </tr>\n",
       "    <tr>\n",
       "      <th>4</th>\n",
       "      <td>6084</td>\n",
       "      <td>4761</td>\n",
       "      <td>3481</td>\n",
       "      <td>9</td>\n",
       "      <td>6889</td>\n",
       "      <td>7569</td>\n",
       "    </tr>\n",
       "    <tr>\n",
       "      <th>5</th>\n",
       "      <td>1</td>\n",
       "      <td>7396</td>\n",
       "      <td>4761</td>\n",
       "      <td>625</td>\n",
       "      <td>841</td>\n",
       "      <td>1600</td>\n",
       "    </tr>\n",
       "    <tr>\n",
       "      <th>6</th>\n",
       "      <td>9801</td>\n",
       "      <td>1089</td>\n",
       "      <td>8836</td>\n",
       "      <td>6241</td>\n",
       "      <td>3481</td>\n",
       "      <td>1089</td>\n",
       "    </tr>\n",
       "    <tr>\n",
       "      <th>7</th>\n",
       "      <td>8464</td>\n",
       "      <td>2704</td>\n",
       "      <td>225</td>\n",
       "      <td>2304</td>\n",
       "      <td>3600</td>\n",
       "      <td>1849</td>\n",
       "    </tr>\n",
       "    <tr>\n",
       "      <th>8</th>\n",
       "      <td>4356</td>\n",
       "      <td>8649</td>\n",
       "      <td>484</td>\n",
       "      <td>1681</td>\n",
       "      <td>4489</td>\n",
       "      <td>324</td>\n",
       "    </tr>\n",
       "    <tr>\n",
       "      <th>9</th>\n",
       "      <td>4096</td>\n",
       "      <td>2809</td>\n",
       "      <td>289</td>\n",
       "      <td>3364</td>\n",
       "      <td>8649</td>\n",
       "      <td>8464</td>\n",
       "    </tr>\n",
       "    <tr>\n",
       "      <th>10</th>\n",
       "      <td>9604</td>\n",
       "      <td>361</td>\n",
       "      <td>9216</td>\n",
       "      <td>2500</td>\n",
       "      <td>2500</td>\n",
       "      <td>841</td>\n",
       "    </tr>\n",
       "    <tr>\n",
       "      <th>11</th>\n",
       "      <td>1156</td>\n",
       "      <td>1</td>\n",
       "      <td>225</td>\n",
       "      <td>2601</td>\n",
       "      <td>256</td>\n",
       "      <td>3969</td>\n",
       "    </tr>\n",
       "    <tr>\n",
       "      <th>12</th>\n",
       "      <td>8464</td>\n",
       "      <td>1444</td>\n",
       "      <td>2916</td>\n",
       "      <td>8281</td>\n",
       "      <td>1369</td>\n",
       "      <td>9604</td>\n",
       "    </tr>\n",
       "    <tr>\n",
       "      <th>13</th>\n",
       "      <td>7056</td>\n",
       "      <td>3136</td>\n",
       "      <td>324</td>\n",
       "      <td>4225</td>\n",
       "      <td>2916</td>\n",
       "      <td>484</td>\n",
       "    </tr>\n",
       "    <tr>\n",
       "      <th>14</th>\n",
       "      <td>784</td>\n",
       "      <td>484</td>\n",
       "      <td>5041</td>\n",
       "      <td>576</td>\n",
       "      <td>3844</td>\n",
       "      <td>81</td>\n",
       "    </tr>\n",
       "    <tr>\n",
       "      <th>15</th>\n",
       "      <td>1600</td>\n",
       "      <td>5476</td>\n",
       "      <td>361</td>\n",
       "      <td>324</td>\n",
       "      <td>81</td>\n",
       "      <td>8281</td>\n",
       "    </tr>\n",
       "    <tr>\n",
       "      <th>16</th>\n",
       "      <td>5329</td>\n",
       "      <td>1600</td>\n",
       "      <td>2704</td>\n",
       "      <td>5776</td>\n",
       "      <td>1764</td>\n",
       "      <td>400</td>\n",
       "    </tr>\n",
       "    <tr>\n",
       "      <th>17</th>\n",
       "      <td>4</td>\n",
       "      <td>484</td>\n",
       "      <td>5476</td>\n",
       "      <td>400</td>\n",
       "      <td>1849</td>\n",
       "      <td>1936</td>\n",
       "    </tr>\n",
       "    <tr>\n",
       "      <th>18</th>\n",
       "      <td>484</td>\n",
       "      <td>36</td>\n",
       "      <td>4489</td>\n",
       "      <td>8281</td>\n",
       "      <td>8464</td>\n",
       "      <td>5476</td>\n",
       "    </tr>\n",
       "    <tr>\n",
       "      <th>19</th>\n",
       "      <td>5625</td>\n",
       "      <td>225</td>\n",
       "      <td>7744</td>\n",
       "      <td>441</td>\n",
       "      <td>7225</td>\n",
       "      <td>576</td>\n",
       "    </tr>\n",
       "    <tr>\n",
       "      <th>20</th>\n",
       "      <td>169</td>\n",
       "      <td>6724</td>\n",
       "      <td>2809</td>\n",
       "      <td>2500</td>\n",
       "      <td>3969</td>\n",
       "      <td>1024</td>\n",
       "    </tr>\n",
       "    <tr>\n",
       "      <th>21</th>\n",
       "      <td>5041</td>\n",
       "      <td>8281</td>\n",
       "      <td>900</td>\n",
       "      <td>625</td>\n",
       "      <td>256</td>\n",
       "      <td>5929</td>\n",
       "    </tr>\n",
       "    <tr>\n",
       "      <th>22</th>\n",
       "      <td>324</td>\n",
       "      <td>1600</td>\n",
       "      <td>1521</td>\n",
       "      <td>7396</td>\n",
       "      <td>784</td>\n",
       "      <td>484</td>\n",
       "    </tr>\n",
       "    <tr>\n",
       "      <th>23</th>\n",
       "      <td>784</td>\n",
       "      <td>49</td>\n",
       "      <td>169</td>\n",
       "      <td>441</td>\n",
       "      <td>1</td>\n",
       "      <td>196</td>\n",
       "    </tr>\n",
       "    <tr>\n",
       "      <th>24</th>\n",
       "      <td>484</td>\n",
       "      <td>1156</td>\n",
       "      <td>7056</td>\n",
       "      <td>1156</td>\n",
       "      <td>4</td>\n",
       "      <td>9216</td>\n",
       "    </tr>\n",
       "    <tr>\n",
       "      <th>25</th>\n",
       "      <td>1225</td>\n",
       "      <td>9801</td>\n",
       "      <td>4761</td>\n",
       "      <td>121</td>\n",
       "      <td>8281</td>\n",
       "      <td>1764</td>\n",
       "    </tr>\n",
       "    <tr>\n",
       "      <th>26</th>\n",
       "      <td>9801</td>\n",
       "      <td>6724</td>\n",
       "      <td>2809</td>\n",
       "      <td>8464</td>\n",
       "      <td>289</td>\n",
       "      <td>1089</td>\n",
       "    </tr>\n",
       "    <tr>\n",
       "      <th>27</th>\n",
       "      <td>144</td>\n",
       "      <td>8281</td>\n",
       "      <td>5625</td>\n",
       "      <td>1024</td>\n",
       "      <td>841</td>\n",
       "      <td>5329</td>\n",
       "    </tr>\n",
       "    <tr>\n",
       "      <th>28</th>\n",
       "      <td>6724</td>\n",
       "      <td>4624</td>\n",
       "      <td>9216</td>\n",
       "      <td>2601</td>\n",
       "      <td>7921</td>\n",
       "      <td>900</td>\n",
       "    </tr>\n",
       "    <tr>\n",
       "      <th>29</th>\n",
       "      <td>16</td>\n",
       "      <td>5041</td>\n",
       "      <td>3600</td>\n",
       "      <td>16</td>\n",
       "      <td>3136</td>\n",
       "      <td>9409</td>\n",
       "    </tr>\n",
       "    <tr>\n",
       "      <th>...</th>\n",
       "      <td>...</td>\n",
       "      <td>...</td>\n",
       "      <td>...</td>\n",
       "      <td>...</td>\n",
       "      <td>...</td>\n",
       "      <td>...</td>\n",
       "    </tr>\n",
       "    <tr>\n",
       "      <th>99970</th>\n",
       "      <td>25</td>\n",
       "      <td>3136</td>\n",
       "      <td>289</td>\n",
       "      <td>3481</td>\n",
       "      <td>7396</td>\n",
       "      <td>625</td>\n",
       "    </tr>\n",
       "    <tr>\n",
       "      <th>99971</th>\n",
       "      <td>576</td>\n",
       "      <td>1089</td>\n",
       "      <td>3025</td>\n",
       "      <td>400</td>\n",
       "      <td>3481</td>\n",
       "      <td>1764</td>\n",
       "    </tr>\n",
       "    <tr>\n",
       "      <th>99972</th>\n",
       "      <td>576</td>\n",
       "      <td>4900</td>\n",
       "      <td>7056</td>\n",
       "      <td>225</td>\n",
       "      <td>7744</td>\n",
       "      <td>3025</td>\n",
       "    </tr>\n",
       "    <tr>\n",
       "      <th>99973</th>\n",
       "      <td>3969</td>\n",
       "      <td>1849</td>\n",
       "      <td>484</td>\n",
       "      <td>576</td>\n",
       "      <td>8649</td>\n",
       "      <td>2116</td>\n",
       "    </tr>\n",
       "    <tr>\n",
       "      <th>99974</th>\n",
       "      <td>5041</td>\n",
       "      <td>9025</td>\n",
       "      <td>441</td>\n",
       "      <td>2209</td>\n",
       "      <td>4096</td>\n",
       "      <td>6724</td>\n",
       "    </tr>\n",
       "    <tr>\n",
       "      <th>99975</th>\n",
       "      <td>2304</td>\n",
       "      <td>1024</td>\n",
       "      <td>6400</td>\n",
       "      <td>5476</td>\n",
       "      <td>961</td>\n",
       "      <td>3600</td>\n",
       "    </tr>\n",
       "    <tr>\n",
       "      <th>99976</th>\n",
       "      <td>361</td>\n",
       "      <td>2401</td>\n",
       "      <td>576</td>\n",
       "      <td>7921</td>\n",
       "      <td>9</td>\n",
       "      <td>225</td>\n",
       "    </tr>\n",
       "    <tr>\n",
       "      <th>99977</th>\n",
       "      <td>1936</td>\n",
       "      <td>529</td>\n",
       "      <td>3969</td>\n",
       "      <td>2304</td>\n",
       "      <td>4356</td>\n",
       "      <td>2401</td>\n",
       "    </tr>\n",
       "    <tr>\n",
       "      <th>99978</th>\n",
       "      <td>3844</td>\n",
       "      <td>8281</td>\n",
       "      <td>2116</td>\n",
       "      <td>2025</td>\n",
       "      <td>64</td>\n",
       "      <td>7225</td>\n",
       "    </tr>\n",
       "    <tr>\n",
       "      <th>99979</th>\n",
       "      <td>9</td>\n",
       "      <td>8464</td>\n",
       "      <td>1936</td>\n",
       "      <td>7225</td>\n",
       "      <td>1521</td>\n",
       "      <td>5476</td>\n",
       "    </tr>\n",
       "    <tr>\n",
       "      <th>99980</th>\n",
       "      <td>6241</td>\n",
       "      <td>576</td>\n",
       "      <td>3721</td>\n",
       "      <td>1849</td>\n",
       "      <td>225</td>\n",
       "      <td>1444</td>\n",
       "    </tr>\n",
       "    <tr>\n",
       "      <th>99981</th>\n",
       "      <td>576</td>\n",
       "      <td>6241</td>\n",
       "      <td>2025</td>\n",
       "      <td>9801</td>\n",
       "      <td>9</td>\n",
       "      <td>2025</td>\n",
       "    </tr>\n",
       "    <tr>\n",
       "      <th>99982</th>\n",
       "      <td>1849</td>\n",
       "      <td>1156</td>\n",
       "      <td>484</td>\n",
       "      <td>1764</td>\n",
       "      <td>324</td>\n",
       "      <td>1225</td>\n",
       "    </tr>\n",
       "    <tr>\n",
       "      <th>99983</th>\n",
       "      <td>7921</td>\n",
       "      <td>9</td>\n",
       "      <td>7569</td>\n",
       "      <td>1</td>\n",
       "      <td>3249</td>\n",
       "      <td>196</td>\n",
       "    </tr>\n",
       "    <tr>\n",
       "      <th>99984</th>\n",
       "      <td>3249</td>\n",
       "      <td>7921</td>\n",
       "      <td>841</td>\n",
       "      <td>1296</td>\n",
       "      <td>676</td>\n",
       "      <td>2809</td>\n",
       "    </tr>\n",
       "    <tr>\n",
       "      <th>99985</th>\n",
       "      <td>7396</td>\n",
       "      <td>324</td>\n",
       "      <td>3136</td>\n",
       "      <td>0</td>\n",
       "      <td>4225</td>\n",
       "      <td>441</td>\n",
       "    </tr>\n",
       "    <tr>\n",
       "      <th>99986</th>\n",
       "      <td>900</td>\n",
       "      <td>2304</td>\n",
       "      <td>4761</td>\n",
       "      <td>1</td>\n",
       "      <td>5329</td>\n",
       "      <td>3025</td>\n",
       "    </tr>\n",
       "    <tr>\n",
       "      <th>99987</th>\n",
       "      <td>2916</td>\n",
       "      <td>1156</td>\n",
       "      <td>1296</td>\n",
       "      <td>1156</td>\n",
       "      <td>7225</td>\n",
       "      <td>64</td>\n",
       "    </tr>\n",
       "    <tr>\n",
       "      <th>99988</th>\n",
       "      <td>9801</td>\n",
       "      <td>2601</td>\n",
       "      <td>4624</td>\n",
       "      <td>6889</td>\n",
       "      <td>2209</td>\n",
       "      <td>9801</td>\n",
       "    </tr>\n",
       "    <tr>\n",
       "      <th>99989</th>\n",
       "      <td>2209</td>\n",
       "      <td>5625</td>\n",
       "      <td>4096</td>\n",
       "      <td>1681</td>\n",
       "      <td>2601</td>\n",
       "      <td>7921</td>\n",
       "    </tr>\n",
       "    <tr>\n",
       "      <th>99990</th>\n",
       "      <td>8100</td>\n",
       "      <td>2025</td>\n",
       "      <td>3025</td>\n",
       "      <td>5041</td>\n",
       "      <td>1764</td>\n",
       "      <td>9604</td>\n",
       "    </tr>\n",
       "    <tr>\n",
       "      <th>99991</th>\n",
       "      <td>1024</td>\n",
       "      <td>8281</td>\n",
       "      <td>5625</td>\n",
       "      <td>5041</td>\n",
       "      <td>6561</td>\n",
       "      <td>961</td>\n",
       "    </tr>\n",
       "    <tr>\n",
       "      <th>99992</th>\n",
       "      <td>7921</td>\n",
       "      <td>7569</td>\n",
       "      <td>6561</td>\n",
       "      <td>9216</td>\n",
       "      <td>49</td>\n",
       "      <td>625</td>\n",
       "    </tr>\n",
       "    <tr>\n",
       "      <th>99993</th>\n",
       "      <td>1225</td>\n",
       "      <td>729</td>\n",
       "      <td>169</td>\n",
       "      <td>484</td>\n",
       "      <td>3969</td>\n",
       "      <td>324</td>\n",
       "    </tr>\n",
       "    <tr>\n",
       "      <th>99994</th>\n",
       "      <td>8281</td>\n",
       "      <td>196</td>\n",
       "      <td>2025</td>\n",
       "      <td>5041</td>\n",
       "      <td>5476</td>\n",
       "      <td>5476</td>\n",
       "    </tr>\n",
       "    <tr>\n",
       "      <th>99995</th>\n",
       "      <td>8464</td>\n",
       "      <td>2601</td>\n",
       "      <td>7569</td>\n",
       "      <td>1936</td>\n",
       "      <td>2304</td>\n",
       "      <td>2601</td>\n",
       "    </tr>\n",
       "    <tr>\n",
       "      <th>99996</th>\n",
       "      <td>529</td>\n",
       "      <td>3721</td>\n",
       "      <td>3136</td>\n",
       "      <td>1369</td>\n",
       "      <td>289</td>\n",
       "      <td>1024</td>\n",
       "    </tr>\n",
       "    <tr>\n",
       "      <th>99997</th>\n",
       "      <td>2304</td>\n",
       "      <td>2304</td>\n",
       "      <td>100</td>\n",
       "      <td>144</td>\n",
       "      <td>7396</td>\n",
       "      <td>7569</td>\n",
       "    </tr>\n",
       "    <tr>\n",
       "      <th>99998</th>\n",
       "      <td>289</td>\n",
       "      <td>7744</td>\n",
       "      <td>8281</td>\n",
       "      <td>729</td>\n",
       "      <td>1156</td>\n",
       "      <td>3721</td>\n",
       "    </tr>\n",
       "    <tr>\n",
       "      <th>99999</th>\n",
       "      <td>256</td>\n",
       "      <td>6561</td>\n",
       "      <td>4624</td>\n",
       "      <td>9801</td>\n",
       "      <td>5776</td>\n",
       "      <td>121</td>\n",
       "    </tr>\n",
       "  </tbody>\n",
       "</table>\n",
       "<p>100000 rows × 6 columns</p>\n",
       "</div>"
      ],
      "text/plain": [
       "          0     1     2     3     4     5\n",
       "0       361  3025  5329  1156  2025  8100\n",
       "1      6400  4225  2704   289  3481    81\n",
       "2      3844  3969  3364  3721  2209  4624\n",
       "3      3025  8100  1024  8836  2704  6241\n",
       "4      6084  4761  3481     9  6889  7569\n",
       "5         1  7396  4761   625   841  1600\n",
       "6      9801  1089  8836  6241  3481  1089\n",
       "7      8464  2704   225  2304  3600  1849\n",
       "8      4356  8649   484  1681  4489   324\n",
       "9      4096  2809   289  3364  8649  8464\n",
       "10     9604   361  9216  2500  2500   841\n",
       "11     1156     1   225  2601   256  3969\n",
       "12     8464  1444  2916  8281  1369  9604\n",
       "13     7056  3136   324  4225  2916   484\n",
       "14      784   484  5041   576  3844    81\n",
       "15     1600  5476   361   324    81  8281\n",
       "16     5329  1600  2704  5776  1764   400\n",
       "17        4   484  5476   400  1849  1936\n",
       "18      484    36  4489  8281  8464  5476\n",
       "19     5625   225  7744   441  7225   576\n",
       "20      169  6724  2809  2500  3969  1024\n",
       "21     5041  8281   900   625   256  5929\n",
       "22      324  1600  1521  7396   784   484\n",
       "23      784    49   169   441     1   196\n",
       "24      484  1156  7056  1156     4  9216\n",
       "25     1225  9801  4761   121  8281  1764\n",
       "26     9801  6724  2809  8464   289  1089\n",
       "27      144  8281  5625  1024   841  5329\n",
       "28     6724  4624  9216  2601  7921   900\n",
       "29       16  5041  3600    16  3136  9409\n",
       "...     ...   ...   ...   ...   ...   ...\n",
       "99970    25  3136   289  3481  7396   625\n",
       "99971   576  1089  3025   400  3481  1764\n",
       "99972   576  4900  7056   225  7744  3025\n",
       "99973  3969  1849   484   576  8649  2116\n",
       "99974  5041  9025   441  2209  4096  6724\n",
       "99975  2304  1024  6400  5476   961  3600\n",
       "99976   361  2401   576  7921     9   225\n",
       "99977  1936   529  3969  2304  4356  2401\n",
       "99978  3844  8281  2116  2025    64  7225\n",
       "99979     9  8464  1936  7225  1521  5476\n",
       "99980  6241   576  3721  1849   225  1444\n",
       "99981   576  6241  2025  9801     9  2025\n",
       "99982  1849  1156   484  1764   324  1225\n",
       "99983  7921     9  7569     1  3249   196\n",
       "99984  3249  7921   841  1296   676  2809\n",
       "99985  7396   324  3136     0  4225   441\n",
       "99986   900  2304  4761     1  5329  3025\n",
       "99987  2916  1156  1296  1156  7225    64\n",
       "99988  9801  2601  4624  6889  2209  9801\n",
       "99989  2209  5625  4096  1681  2601  7921\n",
       "99990  8100  2025  3025  5041  1764  9604\n",
       "99991  1024  8281  5625  5041  6561   961\n",
       "99992  7921  7569  6561  9216    49   625\n",
       "99993  1225   729   169   484  3969   324\n",
       "99994  8281   196  2025  5041  5476  5476\n",
       "99995  8464  2601  7569  1936  2304  2601\n",
       "99996   529  3721  3136  1369   289  1024\n",
       "99997  2304  2304   100   144  7396  7569\n",
       "99998   289  7744  8281   729  1156  3721\n",
       "99999   256  6561  4624  9801  5776   121\n",
       "\n",
       "[100000 rows x 6 columns]"
      ]
     },
     "execution_count": 2,
     "metadata": {},
     "output_type": "execute_result"
    }
   ],
   "source": [
    "import pandas as pd\n",
    "import numpy as np\n",
    "from tqdm import tqdm\n",
    "\n",
    "df = pd.DataFrame(np.random.randint(0, 100, (100000, 6)))\n",
    "\n",
    "# Register `pandas.progress_apply` and `pandas.Series.map_apply` with `tqdm`\n",
    "# (can use `tqdm_gui`, `tqdm_notebook`, optional kwargs, etc.)\n",
    "tqdm.pandas(desc=\"my bar!\")\n",
    "\n",
    "# Now you can use `progress_apply` instead of `apply`\n",
    "# and `progress_map` instead of `map`\n",
    "#df.progress_apply(lambda x: x**2)\n",
    "# can also groupby:\n",
    "df.groupby(0).progress_apply(lambda x: x**2)"
   ]
  },
  {
   "cell_type": "markdown",
   "metadata": {},
   "source": [
    "### IPython/Jupyter Integration"
   ]
  },
  {
   "cell_type": "code",
   "execution_count": 4,
   "metadata": {
    "collapsed": false
   },
   "outputs": [
    {
     "name": "stdout",
     "output_type": "stream",
     "text": [
      "\n"
     ]
    }
   ],
   "source": [
    "from tqdm import tnrange, tqdm_notebook\n",
    "from time import sleep\n",
    "\n",
    "for i in tnrange(10, desc='1st loop'):\n",
    "    for j in tqdm_notebook(range(100), desc='2nd loop'):\n",
    "        sleep(0.01)"
   ]
  },
  {
   "cell_type": "markdown",
   "metadata": {},
   "source": [
    "### Writing messages"
   ]
  },
  {
   "cell_type": "code",
   "execution_count": 5,
   "metadata": {
    "collapsed": false
   },
   "outputs": [
    {
     "name": "stderr",
     "output_type": "stream",
     "text": [
      "                                                                                                                       \r"
     ]
    },
    {
     "name": "stdout",
     "output_type": "stream",
     "text": [
      "Done task 0\n"
     ]
    },
    {
     "name": "stderr",
     "output_type": "stream",
     "text": [
      "                                                                                                                       \r"
     ]
    },
    {
     "name": "stdout",
     "output_type": "stream",
     "text": [
      "Done task 3\n"
     ]
    },
    {
     "name": "stderr",
     "output_type": "stream",
     "text": [
      "                                                                                                                       \r"
     ]
    },
    {
     "name": "stdout",
     "output_type": "stream",
     "text": [
      "Done task 6\n"
     ]
    },
    {
     "name": "stderr",
     "output_type": "stream",
     "text": [
      "                                                                                                                       \r"
     ]
    },
    {
     "name": "stdout",
     "output_type": "stream",
     "text": [
      "Done task 9\n"
     ]
    },
    {
     "name": "stderr",
     "output_type": "stream",
     "text": [
      "100%|██████████████████████████████████████████████████████████████████████████████████| 10/10 [00:01<00:00,  9.31it/s]\n"
     ]
    }
   ],
   "source": [
    "from tqdm import tqdm, trange\n",
    "from time import sleep\n",
    "\n",
    "bar = trange(10)\n",
    "for i in bar:\n",
    "    # Print using tqdm class method .write()\n",
    "    sleep(0.1)\n",
    "    if not (i % 3):\n",
    "        tqdm.write(\"Done task %i\" % i)\n",
    "    # Can also use bar.write()"
   ]
  },
  {
   "cell_type": "markdown",
   "metadata": {},
   "source": [
    "### Redirecting writing"
   ]
  },
  {
   "cell_type": "markdown",
   "metadata": {},
   "source": [
    "If using a library that can print messages to the console, editing the library by replacing print() with tqdm.write() may not be desirable. In that case, redirecting sys.stdout to tqdm.write() is an option.\n",
    "\n",
    "To redirect sys.stdout, create a file-like class that will write any input string to tqdm.write(), and supply the arguments file=sys.stdout, dynamic_ncols=True.\n",
    "\n",
    "A reusable canonical example is given below:"
   ]
  },
  {
   "cell_type": "code",
   "execution_count": 8,
   "metadata": {
    "collapsed": false
   },
   "outputs": [
    {
     "name": "stdout",
     "output_type": "stream",
     "text": [
      "Fee,                                                                                                                   \n",
      "fi,                                                                                                                    \n",
      "fo,                                                                                                                    \n",
      "100%|████████████████████████████████████████████████████████████████████████████████████| 3/3 [00:01<00:00,  1.93it/s]\n",
      "Done!\n"
     ]
    }
   ],
   "source": [
    "from time import sleep\n",
    "import contextlib\n",
    "import sys\n",
    "from tqdm import tqdm\n",
    "import pdb\n",
    "\n",
    "class DummyTqdmFile(object):\n",
    "    \"\"\"Dummy file-like that will write to tqdm\"\"\"\n",
    "    file = None\n",
    "    def __init__(self, file):\n",
    "        self.file = file\n",
    "\n",
    "    def write(self, x):\n",
    "        # Avoid print() second call (useless \\n)\n",
    "        if len(x.rstrip()) > 0:\n",
    "            tqdm.write(x, file=self.file)\n",
    "\n",
    "    def flush(self):\n",
    "        return getattr(self.file, \"flush\", lambda: None)()\n",
    "\n",
    "@contextlib.contextmanager\n",
    "def std_out_err_redirect_tqdm():\n",
    "    orig_out_err = sys.stdout, sys.stderr\n",
    "    try:\n",
    "        sys.stdout, sys.stderr = map(DummyTqdmFile, orig_out_err)\n",
    "        yield orig_out_err[0]\n",
    "    # Relay exceptions\n",
    "    except Exception as exc:\n",
    "        raise exc\n",
    "    # Always restore sys.stdout/err if necessary\n",
    "    finally:\n",
    "        sys.stdout, sys.stderr = orig_out_err\n",
    "\n",
    "def some_fun(i):\n",
    "    print(\"Fee, fi, fo,\".split()[i])\n",
    "\n",
    "# Redirect stdout to tqdm.write() (don't forget the `as save_stdout`)\n",
    "with std_out_err_redirect_tqdm() as orig_stdout:\n",
    "    # tqdm needs the original stdout\n",
    "    # and dynamic_ncols=True to autodetect console width\n",
    "    for i in tqdm(range(3), file=orig_stdout, dynamic_ncols=True):\n",
    "        sleep(.5)\n",
    "        some_fun(i)\n",
    "\n",
    "# After the `with`, printing is restored\n",
    "print(\"Done!\")"
   ]
  },
  {
   "cell_type": "code",
   "execution_count": null,
   "metadata": {
    "collapsed": true
   },
   "outputs": [],
   "source": []
  }
 ],
 "metadata": {
  "kernelspec": {
   "display_name": "Python 3",
   "language": "python",
   "name": "python3"
  },
  "language_info": {
   "codemirror_mode": {
    "name": "ipython",
    "version": 3
   },
   "file_extension": ".py",
   "mimetype": "text/x-python",
   "name": "python",
   "nbconvert_exporter": "python",
   "pygments_lexer": "ipython3",
   "version": "3.6.0"
  },
  "widgets": {
   "state": {
    "154f9fadf4154d21a363728e3f965d7e": {
     "views": [
      {
       "cell_index": 18
      }
     ]
    },
    "340e060d03b64abb9e1f8210c7d44e4d": {
     "views": [
      {
       "cell_index": 18
      }
     ]
    },
    "3e8e06773ae94d53a60d5aa47d837662": {
     "views": [
      {
       "cell_index": 18
      }
     ]
    },
    "642eb97e573d472da715844db9a0a1b6": {
     "views": [
      {
       "cell_index": 18
      }
     ]
    },
    "752f13c4a20844baae6b1e695d67986c": {
     "views": [
      {
       "cell_index": 18
      }
     ]
    },
    "7b3f9b368d8f46fcbcb5f2e6f50e971c": {
     "views": [
      {
       "cell_index": 18
      }
     ]
    },
    "7b642ea9e73b49cc862e9e001c1bad05": {
     "views": [
      {
       "cell_index": 18
      }
     ]
    },
    "a6e7c902a49a4743b7a49a1194fdf13e": {
     "views": [
      {
       "cell_index": 18
      }
     ]
    },
    "c08da03e99c749179c0a1e12208cb14f": {
     "views": [
      {
       "cell_index": 18
      }
     ]
    },
    "d89add0372324324b5499946866f03d2": {
     "views": [
      {
       "cell_index": 18
      }
     ]
    },
    "fefd7d8f844740189eedccd139a8f833": {
     "views": [
      {
       "cell_index": 18
      }
     ]
    }
   },
   "version": "1.2.0"
  }
 },
 "nbformat": 4,
 "nbformat_minor": 2
}
