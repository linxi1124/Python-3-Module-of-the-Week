{
 "cells": [
  {
   "cell_type": "markdown",
   "metadata": {},
   "source": [
    "## Automated Python 2 to 3 code translation"
   ]
  },
  {
   "cell_type": "markdown",
   "metadata": {},
   "source": [
    "2to3 is a Python program that reads Python 2.x source code and applies a series of fixers to transform it into valid Python 3.x code. The standard library contains a rich set of fixers that will handle almost all code.\n",
    "\n",
    "Let's see some code in action then I will list the fixers"
   ]
  },
  {
   "cell_type": "markdown",
   "metadata": {},
   "source": [
    "## Code In Action"
   ]
  },
  {
   "cell_type": "code",
   "execution_count": null,
   "metadata": {},
   "outputs": [],
   "source": [
    "# %load example.py\n",
    "def greet(name):\n",
    "    print \"Hello, {0}!\".format(name)\n",
    "print \"What's your name?\"\n",
    "name = raw_input()\n",
    "greet(name)\n"
   ]
  },
  {
   "cell_type": "code",
   "execution_count": 9,
   "metadata": {},
   "outputs": [
    {
     "name": "stdout",
     "output_type": "stream",
     "text": [
      "RefactoringTool: Skipping optional fixer: buffer\n",
      "RefactoringTool: Skipping optional fixer: idioms\n",
      "RefactoringTool: Skipping optional fixer: set_literal\n",
      "RefactoringTool: Skipping optional fixer: ws_comma\n",
      "RefactoringTool: Refactored example.py\n",
      "--- example.py\t(original)\n",
      "+++ example.py\t(refactored)\n",
      "@@ -1,5 +1,5 @@\n",
      " def greet(name):\n",
      "-    print \"Hello, {0}!\".format(name)\n",
      "-print \"What's your name?\"\n",
      "-name = raw_input()\n",
      "+    print(\"Hello, {0}!\".format(name))\n",
      "+print(\"What's your name?\")\n",
      "+name = input()\n",
      " greet(name)\n",
      "RefactoringTool: Files that need to be modified:\n",
      "RefactoringTool: example.py\n"
     ]
    }
   ],
   "source": [
    "# we can convert this file to python3-compliant\n",
    "!2to3 example.py"
   ]
  },
  {
   "cell_type": "markdown",
   "metadata": {},
   "source": [
    "The above output is the diff that python2 version against python3 version"
   ]
  },
  {
   "cell_type": "markdown",
   "metadata": {},
   "source": [
    "we can also write the change back into source file:`example.py`"
   ]
  },
  {
   "cell_type": "code",
   "execution_count": 11,
   "metadata": {},
   "outputs": [
    {
     "name": "stdout",
     "output_type": "stream",
     "text": [
      "RefactoringTool: Skipping optional fixer: buffer\n",
      "RefactoringTool: Skipping optional fixer: idioms\n",
      "RefactoringTool: Skipping optional fixer: set_literal\n",
      "RefactoringTool: Skipping optional fixer: ws_comma\n",
      "RefactoringTool: Refactored example.py\n",
      "--- example.py\t(original)\n",
      "+++ example.py\t(refactored)\n",
      "@@ -1,5 +1,5 @@\n",
      " def greet(name):\n",
      "-    print \"Hello, {0}!\".format(name)\n",
      "-print \"What's your name?\"\n",
      "-name = raw_input()\n",
      "+    print(\"Hello, {0}!\".format(name))\n",
      "+print(\"What's your name?\")\n",
      "+name = input()\n",
      " greet(name)\n",
      "RefactoringTool: Files that were modified:\n",
      "RefactoringTool: example.py\n"
     ]
    }
   ],
   "source": [
    "!2to3 -w example.py"
   ]
  },
  {
   "cell_type": "code",
   "execution_count": 13,
   "metadata": {},
   "outputs": [
    {
     "name": "stdout",
     "output_type": "stream",
     "text": [
      "example.py  example.py.bak\n"
     ]
    }
   ],
   "source": [
    "!ls example*"
   ]
  },
  {
   "cell_type": "code",
   "execution_count": null,
   "metadata": {
    "collapsed": true
   },
   "outputs": [],
   "source": [
    "# %load example.py\n",
    "def greet(name):\n",
    "    print(\"Hello, {0}!\".format(name))\n",
    "print(\"What's your name?\")\n",
    "name = input()\n",
    "greet(name)\n"
   ]
  },
  {
   "cell_type": "markdown",
   "metadata": {},
   "source": [
    "you can see that example.py is converted to python3 version. And a backup file named `example.py.bak` is created(if you add a `-n` option, no backup file will keep)"
   ]
  },
  {
   "cell_type": "markdown",
   "metadata": {},
   "source": [
    "## Customize Running actions\n",
    "\n",
    "by default, 2to3 will run a set of 'pre-defined' fixers, you can customize the behavior"
   ]
  },
  {
   "cell_type": "markdown",
   "metadata": {},
   "source": [
    "### Specify fixers to run or not run"
   ]
  },
  {
   "cell_type": "markdown",
   "metadata": {},
   "source": [
    "An explicit set of fixers to run can be given with -f\n",
    "\n",
    "````\n",
    "$ 2to3 -f imports -f has_key example.py\n",
    "```"
   ]
  },
  {
   "cell_type": "markdown",
   "metadata": {},
   "source": [
    "You can also disable certain fixers\n",
    "\n",
    "```\n",
    "$ 2to3 -x apply example.py\n",
    "```"
   ]
  },
  {
   "cell_type": "markdown",
   "metadata": {},
   "source": [
    "### List all fixers\n",
    "\n",
    "you can get all avaiable fixers with this command.\n",
    "\n",
    "you can find detailed doc at [here](https://docs.python.org/2/library/2to3.html#fixers)"
   ]
  },
  {
   "cell_type": "code",
   "execution_count": 15,
   "metadata": {},
   "outputs": [
    {
     "name": "stdout",
     "output_type": "stream",
     "text": [
      "Available transformations for the -f/--fix option:\n",
      "apply\n",
      "asserts\n",
      "basestring\n",
      "buffer\n",
      "dict\n",
      "except\n",
      "exec\n",
      "execfile\n",
      "exitfunc\n",
      "filter\n",
      "funcattrs\n",
      "future\n",
      "getcwdu\n",
      "has_key\n",
      "idioms\n",
      "import\n",
      "imports\n",
      "imports2\n",
      "input\n",
      "intern\n",
      "isinstance\n",
      "itertools\n",
      "itertools_imports\n",
      "long\n",
      "map\n",
      "metaclass\n",
      "methodattrs\n",
      "ne\n",
      "next\n",
      "nonzero\n",
      "numliterals\n",
      "operator\n",
      "paren\n",
      "print\n",
      "raise\n",
      "raw_input\n",
      "reduce\n",
      "reload\n",
      "renames\n",
      "repr\n",
      "set_literal\n",
      "standarderror\n",
      "sys_exc\n",
      "throw\n",
      "tuple_params\n",
      "types\n",
      "unicode\n",
      "urllib\n",
      "ws_comma\n",
      "xrange\n",
      "xreadlines\n",
      "zip\n"
     ]
    }
   ],
   "source": [
    "!2to3 -l"
   ]
  },
  {
   "cell_type": "code",
   "execution_count": null,
   "metadata": {
    "collapsed": true
   },
   "outputs": [],
   "source": []
  }
 ],
 "metadata": {
  "kernelspec": {
   "display_name": "Python 3",
   "language": "python",
   "name": "python3"
  },
  "language_info": {
   "codemirror_mode": {
    "name": "ipython",
    "version": 3
   },
   "file_extension": ".py",
   "mimetype": "text/x-python",
   "name": "python",
   "nbconvert_exporter": "python",
   "pygments_lexer": "ipython3",
   "version": "3.5.2"
  }
 },
 "nbformat": 4,
 "nbformat_minor": 2
}
