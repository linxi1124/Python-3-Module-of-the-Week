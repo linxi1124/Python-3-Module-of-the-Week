{
 "cells": [
  {
   "cell_type": "markdown",
   "metadata": {},
   "source": [
    "## Initializing\n",
    "\n",
    "Counter supports three forms of initialization."
   ]
  },
  {
   "cell_type": "code",
   "execution_count": 16,
   "metadata": {
    "collapsed": true
   },
   "outputs": [],
   "source": [
    "import collections"
   ]
  },
  {
   "cell_type": "code",
   "execution_count": 10,
   "metadata": {
    "collapsed": true
   },
   "outputs": [],
   "source": [
    "# called with a sequence of item\n",
    "init_list = collections.Counter(['a', 'b', 'c', 'a', 'b', 'b'])\n",
    "init_str = collections.Counter({'a': 2, 'b': 3, 'c': 1})"
   ]
  },
  {
   "cell_type": "code",
   "execution_count": 11,
   "metadata": {},
   "outputs": [
    {
     "name": "stdout",
     "output_type": "stream",
     "text": [
      "Counter({'b': 3, 'a': 2, 'c': 1})\n",
      "****************************************\n",
      "Counter({'b': 3, 'a': 2, 'c': 1})\n"
     ]
    }
   ],
   "source": [
    "print(init_list)\n",
    "print('*'*40)\n",
    "print(init_str)"
   ]
  },
  {
   "cell_type": "code",
   "execution_count": 12,
   "metadata": {},
   "outputs": [
    {
     "name": "stdout",
     "output_type": "stream",
     "text": [
      "Counter({'b': 3, 'a': 2, 'c': 1})\n"
     ]
    }
   ],
   "source": [
    "# a dictionary containing keys and counts\n",
    "init_dict = collections.Counter({'a': 2, 'b': 3, 'c': 1})\n",
    "print(init_dict)"
   ]
  },
  {
   "cell_type": "code",
   "execution_count": 13,
   "metadata": {},
   "outputs": [
    {
     "name": "stdout",
     "output_type": "stream",
     "text": [
      "Counter({'b': 3, 'a': 2, 'c': 1})\n"
     ]
    }
   ],
   "source": [
    "# keyword arguments that map string to counts\n",
    "init_keyword=collections.Counter(a=2,b=3,c=1)\n",
    "print(init_keyword)"
   ]
  },
  {
   "cell_type": "code",
   "execution_count": 20,
   "metadata": {},
   "outputs": [
    {
     "name": "stdout",
     "output_type": "stream",
     "text": [
      "Counter({'b': 3, 'a': 2, 'c': 1, 'e': 0, 'd': -1})\n"
     ]
    }
   ],
   "source": [
    "# keyword arguments that map string to counts\n",
    "# the count can be any integer value, including, \\\n",
    "# zero and negative counts\n",
    "init_nonpositive=collections.Counter(a=2,b=3,c=1,d=-1,e=0)\n",
    "print(init_nonpositive)"
   ]
  },
  {
   "cell_type": "code",
   "execution_count": 14,
   "metadata": {},
   "outputs": [
    {
     "name": "stdout",
     "output_type": "stream",
     "text": [
      "Counter()\n"
     ]
    }
   ],
   "source": [
    "# of course, we can build empty Counter\n",
    "init_empty = collections.Counter()\n",
    "print(init_empty)"
   ]
  },
  {
   "cell_type": "markdown",
   "metadata": {},
   "source": [
    "## Accessing"
   ]
  },
  {
   "cell_type": "markdown",
   "metadata": {},
   "source": [
    "### Using dictionary API"
   ]
  },
  {
   "cell_type": "code",
   "execution_count": 17,
   "metadata": {},
   "outputs": [
    {
     "name": "stdout",
     "output_type": "stream",
     "text": [
      "a : 3\n",
      "b : 2\n",
      "c : 1\n",
      "d : 1\n",
      "e : 0\n"
     ]
    }
   ],
   "source": [
    "import collections\n",
    "c = collections.Counter('abcdaab')\n",
    "\n",
    "for letter in 'abcde':\n",
    "    print('{} : {}'.format(letter, c[letter]))"
   ]
  },
  {
   "cell_type": "markdown",
   "metadata": {},
   "source": [
    "**Note**:    \n",
    "Counter don't raise `KeyError` for unknown items, If a value has not seen in the input, its count is 0"
   ]
  },
  {
   "cell_type": "markdown",
   "metadata": {},
   "source": [
    "### elements()\n",
    "\n",
    "The elements() method returns an iterator that produces all of the items known to the `Counter`. \n",
    "\n",
    "* each element repeating each as many as times as its count.\n",
    "* elements returned in arbitrary order.\n",
    "* if an element's count is less then one, elements method will ignore it."
   ]
  },
  {
   "cell_type": "code",
   "execution_count": 21,
   "metadata": {},
   "outputs": [
    {
     "name": "stdout",
     "output_type": "stream",
     "text": [
      "Counter({'e': 3, 'x': 1, 't': 1, 'r': 1, 'm': 1, 'l': 1, 'y': 1, 'z': 0})\n",
      "['e', 'e', 'e', 'x', 't', 'r', 'm', 'l', 'y']\n"
     ]
    }
   ],
   "source": [
    "import collections\n",
    "\n",
    "c = collections.Counter('extremely')\n",
    "c['z'] = 0\n",
    "print(c)\n",
    "print(list(c.elements()))"
   ]
  },
  {
   "cell_type": "markdown",
   "metadata": {},
   "source": [
    "### most_common()\n",
    "\n",
    "return a list of the n most elements and their counts from the most common to the least. If n is ommited or None, returns all elments in the counter.\n"
   ]
  },
  {
   "cell_type": "code",
   "execution_count": 22,
   "metadata": {},
   "outputs": [
    {
     "name": "stdout",
     "output_type": "stream",
     "text": [
      "Most common:\n",
      "s:   90113\n",
      "e:   88833\n",
      "i:   66986\n"
     ]
    }
   ],
   "source": [
    "import collections\n",
    "\n",
    "c = collections.Counter()\n",
    "with open('/usr/share/dict/words', 'rt') as f:\n",
    "    for line in f:\n",
    "        c.update(line.rstrip().lower())\n",
    "\n",
    "print('Most common:')\n",
    "for letter, count in c.most_common(3):\n",
    "    print('{}: {:>7}'.format(letter, count))"
   ]
  },
  {
   "cell_type": "markdown",
   "metadata": {},
   "source": [
    "## Updating"
   ]
  },
  {
   "cell_type": "markdown",
   "metadata": {},
   "source": [
    "### update()"
   ]
  },
  {
   "cell_type": "code",
   "execution_count": 25,
   "metadata": {},
   "outputs": [
    {
     "name": "stdout",
     "output_type": "stream",
     "text": [
      "before update:  Counter({'e': 3, 'x': 1, 't': 1, 'r': 1, 'm': 1, 'l': 1, 'y': 1})\n",
      "****************************************\n",
      "after update: Counter({'e': 4, 'l': 3, 'x': 1, 't': 1, 'r': 1, 'm': 1, 'y': 1, 'a': 1})\n"
     ]
    }
   ],
   "source": [
    "# update with iterabal\n",
    "import collections\n",
    "\n",
    "c = collections.Counter('extremely')\n",
    "print(\"before update: \", c)\n",
    "\n",
    "print(\"*\"*40)\n",
    "\n",
    "c.update(\"aell\")\n",
    "print(\"after update:\", c)"
   ]
  },
  {
   "cell_type": "code",
   "execution_count": 26,
   "metadata": {},
   "outputs": [
    {
     "name": "stdout",
     "output_type": "stream",
     "text": [
      "before update:  Counter({'e': 3, 'x': 1, 't': 1, 'r': 1, 'm': 1, 'l': 1, 'y': 1})\n",
      "****************************************\n",
      "after update: Counter({'e': 13, 't': 2, 'x': 1, 'r': 1, 'm': 1, 'l': 1, 'y': 1})\n"
     ]
    }
   ],
   "source": [
    "# update with mapping\n",
    "c = collections.Counter('extremely')\n",
    "print(\"before update: \", c)\n",
    "\n",
    "print(\"*\"*40)\n",
    "\n",
    "c.update({'e':10,'t':1})\n",
    "print(\"after update:\", c)"
   ]
  },
  {
   "cell_type": "markdown",
   "metadata": {},
   "source": [
    "### subtract()\n",
    "\n",
    "inverse operation of update"
   ]
  },
  {
   "cell_type": "code",
   "execution_count": 27,
   "metadata": {},
   "outputs": [
    {
     "name": "stdout",
     "output_type": "stream",
     "text": [
      "before update:  Counter({'e': 3, 'x': 1, 't': 1, 'r': 1, 'm': 1, 'l': 1, 'y': 1})\n",
      "****************************************\n",
      "after update: Counter({'e': 2, 'x': 1, 't': 1, 'r': 1, 'm': 1, 'y': 1, 'l': -1, 'a': -1})\n"
     ]
    }
   ],
   "source": [
    "import collections\n",
    "\n",
    "c = collections.Counter('extremely')\n",
    "print(\"before update: \", c)\n",
    "\n",
    "print(\"*\"*40)\n",
    "\n",
    "c.subtract(\"aell\")\n",
    "print(\"after update:\", c)"
   ]
  },
  {
   "cell_type": "markdown",
   "metadata": {},
   "source": [
    "## Arithmetic\n",
    "\n",
    "Counter instance support arithmetic and set operation for aggregating results."
   ]
  },
  {
   "cell_type": "code",
   "execution_count": 28,
   "metadata": {},
   "outputs": [
    {
     "name": "stdout",
     "output_type": "stream",
     "text": [
      "C1: Counter({'b': 3, 'a': 2, 'c': 1})\n",
      "C2: Counter({'a': 2, 'l': 1, 'p': 1, 'h': 1, 'b': 1, 'e': 1, 't': 1})\n",
      "\n",
      "Combined counts:\n",
      "Counter({'a': 4, 'b': 4, 'c': 1, 'l': 1, 'p': 1, 'h': 1, 'e': 1, 't': 1})\n",
      "\n",
      "Subtraction:\n",
      "Counter({'b': 2, 'c': 1})\n",
      "\n",
      "Intersection (taking positive minimums):\n",
      "Counter({'a': 2, 'b': 1})\n",
      "\n",
      "Union (taking maximums):\n",
      "Counter({'b': 3, 'a': 2, 'c': 1, 'l': 1, 'p': 1, 'h': 1, 'e': 1, 't': 1})\n"
     ]
    }
   ],
   "source": [
    "import collections\n",
    "\n",
    "c1 = collections.Counter(['a', 'b', 'c', 'a', 'b', 'b'])\n",
    "c2 = collections.Counter('alphabet')\n",
    "\n",
    "print('C1:', c1)\n",
    "print('C2:', c2)\n",
    "\n",
    "print('\\nCombined counts:')\n",
    "print(c1 + c2)\n",
    "\n",
    "print('\\nSubtraction:')\n",
    "print(c1 - c2)\n",
    "\n",
    "print('\\nIntersection (taking positive minimums):')\n",
    "print(c1 & c2)\n",
    "\n",
    "print('\\nUnion (taking maximums):')\n",
    "print(c1 | c2)"
   ]
  },
  {
   "cell_type": "code",
   "execution_count": null,
   "metadata": {
    "collapsed": true
   },
   "outputs": [],
   "source": []
  }
 ],
 "metadata": {
  "kernelspec": {
   "display_name": "Python 3",
   "language": "python",
   "name": "python3"
  },
  "language_info": {
   "codemirror_mode": {
    "name": "ipython",
    "version": 3
   },
   "file_extension": ".py",
   "mimetype": "text/x-python",
   "name": "python",
   "nbconvert_exporter": "python",
   "pygments_lexer": "ipython3",
   "version": "3.6.1"
  }
 },
 "nbformat": 4,
 "nbformat_minor": 2
}
