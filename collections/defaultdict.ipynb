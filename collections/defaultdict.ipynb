{
 "cells": [
  {
   "cell_type": "markdown",
   "metadata": {},
   "source": [
    "return a new dictionary-like object. let the caller specify the default value when container is intialized."
   ]
  },
  {
   "cell_type": "code",
   "execution_count": 7,
   "metadata": {},
   "outputs": [
    {
     "name": "stdout",
     "output_type": "stream",
     "text": [
      "access:  yellow\n",
      "call mydefault\n",
      "access:  blue\n",
      "call mydefault\n",
      "access:  yellow\n",
      "access:  blue\n",
      "access:  red\n",
      "call mydefault\n"
     ]
    },
    {
     "data": {
      "text/plain": [
       "[('blue', [2, 4]), ('red', [1]), ('yellow', [1, 3])]"
      ]
     },
     "execution_count": 7,
     "metadata": {},
     "output_type": "execute_result"
    }
   ],
   "source": [
    "from collections import defaultdict\n",
    "# define a default function\n",
    "def mydefault():\n",
    "    print(\"call mydefault\")\n",
    "    return list()\n",
    "\n",
    "\n",
    "s = [('yellow', 1), ('blue', 2), ('yellow', 3), ('blue', 4), ('red', 1)]\n",
    "d = defaultdict(mydefault)\n",
    "for k, v in s:\n",
    "    print(\"access: \", k)\n",
    "    d[k].append(v)\n",
    "\n",
    "sorted(d.items())"
   ]
  },
  {
   "cell_type": "markdown",
   "metadata": {},
   "source": [
    "mydefault is called 3 times, because when each key is encountered for 1st time, it's not already in the mapping. the entry is automatically created using mydefault function."
   ]
  },
  {
   "cell_type": "code",
   "execution_count": null,
   "metadata": {
    "collapsed": true
   },
   "outputs": [],
   "source": []
  }
 ],
 "metadata": {
  "kernelspec": {
   "display_name": "Python 3",
   "language": "python",
   "name": "python3"
  },
  "language_info": {
   "codemirror_mode": {
    "name": "ipython",
    "version": 3
   },
   "file_extension": ".py",
   "mimetype": "text/x-python",
   "name": "python",
   "nbconvert_exporter": "python",
   "pygments_lexer": "ipython3",
   "version": "3.6.1"
  }
 },
 "nbformat": 4,
 "nbformat_minor": 2
}
