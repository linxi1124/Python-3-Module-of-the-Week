{
 "cells": [
  {
   "cell_type": "code",
   "execution_count": 1,
   "metadata": {
    "collapsed": true
   },
   "outputs": [],
   "source": [
    "import collections"
   ]
  },
  {
   "cell_type": "markdown",
   "metadata": {},
   "source": [
    "## Accessing Values\n",
    "The `ChainMap` manages a sequence of dictionaries, and searches through them in the order they are given, to find values associated with keys."
   ]
  },
  {
   "cell_type": "code",
   "execution_count": 5,
   "metadata": {},
   "outputs": [
    {
     "name": "stdout",
     "output_type": "stream",
     "text": [
      "Indivisual Values\n",
      "a=A\n",
      "b=B\n",
      "c=C\n",
      "\n",
      "Keys=['a', 'b', 'c']\n",
      "Value=['A', 'B', 'C']\n",
      "\n",
      "Print Items\n",
      "a=A\n",
      "b=B\n",
      "c=C\n",
      "\"d\" in m:False\n"
     ]
    }
   ],
   "source": [
    "a= {'a':'A','c':'C'}\n",
    "b= {'b':'B','c':'D'}\n",
    "\n",
    "m=collections.ChainMap(a,b)\n",
    "\n",
    "print('Indivisual Values')\n",
    "print('a={}'.format(m['a']))\n",
    "print('b={}'.format(m['b']))\n",
    "print('c={}'.format(m['c']))\n",
    "print()\n",
    "\n",
    "print('Keys={}'.format(list(m.keys())))\n",
    "print('Value={}'.format(list(m.values())))\n",
    "\n",
    "print()\n",
    "\n",
    "print(\"Print Items\")\n",
    "\n",
    "for k,v in m.items():\n",
    "    print('{}={}'.format(k,v))\n",
    "    \n",
    "print('\"d\" in m:{}'.format(('d' in m)))"
   ]
  },
  {
   "cell_type": "markdown",
   "metadata": {},
   "source": [
    "**Note**\n",
    "The child mapping are searched in the order they are passed to the constructor, so the value reported for the key 'c' comes from the \"a\" dictionary."
   ]
  },
  {
   "cell_type": "markdown",
   "metadata": {},
   "source": [
    "## Reordering\n",
    "\n",
    "the ChainMap stores the list of mappings over which it searchs in a list in its maps attribute. This list is mutable. so it is possible to add new mappings directly or change the order of the elements to control lookup and update behavior"
   ]
  },
  {
   "cell_type": "code",
   "execution_count": 6,
   "metadata": {},
   "outputs": [
    {
     "name": "stdout",
     "output_type": "stream",
     "text": [
      "[{'a': 'A', 'c': 'C'}, {'b': 'B', 'c': 'D'}]\n",
      "c = C\n",
      "\n",
      "[{'b': 'B', 'c': 'D'}, {'a': 'A', 'c': 'C'}]\n",
      "c = D\n"
     ]
    }
   ],
   "source": [
    "import collections\n",
    "\n",
    "a = {'a': 'A', 'c': 'C'}\n",
    "b = {'b': 'B', 'c': 'D'}\n",
    "\n",
    "m = collections.ChainMap(a, b)\n",
    "\n",
    "print(m.maps)\n",
    "print('c = {}\\n'.format(m['c']))\n",
    "\n",
    "# reverse the list\n",
    "m.maps = list(reversed(m.maps))\n",
    "\n",
    "print(m.maps)\n",
    "print('c = {}'.format(m['c']))"
   ]
  },
  {
   "cell_type": "markdown",
   "metadata": {},
   "source": [
    "## Updating Values\n",
    "\n",
    "A ChainMap does not cache the values in the child mappings, thus, if their contents are modified, the results are reflected when ChainMap is accessed."
   ]
  },
  {
   "cell_type": "code",
   "execution_count": 7,
   "metadata": {},
   "outputs": [
    {
     "name": "stdout",
     "output_type": "stream",
     "text": [
      "Before: C\n",
      "After : E\n"
     ]
    }
   ],
   "source": [
    "import collections\n",
    "\n",
    "a = {'a': 'A', 'c': 'C'}\n",
    "b = {'b': 'B', 'c': 'D'}\n",
    "\n",
    "m = collections.ChainMap(a, b)\n",
    "print('Before: {}'.format(m['c']))\n",
    "a['c'] = 'E'\n",
    "print('After : {}'.format(m['c']))\n"
   ]
  },
  {
   "cell_type": "markdown",
   "metadata": {},
   "source": [
    "ChainMap Provides a convenience method for creating a new instance with one extra mapping at the front of maps list to make it easy to avoid modifying the existing underlying data structures."
   ]
  },
  {
   "cell_type": "code",
   "execution_count": 9,
   "metadata": {},
   "outputs": [
    {
     "name": "stdout",
     "output_type": "stream",
     "text": [
      "m1 before: ChainMap({'a': 'A', 'c': 'C'}, {'b': 'B', 'c': 'D'})\n",
      "m2 before: ChainMap({}, {'a': 'A', 'c': 'C'}, {'b': 'B', 'c': 'D'})\n",
      "m1 after: ChainMap({'a': 'A', 'c': 'C'}, {'b': 'B', 'c': 'D'})\n",
      "m2 after: ChainMap({'c': 'E'}, {'a': 'A', 'c': 'C'}, {'b': 'B', 'c': 'D'})\n"
     ]
    }
   ],
   "source": [
    "import collections\n",
    "\n",
    "a = {'a': 'A', 'c': 'C'}\n",
    "b = {'b': 'B', 'c': 'D'}\n",
    "\n",
    "m1 = collections.ChainMap(a, b)\n",
    "m2 = m1.new_child()\n",
    "\n",
    "print('m1 before:', m1)\n",
    "print('m2 before:', m2)\n",
    "\n",
    "m2['c'] = 'E'\n",
    "\n",
    "print('m1 after:', m1)\n",
    "print('m2 after:', m2)"
   ]
  },
  {
   "cell_type": "markdown",
   "metadata": {},
   "source": [
    "for situation where the new context is known or buit in advance, it is also possible to pass a mapping to `new_child()'"
   ]
  },
  {
   "cell_type": "code",
   "execution_count": 10,
   "metadata": {},
   "outputs": [
    {
     "name": "stdout",
     "output_type": "stream",
     "text": [
      "m1[\"c\"] = C\n",
      "m2[\"c\"] = E\n"
     ]
    }
   ],
   "source": [
    "import collections\n",
    "\n",
    "a = {'a': 'A', 'c': 'C'}\n",
    "b = {'b': 'B', 'c': 'D'}\n",
    "c = {'c': 'E'}\n",
    "\n",
    "m1 = collections.ChainMap(a, b)\n",
    "m2 = m1.new_child(c)\n",
    "\n",
    "print('m1[\"c\"] = {}'.format(m1['c']))\n",
    "print('m2[\"c\"] = {}'.format(m2['c']))"
   ]
  },
  {
   "cell_type": "markdown",
   "metadata": {},
   "source": [
    "we can also skip the first map in the search.\n",
    "`parents` Property returning a new `ChainMap` containing all of the maps in the current instance except the first one."
   ]
  },
  {
   "cell_type": "code",
   "execution_count": 14,
   "metadata": {},
   "outputs": [
    {
     "data": {
      "text/plain": [
       "ChainMap({'b': 'B', 'c': 'D'}, {'e': 'E', 'f': 'F'})"
      ]
     },
     "execution_count": 14,
     "metadata": {},
     "output_type": "execute_result"
    }
   ],
   "source": [
    "import collections\n",
    "\n",
    "a = {'a': 'A', 'c': 'C'}\n",
    "b = {'b': 'B', 'c': 'D'}\n",
    "c = {'e': 'E', 'f': 'F'}\n",
    "\n",
    "\n",
    "m1 = collections.ChainMap(a, b,c)\n",
    "m1.parents"
   ]
  },
  {
   "cell_type": "code",
   "execution_count": null,
   "metadata": {
    "collapsed": true
   },
   "outputs": [],
   "source": []
  }
 ],
 "metadata": {
  "kernelspec": {
   "display_name": "Python 3",
   "language": "python",
   "name": "python3"
  },
  "language_info": {
   "codemirror_mode": {
    "name": "ipython",
    "version": 3
   },
   "file_extension": ".py",
   "mimetype": "text/x-python",
   "name": "python",
   "nbconvert_exporter": "python",
   "pygments_lexer": "ipython3",
   "version": "3.6.1"
  }
 },
 "nbformat": 4,
 "nbformat_minor": 2
}
