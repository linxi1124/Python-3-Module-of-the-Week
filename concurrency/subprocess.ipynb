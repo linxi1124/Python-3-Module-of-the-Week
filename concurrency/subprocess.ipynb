{
 "cells": [
  {
   "cell_type": "markdown",
   "metadata": {},
   "source": [
    "The `subprocess` module allows you to spawn new processes, connect to their input/output/error pipes, and obtain their return codes.\n",
    "\n"
   ]
  },
  {
   "cell_type": "markdown",
   "metadata": {},
   "source": [
    "## Running External Command"
   ]
  },
  {
   "cell_type": "code",
   "execution_count": 1,
   "metadata": {
    "collapsed": true
   },
   "outputs": [],
   "source": [
    "import subprocess"
   ]
  },
  {
   "cell_type": "code",
   "execution_count": 23,
   "metadata": {},
   "outputs": [
    {
     "data": {
      "text/plain": [
       "CompletedProcess(args=['ls', '-l'], returncode=0)"
      ]
     },
     "execution_count": 23,
     "metadata": {},
     "output_type": "execute_result"
    }
   ],
   "source": [
    "completed = subprocess.run(['ls', '-l'])\n",
    "completed"
   ]
  },
  {
   "cell_type": "markdown",
   "metadata": {},
   "source": [
    "### Capturing Output"
   ]
  },
  {
   "cell_type": "markdown",
   "metadata": {},
   "source": [
    "The standard input and output channels for the process started by run() are bound to the parent’s input and output. That means the calling program cannot capture the output of the command. Pass PIPE for the stdout and stderr arguments to capture the output for later processing."
   ]
  },
  {
   "cell_type": "code",
   "execution_count": 24,
   "metadata": {},
   "outputs": [
    {
     "data": {
      "text/plain": [
       "CompletedProcess(args=['ls', '-l'], returncode=0, stdout=b'total 4\\n-rw-rw-r-- 1 scott scott 2505 Oct 20 11:24 subprocess.ipynb\\n')"
      ]
     },
     "execution_count": 24,
     "metadata": {},
     "output_type": "execute_result"
    }
   ],
   "source": [
    "completed = subprocess.run(['ls', '-l'], stdout=subprocess.PIPE)\n",
    "completed"
   ]
  },
  {
   "cell_type": "markdown",
   "metadata": {},
   "source": [
    "### Suppressing Output"
   ]
  },
  {
   "cell_type": "markdown",
   "metadata": {},
   "source": [
    "For cases where the output should not be shown or captured, use DEVNULL to suppress an output stream. This example suppresses both the standard output and error streams."
   ]
  },
  {
   "cell_type": "code",
   "execution_count": 32,
   "metadata": {},
   "outputs": [
    {
     "name": "stdout",
     "output_type": "stream",
     "text": [
      "returncode: 1\n",
      "stdout is None\n",
      "stderr is None\n"
     ]
    }
   ],
   "source": [
    "import subprocess\n",
    "\n",
    "try:\n",
    "    completed = subprocess.run(\n",
    "        'echo to stdout; echo to stderr 1>&2; exit 1',\n",
    "        shell=True,\n",
    "        stdout=subprocess.DEVNULL,\n",
    "        stderr=subprocess.DEVNULL,\n",
    "    )\n",
    "except subprocess.CalledProcessError as err:\n",
    "    print('ERROR:', err)\n",
    "else:\n",
    "    print('returncode:', completed.returncode)\n",
    "    print('stdout is {!r}'.format(completed.stdout))\n",
    "    print('stderr is {!r}'.format(completed.stderr))"
   ]
  },
  {
   "cell_type": "markdown",
   "metadata": {},
   "source": [
    "### Execute on shell"
   ]
  },
  {
   "cell_type": "markdown",
   "metadata": {},
   "source": [
    "setting the shell argument to a true value causes subprocess to spwan an intermediate shell process which runs the command. the default is to run the command directly"
   ]
  },
  {
   "cell_type": "code",
   "execution_count": 29,
   "metadata": {},
   "outputs": [
    {
     "data": {
      "text/plain": [
       "CompletedProcess(args='echo $HOME', returncode=0, stdout=b'/home/scott\\n')"
      ]
     },
     "execution_count": 29,
     "metadata": {},
     "output_type": "execute_result"
    }
   ],
   "source": [
    "import subprocess\n",
    "completed = subprocess.run('echo $HOME', shell=True, stdout=subprocess.PIPE)\n",
    "completed"
   ]
  },
  {
   "cell_type": "markdown",
   "metadata": {},
   "source": [
    "if you don't run this command on a shell, this is a error, because **HOME** is not defined"
   ]
  },
  {
   "cell_type": "code",
   "execution_count": 31,
   "metadata": {},
   "outputs": [
    {
     "name": "stdout",
     "output_type": "stream",
     "text": [
      "Get Error if don't execute on shell\n"
     ]
    }
   ],
   "source": [
    "import subprocess\n",
    "try:\n",
    "    completed = subprocess.run('echo $HOME', stdout=subprocess.PIPE)\n",
    "except:\n",
    "    print(\"Get Error if don't execute on shell\")"
   ]
  },
  {
   "cell_type": "markdown",
   "metadata": {},
   "source": [
    "## Working with Pipes Directly"
   ]
  },
  {
   "cell_type": "markdown",
   "metadata": {},
   "source": [
    "The functions run(), call(), check_call(), and check_output() are wrappers around the Popen class. Using Popen directly gives more control over how the command is run, and how its input and output streams are processed. For example, by passing different arguments for stdin, stdout, and stderr it is possible to mimic the variations of os.popen()."
   ]
  },
  {
   "cell_type": "markdown",
   "metadata": {},
   "source": [
    "### One-way communication With a process"
   ]
  },
  {
   "cell_type": "code",
   "execution_count": 33,
   "metadata": {},
   "outputs": [
    {
     "name": "stdout",
     "output_type": "stream",
     "text": [
      "read:\n",
      "stdout '\"to stdout\"\\n'\n"
     ]
    }
   ],
   "source": [
    "import subprocess\n",
    "print(\"read:\")\n",
    "proc = subprocess.Popen(['echo', '\"to stdout\"'],\n",
    "                       stdout = subprocess.PIPE)\n",
    "stdout_value = proc.communicate()[0].decode(\"utf-8\")\n",
    "print('stdout', repr(stdout_value))"
   ]
  },
  {
   "cell_type": "markdown",
   "metadata": {},
   "source": [
    "## Connecting Segments of a Pipe"
   ]
  },
  {
   "cell_type": "code",
   "execution_count": 34,
   "metadata": {},
   "outputs": [
    {
     "name": "stdout",
     "output_type": "stream",
     "text": [
      "Included files:\n"
     ]
    }
   ],
   "source": [
    "import subprocess\n",
    "\n",
    "cat = subprocess.Popen(\n",
    "    ['cat', 'index.rst'],\n",
    "    stdout=subprocess.PIPE,\n",
    ")\n",
    "\n",
    "grep = subprocess.Popen(\n",
    "    ['grep', '.. literalinclude::'],\n",
    "    stdin=cat.stdout,\n",
    "    stdout=subprocess.PIPE,\n",
    ")\n",
    "\n",
    "cut = subprocess.Popen(\n",
    "    ['cut', '-f', '3', '-d:'],\n",
    "    stdin=grep.stdout,\n",
    "    stdout=subprocess.PIPE,\n",
    ")\n",
    "\n",
    "end_of_pipe = cut.stdout\n",
    "\n",
    "print('Included files:')\n",
    "for line in end_of_pipe:\n",
    "    print(line.decode('utf-8').strip())"
   ]
  },
  {
   "cell_type": "markdown",
   "metadata": {},
   "source": [
    "## Interacting with Another Command"
   ]
  },
  {
   "cell_type": "code",
   "execution_count": null,
   "metadata": {
    "collapsed": true
   },
   "outputs": [],
   "source": []
  },
  {
   "cell_type": "markdown",
   "metadata": {},
   "source": [
    "## Signaling Between Processes"
   ]
  },
  {
   "cell_type": "markdown",
   "metadata": {},
   "source": [
    "The process management examples for the os module include a demonstration of signaling between processes using os.fork() and os.kill(). Since each Popen instance provides a pid attribute with the process id of the child process, it is possible to do something similar with subprocess. The next example combines two scripts. This child process sets up a signal handler for the USR signal.\n",
    "\n"
   ]
  },
  {
   "cell_type": "code",
   "execution_count": null,
   "metadata": {},
   "outputs": [],
   "source": [
    "# %load signal_child.py\n",
    "import os\n",
    "import signal\n",
    "import time\n",
    "import sys\n",
    "\n",
    "pid = os.getpid()\n",
    "received = False\n",
    "\n",
    "\n",
    "def signal_usr1(signum, frame):\n",
    "    \"Callback invoked when a signal is received\"\n",
    "    global received\n",
    "    received = True\n",
    "    print('CHILD {:>6}: Received USR1'.format(pid))\n",
    "    sys.stdout.flush()\n",
    "\n",
    "\n",
    "print('CHILD {:>6}: Setting up signal handler'.format(pid))\n",
    "sys.stdout.flush()\n",
    "signal.signal(signal.SIGUSR1, signal_usr1)\n",
    "print('CHILD {:>6}: Pausing to wait for signal'.format(pid))\n",
    "sys.stdout.flush()\n",
    "time.sleep(3)\n",
    "\n",
    "if not received:\n",
    "    print('CHILD {:>6}: Never received signal'.format(pid))"
   ]
  },
  {
   "cell_type": "code",
   "execution_count": null,
   "metadata": {},
   "outputs": [],
   "source": [
    "# %load signal_parent.py\n",
    "import os\n",
    "import signal\n",
    "import subprocess\n",
    "import time\n",
    "import sys\n",
    "\n",
    "proc = subprocess.Popen(['python3', 'signal_child.py'])\n",
    "print('PARENT      : Pausing before sending signal...')\n",
    "sys.stdout.flush()\n",
    "time.sleep(1)\n",
    "print('PARENT      : Signaling child')\n",
    "sys.stdout.flush()\n",
    "os.kill(proc.pid, signal.SIGUSR1)"
   ]
  },
  {
   "cell_type": "code",
   "execution_count": 41,
   "metadata": {},
   "outputs": [
    {
     "name": "stdout",
     "output_type": "stream",
     "text": [
      "PARENT      : Pausing before sending signal...\n",
      "CHILD  19430: Setting up signal handler\n",
      "CHILD  19430: Pausing to wait for signal\n",
      "PARENT      : Signaling child\n",
      "CHILD  19430: Received USR1\n"
     ]
    }
   ],
   "source": [
    "!python signal_parent.py"
   ]
  },
  {
   "cell_type": "markdown",
   "metadata": {},
   "source": [
    "## Process Groups / Session"
   ]
  },
  {
   "cell_type": "markdown",
   "metadata": {},
   "source": [
    "If the process created by Popen spawns sub-processes, those children will not receive any signals sent to the parent. That means when using the shell argument to Popen it will be difficult to cause the command started in the shell to terminate by sending SIGINT or SIGTERM."
   ]
  },
  {
   "cell_type": "code",
   "execution_count": 43,
   "metadata": {},
   "outputs": [
    {
     "name": "stdout",
     "output_type": "stream",
     "text": [
      "PARENT      : Pausing before signaling 20004...\n",
      "PARENT      : Signaling child 20004\n"
     ]
    }
   ],
   "source": [
    "import os\n",
    "import signal\n",
    "import subprocess\n",
    "import tempfile\n",
    "import time\n",
    "import sys\n",
    "\n",
    "script = '''#!/bin/sh\n",
    "echo \"Shell script in process $$\"\n",
    "set -x\n",
    "python3 signal_child.py\n",
    "'''\n",
    "script_file = tempfile.NamedTemporaryFile('wt')\n",
    "script_file.write(script)\n",
    "script_file.flush()\n",
    "\n",
    "proc = subprocess.Popen(['sh', script_file.name])\n",
    "print('PARENT      : Pausing before signaling {}...'.format(\n",
    "    proc.pid))\n",
    "sys.stdout.flush()\n",
    "time.sleep(1)\n",
    "print('PARENT      : Signaling child {}'.format(proc.pid))\n",
    "sys.stdout.flush()\n",
    "os.kill(proc.pid, signal.SIGUSR1)\n",
    "time.sleep(3)"
   ]
  },
  {
   "cell_type": "markdown",
   "metadata": {},
   "source": [
    "The pid used to send the signal does not match the pid of the child of the shell script waiting for the signal, because in this example there are three separate processes interacting:\n",
    "\n",
    "* The program subprocess_signal_parent_shell.py\n",
    "* The shell process running the script created by the main python program\n",
    "* The program signal_child.py"
   ]
  },
  {
   "cell_type": "markdown",
   "metadata": {},
   "source": [
    "To send signals to descendants without knowing their process id, use a process group to associate the children so they can be signaled together. The process group is created with os.setpgrp(), which sets process group id to the process id of the current process. All child processes inherit their process group from their parent, and since it should only be set in the shell created by Popen and its descendants, os.setpgrp() should not be called in the same process where the Popen is created. Instead, the function is passed to Popen as the preexec_fn argument so it is run after the fork() inside the new process, before it uses exec() to run the shell. To signal the entire process group, use os.killpg() with the pid value from the Popen instance."
   ]
  },
  {
   "cell_type": "code",
   "execution_count": 44,
   "metadata": {},
   "outputs": [
    {
     "name": "stdout",
     "output_type": "stream",
     "text": [
      "Calling os.setpgrp() from 20382\n",
      "Process group is now 20382\n",
      "PARENT      : Pausing before signaling 20382...\n",
      "PARENT      : Signaling process group 20382\n"
     ]
    }
   ],
   "source": [
    "import os\n",
    "import signal\n",
    "import subprocess\n",
    "import tempfile\n",
    "import time\n",
    "import sys\n",
    "\n",
    "\n",
    "def show_setting_prgrp():\n",
    "    print('Calling os.setpgrp() from {}'.format(os.getpid()))\n",
    "    os.setpgrp()\n",
    "    print('Process group is now {}'.format(\n",
    "        os.getpid(), os.getpgrp()))\n",
    "    sys.stdout.flush()\n",
    "\n",
    "\n",
    "script = '''#!/bin/sh\n",
    "echo \"Shell script in process $$\"\n",
    "set -x\n",
    "python3 signal_child.py\n",
    "'''\n",
    "script_file = tempfile.NamedTemporaryFile('wt')\n",
    "script_file.write(script)\n",
    "script_file.flush()\n",
    "\n",
    "proc = subprocess.Popen(\n",
    "    ['sh', script_file.name],\n",
    "    preexec_fn=show_setting_prgrp,\n",
    ")\n",
    "print('PARENT      : Pausing before signaling {}...'.format(\n",
    "    proc.pid))\n",
    "sys.stdout.flush()\n",
    "time.sleep(1)\n",
    "print('PARENT      : Signaling process group {}'.format(\n",
    "    proc.pid))\n",
    "sys.stdout.flush()\n",
    "os.killpg(proc.pid, signal.SIGUSR1)\n",
    "time.sleep(3)"
   ]
  },
  {
   "cell_type": "code",
   "execution_count": null,
   "metadata": {
    "collapsed": true
   },
   "outputs": [],
   "source": []
  }
 ],
 "metadata": {
  "kernelspec": {
   "display_name": "Python 3",
   "language": "python",
   "name": "python3"
  },
  "language_info": {
   "codemirror_mode": {
    "name": "ipython",
    "version": 3
   },
   "file_extension": ".py",
   "mimetype": "text/x-python",
   "name": "python",
   "nbconvert_exporter": "python",
   "pygments_lexer": "ipython3",
   "version": "3.6.1"
  }
 },
 "nbformat": 4,
 "nbformat_minor": 2
}
