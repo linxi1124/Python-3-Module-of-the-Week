{
 "cells": [
  {
   "cell_type": "markdown",
   "metadata": {},
   "source": [
    "Linear control flow between a series of coroutines is easy to manage with the built-in language keyword await. More complicated structures allowing one coroutine to wait for several others to complete in parallel are also possible using tools in asyncio.\n",
    "\n"
   ]
  },
  {
   "cell_type": "markdown",
   "metadata": {},
   "source": [
    "## Waiting for Multiple Coroutines"
   ]
  },
  {
   "cell_type": "markdown",
   "metadata": {},
   "source": [
    "It is often useful to divide one operation into many parts and execute them separately. For example, downloading several remote resources or querying remote APIs. In situations where the order of execution doesn’t matter, and where there may be an arbitrary number of operations, wait() can be used to pause one coroutine until the other background operations complete."
   ]
  },
  {
   "cell_type": "code",
   "execution_count": null,
   "metadata": {
    "collapsed": true
   },
   "outputs": [],
   "source": [
    "# %load asyncio_wait.py\n",
    "import asyncio\n",
    "\n",
    "\n",
    "async def phase(i):\n",
    "    print('in phase {}'.format(i))\n",
    "    await asyncio.sleep(0.1 * i)\n",
    "    print('done with phase {}'.format(i))\n",
    "    return 'phase {} result'.format(i)\n",
    "\n",
    "\n",
    "async def main(num_phases):\n",
    "    print('starting main')\n",
    "    phases = [\n",
    "        phase(i)\n",
    "        for i in range(num_phases)\n",
    "    ]\n",
    "    print('waiting for phases to complete')\n",
    "    completed, pending = await asyncio.wait(phases)\n",
    "    results = [t.result() for t in completed]\n",
    "    print('results: {!r}'.format(results))\n",
    "\n",
    "\n",
    "event_loop = asyncio.get_event_loop()\n",
    "try:\n",
    "    event_loop.run_until_complete(main(3))\n",
    "finally:\n",
    "    event_loop.close()"
   ]
  },
  {
   "cell_type": "code",
   "execution_count": 2,
   "metadata": {},
   "outputs": [
    {
     "name": "stdout",
     "output_type": "stream",
     "text": [
      "starting main\n",
      "waiting for phases to complete\n",
      "in phase 1\n",
      "in phase 2\n",
      "in phase 0\n",
      "done with phase 0\n",
      "done with phase 1\n",
      "done with phase 2\n",
      "results: ['phase 2 result', 'phase 0 result', 'phase 1 result']\n"
     ]
    }
   ],
   "source": [
    "!python asyncio_wait.py"
   ]
  },
  {
   "cell_type": "markdown",
   "metadata": {},
   "source": [
    "Internally, wait() uses a set to hold the Task instances it creates. This results in them starting, and finishing, in an unpredictable order. The return value from wait() is a tuple containing two sets holding the finished and pending tasks.\n",
    "\n"
   ]
  },
  {
   "cell_type": "markdown",
   "metadata": {},
   "source": [
    "There will only be pending operations left if wait() is used with a timeout value.\n",
    "\n"
   ]
  },
  {
   "cell_type": "code",
   "execution_count": null,
   "metadata": {
    "collapsed": true
   },
   "outputs": [],
   "source": [
    "# %load asyncio_wait_timeout.py\n",
    "import asyncio\n",
    "\n",
    "\n",
    "async def phase(i):\n",
    "    print('in phase {}'.format(i))\n",
    "    try:\n",
    "        await asyncio.sleep(0.1 * i)\n",
    "    except asyncio.CancelledError:\n",
    "        print('phase {} canceled'.format(i))\n",
    "        raise\n",
    "    else:\n",
    "        print('done with phase {}'.format(i))\n",
    "        return 'phase {} result'.format(i)\n",
    "\n",
    "\n",
    "async def main(num_phases):\n",
    "    print('starting main')\n",
    "    phases = [\n",
    "        phase(i)\n",
    "        for i in range(num_phases)\n",
    "    ]\n",
    "    print('waiting 0.1 for phases to complete')\n",
    "    completed, pending = await asyncio.wait(phases, timeout=0.1)\n",
    "    print('{} completed and {} pending'.format(\n",
    "        len(completed), len(pending),\n",
    "    ))\n",
    "    # Cancel remaining tasks so they do not generate errors\n",
    "    # as we exit without finishing them.\n",
    "    if pending:\n",
    "        print('canceling tasks')\n",
    "        for t in pending:\n",
    "            t.cancel()\n",
    "    print('exiting main')\n",
    "\n",
    "\n",
    "event_loop = asyncio.get_event_loop()\n",
    "try:\n",
    "    event_loop.run_until_complete(main(3))\n",
    "finally:\n",
    "    event_loop.close()"
   ]
  },
  {
   "cell_type": "markdown",
   "metadata": {},
   "source": [
    "Those remaining background operations should either be cancelled or finished by waiting for them. Leaving them pending while the event loop continues will let them execute further, which may not be desirable if the overall operation is considered aborted. Leaving them pending at the end of the process will result in warnings being reported.\n",
    "\n"
   ]
  },
  {
   "cell_type": "code",
   "execution_count": 4,
   "metadata": {},
   "outputs": [
    {
     "name": "stdout",
     "output_type": "stream",
     "text": [
      "starting main\n",
      "waiting 0.1 for phases to complete\n",
      "in phase 1\n",
      "in phase 2\n",
      "in phase 0\n",
      "done with phase 0\n",
      "1 completed and 2 pending\n",
      "canceling tasks\n",
      "exiting main\n",
      "phase 1 canceled\n",
      "phase 2 canceled\n"
     ]
    }
   ],
   "source": [
    "!python asyncio_wait_timeout.py"
   ]
  },
  {
   "cell_type": "markdown",
   "metadata": {},
   "source": [
    "## Gathering Results from Coroutines"
   ]
  },
  {
   "cell_type": "markdown",
   "metadata": {},
   "source": [
    "If the background phases are well-defined, and only the results of those phases matter, then gather() may be more useful for waiting for multiple operations."
   ]
  },
  {
   "cell_type": "code",
   "execution_count": null,
   "metadata": {
    "collapsed": true
   },
   "outputs": [],
   "source": [
    "# %load asyncio_gather.py\n",
    "import asyncio\n",
    "\n",
    "\n",
    "async def phase1():\n",
    "    print('in phase1')\n",
    "    await asyncio.sleep(2)\n",
    "    print('done with phase1')\n",
    "    return 'phase1 result'\n",
    "\n",
    "\n",
    "async def phase2():\n",
    "    print('in phase2')\n",
    "    await asyncio.sleep(1)\n",
    "    print('done with phase2')\n",
    "    return 'phase2 result'\n",
    "\n",
    "\n",
    "async def main():\n",
    "    print('starting main')\n",
    "    print('waiting for phases to complete')\n",
    "    results = await asyncio.gather(\n",
    "        phase1(),\n",
    "        phase2(),\n",
    "    )\n",
    "    print('results: {!r}'.format(results))\n",
    "\n",
    "\n",
    "event_loop = asyncio.get_event_loop()\n",
    "try:\n",
    "    event_loop.run_until_complete(main())\n",
    "finally:\n",
    "    event_loop.close()"
   ]
  },
  {
   "cell_type": "markdown",
   "metadata": {},
   "source": [
    "The tasks created by gather are not exposed, so they cannot be cancelled. The return value is a list of results in the same order as the arguments passed to gather(), regardless of the order the background operations actually completed."
   ]
  },
  {
   "cell_type": "code",
   "execution_count": 6,
   "metadata": {},
   "outputs": [
    {
     "name": "stdout",
     "output_type": "stream",
     "text": [
      "starting main\n",
      "waiting for phases to complete\n",
      "in phase2\n",
      "in phase1\n",
      "done with phase2\n",
      "done with phase1\n",
      "results: ['phase1 result', 'phase2 result']\n"
     ]
    }
   ],
   "source": [
    "!python asyncio_gather.py"
   ]
  },
  {
   "cell_type": "markdown",
   "metadata": {},
   "source": [
    "## Handling Background Operations as They Finish"
   ]
  },
  {
   "cell_type": "markdown",
   "metadata": {},
   "source": [
    "as_completed() is a generator that manages the execution of a list of coroutines given to it and produces their results one at a time as they finish running. As with wait(), order is not guaranteed by as_completed(), but it is not necessary to wait for all of the background operations to complete before taking other action.\n",
    "\n"
   ]
  },
  {
   "cell_type": "code",
   "execution_count": null,
   "metadata": {
    "collapsed": true
   },
   "outputs": [],
   "source": [
    "# %load asyncio_as_completed.py\n",
    "import asyncio\n",
    "\n",
    "\n",
    "async def phase(i):\n",
    "    print('in phase {}'.format(i))\n",
    "    await asyncio.sleep(0.5 - (0.1 * i))\n",
    "    print('done with phase {}'.format(i))\n",
    "    return 'phase {} result'.format(i)\n",
    "\n",
    "\n",
    "async def main(num_phases):\n",
    "    print('starting main')\n",
    "    phases = [\n",
    "        phase(i)\n",
    "        for i in range(num_phases)\n",
    "    ]\n",
    "    print('waiting for phases to complete')\n",
    "    results = []\n",
    "    for next_to_complete in asyncio.as_completed(phases):\n",
    "        answer = await next_to_complete\n",
    "        print('received answer {!r}'.format(answer))\n",
    "        results.append(answer)\n",
    "    print('results: {!r}'.format(results))\n",
    "    return results\n",
    "\n",
    "\n",
    "event_loop = asyncio.get_event_loop()\n",
    "try:\n",
    "    event_loop.run_until_complete(main(3))\n",
    "finally:\n",
    "    event_loop.close()"
   ]
  },
  {
   "cell_type": "markdown",
   "metadata": {},
   "source": [
    "This example starts several background phases that finish in the reverse order from which they start. As the generator is consumed, the loop waits for the result of the coroutine using await."
   ]
  },
  {
   "cell_type": "code",
   "execution_count": 8,
   "metadata": {},
   "outputs": [
    {
     "name": "stdout",
     "output_type": "stream",
     "text": [
      "starting main\n",
      "waiting for phases to complete\n",
      "in phase 0\n",
      "in phase 1\n",
      "in phase 2\n",
      "done with phase 2\n",
      "received answer 'phase 2 result'\n",
      "done with phase 1\n",
      "received answer 'phase 1 result'\n",
      "done with phase 0\n",
      "received answer 'phase 0 result'\n",
      "results: ['phase 2 result', 'phase 1 result', 'phase 0 result']\n"
     ]
    }
   ],
   "source": [
    "!python asyncio_as_completed.py"
   ]
  },
  {
   "cell_type": "code",
   "execution_count": null,
   "metadata": {
    "collapsed": true
   },
   "outputs": [],
   "source": []
  }
 ],
 "metadata": {
  "kernelspec": {
   "display_name": "Python 3",
   "language": "python",
   "name": "python3"
  },
  "language_info": {
   "codemirror_mode": {
    "name": "ipython",
    "version": 3
   },
   "file_extension": ".py",
   "mimetype": "text/x-python",
   "name": "python",
   "nbconvert_exporter": "python",
   "pygments_lexer": "ipython3",
   "version": "3.6.1"
  }
 },
 "nbformat": 4,
 "nbformat_minor": 2
}
