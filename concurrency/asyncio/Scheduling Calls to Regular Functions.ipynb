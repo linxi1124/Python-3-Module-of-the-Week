{
 "cells": [
  {
   "cell_type": "markdown",
   "metadata": {},
   "source": [
    "In addition to managing coroutines and I/O callbacks, the asyncio event loop can schedule calls to regular functions based on the timer value kept in the loop.\n",
    "\n"
   ]
  },
  {
   "cell_type": "markdown",
   "metadata": {},
   "source": [
    "## Scheduling a Callback “Soon”"
   ]
  },
  {
   "cell_type": "markdown",
   "metadata": {},
   "source": [
    "If the timing of the callback does not matter, call_soon() can be used to schedule the call for the next iteration of the loop. Any extra positional arguments after the function are passed to the callback when it is invoked. To pass keyword arguments to the callback, use ```partial()``` from the ```functools``` module"
   ]
  },
  {
   "cell_type": "code",
   "execution_count": 1,
   "metadata": {},
   "outputs": [
    {
     "name": "stdout",
     "output_type": "stream",
     "text": [
      "entering event loop\n",
      "registering callbacks\n",
      "callback invoked with 1 and default\n",
      "callback invoked with 2 and not default\n",
      "closing event loop\n"
     ]
    }
   ],
   "source": [
    "import asyncio\n",
    "import functools\n",
    "\n",
    "\n",
    "def callback(arg, *, kwarg='default'):\n",
    "    print('callback invoked with {} and {}'.format(arg, kwarg))\n",
    "\n",
    "\n",
    "async def main(loop):\n",
    "    print('registering callbacks')\n",
    "    loop.call_soon(callback, 1)\n",
    "    wrapped = functools.partial(callback, kwarg='not default')\n",
    "    loop.call_soon(wrapped, 2)\n",
    "\n",
    "    await asyncio.sleep(0.1)\n",
    "\n",
    "\n",
    "event_loop = asyncio.get_event_loop()\n",
    "try:\n",
    "    print('entering event loop')\n",
    "    event_loop.run_until_complete(main(event_loop))\n",
    "finally:\n",
    "    print('closing event loop')\n",
    "    event_loop.close()"
   ]
  },
  {
   "cell_type": "markdown",
   "metadata": {},
   "source": [
    "The callbacks are invoked in the order they are scheduled.\n",
    "\n"
   ]
  },
  {
   "cell_type": "markdown",
   "metadata": {},
   "source": [
    "## Scheduling a Callback with a Delay"
   ]
  },
  {
   "cell_type": "markdown",
   "metadata": {},
   "source": [
    "To postpone a callback until some time in the future, use call_later(). The first argument is the delay in seconds and the second argument is the callback."
   ]
  },
  {
   "cell_type": "code",
   "execution_count": null,
   "metadata": {},
   "outputs": [],
   "source": [
    "# %load asyncio_call_later.py\n",
    "import asyncio\n",
    "\n",
    "\n",
    "def callback(n):\n",
    "    print('callback {} invoked'.format(n))\n",
    "\n",
    "\n",
    "async def main(loop):\n",
    "    print('registering callbacks')\n",
    "    loop.call_later(0.2, callback, 1)\n",
    "    loop.call_later(0.1, callback, 2)\n",
    "    loop.call_soon(callback, 3)\n",
    "\n",
    "    await asyncio.sleep(0.4)\n",
    "\n",
    "\n",
    "event_loop = asyncio.get_event_loop()\n",
    "try:\n",
    "    print('entering event loop')\n",
    "    event_loop.run_until_complete(main(event_loop))\n",
    "finally:\n",
    "    print('closing event loop')\n",
    "    event_loop.close()"
   ]
  },
  {
   "cell_type": "code",
   "execution_count": 4,
   "metadata": {},
   "outputs": [
    {
     "name": "stdout",
     "output_type": "stream",
     "text": [
      "entering event loop\n",
      "registering callbacks\n",
      "callback 3 invoked\n",
      "callback 2 invoked\n",
      "callback 1 invoked\n",
      "closing event loop\n"
     ]
    }
   ],
   "source": [
    "!python asyncio_call_later.py"
   ]
  },
  {
   "cell_type": "markdown",
   "metadata": {},
   "source": [
    "In this example, the same callback function is scheduled for several different times with different arguments. The final instance, using call_soon(), results in the callback being invoked with the argument 3 before any of the time-scheduled instances, showing that “soon” usually implies a minimal delay.\n",
    "\n"
   ]
  },
  {
   "cell_type": "markdown",
   "metadata": {},
   "source": [
    "## Scheduling a Callback for a Specific Time"
   ]
  },
  {
   "cell_type": "markdown",
   "metadata": {},
   "source": [
    "It is also possible to schedule a call to occur at a specific time. The loop uses a monotonic clock, rather than a wall-clock time, to ensure that the value of “now” never regresses. To choose a time for a scheduled callback it is necessary to start from the internal state of that clock using the loop’s time() method."
   ]
  },
  {
   "cell_type": "code",
   "execution_count": null,
   "metadata": {
    "collapsed": true
   },
   "outputs": [],
   "source": [
    "# %load asyncio_call_at.py\n",
    "import asyncio\n",
    "import time\n",
    "\n",
    "\n",
    "def callback(n, loop):\n",
    "    print('callback {} invoked at {}'.format(n, loop.time()))\n",
    "\n",
    "\n",
    "async def main(loop):\n",
    "    now = loop.time()\n",
    "    print('clock time: {}'.format(time.time()))\n",
    "    print('loop  time: {}'.format(now))\n",
    "\n",
    "    print('registering callbacks')\n",
    "    loop.call_at(now + 0.2, callback, 1, loop)\n",
    "    loop.call_at(now + 0.1, callback, 2, loop)\n",
    "    loop.call_soon(callback, 3, loop)\n",
    "\n",
    "    await asyncio.sleep(1)\n",
    "\n",
    "\n",
    "event_loop = asyncio.get_event_loop()\n",
    "try:\n",
    "    print('entering event loop')\n",
    "    event_loop.run_until_complete(main(event_loop))\n",
    "finally:\n",
    "    print('closing event loop')\n",
    "    event_loop.close()"
   ]
  },
  {
   "cell_type": "code",
   "execution_count": 6,
   "metadata": {},
   "outputs": [
    {
     "name": "stdout",
     "output_type": "stream",
     "text": [
      "entering event loop\n",
      "clock time: 1509420925.546723\n",
      "loop  time: 90646.167219641\n",
      "registering callbacks\n",
      "callback 3 invoked at 90646.167306128\n",
      "callback 2 invoked at 90646.267760118\n",
      "callback 1 invoked at 90646.368210349\n",
      "closing event loop\n"
     ]
    }
   ],
   "source": [
    "!python asyncio_call_at.py"
   ]
  },
  {
   "cell_type": "markdown",
   "metadata": {},
   "source": [
    "Note that the time according to the loop does not match the value returned by time.time().\n",
    "\n"
   ]
  },
  {
   "cell_type": "code",
   "execution_count": null,
   "metadata": {
    "collapsed": true
   },
   "outputs": [],
   "source": []
  }
 ],
 "metadata": {
  "kernelspec": {
   "display_name": "Python 3",
   "language": "python",
   "name": "python3"
  },
  "language_info": {
   "codemirror_mode": {
    "name": "ipython",
    "version": 3
   },
   "file_extension": ".py",
   "mimetype": "text/x-python",
   "name": "python",
   "nbconvert_exporter": "python",
   "pygments_lexer": "ipython3",
   "version": "3.6.1"
  }
 },
 "nbformat": 4,
 "nbformat_minor": 2
}
