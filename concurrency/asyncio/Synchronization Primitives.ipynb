{
 "cells": [
  {
   "cell_type": "markdown",
   "metadata": {},
   "source": [
    "Although asyncio applications usually run as a single-threaded process, they are still built as concurrent applications. Each coroutine or task may execute in an unpredictable order, based on delays and interrupts from I/O and other external events. To support safe concurrency, asyncio includes implementations of some of the same low-level primitives found in the threading and multiprocessing modules."
   ]
  },
  {
   "cell_type": "markdown",
   "metadata": {},
   "source": [
    "## Locks"
   ]
  },
  {
   "cell_type": "markdown",
   "metadata": {},
   "source": [
    "A Lock can be used to guard access to a shared resource. Only the holder of the lock can use the resource. Multiple attempts to acquire the lock will block so that there is only one holder at a time."
   ]
  },
  {
   "cell_type": "code",
   "execution_count": null,
   "metadata": {},
   "outputs": [],
   "source": [
    "# %load asyncio_lock.py\n",
    "import asyncio\n",
    "import functools\n",
    "\n",
    "\n",
    "def unlock(lock):\n",
    "    print('callback releasing lock')\n",
    "    lock.release()\n",
    "\n",
    "\n",
    "async def coro1(lock):\n",
    "    print('coro1 waiting for the lock')\n",
    "    with await lock:\n",
    "        print('coro1 acquired lock')\n",
    "    print('coro1 released lock')\n",
    "\n",
    "\n",
    "async def coro2(lock):\n",
    "    print('coro2 waiting for the lock')\n",
    "    await lock\n",
    "    try:\n",
    "        print('coro2 acquired lock')\n",
    "    finally:\n",
    "        print('coro2 released lock')\n",
    "        lock.release()\n",
    "\n",
    "\n",
    "async def main(loop):\n",
    "    # Create and acquire a shared lock.\n",
    "    lock = asyncio.Lock()\n",
    "    print('acquiring the lock before starting coroutines')\n",
    "    await lock.acquire()\n",
    "    print('lock acquired: {}'.format(lock.locked()))\n",
    "\n",
    "    # Schedule a callback to unlock the lock.\n",
    "    loop.call_later(0.1, functools.partial(unlock, lock))\n",
    "\n",
    "    # Run the coroutines that want to use the lock.\n",
    "    print('waiting for coroutines')\n",
    "    await asyncio.wait([coro1(lock), coro2(lock)]),\n",
    "\n",
    "\n",
    "event_loop = asyncio.get_event_loop()\n",
    "try:\n",
    "    event_loop.run_until_complete(main(event_loop))\n",
    "finally:\n",
    "    event_loop.close()\n"
   ]
  },
  {
   "cell_type": "code",
   "execution_count": 5,
   "metadata": {},
   "outputs": [
    {
     "name": "stdout",
     "output_type": "stream",
     "text": [
      "acquiring the lock before starting coroutines\n",
      "lock acquired: True\n",
      "waiting for coroutines\n",
      "coro1 waiting for the lock\n",
      "coro2 waiting for the lock\n",
      "callback releasing lock\n",
      "coro1 acquired lock\n",
      "coro1 released lock\n",
      "coro2 acquired lock\n",
      "coro2 released lock\n"
     ]
    }
   ],
   "source": [
    "!python asyncio_lock.py"
   ]
  },
  {
   "cell_type": "markdown",
   "metadata": {},
   "source": [
    "A lock can be invoked directly, using await to acquire it and calling the release() method when done as in coro2() in this example. They also can be used as asynchronous context managers with the with await keywords, as in coro1().\n",
    "\n"
   ]
  },
  {
   "cell_type": "markdown",
   "metadata": {},
   "source": [
    "## Events"
   ]
  },
  {
   "cell_type": "markdown",
   "metadata": {},
   "source": [
    "An asyncio.Event is based on threading.Event, and is used to allow multiple consumers to wait for something to happen without looking for a specific value to be associated with the notification.\n",
    "\n"
   ]
  },
  {
   "cell_type": "code",
   "execution_count": null,
   "metadata": {
    "collapsed": true
   },
   "outputs": [],
   "source": [
    "# %load asyncio_event.py\n",
    "import asyncio\n",
    "import functools\n",
    "\n",
    "\n",
    "def set_event(event):\n",
    "    print('setting event in callback')\n",
    "    event.set()\n",
    "\n",
    "\n",
    "async def coro1(event):\n",
    "    print('coro1 waiting for event')\n",
    "    await event.wait()\n",
    "    print('coro1 triggered')\n",
    "\n",
    "\n",
    "async def coro2(event):\n",
    "    print('coro2 waiting for event')\n",
    "    await event.wait()\n",
    "    print('coro2 triggered')\n",
    "\n",
    "\n",
    "async def main(loop):\n",
    "    # Create a shared event\n",
    "    event = asyncio.Event()\n",
    "    print('event start state: {}'.format(event.is_set()))\n",
    "\n",
    "    loop.call_later(\n",
    "        0.1, functools.partial(set_event, event)\n",
    "    )\n",
    "\n",
    "    await asyncio.wait([coro1(event), coro2(event)])\n",
    "    print('event end state: {}'.format(event.is_set()))\n",
    "\n",
    "\n",
    "event_loop = asyncio.get_event_loop()\n",
    "try:\n",
    "    event_loop.run_until_complete(main(event_loop))\n",
    "finally:\n",
    "    event_loop.close()\n"
   ]
  },
  {
   "cell_type": "markdown",
   "metadata": {},
   "source": [
    "As with the Lock, both coro1() and coro2() wait for the event to be set. The difference is that both can start as soon as the event state changes, and they do not need to acquire a unique hold on the event object.\n",
    "\n"
   ]
  },
  {
   "cell_type": "code",
   "execution_count": 7,
   "metadata": {},
   "outputs": [
    {
     "name": "stdout",
     "output_type": "stream",
     "text": [
      "event start state: False\n",
      "coro1 waiting for event\n",
      "coro2 waiting for event\n",
      "setting event in callback\n",
      "coro1 triggered\n",
      "coro2 triggered\n",
      "event end state: True\n"
     ]
    }
   ],
   "source": [
    "!python asyncio_event.py"
   ]
  },
  {
   "cell_type": "markdown",
   "metadata": {},
   "source": [
    "## Conditions"
   ]
  },
  {
   "cell_type": "markdown",
   "metadata": {},
   "source": [
    "A Condition works similarly to an Event except that rather than notifying all waiting coroutines the number of waiters awakened is controlled with an argument to notify().\n",
    "\n"
   ]
  },
  {
   "cell_type": "code",
   "execution_count": null,
   "metadata": {
    "collapsed": true
   },
   "outputs": [],
   "source": [
    "# %load asyncio_condition.py\n",
    "import asyncio\n",
    "\n",
    "\n",
    "async def consumer(condition, n):\n",
    "    with await condition:\n",
    "        print('consumer {} is waiting'.format(n))\n",
    "        await condition.wait()\n",
    "        print('consumer {} triggered'.format(n))\n",
    "    print('ending consumer {}'.format(n))\n",
    "\n",
    "\n",
    "async def manipulate_condition(condition):\n",
    "    print('starting manipulate_condition')\n",
    "\n",
    "    # pause to let consumers start\n",
    "    await asyncio.sleep(0.1)\n",
    "\n",
    "    for i in range(1, 3):\n",
    "        with await condition:\n",
    "            print('notifying {} consumers'.format(i))\n",
    "            condition.notify(n=i)\n",
    "        await asyncio.sleep(0.1)\n",
    "\n",
    "    with await condition:\n",
    "        print('notifying remaining consumers')\n",
    "        condition.notify_all()\n",
    "\n",
    "    print('ending manipulate_condition')\n",
    "\n",
    "\n",
    "async def main(loop):\n",
    "    # Create a condition\n",
    "    condition = asyncio.Condition()\n",
    "\n",
    "    # Set up tasks watching the condition\n",
    "    consumers = [\n",
    "        consumer(condition, i)\n",
    "        for i in range(5)\n",
    "    ]\n",
    "\n",
    "    # Schedule a task to manipulate the condition variable\n",
    "    loop.create_task(manipulate_condition(condition))\n",
    "\n",
    "    # Wait for the consumers to be done\n",
    "    await asyncio.wait(consumers)\n",
    "\n",
    "\n",
    "event_loop = asyncio.get_event_loop()\n",
    "try:\n",
    "    result = event_loop.run_until_complete(main(event_loop))\n",
    "finally:\n",
    "    event_loop.close()\n"
   ]
  },
  {
   "cell_type": "markdown",
   "metadata": {},
   "source": [
    "This example starts five consumers of the Condition. Each uses the wait() method to wait for a notification that they can proceed. manipulate_condition() notifies one consumer, then two consumers, then all of the remaining consumers."
   ]
  },
  {
   "cell_type": "code",
   "execution_count": 9,
   "metadata": {},
   "outputs": [
    {
     "name": "stdout",
     "output_type": "stream",
     "text": [
      "starting manipulate_condition\n",
      "consumer 0 is waiting\n",
      "consumer 4 is waiting\n",
      "consumer 1 is waiting\n",
      "consumer 2 is waiting\n",
      "consumer 3 is waiting\n",
      "notifying 1 consumers\n",
      "consumer 0 triggered\n",
      "ending consumer 0\n",
      "notifying 2 consumers\n",
      "consumer 4 triggered\n",
      "ending consumer 4\n",
      "consumer 1 triggered\n",
      "ending consumer 1\n",
      "notifying remaining consumers\n",
      "ending manipulate_condition\n",
      "consumer 2 triggered\n",
      "ending consumer 2\n",
      "consumer 3 triggered\n",
      "ending consumer 3\n"
     ]
    }
   ],
   "source": [
    "!python asyncio_condition.py"
   ]
  },
  {
   "cell_type": "markdown",
   "metadata": {},
   "source": [
    "## Queues"
   ]
  },
  {
   "cell_type": "markdown",
   "metadata": {},
   "source": [
    "An asyncio.Queue provides a first-in, first-out data structure for coroutines like a queue.Queue does for threads or a multiprocessing.Queue does for processes.\n",
    "\n"
   ]
  },
  {
   "cell_type": "code",
   "execution_count": null,
   "metadata": {
    "collapsed": true
   },
   "outputs": [],
   "source": [
    "# %load asyncio_queue.py\n",
    "import asyncio\n",
    "\n",
    "\n",
    "async def consumer(n, q):\n",
    "    print('consumer {}: starting'.format(n))\n",
    "    while True:\n",
    "        print('consumer {}: waiting for item'.format(n))\n",
    "        item = await q.get()\n",
    "        print('consumer {}: has item {}'.format(n, item))\n",
    "        if item is None:\n",
    "            # None is the signal to stop.\n",
    "            q.task_done()\n",
    "            break\n",
    "        else:\n",
    "            await asyncio.sleep(0.01 * item)\n",
    "            q.task_done()\n",
    "    print('consumer {}: ending'.format(n))\n",
    "\n",
    "\n",
    "async def producer(q, num_workers):\n",
    "    print('producer: starting')\n",
    "    # Add some numbers to the queue to simulate jobs\n",
    "    for i in range(num_workers * 3):\n",
    "        await q.put(i)\n",
    "        print('producer: added task {} to the queue'.format(i))\n",
    "    # Add None entries in the queue\n",
    "    # to signal the consumers to exit\n",
    "    print('producer: adding stop signals to the queue')\n",
    "    for i in range(num_workers):\n",
    "        await q.put(None)\n",
    "    print('producer: waiting for queue to empty')\n",
    "    await q.join()\n",
    "    print('producer: ending')\n",
    "\n",
    "\n",
    "async def main(loop, num_consumers):\n",
    "    # Create the queue with a fixed size so the producer\n",
    "    # will block until the consumers pull some items out.\n",
    "    q = asyncio.Queue(maxsize=num_consumers)\n",
    "\n",
    "    # Scheduled the consumer tasks.\n",
    "    consumers = [\n",
    "        loop.create_task(consumer(i, q))\n",
    "        for i in range(num_consumers)\n",
    "    ]\n",
    "\n",
    "    # Schedule the producer task.\n",
    "    prod = loop.create_task(producer(q, num_consumers))\n",
    "\n",
    "    # Wait for all of the coroutines to finish.\n",
    "    await asyncio.wait(consumers + [prod])\n",
    "\n",
    "\n",
    "event_loop = asyncio.get_event_loop()\n",
    "try:\n",
    "    event_loop.run_until_complete(main(event_loop, 2))\n",
    "finally:\n",
    "    event_loop.close()\n"
   ]
  },
  {
   "cell_type": "markdown",
   "metadata": {},
   "source": [
    "Adding items with put() or removing items with get() are both asynchronous operations, since the queue size might be fixed (blocking an addition) or the queue might be empty (blocking a call to fetch an item)."
   ]
  },
  {
   "cell_type": "code",
   "execution_count": 11,
   "metadata": {},
   "outputs": [
    {
     "name": "stdout",
     "output_type": "stream",
     "text": [
      "consumer 0: starting\n",
      "consumer 0: waiting for item\n",
      "consumer 1: starting\n",
      "consumer 1: waiting for item\n",
      "producer: starting\n",
      "producer: added task 0 to the queue\n",
      "producer: added task 1 to the queue\n",
      "consumer 0: has item 0\n",
      "consumer 1: has item 1\n",
      "producer: added task 2 to the queue\n",
      "producer: added task 3 to the queue\n",
      "consumer 0: waiting for item\n",
      "consumer 0: has item 2\n",
      "producer: added task 4 to the queue\n",
      "consumer 1: waiting for item\n",
      "consumer 1: has item 3\n",
      "producer: added task 5 to the queue\n",
      "producer: adding stop signals to the queue\n",
      "consumer 0: waiting for item\n",
      "consumer 0: has item 4\n",
      "consumer 1: waiting for item\n",
      "consumer 1: has item 5\n",
      "producer: waiting for queue to empty\n",
      "consumer 0: waiting for item\n",
      "consumer 0: has item None\n",
      "consumer 0: ending\n",
      "consumer 1: waiting for item\n",
      "consumer 1: has item None\n",
      "consumer 1: ending\n",
      "producer: ending\n"
     ]
    }
   ],
   "source": [
    "!python asyncio_queue.py"
   ]
  },
  {
   "cell_type": "code",
   "execution_count": null,
   "metadata": {
    "collapsed": true
   },
   "outputs": [],
   "source": []
  }
 ],
 "metadata": {
  "kernelspec": {
   "display_name": "Python 3",
   "language": "python",
   "name": "python3"
  },
  "language_info": {
   "codemirror_mode": {
    "name": "ipython",
    "version": 3
   },
   "file_extension": ".py",
   "mimetype": "text/x-python",
   "name": "python",
   "nbconvert_exporter": "python",
   "pygments_lexer": "ipython3",
   "version": "3.6.1"
  }
 },
 "nbformat": 4,
 "nbformat_minor": 2
}
