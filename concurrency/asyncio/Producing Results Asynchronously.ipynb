{
 "cells": [
  {
   "cell_type": "markdown",
   "metadata": {},
   "source": [
    "A Future represents the result of work that has not been completed yet. The event loop can watch for a Future object’s state to indicate that it is done, allowing one part of an application to wait for another part to finish some work.\n",
    "\n"
   ]
  },
  {
   "cell_type": "markdown",
   "metadata": {},
   "source": [
    "## Waiting for a Future"
   ]
  },
  {
   "cell_type": "markdown",
   "metadata": {},
   "source": [
    "A Future acts like a coroutine, so any techniques useful for waiting for a coroutine can also be used to wait for the future to be marked done. This example passes the future to the event loop’s run_until_complete() method."
   ]
  },
  {
   "cell_type": "code",
   "execution_count": null,
   "metadata": {
    "collapsed": true
   },
   "outputs": [],
   "source": [
    "# %load asyncio_future_event_loop.py\n",
    "import asyncio\n",
    "\n",
    "\n",
    "def mark_done(future, result):\n",
    "    print('setting future result to {!r}'.format(result))\n",
    "    future.set_result(result)\n",
    "\n",
    "\n",
    "event_loop = asyncio.get_event_loop()\n",
    "try:\n",
    "    all_done = asyncio.Future()\n",
    "\n",
    "    print('scheduling mark_done')\n",
    "    event_loop.call_soon(mark_done, all_done, 'the result')\n",
    "\n",
    "    print('entering event loop')\n",
    "    result = event_loop.run_until_complete(all_done)\n",
    "    print('returned result: {!r}'.format(result))\n",
    "finally:\n",
    "    print('closing event loop')\n",
    "    event_loop.close()\n",
    "\n",
    "print('future result: {!r}'.format(all_done.result()))"
   ]
  },
  {
   "cell_type": "code",
   "execution_count": 2,
   "metadata": {},
   "outputs": [
    {
     "name": "stdout",
     "output_type": "stream",
     "text": [
      "scheduling mark_done\r\n",
      "entering event loop\r\n",
      "setting future result to 'the result'\r\n",
      "returned result: 'the result'\r\n",
      "closing event loop\r\n",
      "future result: 'the result'\r\n"
     ]
    }
   ],
   "source": [
    "!python asyncio_future_event_loop.py"
   ]
  },
  {
   "cell_type": "markdown",
   "metadata": {},
   "source": [
    "The state of the Future changes to done when set_result() is called, and the Future instance retains the result given to the method for retrieval later.\n",
    "\n"
   ]
  },
  {
   "cell_type": "markdown",
   "metadata": {},
   "source": [
    "A Future can also be used with the await keyword, as in this example."
   ]
  },
  {
   "cell_type": "code",
   "execution_count": null,
   "metadata": {
    "collapsed": true
   },
   "outputs": [],
   "source": [
    "# %load asyncio_future_await.py\n",
    "import asyncio\n",
    "\n",
    "\n",
    "def mark_done(future, result):\n",
    "    print('setting future result to {!r}'.format(result))\n",
    "    future.set_result(result)\n",
    "\n",
    "\n",
    "async def main(loop):\n",
    "    all_done = asyncio.Future()\n",
    "\n",
    "    print('scheduling mark_done')\n",
    "    loop.call_soon(mark_done, all_done, 'the result')\n",
    "\n",
    "    result = await all_done\n",
    "    print('returned result: {!r}'.format(result))\n",
    "\n",
    "\n",
    "event_loop = asyncio.get_event_loop()\n",
    "try:\n",
    "    event_loop.run_until_complete(main(event_loop))\n",
    "finally:\n",
    "    event_loop.close()"
   ]
  },
  {
   "cell_type": "code",
   "execution_count": 5,
   "metadata": {},
   "outputs": [
    {
     "name": "stdout",
     "output_type": "stream",
     "text": [
      "scheduling mark_done\r\n",
      "setting future result to 'the result'\r\n",
      "returned result: 'the result'\r\n"
     ]
    }
   ],
   "source": [
    "!python asyncio_future_await.py"
   ]
  },
  {
   "cell_type": "markdown",
   "metadata": {},
   "source": [
    "## Future Callbacks"
   ]
  },
  {
   "cell_type": "markdown",
   "metadata": {},
   "source": [
    "In addition to working like a coroutine, a Future can invoke callbacks when it is completed. Callbacks are invoked in the order they are registered.\n",
    "\n"
   ]
  },
  {
   "cell_type": "code",
   "execution_count": null,
   "metadata": {
    "collapsed": true
   },
   "outputs": [],
   "source": [
    "# %load asyncio_future_callback.py\n",
    "import asyncio\n",
    "import functools\n",
    "\n",
    "\n",
    "def callback(future, n):\n",
    "    print('{}: future done: {}'.format(n, future.result()))\n",
    "\n",
    "\n",
    "async def register_callbacks(all_done):\n",
    "    print('registering callbacks on future')\n",
    "    all_done.add_done_callback(functools.partial(callback, n=1))\n",
    "    all_done.add_done_callback(functools.partial(callback, n=2))\n",
    "\n",
    "\n",
    "async def main(all_done):\n",
    "    await register_callbacks(all_done)\n",
    "    print('setting result of future')\n",
    "    all_done.set_result('the result')\n",
    "\n",
    "\n",
    "event_loop = asyncio.get_event_loop()\n",
    "try:\n",
    "    all_done = asyncio.Future()\n",
    "    event_loop.run_until_complete(main(all_done))\n",
    "finally:\n",
    "    event_loop.close()"
   ]
  },
  {
   "cell_type": "markdown",
   "metadata": {},
   "source": [
    "The callback should expect one argument, the Future instance. To pass additional arguments to the callbacks, use functools.partial() to create a wrapper."
   ]
  },
  {
   "cell_type": "code",
   "execution_count": 7,
   "metadata": {},
   "outputs": [
    {
     "name": "stdout",
     "output_type": "stream",
     "text": [
      "registering callbacks on future\r\n",
      "setting result of future\r\n",
      "1: future done: the result\r\n",
      "2: future done: the result\r\n"
     ]
    }
   ],
   "source": [
    "!python asyncio_future_callback.py"
   ]
  },
  {
   "cell_type": "code",
   "execution_count": null,
   "metadata": {
    "collapsed": true
   },
   "outputs": [],
   "source": []
  }
 ],
 "metadata": {
  "kernelspec": {
   "display_name": "Python 3",
   "language": "python",
   "name": "python3"
  },
  "language_info": {
   "codemirror_mode": {
    "name": "ipython",
    "version": 3
   },
   "file_extension": ".py",
   "mimetype": "text/x-python",
   "name": "python",
   "nbconvert_exporter": "python",
   "pygments_lexer": "ipython3",
   "version": "3.6.1"
  }
 },
 "nbformat": 4,
 "nbformat_minor": 2
}
