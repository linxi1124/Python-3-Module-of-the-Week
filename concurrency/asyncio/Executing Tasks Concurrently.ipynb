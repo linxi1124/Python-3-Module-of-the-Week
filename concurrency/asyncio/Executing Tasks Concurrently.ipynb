{
 "cells": [
  {
   "cell_type": "markdown",
   "metadata": {},
   "source": [
    "Tasks are one of the primary ways to interact with the event loop. Tasks wrap coroutines and track when they are complete. Tasks are subclasses of Future, so other coroutines can wait for them and each has a result that can be retrieved after the task completes."
   ]
  },
  {
   "cell_type": "markdown",
   "metadata": {},
   "source": [
    "## Starting a Task"
   ]
  },
  {
   "cell_type": "markdown",
   "metadata": {},
   "source": [
    "To start a task, use create_task() to create a Task instance. The resulting task will run as part of the concurrent operations managed by the event loop as long as the loop is running and the coroutine does not return."
   ]
  },
  {
   "cell_type": "code",
   "execution_count": null,
   "metadata": {},
   "outputs": [],
   "source": [
    "# %load asyncio_create_task.py\n",
    "import asyncio\n",
    "\n",
    "\n",
    "async def task_func():\n",
    "    print('in task_func')\n",
    "    return 'the result'\n",
    "\n",
    "\n",
    "async def main(loop):\n",
    "    print('creating task')\n",
    "    task = loop.create_task(task_func())\n",
    "    print('waiting for {!r}'.format(task))\n",
    "    return_value = await task\n",
    "    print('task completed {!r}'.format(task))\n",
    "    print('return value: {!r}'.format(return_value))\n",
    "\n",
    "\n",
    "event_loop = asyncio.get_event_loop()\n",
    "try:\n",
    "    event_loop.run_until_complete(main(event_loop))\n",
    "finally:\n",
    "    event_loop.close()"
   ]
  },
  {
   "cell_type": "code",
   "execution_count": 3,
   "metadata": {},
   "outputs": [
    {
     "name": "stdout",
     "output_type": "stream",
     "text": [
      "creating task\r\n",
      "waiting for <Task pending coro=<task_func() running at asyncio_create_task.py:4>>\r\n",
      "in task_func\r\n",
      "task completed <Task finished coro=<task_func() done, defined at asyncio_create_task.py:4> result='the result'>\r\n",
      "return value: 'the result'\r\n"
     ]
    }
   ],
   "source": [
    "!python asyncio_create_task.py"
   ]
  },
  {
   "cell_type": "markdown",
   "metadata": {},
   "source": [
    "## Canceling a Task"
   ]
  },
  {
   "cell_type": "code",
   "execution_count": null,
   "metadata": {
    "collapsed": true
   },
   "outputs": [],
   "source": [
    "# %load asyncio_cancel_task.py\n",
    "import asyncio\n",
    "\n",
    "\n",
    "async def task_func():\n",
    "    print('in task_func')\n",
    "    return 'the result'\n",
    "\n",
    "\n",
    "async def main(loop):\n",
    "    print('creating task')\n",
    "    task = loop.create_task(task_func())\n",
    "\n",
    "    print('canceling task')\n",
    "    task.cancel()\n",
    "\n",
    "    print('canceled task {!r}'.format(task))\n",
    "    try:\n",
    "        await task\n",
    "    except asyncio.CancelledError:\n",
    "        print('caught error from canceled task')\n",
    "    else:\n",
    "        print('task result: {!r}'.format(task.result()))\n",
    "\n",
    "\n",
    "event_loop = asyncio.get_event_loop()\n",
    "try:\n",
    "    event_loop.run_until_complete(main(event_loop))\n",
    "finally:\n",
    "    event_loop.close()"
   ]
  },
  {
   "cell_type": "code",
   "execution_count": 5,
   "metadata": {},
   "outputs": [
    {
     "name": "stdout",
     "output_type": "stream",
     "text": [
      "creating task\r\n",
      "canceling task\r\n",
      "canceled task <Task cancelling coro=<task_func() running at asyncio_cancel_task.py:4>>\r\n",
      "caught error from canceled task\r\n"
     ]
    }
   ],
   "source": [
    "!python asyncio_cancel_task.py"
   ]
  },
  {
   "cell_type": "markdown",
   "metadata": {},
   "source": [
    "This example creates and then cancels a task before starting the event loop. The result is a CancelledError exception from run_until_complete()."
   ]
  },
  {
   "cell_type": "markdown",
   "metadata": {},
   "source": [
    "If a task is canceled while it is waiting for another concurrent operation, the task is notified of its cancellation by having a CancelledError exception raised at the point where it is waiting.\n",
    "\n"
   ]
  },
  {
   "cell_type": "code",
   "execution_count": null,
   "metadata": {
    "collapsed": true
   },
   "outputs": [],
   "source": [
    "# %load asyncio_cancel_task2.py\n",
    "import asyncio\n",
    "\n",
    "\n",
    "async def task_func():\n",
    "    print('in task_func, sleeping')\n",
    "    try:\n",
    "        await asyncio.sleep(1)\n",
    "    except asyncio.CancelledError:\n",
    "        print('task_func was canceled')\n",
    "        raise\n",
    "    return 'the result'\n",
    "\n",
    "\n",
    "def task_canceller(t):\n",
    "    print('in task_canceller')\n",
    "    t.cancel()\n",
    "    print('canceled the task')\n",
    "\n",
    "\n",
    "async def main(loop):\n",
    "    print('creating task')\n",
    "    task = loop.create_task(task_func())\n",
    "    loop.call_soon(task_canceller, task)\n",
    "    try:\n",
    "        await task\n",
    "    except asyncio.CancelledError:\n",
    "        print('main() also sees task as canceled')\n",
    "\n",
    "\n",
    "event_loop = asyncio.get_event_loop()\n",
    "try:\n",
    "    event_loop.run_until_complete(main(event_loop))\n",
    "finally:\n",
    "    event_loop.close()\n"
   ]
  },
  {
   "cell_type": "code",
   "execution_count": 7,
   "metadata": {},
   "outputs": [
    {
     "name": "stdout",
     "output_type": "stream",
     "text": [
      "creating task\r\n",
      "in task_func, sleeping\r\n",
      "in task_canceller\r\n",
      "canceled the task\r\n",
      "task_func was canceled\r\n",
      "main() also sees task as canceled\r\n"
     ]
    }
   ],
   "source": [
    "!python asyncio_cancel_task2.py"
   ]
  },
  {
   "cell_type": "markdown",
   "metadata": {},
   "source": [
    "## Creating Tasks from Coroutines"
   ]
  },
  {
   "cell_type": "markdown",
   "metadata": {},
   "source": [
    "The ensure_future() function returns a Task tied to the execution of a coroutine. That Task instance can then be passed to other code, which can wait for it without knowing how the original coroutine was constructed or called"
   ]
  },
  {
   "cell_type": "code",
   "execution_count": null,
   "metadata": {
    "collapsed": true
   },
   "outputs": [],
   "source": [
    "# %load asyncio_ensure_future.py\n",
    "import asyncio\n",
    "\n",
    "\n",
    "async def wrapped():\n",
    "    print('wrapped')\n",
    "    return 'result'\n",
    "\n",
    "\n",
    "async def inner(task):\n",
    "    print('inner: starting')\n",
    "    print('inner: waiting for {!r}'.format(task))\n",
    "    result = await task\n",
    "    print('inner: task returned {!r}'.format(result))\n",
    "\n",
    "\n",
    "async def starter():\n",
    "    print('starter: creating task')\n",
    "    task = asyncio.ensure_future(wrapped())\n",
    "    print('starter: waiting for inner')\n",
    "    await inner(task)\n",
    "    print('starter: inner returned')\n",
    "\n",
    "\n",
    "event_loop = asyncio.get_event_loop()\n",
    "try:\n",
    "    print('entering event loop')\n",
    "    result = event_loop.run_until_complete(starter())\n",
    "finally:\n",
    "    event_loop.close()\n"
   ]
  },
  {
   "cell_type": "code",
   "execution_count": 9,
   "metadata": {},
   "outputs": [
    {
     "name": "stdout",
     "output_type": "stream",
     "text": [
      "entering event loop\r\n",
      "starter: creating task\r\n",
      "starter: waiting for inner\r\n",
      "inner: starting\r\n",
      "inner: waiting for <Task pending coro=<wrapped() running at asyncio_ensure_future.py:4>>\r\n",
      "wrapped\r\n",
      "inner: task returned 'result'\r\n",
      "starter: inner returned\r\n"
     ]
    }
   ],
   "source": [
    "!python asyncio_ensure_future.py"
   ]
  },
  {
   "cell_type": "markdown",
   "metadata": {},
   "source": [
    "Note that the coroutine given to ensure_future() is not started until something uses await to allow it to be executed.\n",
    "\n"
   ]
  },
  {
   "cell_type": "code",
   "execution_count": null,
   "metadata": {
    "collapsed": true
   },
   "outputs": [],
   "source": []
  }
 ],
 "metadata": {
  "kernelspec": {
   "display_name": "Python 3",
   "language": "python",
   "name": "python3"
  },
  "language_info": {
   "codemirror_mode": {
    "name": "ipython",
    "version": 3
   },
   "file_extension": ".py",
   "mimetype": "text/x-python",
   "name": "python",
   "nbconvert_exporter": "python",
   "pygments_lexer": "ipython3",
   "version": "3.6.1"
  }
 },
 "nbformat": 4,
 "nbformat_minor": 2
}
