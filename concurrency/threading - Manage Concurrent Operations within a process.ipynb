{
 "cells": [
  {
   "cell_type": "markdown",
   "metadata": {},
   "source": [
    "Using threads allows a program to run multiple operations concurrently in the same process space"
   ]
  },
  {
   "cell_type": "markdown",
   "metadata": {},
   "source": [
    "## Thread Objects"
   ]
  },
  {
   "cell_type": "markdown",
   "metadata": {},
   "source": [
    "The simplest way to use a Thread is to instanticate it with a target function and call start() to let it begin working"
   ]
  },
  {
   "cell_type": "code",
   "execution_count": 1,
   "metadata": {
    "collapsed": true
   },
   "outputs": [],
   "source": [
    "import threading"
   ]
  },
  {
   "cell_type": "code",
   "execution_count": 4,
   "metadata": {},
   "outputs": [
    {
     "name": "stdout",
     "output_type": "stream",
     "text": [
      "Worker\n",
      "Worker\n",
      "\n",
      "\n",
      "Worker\n",
      "Worker\n",
      "\n",
      "\n",
      "Worker\n",
      "\n"
     ]
    }
   ],
   "source": [
    "def worker():\n",
    "    \"\"\"\"thread worker function\"\"\"\n",
    "    print(\"Worker\\n\")\n",
    "\n",
    "threads = []\n",
    "\n",
    "for i in range(5):\n",
    "    t = threading.Thread(target=worker)\n",
    "    threads.append(t)\n",
    "    t.start()"
   ]
  },
  {
   "cell_type": "markdown",
   "metadata": {},
   "source": [
    "It is useful to be able to spawn a thread and pass it arguments to tell it what work to do. Any type of object can be passed as argument to the therad. This example passes a number, which the thread then prints."
   ]
  },
  {
   "cell_type": "code",
   "execution_count": 7,
   "metadata": {},
   "outputs": [
    {
     "name": "stdout",
     "output_type": "stream",
     "text": [
      "Worker: 0\n",
      "Worker: 1\n",
      "Worker: 2\n",
      "Worker: 3\n",
      "Worker: 4\n"
     ]
    }
   ],
   "source": [
    "import threading\n",
    "\n",
    "def worker(num):\n",
    "    print('Worker: %s' % num)\n",
    "    \n",
    "threads = []\n",
    "\n",
    "for i in range(5):\n",
    "    t = threading.Thread(target=worker, args=(i,))\n",
    "    threads.append(t)\n",
    "\n",
    "    t.start()"
   ]
  },
  {
   "cell_type": "markdown",
   "metadata": {},
   "source": [
    "## Determining the Current Thread"
   ]
  },
  {
   "cell_type": "markdown",
   "metadata": {},
   "source": [
    "Using arguments to identify or name the thread is cumbersome and unnecessary. Each Thread instance has a name with a default value that can be changed as the thread is created. Naming threads is useful in server processes with multiple service threads handling different operations."
   ]
  },
  {
   "cell_type": "code",
   "execution_count": 9,
   "metadata": {},
   "outputs": [
    {
     "name": "stdout",
     "output_type": "stream",
     "text": [
      "workerThread-20my_service   StartingStarting\n",
      "Starting\n",
      "\n",
      "worker Exiting\n",
      "Thread-20 Exiting\n",
      "my_service Exiting\n"
     ]
    }
   ],
   "source": [
    "import threading\n",
    "import time\n",
    "\n",
    "\n",
    "def worker():\n",
    "    print(threading.current_thread().getName(), 'Starting')\n",
    "    time.sleep(0.2)\n",
    "    print(threading.current_thread().getName(), 'Exiting')\n",
    "\n",
    "\n",
    "def my_service():\n",
    "    print(threading.current_thread().getName(), 'Starting')\n",
    "    time.sleep(0.3)\n",
    "    print(threading.current_thread().getName(), 'Exiting')\n",
    "\n",
    "\n",
    "t = threading.Thread(name='my_service', target=my_service)\n",
    "w = threading.Thread(name='worker', target=worker)\n",
    "w2 = threading.Thread(target=worker)  # use default name\n",
    "\n",
    "w.start()\n",
    "w2.start()\n",
    "t.start()"
   ]
  },
  {
   "cell_type": "markdown",
   "metadata": {},
   "source": [
    "Most programs do not use print to debug. The logging module supports embedding the thread name in every log message using the formatter code %(threadName)s. Including thread names in log messages makes it possible to trace those messages back to their source."
   ]
  },
  {
   "cell_type": "code",
   "execution_count": 10,
   "metadata": {},
   "outputs": [
    {
     "name": "stderr",
     "output_type": "stream",
     "text": [
      "[DEBUG] (worker    ) Starting\n",
      "[DEBUG] (Thread-21 ) Starting\n",
      "[DEBUG] (my_service) Starting\n",
      "[DEBUG] (worker    ) Exiting\n",
      "[DEBUG] (Thread-21 ) Exiting\n",
      "[DEBUG] (my_service) Exiting\n"
     ]
    }
   ],
   "source": [
    "import logging\n",
    "import threading\n",
    "import time\n",
    "\n",
    "\n",
    "def worker():\n",
    "    logging.debug('Starting')\n",
    "    time.sleep(0.2)\n",
    "    logging.debug('Exiting')\n",
    "\n",
    "\n",
    "def my_service():\n",
    "    logging.debug('Starting')\n",
    "    time.sleep(0.3)\n",
    "    logging.debug('Exiting')\n",
    "\n",
    "\n",
    "logging.basicConfig(\n",
    "    level=logging.DEBUG,\n",
    "    format='[%(levelname)s] (%(threadName)-10s) %(message)s',\n",
    ")\n",
    "\n",
    "t = threading.Thread(name='my_service', target=my_service)\n",
    "w = threading.Thread(name='worker', target=worker)\n",
    "w2 = threading.Thread(target=worker)  # use default name\n",
    "\n",
    "w.start()\n",
    "w2.start()\n",
    "t.start()"
   ]
  },
  {
   "cell_type": "markdown",
   "metadata": {},
   "source": [
    "## Daemon vs. Non-Daemon Thread"
   ]
  },
  {
   "cell_type": "markdown",
   "metadata": {},
   "source": [
    "Up to this point, the example programs have implicitly waited to exit until all threads have completed their work. Sometimes programs spawn a thread as a daemon that runs without blocking the main program from exiting. Using daemon threads is useful for services where there may not be an easy way to interrupt the thread, or where letting the thread die in the middle of its work does not lose or corrupt data (for example, a thread that generates “heart beats” for a service monitoring tool). To mark a thread as a daemon, pass daemon=True when constructing it or call its set_daemon() method with True. The default is for threads to not be daemons."
   ]
  },
  {
   "cell_type": "code",
   "execution_count": 12,
   "metadata": {},
   "outputs": [
    {
     "name": "stderr",
     "output_type": "stream",
     "text": [
      "[DEBUG] (daemon    ) Starting\n",
      "[DEBUG] (non-daemon) Starting\n",
      "[DEBUG] (non-daemon) Exiting\n",
      "[DEBUG] (daemon    ) Exiting\n"
     ]
    }
   ],
   "source": [
    "import threading\n",
    "import time\n",
    "import logging\n",
    "\n",
    "\n",
    "def daemon():\n",
    "    logging.debug('Starting')\n",
    "    time.sleep(10)\n",
    "    logging.debug('Exiting')\n",
    "\n",
    "\n",
    "def non_daemon():\n",
    "    logging.debug('Starting')\n",
    "    logging.debug('Exiting')\n",
    "\n",
    "\n",
    "logging.basicConfig(\n",
    "    level=logging.DEBUG,\n",
    "    format='(%(threadName)-10s) %(message)s',\n",
    ")\n",
    "\n",
    "d = threading.Thread(name='daemon', target=daemon, daemon=True)\n",
    "\n",
    "t = threading.Thread(name='non-daemon', target=non_daemon)\n",
    "\n",
    "d.start()\n",
    "t.start()"
   ]
  },
  {
   "cell_type": "markdown",
   "metadata": {},
   "source": [
    "The output does not include the \"Exiting\" message from the daemon thread, since all of the non-daemon threads (including the main thread) exit before the daemon thread wakes up from the sleep() call.\n",
    "\n"
   ]
  },
  {
   "cell_type": "markdown",
   "metadata": {},
   "source": [
    "To wait until a daemon thread has completed its work, use the join() metho"
   ]
  },
  {
   "cell_type": "code",
   "execution_count": 13,
   "metadata": {},
   "outputs": [
    {
     "name": "stderr",
     "output_type": "stream",
     "text": [
      "[DEBUG] (daemon    ) Starting\n",
      "[DEBUG] (non-daemon) Starting\n",
      "[DEBUG] (non-daemon) Exiting\n",
      "[DEBUG] (daemon    ) Exiting\n"
     ]
    }
   ],
   "source": [
    "\n",
    "import threading\n",
    "import time\n",
    "import logging\n",
    "\n",
    "\n",
    "def daemon():\n",
    "    logging.debug('Starting')\n",
    "    time.sleep(0.2)\n",
    "    logging.debug('Exiting')\n",
    "\n",
    "\n",
    "def non_daemon():\n",
    "    logging.debug('Starting')\n",
    "    logging.debug('Exiting')\n",
    "\n",
    "\n",
    "logging.basicConfig(\n",
    "    level=logging.DEBUG,\n",
    "    format='(%(threadName)-10s) %(message)s',\n",
    ")\n",
    "\n",
    "d = threading.Thread(name='daemon', target=daemon, daemon=True)\n",
    "\n",
    "t = threading.Thread(name='non-daemon', target=non_daemon)\n",
    "\n",
    "d.start()\n",
    "t.start()\n",
    "\n",
    "d.join()\n",
    "t.join()"
   ]
  },
  {
   "cell_type": "markdown",
   "metadata": {},
   "source": [
    "By default, join() blocks indefinitely. It is also possible to pass a float value representing the number of seconds to wait for the thread to become inactive. If the thread does not complete within the timeout period, join() returns anyway."
   ]
  },
  {
   "cell_type": "code",
   "execution_count": 16,
   "metadata": {},
   "outputs": [
    {
     "name": "stderr",
     "output_type": "stream",
     "text": [
      "[DEBUG] (daemon    ) Starting\n",
      "[DEBUG] (non-daemon) Starting\n",
      "[DEBUG] (non-daemon) Exiting\n"
     ]
    },
    {
     "name": "stdout",
     "output_type": "stream",
     "text": [
      "d.isAlive() True\n"
     ]
    },
    {
     "name": "stderr",
     "output_type": "stream",
     "text": [
      "[DEBUG] (daemon    ) Exiting\n"
     ]
    }
   ],
   "source": [
    "import threading\n",
    "import time\n",
    "import logging\n",
    "\n",
    "\n",
    "def daemon():\n",
    "    logging.debug('Starting')\n",
    "    time.sleep(3)\n",
    "    logging.debug('Exiting')\n",
    "\n",
    "\n",
    "def non_daemon():\n",
    "    logging.debug('Starting')\n",
    "    logging.debug('Exiting')\n",
    "\n",
    "\n",
    "logging.basicConfig(\n",
    "    level=logging.DEBUG,\n",
    "    format='(%(threadName)-10s) %(message)s',\n",
    ")\n",
    "\n",
    "d = threading.Thread(name='daemon', target=daemon, daemon=True)\n",
    "\n",
    "t = threading.Thread(name='non-daemon', target=non_daemon)\n",
    "\n",
    "d.start()\n",
    "t.start()\n",
    "\n",
    "d.join(0.1)\n",
    "print('d.isAlive()', d.isAlive())\n",
    "t.join()"
   ]
  },
  {
   "cell_type": "markdown",
   "metadata": {},
   "source": [
    "Since the timeout passed is less than the amount of time the daemon thread sleeps, the thread is still “alive” after join() returns."
   ]
  },
  {
   "cell_type": "markdown",
   "metadata": {},
   "source": [
    "## Enumeration all threads"
   ]
  },
  {
   "cell_type": "markdown",
   "metadata": {},
   "source": [
    "It is not necessary to retain an explicit handle to all of the daemon threads in order to ensure they have completed before exiting the main process. enumerate() returns a list of active Thread instances. The list includes the current thread, and **since joining the current thread introduces a deadlock situation, it must be skipped.**"
   ]
  },
  {
   "cell_type": "code",
   "execution_count": 17,
   "metadata": {},
   "outputs": [
    {
     "name": "stderr",
     "output_type": "stream",
     "text": [
      "[DEBUG] (Thread-22 ) sleeping 0.10\n",
      "[DEBUG] (Thread-23 ) sleeping 0.40\n",
      "[DEBUG] (Thread-24 ) sleeping 0.50\n",
      "[DEBUG] (MainThread) joining Thread-2\n",
      "[DEBUG] (Thread-22 ) ending\n",
      "[DEBUG] (Thread-23 ) ending\n",
      "[DEBUG] (Thread-24 ) ending\n"
     ]
    },
    {
     "ename": "KeyboardInterrupt",
     "evalue": "",
     "output_type": "error",
     "traceback": [
      "\u001b[0;31m---------------------------------------------------------------------------\u001b[0m",
      "\u001b[0;31mKeyboardInterrupt\u001b[0m                         Traceback (most recent call last)",
      "\u001b[0;32m<ipython-input-17-e108d2954419>\u001b[0m in \u001b[0;36m<module>\u001b[0;34m()\u001b[0m\n\u001b[1;32m     27\u001b[0m         \u001b[0;32mcontinue\u001b[0m\u001b[0;34m\u001b[0m\u001b[0m\n\u001b[1;32m     28\u001b[0m     \u001b[0mlogging\u001b[0m\u001b[0;34m.\u001b[0m\u001b[0mdebug\u001b[0m\u001b[0;34m(\u001b[0m\u001b[0;34m'joining %s'\u001b[0m\u001b[0;34m,\u001b[0m \u001b[0mt\u001b[0m\u001b[0;34m.\u001b[0m\u001b[0mgetName\u001b[0m\u001b[0;34m(\u001b[0m\u001b[0;34m)\u001b[0m\u001b[0;34m)\u001b[0m\u001b[0;34m\u001b[0m\u001b[0m\n\u001b[0;32m---> 29\u001b[0;31m     \u001b[0mt\u001b[0m\u001b[0;34m.\u001b[0m\u001b[0mjoin\u001b[0m\u001b[0;34m(\u001b[0m\u001b[0;34m)\u001b[0m\u001b[0;34m\u001b[0m\u001b[0m\n\u001b[0m",
      "\u001b[0;32m/home/scott/anaconda3/lib/python3.6/threading.py\u001b[0m in \u001b[0;36mjoin\u001b[0;34m(self, timeout)\u001b[0m\n\u001b[1;32m   1054\u001b[0m \u001b[0;34m\u001b[0m\u001b[0m\n\u001b[1;32m   1055\u001b[0m         \u001b[0;32mif\u001b[0m \u001b[0mtimeout\u001b[0m \u001b[0;32mis\u001b[0m \u001b[0;32mNone\u001b[0m\u001b[0;34m:\u001b[0m\u001b[0;34m\u001b[0m\u001b[0m\n\u001b[0;32m-> 1056\u001b[0;31m             \u001b[0mself\u001b[0m\u001b[0;34m.\u001b[0m\u001b[0m_wait_for_tstate_lock\u001b[0m\u001b[0;34m(\u001b[0m\u001b[0;34m)\u001b[0m\u001b[0;34m\u001b[0m\u001b[0m\n\u001b[0m\u001b[1;32m   1057\u001b[0m         \u001b[0;32melse\u001b[0m\u001b[0;34m:\u001b[0m\u001b[0;34m\u001b[0m\u001b[0m\n\u001b[1;32m   1058\u001b[0m             \u001b[0;31m# the behavior of a negative timeout isn't documented, but\u001b[0m\u001b[0;34m\u001b[0m\u001b[0;34m\u001b[0m\u001b[0m\n",
      "\u001b[0;32m/home/scott/anaconda3/lib/python3.6/threading.py\u001b[0m in \u001b[0;36m_wait_for_tstate_lock\u001b[0;34m(self, block, timeout)\u001b[0m\n\u001b[1;32m   1070\u001b[0m         \u001b[0;32mif\u001b[0m \u001b[0mlock\u001b[0m \u001b[0;32mis\u001b[0m \u001b[0;32mNone\u001b[0m\u001b[0;34m:\u001b[0m  \u001b[0;31m# already determined that the C code is done\u001b[0m\u001b[0;34m\u001b[0m\u001b[0m\n\u001b[1;32m   1071\u001b[0m             \u001b[0;32massert\u001b[0m \u001b[0mself\u001b[0m\u001b[0;34m.\u001b[0m\u001b[0m_is_stopped\u001b[0m\u001b[0;34m\u001b[0m\u001b[0m\n\u001b[0;32m-> 1072\u001b[0;31m         \u001b[0;32melif\u001b[0m \u001b[0mlock\u001b[0m\u001b[0;34m.\u001b[0m\u001b[0macquire\u001b[0m\u001b[0;34m(\u001b[0m\u001b[0mblock\u001b[0m\u001b[0;34m,\u001b[0m \u001b[0mtimeout\u001b[0m\u001b[0;34m)\u001b[0m\u001b[0;34m:\u001b[0m\u001b[0;34m\u001b[0m\u001b[0m\n\u001b[0m\u001b[1;32m   1073\u001b[0m             \u001b[0mlock\u001b[0m\u001b[0;34m.\u001b[0m\u001b[0mrelease\u001b[0m\u001b[0;34m(\u001b[0m\u001b[0;34m)\u001b[0m\u001b[0;34m\u001b[0m\u001b[0m\n\u001b[1;32m   1074\u001b[0m             \u001b[0mself\u001b[0m\u001b[0;34m.\u001b[0m\u001b[0m_stop\u001b[0m\u001b[0;34m(\u001b[0m\u001b[0;34m)\u001b[0m\u001b[0;34m\u001b[0m\u001b[0m\n",
      "\u001b[0;31mKeyboardInterrupt\u001b[0m: "
     ]
    }
   ],
   "source": [
    "import random\n",
    "import threading\n",
    "import time\n",
    "import logging\n",
    "\n",
    "\n",
    "def worker():\n",
    "    \"\"\"thread worker function\"\"\"\n",
    "    pause = random.randint(1, 5) / 10\n",
    "    logging.debug('sleeping %0.2f', pause)\n",
    "    time.sleep(pause)\n",
    "    logging.debug('ending')\n",
    "\n",
    "\n",
    "logging.basicConfig(\n",
    "    level=logging.DEBUG,\n",
    "    format='(%(threadName)-10s) %(message)s',\n",
    ")\n",
    "\n",
    "for i in range(3):\n",
    "    t = threading.Thread(target=worker, daemon=True)\n",
    "    t.start()\n",
    "\n",
    "main_thread = threading.main_thread()\n",
    "for t in threading.enumerate():\n",
    "    if t is main_thread:\n",
    "        continue\n",
    "    logging.debug('joining %s', t.getName())\n",
    "    t.join()"
   ]
  },
  {
   "cell_type": "markdown",
   "metadata": {},
   "source": [
    "## Subclassing Thread"
   ]
  },
  {
   "cell_type": "markdown",
   "metadata": {},
   "source": [
    "At start-up, a Thread does some basic initialization and then calls its run() method, which calls the target function passed to the constructor. To create a subclass of Thread, override run() to do whatever is necessary."
   ]
  },
  {
   "cell_type": "code",
   "execution_count": 18,
   "metadata": {},
   "outputs": [
    {
     "name": "stderr",
     "output_type": "stream",
     "text": [
      "[DEBUG] (Thread-25 ) running\n",
      "[DEBUG] (Thread-26 ) running\n",
      "[DEBUG] (Thread-27 ) running\n",
      "[DEBUG] (Thread-28 ) running\n",
      "[DEBUG] (Thread-29 ) running\n"
     ]
    }
   ],
   "source": [
    "import threading\n",
    "import logging\n",
    "\n",
    "\n",
    "class MyThread(threading.Thread):\n",
    "\n",
    "    def run(self):\n",
    "        logging.debug('running')\n",
    "\n",
    "\n",
    "logging.basicConfig(\n",
    "    level=logging.DEBUG,\n",
    "    format='(%(threadName)-10s) %(message)s',\n",
    ")\n",
    "\n",
    "for i in range(5):\n",
    "    t = MyThread()\n",
    "    t.start()"
   ]
  },
  {
   "cell_type": "markdown",
   "metadata": {},
   "source": [
    "Because the args and kwargs values passed to the Thread constructor are saved in private variables using names prefixed with '__', they are not easily accessed from a subclass. To pass arguments to a custom thread type, redefine the constructor to save the values in an instance attribute that can be seen in the subclass."
   ]
  },
  {
   "cell_type": "code",
   "execution_count": 19,
   "metadata": {},
   "outputs": [
    {
     "name": "stderr",
     "output_type": "stream",
     "text": [
      "[DEBUG] (Thread-30 ) running with (0,) and {'a': 'A', 'b': 'B'}\n",
      "[DEBUG] (Thread-31 ) running with (1,) and {'a': 'A', 'b': 'B'}\n",
      "[DEBUG] (Thread-32 ) running with (2,) and {'a': 'A', 'b': 'B'}\n",
      "[DEBUG] (Thread-33 ) running with (3,) and {'a': 'A', 'b': 'B'}\n",
      "[DEBUG] (Thread-34 ) running with (4,) and {'a': 'A', 'b': 'B'}\n"
     ]
    }
   ],
   "source": [
    "import threading\n",
    "import logging\n",
    "\n",
    "\n",
    "class MyThreadWithArgs(threading.Thread):\n",
    "\n",
    "    def __init__(self, group=None, target=None, name=None,\n",
    "                 args=(), kwargs=None, *, daemon=None):\n",
    "        super().__init__(group=group, target=target, name=name,\n",
    "                         daemon=daemon)\n",
    "        self.args = args\n",
    "        self.kwargs = kwargs\n",
    "\n",
    "    def run(self):\n",
    "        logging.debug('running with %s and %s',\n",
    "                      self.args, self.kwargs)\n",
    "\n",
    "\n",
    "logging.basicConfig(\n",
    "    level=logging.DEBUG,\n",
    "    format='(%(threadName)-10s) %(message)s',\n",
    ")\n",
    "\n",
    "for i in range(5):\n",
    "    t = MyThreadWithArgs(args=(i,), kwargs={'a': 'A', 'b': 'B'})\n",
    "    t.start()"
   ]
  },
  {
   "cell_type": "markdown",
   "metadata": {},
   "source": [
    "## Timer Threads"
   ]
  },
  {
   "cell_type": "markdown",
   "metadata": {},
   "source": [
    "One example of a reason to subclass Thread is provided by Timer, also included in threading. A Timer starts its work after a delay, and can be canceled at any point within that delay time period."
   ]
  },
  {
   "cell_type": "code",
   "execution_count": 20,
   "metadata": {},
   "outputs": [
    {
     "name": "stderr",
     "output_type": "stream",
     "text": [
      "[DEBUG] (MainThread) starting timers\n",
      "[DEBUG] (MainThread) waiting before canceling t2\n",
      "[DEBUG] (MainThread) canceling t2\n",
      "[DEBUG] (MainThread) done\n",
      "[DEBUG] (t1        ) worker running\n"
     ]
    }
   ],
   "source": [
    "import threading\n",
    "import time\n",
    "import logging\n",
    "\n",
    "\n",
    "def delayed():\n",
    "    logging.debug('worker running')\n",
    "\n",
    "\n",
    "logging.basicConfig(\n",
    "    level=logging.DEBUG,\n",
    "    format='(%(threadName)-10s) %(message)s',\n",
    ")\n",
    "\n",
    "t1 = threading.Timer(0.3, delayed)\n",
    "t1.setName('t1')\n",
    "t2 = threading.Timer(0.3, delayed)\n",
    "t2.setName('t2')\n",
    "\n",
    "logging.debug('starting timers')\n",
    "t1.start()\n",
    "t2.start()\n",
    "\n",
    "logging.debug('waiting before canceling %s', t2.getName())\n",
    "time.sleep(0.2)\n",
    "logging.debug('canceling %s', t2.getName())\n",
    "t2.cancel()\n",
    "logging.debug('done')"
   ]
  },
  {
   "cell_type": "markdown",
   "metadata": {},
   "source": [
    "The second timer in this example is never run, and the first timer appears to run after the rest of the main program is done. Since it is not a daemon thread, it is joined implicitly when the main thread is done"
   ]
  },
  {
   "cell_type": "markdown",
   "metadata": {},
   "source": [
    "## Signaling Between Threads"
   ]
  },
  {
   "cell_type": "markdown",
   "metadata": {},
   "source": [
    "Although the point of using multiple threads is to run separate operations concurrently, there are times when it is important to be able to synchronize the operations in two or more threads. **Event objects** are a simple way to communicate between threads safely. An Event manages an internal flag that callers can control with the set() and clear() methods. Other threads can use wait() to pause until the flag is set, effectively blocking progress until allowed to continue."
   ]
  },
  {
   "cell_type": "code",
   "execution_count": 21,
   "metadata": {},
   "outputs": [
    {
     "name": "stderr",
     "output_type": "stream",
     "text": [
      "[DEBUG] (block     ) wait_for_event starting\n",
      "[DEBUG] (nonblock  ) wait_for_event_timeout starting\n",
      "[DEBUG] (MainThread) Waiting before calling Event.set()\n",
      "[DEBUG] (MainThread) Event is set\n",
      "[DEBUG] (block     ) event set: True\n",
      "[DEBUG] (nonblock  ) event set: True\n",
      "[DEBUG] (nonblock  ) processing event\n"
     ]
    }
   ],
   "source": [
    "import logging\n",
    "import threading\n",
    "import time\n",
    "\n",
    "\n",
    "def wait_for_event(e):\n",
    "    \"\"\"Wait for the event to be set before doing anything\"\"\"\n",
    "    logging.debug('wait_for_event starting')\n",
    "    event_is_set = e.wait()\n",
    "    logging.debug('event set: %s', event_is_set)\n",
    "\n",
    "\n",
    "def wait_for_event_timeout(e, t):\n",
    "    \"\"\"Wait t seconds and then timeout\"\"\"\n",
    "    while not e.is_set():\n",
    "        logging.debug('wait_for_event_timeout starting')\n",
    "        event_is_set = e.wait(t)\n",
    "        logging.debug('event set: %s', event_is_set)\n",
    "        if event_is_set:\n",
    "            logging.debug('processing event')\n",
    "        else:\n",
    "            logging.debug('doing other work')\n",
    "\n",
    "\n",
    "logging.basicConfig(\n",
    "    level=logging.DEBUG,\n",
    "    format='(%(threadName)-10s) %(message)s',\n",
    ")\n",
    "\n",
    "e = threading.Event()\n",
    "t1 = threading.Thread(\n",
    "    name='block',\n",
    "    target=wait_for_event,\n",
    "    args=(e,),\n",
    ")\n",
    "t1.start()\n",
    "\n",
    "t2 = threading.Thread(\n",
    "    name='nonblock',\n",
    "    target=wait_for_event_timeout,\n",
    "    args=(e, 2),\n",
    ")\n",
    "t2.start()\n",
    "\n",
    "logging.debug('Waiting before calling Event.set()')\n",
    "time.sleep(0.3)\n",
    "e.set()\n",
    "logging.debug('Event is set')"
   ]
  },
  {
   "cell_type": "markdown",
   "metadata": {},
   "source": [
    "The wait() method takes an argument representing the number of seconds to wait for the event before timing out. It returns a Boolean indicating whether or not the event is set, so the caller knows why wait() returned. The is_set() method can be used separately on the event without fear of blocking.\n",
    "\n",
    "In this example, wait_for_event_timeout() checks the event status without blocking indefinitely. The wait_for_event() blocks on the call to wait(), which does not return until the event status changes."
   ]
  },
  {
   "cell_type": "markdown",
   "metadata": {},
   "source": [
    "## Controlling Access to Resources"
   ]
  },
  {
   "cell_type": "markdown",
   "metadata": {},
   "source": [
    "in addition to synchronizing the operations of threads, it is also important to be able to control access to shared resources to prevent corruption or missed data. Python’s built-in data structures (lists, dictionaries, etc.) are thread-safe as a side-effect of having atomic byte-codes for manipulating them (the global interpreter lock used to protect Python’s internal data structures is not released in the middle of an update). Other data structures implemented in Python, or simpler types like integers and floats, do not have that protection. To guard against simultaneous access to an object, use a Lock object."
   ]
  },
  {
   "cell_type": "code",
   "execution_count": null,
   "metadata": {
    "collapsed": true
   },
   "outputs": [],
   "source": [
    "# %load thread_lock.py\n",
    "import logging\n",
    "import random\n",
    "import threading\n",
    "import time\n",
    "\n",
    "\n",
    "class Counter:\n",
    "\n",
    "    def __init__(self, start=0):\n",
    "        self.lock = threading.Lock()\n",
    "        self.value = start\n",
    "\n",
    "    def increment(self):\n",
    "        logging.debug('Waiting for lock')\n",
    "        self.lock.acquire()\n",
    "        try:\n",
    "            logging.debug('Acquired lock')\n",
    "            self.value = self.value + 1\n",
    "        finally:\n",
    "            logging.debug(\"Release lock\")\n",
    "            self.lock.release()\n",
    "\n",
    "\n",
    "def worker(c):\n",
    "    for i in range(2):\n",
    "        pause = random.random()\n",
    "        logging.debug('Sleeping %0.02f', pause)\n",
    "        time.sleep(pause)\n",
    "        c.increment()\n",
    "    logging.debug('Done')\n",
    "\n",
    "\n",
    "logging.basicConfig(\n",
    "    level=logging.DEBUG,\n",
    "    format='(%(threadName)-10s) %(message)s',\n",
    ")\n",
    "\n",
    "counter = Counter()\n",
    "for i in range(2):\n",
    "    t = threading.Thread(target=worker, args=(counter,))\n",
    "    t.start()\n",
    "\n",
    "logging.debug('Waiting for worker threads')\n",
    "main_thread = threading.main_thread()\n",
    "for t in threading.enumerate():\n",
    "    logging.debug(\"processing thread\")\n",
    "    if t is not main_thread:\n",
    "        logging.debug(\"start join\")\n",
    "        t.join()\n",
    "logging.debug('Counter: %d', counter.value)"
   ]
  },
  {
   "cell_type": "code",
   "execution_count": 3,
   "metadata": {},
   "outputs": [
    {
     "name": "stdout",
     "output_type": "stream",
     "text": [
      "(Thread-1  ) Sleeping 0.17\n",
      "(Thread-2  ) Sleeping 0.31\n",
      "(MainThread) Waiting for worker threads\n",
      "(MainThread) processing thread\n",
      "(MainThread) processing thread\n",
      "(MainThread) start join\n",
      "(Thread-1  ) Waiting for lock\n",
      "(Thread-1  ) Acquired lock\n",
      "(Thread-1  ) Release lock\n",
      "(Thread-1  ) Sleeping 0.30\n",
      "(Thread-2  ) Waiting for lock\n",
      "(Thread-2  ) Acquired lock\n",
      "(Thread-2  ) Release lock\n",
      "(Thread-2  ) Sleeping 0.73\n",
      "(Thread-1  ) Waiting for lock\n",
      "(Thread-1  ) Acquired lock\n",
      "(Thread-1  ) Release lock\n",
      "(Thread-1  ) Done\n",
      "(MainThread) processing thread\n",
      "(MainThread) start join\n",
      "(Thread-2  ) Waiting for lock\n",
      "(Thread-2  ) Acquired lock\n",
      "(Thread-2  ) Release lock\n",
      "(Thread-2  ) Done\n",
      "(MainThread) Counter: 4\n"
     ]
    }
   ],
   "source": [
    "!python thread_lock.py"
   ]
  },
  {
   "cell_type": "markdown",
   "metadata": {},
   "source": [
    "To find out whether another thread has acquired the lock without holding up the current thread, pass False for the blocking argument to acquire(). In the next example, worker() tries to acquire the lock three separate times and counts how many attempts it has to make to do so. In the mean time, lock_holder() cycles between holding and releasing the lock, with short pauses in each state used to simulate load."
   ]
  },
  {
   "cell_type": "code",
   "execution_count": null,
   "metadata": {
    "collapsed": true
   },
   "outputs": [],
   "source": [
    "# %load threading_lock_nolock.py\n",
    "import logging\n",
    "import threading\n",
    "import time\n",
    "\n",
    "\n",
    "def lock_holder(lock):\n",
    "    logging.debug('Starting')\n",
    "    while True:\n",
    "        lock.acquire()\n",
    "        try:\n",
    "            logging.debug('Holding')\n",
    "            time.sleep(0.5)\n",
    "        finally:\n",
    "            logging.debug('Not holding')\n",
    "            lock.release()\n",
    "        time.sleep(0.5)\n",
    "\n",
    "\n",
    "def worker(lock):\n",
    "    logging.debug('Starting')\n",
    "    num_tries = 0\n",
    "    num_acquires = 0\n",
    "    while num_acquires < 3:\n",
    "        time.sleep(0.5)\n",
    "        logging.debug('Trying to acquire')\n",
    "        have_it = lock.acquire(0)\n",
    "        try:\n",
    "            num_tries += 1\n",
    "            if have_it:\n",
    "                logging.debug('Iteration %d: Acquired',\n",
    "                              num_tries)\n",
    "                num_acquires += 1\n",
    "            else:\n",
    "                logging.debug('Iteration %d: Not acquired',\n",
    "                              num_tries)\n",
    "        finally:\n",
    "            if have_it:\n",
    "                lock.release()\n",
    "    logging.debug('Done after %d iterations', num_tries)\n",
    "\n",
    "\n",
    "logging.basicConfig(\n",
    "    level=logging.DEBUG,\n",
    "    format='(%(threadName)-10s) %(message)s',\n",
    ")\n",
    "\n",
    "lock = threading.Lock()\n",
    "\n",
    "holder = threading.Thread(\n",
    "    target=lock_holder,\n",
    "    args=(lock,),\n",
    "    name='LockHolder',\n",
    "    daemon=True,\n",
    ")\n",
    "holder.start()\n",
    "\n",
    "worker = threading.Thread(\n",
    "    target=worker,\n",
    "    args=(lock,),\n",
    "    name='Worker',\n",
    ")\n",
    "worker.start()"
   ]
  },
  {
   "cell_type": "code",
   "execution_count": 6,
   "metadata": {},
   "outputs": [
    {
     "name": "stdout",
     "output_type": "stream",
     "text": [
      "(LockHolder) Starting\n",
      "(LockHolder) Holding\n",
      "(Worker    ) Starting\n",
      "(LockHolder) Not holding\n",
      "(Worker    ) Trying to acquire\n",
      "(Worker    ) Iteration 1: Acquired\n",
      "(LockHolder) Holding\n",
      "(Worker    ) Trying to acquire\n",
      "(Worker    ) Iteration 2: Not acquired\n",
      "(LockHolder) Not holding\n",
      "(Worker    ) Trying to acquire\n",
      "(Worker    ) Iteration 3: Acquired\n",
      "(LockHolder) Holding\n",
      "(Worker    ) Trying to acquire\n",
      "(Worker    ) Iteration 4: Not acquired\n",
      "(LockHolder) Not holding\n",
      "(Worker    ) Trying to acquire\n",
      "(Worker    ) Iteration 5: Acquired\n",
      "(Worker    ) Done after 5 iterations\n"
     ]
    }
   ],
   "source": [
    "!python threading_lock_nolock.py"
   ]
  },
  {
   "cell_type": "markdown",
   "metadata": {},
   "source": [
    "### Re-entrant Locks"
   ]
  },
  {
   "cell_type": "markdown",
   "metadata": {},
   "source": [
    "Normal Lock objects cannot be acquired more than once, even by the same thread. This can introduce undesirable side-effects if a lock is accessed by more than one function in the same call chain."
   ]
  },
  {
   "cell_type": "code",
   "execution_count": 7,
   "metadata": {},
   "outputs": [
    {
     "name": "stdout",
     "output_type": "stream",
     "text": [
      "First try : True\n",
      "Second try: False\n"
     ]
    }
   ],
   "source": [
    "import threading\n",
    "\n",
    "lock = threading.Lock()\n",
    "\n",
    "print('First try :', lock.acquire())\n",
    "print('Second try:', lock.acquire(0))"
   ]
  },
  {
   "cell_type": "markdown",
   "metadata": {},
   "source": [
    "In this case, the second call to acquire() is given a zero timeout to prevent it from blocking because the lock has been obtained by the first call.\n",
    "\n",
    "In a situation where separate code from the same thread needs to “re-acquire” the lock, use an RLock instead."
   ]
  },
  {
   "cell_type": "code",
   "execution_count": 8,
   "metadata": {},
   "outputs": [
    {
     "name": "stdout",
     "output_type": "stream",
     "text": [
      "First try : True\n",
      "Second try: True\n"
     ]
    }
   ],
   "source": [
    "import threading\n",
    "\n",
    "lock = threading.RLock()\n",
    "\n",
    "print('First try :', lock.acquire())\n",
    "print('Second try:', lock.acquire(0))"
   ]
  },
  {
   "cell_type": "markdown",
   "metadata": {},
   "source": [
    "### Locks as context Managers"
   ]
  },
  {
   "cell_type": "markdown",
   "metadata": {},
   "source": [
    "Locks implement the context manager API and are compatible with the with statement. Using with removes the need to explicitly acquire and release the lock."
   ]
  },
  {
   "cell_type": "code",
   "execution_count": 9,
   "metadata": {},
   "outputs": [
    {
     "name": "stderr",
     "output_type": "stream",
     "text": [
      "(Thread-6  ) Lock acquired via with\n",
      "(Thread-7  ) Lock acquired directly\n"
     ]
    }
   ],
   "source": [
    "\n",
    "import threading\n",
    "import logging\n",
    "\n",
    "\n",
    "def worker_with(lock):\n",
    "    with lock:\n",
    "        logging.debug('Lock acquired via with')\n",
    "\n",
    "\n",
    "def worker_no_with(lock):\n",
    "    lock.acquire()\n",
    "    try:\n",
    "        logging.debug('Lock acquired directly')\n",
    "    finally:\n",
    "        lock.release()\n",
    "\n",
    "\n",
    "logging.basicConfig(\n",
    "    level=logging.DEBUG,\n",
    "    format='(%(threadName)-10s) %(message)s',\n",
    ")\n",
    "\n",
    "lock = threading.Lock()\n",
    "w = threading.Thread(target=worker_with, args=(lock,))\n",
    "nw = threading.Thread(target=worker_no_with, args=(lock,))\n",
    "\n",
    "w.start()\n",
    "nw.start()"
   ]
  },
  {
   "cell_type": "markdown",
   "metadata": {},
   "source": [
    "## Synchronizing Threads"
   ]
  },
  {
   "cell_type": "markdown",
   "metadata": {},
   "source": [
    "### Condition"
   ]
  },
  {
   "cell_type": "markdown",
   "metadata": {},
   "source": [
    "In addition to using Events, another way of synchronizing threads is through using a Condition object. Because the Condition uses a Lock, it can be tied to a shared resource, allowing multiple threads to wait for the resource to be updated. In this example, the consumer() threads wait for the Condition to be set before continuing. The producer() thread is responsible for setting the condition and notifying the other threads that they can continue."
   ]
  },
  {
   "cell_type": "code",
   "execution_count": 11,
   "metadata": {},
   "outputs": [
    {
     "name": "stderr",
     "output_type": "stream",
     "text": [
      "(c1        ) Starting consumer thread\n",
      "(c2        ) Starting consumer thread\n",
      "(p         ) Starting producer thread\n",
      "(p         ) Making resource available\n",
      "(c1        ) Resource is available to consumer\n",
      "(c2        ) Resource is available to consumer\n"
     ]
    }
   ],
   "source": [
    "import logging\n",
    "import threading\n",
    "import time\n",
    "\n",
    "\n",
    "def consumer(cond):\n",
    "    \"\"\"wait for the condition and use the resource\"\"\"\n",
    "    logging.debug('Starting consumer thread')\n",
    "    with cond:\n",
    "        cond.wait()\n",
    "        logging.debug('Resource is available to consumer')\n",
    "\n",
    "\n",
    "def producer(cond):\n",
    "    \"\"\"set up the resource to be used by the consumer\"\"\"\n",
    "    logging.debug('Starting producer thread')\n",
    "    with cond:\n",
    "        logging.debug('Making resource available')\n",
    "        cond.notifyAll()\n",
    "\n",
    "\n",
    "logging.basicConfig(\n",
    "    level=logging.DEBUG,\n",
    "    format='%(asctime)s (%(threadName)-2s) %(message)s',\n",
    ")\n",
    "\n",
    "condition = threading.Condition()\n",
    "c1 = threading.Thread(name='c1', target=consumer,\n",
    "                      args=(condition,))\n",
    "c2 = threading.Thread(name='c2', target=consumer,\n",
    "                      args=(condition,))\n",
    "p = threading.Thread(name='p', target=producer,\n",
    "                     args=(condition,))\n",
    "\n",
    "c1.start()\n",
    "time.sleep(0.2)\n",
    "c2.start()\n",
    "time.sleep(0.2)\n",
    "p.start()"
   ]
  },
  {
   "cell_type": "markdown",
   "metadata": {},
   "source": [
    "### Barrier"
   ]
  },
  {
   "cell_type": "markdown",
   "metadata": {},
   "source": [
    "Barriers are another thread synchronization mechanism. A Barrier establishes a control point and all participating threads block until all of the participating “parties” have reached that point. It lets threads start up separately and then pause until they are all ready to proceed."
   ]
  },
  {
   "cell_type": "code",
   "execution_count": 13,
   "metadata": {},
   "outputs": [
    {
     "name": "stdout",
     "output_type": "stream",
     "text": [
      "worker-0\n",
      " starting\n",
      "\n",
      "worker-0\n",
      " waiting for barrier with 0 others\n",
      "\n",
      "worker-1\n",
      " starting\n",
      "\n",
      "worker-1\n",
      " waiting for barrier with 1 others\n",
      "\n",
      "worker-2\n",
      " starting\n",
      "\n",
      "worker-2\n",
      " waiting for barrier with 2 others\n",
      "\n",
      "worker-2\n",
      " after barrier\n",
      "worker-0\n",
      "  worker-1\n",
      "2after barrier\n",
      " \n",
      " after barrier\n",
      " 01\n",
      "\n"
     ]
    }
   ],
   "source": [
    "import threading\n",
    "import time\n",
    "\n",
    "\n",
    "def worker(barrier):\n",
    "    print(threading.current_thread().name,\n",
    "          'waiting for barrier with {} others\\n'.format(\n",
    "              barrier.n_waiting))\n",
    "    worker_id = barrier.wait()\n",
    "    print(threading.current_thread().name, 'after barrier\\n',\n",
    "          worker_id)\n",
    "\n",
    "\n",
    "NUM_THREADS = 3\n",
    "\n",
    "barrier = threading.Barrier(NUM_THREADS)\n",
    "\n",
    "threads = [\n",
    "    threading.Thread(\n",
    "        name='worker-%s\\n' % i,\n",
    "        target=worker,\n",
    "        args=(barrier,),\n",
    "    )\n",
    "    for i in range(NUM_THREADS)\n",
    "]\n",
    "\n",
    "for t in threads:\n",
    "    print(t.name, 'starting\\n')\n",
    "    t.start()\n",
    "    time.sleep(0.1)\n",
    "\n",
    "for t in threads:\n",
    "    t.join()"
   ]
  },
  {
   "cell_type": "markdown",
   "metadata": {},
   "source": [
    "In this example, the Barrier is configured to block until three threads are waiting. When the condition is met, all of the threads are released past the control point at the same time. The return value from wait() indicates the number of the party being released, and can be used to limit some threads from taking an action like cleaning up a shared resource."
   ]
  },
  {
   "cell_type": "markdown",
   "metadata": {},
   "source": [
    "The abort() method of Barrier causes all of the waiting threads to receive a BrokenBarrierError. This allows threads to clean up if processing is stopped while they are blocked on wait()."
   ]
  },
  {
   "cell_type": "code",
   "execution_count": 14,
   "metadata": {},
   "outputs": [
    {
     "name": "stdout",
     "output_type": "stream",
     "text": [
      "worker-0worker-0  waiting for barrier with 0 othersstarting\n",
      "\n",
      "worker-1 starting\n",
      "worker-1 waiting for barrier with 1 others\n",
      "worker-2 starting\n",
      "worker-2 waiting for barrier with 2 others\n",
      "worker-1worker-0 abortingworker-2 \n",
      " abortingaborting\n",
      "\n"
     ]
    }
   ],
   "source": [
    "import threading\n",
    "import time\n",
    "\n",
    "\n",
    "def worker(barrier):\n",
    "    print(threading.current_thread().name,\n",
    "          'waiting for barrier with {} others'.format(\n",
    "              barrier.n_waiting))\n",
    "    try:\n",
    "        worker_id = barrier.wait()\n",
    "    except threading.BrokenBarrierError:\n",
    "        print(threading.current_thread().name, 'aborting')\n",
    "    else:\n",
    "        print(threading.current_thread().name, 'after barrier',\n",
    "              worker_id)\n",
    "\n",
    "\n",
    "NUM_THREADS = 3\n",
    "\n",
    "barrier = threading.Barrier(NUM_THREADS + 1)\n",
    "\n",
    "threads = [\n",
    "    threading.Thread(\n",
    "        name='worker-%s' % i,\n",
    "        target=worker,\n",
    "        args=(barrier,),\n",
    "    )\n",
    "    for i in range(NUM_THREADS)\n",
    "]\n",
    "\n",
    "for t in threads:\n",
    "    print(t.name, 'starting')\n",
    "    t.start()\n",
    "    time.sleep(0.1)\n",
    "\n",
    "barrier.abort()\n",
    "\n",
    "for t in threads:\n",
    "    t.join()"
   ]
  },
  {
   "cell_type": "markdown",
   "metadata": {},
   "source": [
    "## Limiting Concurrent Access to Resources"
   ]
  },
  {
   "cell_type": "markdown",
   "metadata": {},
   "source": [
    "Sometimes it is useful to allow more than one worker access to a resource at a time, while still limiting the overall number. For example, a connection pool might support a fixed number of simultaneous connections, or a network application might support a fixed number of concurrent downloads. A Semaphore is one way to manage those connections."
   ]
  },
  {
   "cell_type": "code",
   "execution_count": 15,
   "metadata": {},
   "outputs": [
    {
     "name": "stderr",
     "output_type": "stream",
     "text": [
      "(0         ) Waiting to join the pool\n",
      "(1         ) Waiting to join the pool\n",
      "(2         ) Waiting to join the pool\n",
      "(0         ) Running: ['0']\n",
      "(3         ) Waiting to join the pool\n",
      "(1         ) Running: ['0', '1']\n",
      "(0         ) Running: ['1']\n",
      "(2         ) Running: ['1', '2']\n",
      "(1         ) Running: ['2']\n",
      "(3         ) Running: ['2', '3']\n",
      "(2         ) Running: ['3']\n",
      "(3         ) Running: []\n"
     ]
    }
   ],
   "source": [
    "import logging\n",
    "import random\n",
    "import threading\n",
    "import time\n",
    "\n",
    "\n",
    "class ActivePool:\n",
    "\n",
    "    def __init__(self):\n",
    "        super(ActivePool, self).__init__()\n",
    "        self.active = []\n",
    "        self.lock = threading.Lock()\n",
    "\n",
    "    def makeActive(self, name):\n",
    "        with self.lock:\n",
    "            self.active.append(name)\n",
    "            logging.debug('Running: %s', self.active)\n",
    "\n",
    "    def makeInactive(self, name):\n",
    "        with self.lock:\n",
    "            self.active.remove(name)\n",
    "            logging.debug('Running: %s', self.active)\n",
    "\n",
    "\n",
    "def worker(s, pool):\n",
    "    logging.debug('Waiting to join the pool')\n",
    "    with s:\n",
    "        name = threading.current_thread().getName()\n",
    "        pool.makeActive(name)\n",
    "        time.sleep(0.1)\n",
    "        pool.makeInactive(name)\n",
    "\n",
    "\n",
    "logging.basicConfig(\n",
    "    level=logging.DEBUG,\n",
    "    format='%(asctime)s (%(threadName)-2s) %(message)s',\n",
    ")\n",
    "\n",
    "pool = ActivePool()\n",
    "s = threading.Semaphore(2)\n",
    "for i in range(4):\n",
    "    t = threading.Thread(\n",
    "        target=worker,\n",
    "        name=str(i),\n",
    "        args=(s, pool),\n",
    "    )\n",
    "    t.start()"
   ]
  },
  {
   "cell_type": "markdown",
   "metadata": {},
   "source": [
    "## Thread-specific Data"
   ]
  },
  {
   "cell_type": "markdown",
   "metadata": {},
   "source": [
    "While some resources need to be locked so multiple threads can use them, others need to be protected so that they are hidden from threads that do not own them. The local() class creates an object capable of hiding values from view in separate threads."
   ]
  },
  {
   "cell_type": "code",
   "execution_count": 16,
   "metadata": {},
   "outputs": [
    {
     "name": "stderr",
     "output_type": "stream",
     "text": [
      "(MainThread) No value yet\n",
      "(MainThread) value=1000\n",
      "(Thread-8  ) No value yet\n",
      "(Thread-9  ) No value yet\n",
      "(Thread-8  ) value=4\n",
      "(Thread-9  ) value=91\n"
     ]
    }
   ],
   "source": [
    "import random\n",
    "import threading\n",
    "import logging\n",
    "\n",
    "\n",
    "def show_value(data):\n",
    "    try:\n",
    "        val = data.value\n",
    "    except AttributeError:\n",
    "        logging.debug('No value yet')\n",
    "    else:\n",
    "        logging.debug('value=%s', val)\n",
    "\n",
    "\n",
    "def worker(data):\n",
    "    show_value(data)\n",
    "    data.value = random.randint(1, 100)\n",
    "    show_value(data)\n",
    "\n",
    "\n",
    "logging.basicConfig(\n",
    "    level=logging.DEBUG,\n",
    "    format='(%(threadName)-10s) %(message)s',\n",
    ")\n",
    "\n",
    "local_data = threading.local()\n",
    "show_value(local_data)\n",
    "local_data.value = 1000\n",
    "show_value(local_data)\n",
    "\n",
    "for i in range(2):\n",
    "    t = threading.Thread(target=worker, args=(local_data,))\n",
    "    t.start()"
   ]
  },
  {
   "cell_type": "markdown",
   "metadata": {},
   "source": [
    "To initialize the settings so all threads start with the same value, use a subclass and set the attributes in __init__()."
   ]
  },
  {
   "cell_type": "code",
   "execution_count": 21,
   "metadata": {},
   "outputs": [
    {
     "name": "stderr",
     "output_type": "stream",
     "text": [
      "(MainThread) Initializing <__main__.MyLocal object at 0x7f243c132948>\n",
      "(MainThread) value=1000\n",
      "(Thread-12 ) Initializing <__main__.MyLocal object at 0x7f243c132948>\n",
      "(Thread-13 ) Initializing <__main__.MyLocal object at 0x7f243c132948>\n",
      "(Thread-12 ) value=1000\n",
      "(Thread-13 ) value=1000\n",
      "(Thread-12 ) value=84\n",
      "(Thread-13 ) value=24\n"
     ]
    }
   ],
   "source": [
    "import random\n",
    "import threading\n",
    "import logging\n",
    "\n",
    "\n",
    "def show_value(data):\n",
    "    try:\n",
    "        val = data.value\n",
    "    except AttributeError:\n",
    "        logging.debug('No value yet')\n",
    "    else:\n",
    "        logging.debug('value=%s', val)\n",
    "\n",
    "\n",
    "def worker(data):\n",
    "    show_value(data)\n",
    "    data.value = random.randint(1, 100)\n",
    "    show_value(data)\n",
    "\n",
    "\n",
    "class MyLocal(threading.local):\n",
    "\n",
    "    def __init__(self, value):\n",
    "        super().__init__()\n",
    "        logging.debug('Initializing %r', self)\n",
    "        self.value = value\n",
    "\n",
    "\n",
    "logging.basicConfig(\n",
    "    level=logging.DEBUG,\n",
    "    format='(%(threadName)-10s) %(message)s',\n",
    ")\n",
    "\n",
    "local_data = MyLocal(1000)\n",
    "show_value(local_data)\n",
    "\n",
    "for i in range(2):\n",
    "    t = threading.Thread(target=worker, args=(local_data,))\n",
    "    t.start()"
   ]
  },
  {
   "cell_type": "markdown",
   "metadata": {
    "collapsed": true
   },
   "source": [
    "## Handling exception outside of main thread"
   ]
  },
  {
   "cell_type": "markdown",
   "metadata": {},
   "source": [
    "If a exception occures  in child thread, the thread return immediataly. the trace info which is in the context of spawn context is gone. Following is a workaround of this problem"
   ]
  },
  {
   "cell_type": "code",
   "execution_count": 7,
   "metadata": {},
   "outputs": [
    {
     "name": "stdout",
     "output_type": "stream",
     "text": [
      "<class 'Exception'>\n",
      "An error occured here.\n",
      "<traceback object at 0x7fcf767da348>\n"
     ]
    }
   ],
   "source": [
    "import sys\n",
    "import threading\n",
    "import queue\n",
    "\n",
    "class ExcThread(threading.Thread):\n",
    "\n",
    "    def __init__(self, bucket):\n",
    "        threading.Thread.__init__(self)\n",
    "        self.bucket = bucket\n",
    "\n",
    "    def run(self):\n",
    "        try:\n",
    "            raise Exception('An error occured here.')\n",
    "        except Exception:\n",
    "            self.bucket.put(sys.exc_info())\n",
    "\n",
    "\n",
    "def main():\n",
    "    bucket = queue.Queue()\n",
    "    thread_obj = ExcThread(bucket)\n",
    "    thread_obj.start()\n",
    "\n",
    "    while True:\n",
    "        try:\n",
    "            exc = bucket.get(block=False)\n",
    "        except Queue.Empty:\n",
    "            pass\n",
    "        else:\n",
    "            exc_type, exc_obj, exc_trace = exc\n",
    "            # deal with the exception\n",
    "            print(exc_type)\n",
    "            print(exc_obj)\n",
    "            print(exc_trace) \n",
    "\n",
    "        thread_obj.join(0.1)\n",
    "        if thread_obj.isAlive():\n",
    "            continue\n",
    "        else:\n",
    "            break\n",
    "\n",
    "\n",
    "if __name__ == '__main__':\n",
    "    main()"
   ]
  },
  {
   "cell_type": "code",
   "execution_count": null,
   "metadata": {
    "collapsed": true
   },
   "outputs": [],
   "source": []
  }
 ],
 "metadata": {
  "kernelspec": {
   "display_name": "Python 3",
   "language": "python",
   "name": "python3"
  },
  "language_info": {
   "codemirror_mode": {
    "name": "ipython",
    "version": 3
   },
   "file_extension": ".py",
   "mimetype": "text/x-python",
   "name": "python",
   "nbconvert_exporter": "python",
   "pygments_lexer": "ipython3",
   "version": "3.6.1"
  }
 },
 "nbformat": 4,
 "nbformat_minor": 2
}
