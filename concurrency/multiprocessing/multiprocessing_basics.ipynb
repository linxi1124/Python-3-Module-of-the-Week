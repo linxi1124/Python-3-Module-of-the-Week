{
 "cells": [
  {
   "cell_type": "markdown",
   "metadata": {},
   "source": [
    "The simplest way to spawn a second process is to instantiate a Process object with a target function and call start() to let it begin working."
   ]
  },
  {
   "cell_type": "code",
   "execution_count": 3,
   "metadata": {},
   "outputs": [
    {
     "name": "stdout",
     "output_type": "stream",
     "text": [
      "Worker\n",
      "Worker\n",
      "Worker\n",
      "Worker\n",
      "Worker\n"
     ]
    }
   ],
   "source": [
    "import multiprocessing\n",
    "\n",
    "\n",
    "def worker():\n",
    "    \"\"\"worker function\"\"\"\n",
    "    print('Worker')\n",
    "\n",
    "\n",
    "if __name__ == '__main__':\n",
    "    jobs = []\n",
    "    for i in range(5):\n",
    "        p = multiprocessing.Process(target=worker)\n",
    "        jobs.append(p)\n",
    "        p.start()"
   ]
  },
  {
   "cell_type": "markdown",
   "metadata": {},
   "source": [
    "It usually more useful to be able to spawn a process with arguments to tell it what work to do. **Unlike with threading, in order to pass arguments to a multiprocessing Process the arguments must be able to be serialized using pickle**. This example passes each worker a number to be printed.\n",
    "\n"
   ]
  },
  {
   "cell_type": "code",
   "execution_count": 4,
   "metadata": {},
   "outputs": [
    {
     "name": "stdout",
     "output_type": "stream",
     "text": [
      "Worker: 1\n",
      "Worker: 2\n",
      "Worker: 3\n",
      "Worker: 4\n",
      "Worker: 0\n"
     ]
    }
   ],
   "source": [
    "import multiprocessing\n",
    "\n",
    "\n",
    "def worker(num):\n",
    "    \"\"\"thread worker function\"\"\"\n",
    "    print('Worker:', num)\n",
    "\n",
    "\n",
    "if __name__ == '__main__':\n",
    "    jobs = []\n",
    "    for i in range(5):\n",
    "        p = multiprocessing.Process(target=worker, args=(i,))\n",
    "        jobs.append(p)\n",
    "        p.start()"
   ]
  },
  {
   "cell_type": "markdown",
   "metadata": {},
   "source": [
    "## Importable Target Functions"
   ]
  },
  {
   "cell_type": "markdown",
   "metadata": {},
   "source": [
    "One difference between the threading and multiprocessing examples is the extra protection for __main__ used in the multiprocessing examples. Due to the way the new processes are started, the child process needs to be able to import the script containing the target function. Wrapping the main part of the application in a check for __main__ ensures that it is not run recursively in each child as the module is imported. Another approach is to import the target function from a separate script. For example, multiprocessing_import_main.py uses a worker function defined in a second module."
   ]
  },
  {
   "cell_type": "code",
   "execution_count": null,
   "metadata": {
    "collapsed": true
   },
   "outputs": [],
   "source": [
    "# %load multiprocessing_import_worker.py\n",
    "def worker():\n",
    "    \"\"\"worker function\"\"\"\n",
    "    print('Worker')\n",
    "    return"
   ]
  },
  {
   "cell_type": "code",
   "execution_count": 5,
   "metadata": {},
   "outputs": [
    {
     "name": "stdout",
     "output_type": "stream",
     "text": [
      "Worker\n",
      "Worker\n",
      "Worker\n",
      "Worker\n",
      "Worker\n"
     ]
    }
   ],
   "source": [
    "import multiprocessing\n",
    "import multiprocessing_import_worker\n",
    "\n",
    "if __name__ == '__main__':\n",
    "    jobs = []\n",
    "    for i in range(5):\n",
    "        p = multiprocessing.Process(\n",
    "            target=multiprocessing_import_worker.worker,\n",
    "        )\n",
    "        jobs.append(p)\n",
    "        p.start()"
   ]
  },
  {
   "cell_type": "markdown",
   "metadata": {},
   "source": [
    "## Determining the current process"
   ]
  },
  {
   "cell_type": "markdown",
   "metadata": {},
   "source": [
    "Passing arguments to identify or name the process is cumbersome, and unnecessary. Each Process instance has a name with a default value that can be changed as the process is created. Naming processes is useful for keeping track of them, especially in applications with multiple types of processes running simultaneously."
   ]
  },
  {
   "cell_type": "code",
   "execution_count": 7,
   "metadata": {},
   "outputs": [
    {
     "name": "stdout",
     "output_type": "stream",
     "text": [
      "worker 1 Starting\n",
      "Process-18 Starting\n",
      "my_service Starting\n",
      "worker 1 Exiting\n",
      "Process-18 Exiting\n",
      "my_service Exiting\n"
     ]
    }
   ],
   "source": [
    "import multiprocessing\n",
    "import time\n",
    "\n",
    "\n",
    "def worker():\n",
    "    name = multiprocessing.current_process().name\n",
    "    print(name, 'Starting')\n",
    "    time.sleep(2)\n",
    "    print(name, 'Exiting')\n",
    "\n",
    "\n",
    "def my_service():\n",
    "    name = multiprocessing.current_process().name\n",
    "    print(name, 'Starting')\n",
    "    time.sleep(3)\n",
    "    print(name, 'Exiting')\n",
    "\n",
    "\n",
    "if __name__ == '__main__':\n",
    "    service = multiprocessing.Process(\n",
    "        name='my_service',\n",
    "        target=my_service,\n",
    "    )\n",
    "    worker_1 = multiprocessing.Process(\n",
    "        name='worker 1',\n",
    "        target=worker,\n",
    "    )\n",
    "    worker_2 = multiprocessing.Process(  # default name\n",
    "        target=worker,\n",
    "    )\n",
    "\n",
    "    worker_1.start()\n",
    "    worker_2.start()\n",
    "    service.start()"
   ]
  },
  {
   "cell_type": "markdown",
   "metadata": {},
   "source": [
    "## Daemon Processes"
   ]
  },
  {
   "cell_type": "markdown",
   "metadata": {},
   "source": [
    "By default, the main program will not exit until all of the children have exited. There are times when starting a background process that runs without blocking the main program from exiting is useful, such as in services where there may not be an easy way to interrupt the worker, or where letting it die in the middle of its work does not lose or corrupt data (for example, a task that generates “heart beats” for a service monitoring tool).\n",
    "\n",
    "To mark a process as a daemon, set its daemon attribute to True. The default is for processes to not be daemons.\n",
    "\n"
   ]
  },
  {
   "cell_type": "code",
   "execution_count": 8,
   "metadata": {},
   "outputs": [
    {
     "name": "stdout",
     "output_type": "stream",
     "text": [
      "Starting: daemon 24598\n",
      "Starting: non-daemon 24601\n",
      "Exiting : non-daemon 24601\n",
      "Exiting : daemon 24598\n"
     ]
    }
   ],
   "source": [
    "import multiprocessing\n",
    "import time\n",
    "import sys\n",
    "\n",
    "\n",
    "def daemon():\n",
    "    p = multiprocessing.current_process()\n",
    "    print('Starting:', p.name, p.pid)\n",
    "    sys.stdout.flush()\n",
    "    time.sleep(2)\n",
    "    print('Exiting :', p.name, p.pid)\n",
    "    sys.stdout.flush()\n",
    "\n",
    "\n",
    "def non_daemon():\n",
    "    p = multiprocessing.current_process()\n",
    "    print('Starting:', p.name, p.pid)\n",
    "    sys.stdout.flush()\n",
    "    print('Exiting :', p.name, p.pid)\n",
    "    sys.stdout.flush()\n",
    "\n",
    "\n",
    "if __name__ == '__main__':\n",
    "    d = multiprocessing.Process(\n",
    "        name='daemon',\n",
    "        target=daemon,\n",
    "    )\n",
    "    d.daemon = True\n",
    "\n",
    "    n = multiprocessing.Process(\n",
    "        name='non-daemon',\n",
    "        target=non_daemon,\n",
    "    )\n",
    "    n.daemon = False\n",
    "\n",
    "    d.start()\n",
    "    time.sleep(1)\n",
    "    n.start()"
   ]
  },
  {
   "cell_type": "markdown",
   "metadata": {},
   "source": [
    "## Waiting for processes"
   ]
  },
  {
   "cell_type": "markdown",
   "metadata": {},
   "source": [
    "To wait until a process has completed its work and exited, use the join() method."
   ]
  },
  {
   "cell_type": "code",
   "execution_count": 9,
   "metadata": {},
   "outputs": [
    {
     "name": "stdout",
     "output_type": "stream",
     "text": [
      "Starting: daemon\n",
      "Starting: non-daemon\n",
      "Exiting : non-daemon\n",
      "Exiting : daemon\n"
     ]
    }
   ],
   "source": [
    "import multiprocessing\n",
    "import time\n",
    "import sys\n",
    "\n",
    "\n",
    "def daemon():\n",
    "    name = multiprocessing.current_process().name\n",
    "    print('Starting:', name)\n",
    "    time.sleep(2)\n",
    "    print('Exiting :', name)\n",
    "\n",
    "\n",
    "def non_daemon():\n",
    "    name = multiprocessing.current_process().name\n",
    "    print('Starting:', name)\n",
    "    print('Exiting :', name)\n",
    "\n",
    "\n",
    "if __name__ == '__main__':\n",
    "    d = multiprocessing.Process(\n",
    "        name='daemon',\n",
    "        target=daemon,\n",
    "    )\n",
    "    d.daemon = True\n",
    "\n",
    "    n = multiprocessing.Process(\n",
    "        name='non-daemon',\n",
    "        target=non_daemon,\n",
    "    )\n",
    "    n.daemon = False\n",
    "\n",
    "    d.start()\n",
    "    time.sleep(1)\n",
    "    n.start()\n",
    "\n",
    "    d.join()\n",
    "    n.join()"
   ]
  },
  {
   "cell_type": "markdown",
   "metadata": {},
   "source": [
    "By default, join() blocks indefinitely. It is also possible to pass a timeout argument (a float representing the number of seconds to wait for the process to become inactive). If the process does not complete within the timeout period, join() returns anyway."
   ]
  },
  {
   "cell_type": "code",
   "execution_count": 10,
   "metadata": {},
   "outputs": [
    {
     "name": "stdout",
     "output_type": "stream",
     "text": [
      "Starting: daemon\n",
      "Starting: non-daemon\n",
      "Exiting : non-daemon\n",
      "d.is_alive() True\n",
      "Exiting : daemon\n"
     ]
    }
   ],
   "source": [
    "import multiprocessing\n",
    "import time\n",
    "import sys\n",
    "\n",
    "\n",
    "def daemon():\n",
    "    name = multiprocessing.current_process().name\n",
    "    print('Starting:', name)\n",
    "    time.sleep(2)\n",
    "    print('Exiting :', name)\n",
    "\n",
    "\n",
    "def non_daemon():\n",
    "    name = multiprocessing.current_process().name\n",
    "    print('Starting:', name)\n",
    "    print('Exiting :', name)\n",
    "\n",
    "\n",
    "if __name__ == '__main__':\n",
    "    d = multiprocessing.Process(\n",
    "        name='daemon',\n",
    "        target=daemon,\n",
    "    )\n",
    "    d.daemon = True\n",
    "\n",
    "    n = multiprocessing.Process(\n",
    "        name='non-daemon',\n",
    "        target=non_daemon,\n",
    "    )\n",
    "    n.daemon = False\n",
    "\n",
    "    d.start()\n",
    "    n.start()\n",
    "\n",
    "    d.join(1)\n",
    "    print('d.is_alive()', d.is_alive())\n",
    "    n.join()"
   ]
  },
  {
   "cell_type": "markdown",
   "metadata": {},
   "source": [
    "## Terminating Processes"
   ]
  },
  {
   "cell_type": "markdown",
   "metadata": {},
   "source": [
    "Although it is better to use the poison pill method of signaling to a process that it should exit (see Passing Messages to Processes, later in this chapter), if a process appears hung or deadlocked it can be useful to be able to kill it forcibly. Calling terminate() on a process object kills the child process."
   ]
  },
  {
   "cell_type": "code",
   "execution_count": 11,
   "metadata": {},
   "outputs": [
    {
     "name": "stdout",
     "output_type": "stream",
     "text": [
      "BEFORE: <Process(Process-25, initial)> False\n",
      "DURING: <Process(Process-25, started)> True\n",
      "TERMINATED: <Process(Process-25, started)> True\n",
      "JOINED: <Process(Process-25, stopped[SIGTERM])> False\n"
     ]
    }
   ],
   "source": [
    "import multiprocessing\n",
    "import time\n",
    "\n",
    "\n",
    "def slow_worker():\n",
    "    print('Starting worker')\n",
    "    time.sleep(0.1)\n",
    "    print('Finished worker')\n",
    "\n",
    "\n",
    "if __name__ == '__main__':\n",
    "    p = multiprocessing.Process(target=slow_worker)\n",
    "    print('BEFORE:', p, p.is_alive())\n",
    "\n",
    "    p.start()\n",
    "    print('DURING:', p, p.is_alive())\n",
    "\n",
    "    p.terminate()\n",
    "    print('TERMINATED:', p, p.is_alive())\n",
    "\n",
    "    p.join()\n",
    "    print('JOINED:', p, p.is_alive())"
   ]
  },
  {
   "cell_type": "markdown",
   "metadata": {},
   "source": [
    "## Process Exit Status"
   ]
  },
  {
   "cell_type": "markdown",
   "metadata": {},
   "source": [
    "The status code produced when the process exits can be accessed via the exitcode attribute. The ranges allowed are listed in the table below."
   ]
  },
  {
   "cell_type": "markdown",
   "metadata": {},
   "source": [
    "<table border=\"1\" class=\"docutils\" id=\"id10\">\n",
    "<caption><span class=\"caption-text\">Multiprocessing Exit Codes</span><a class=\"headerlink\" href=\"#id10\" title=\"Permalink to this table\">¶</a></caption>\n",
    "<colgroup>\n",
    "<col width=\"14%\" />\n",
    "<col width=\"86%\" />\n",
    "</colgroup>\n",
    "<thead valign=\"bottom\">\n",
    "<tr class=\"row-odd\"><th class=\"head\">Exit Code</th>\n",
    "<th class=\"head\">Meaning</th>\n",
    "</tr>\n",
    "</thead>\n",
    "<tbody valign=\"top\">\n",
    "<tr class=\"row-even\"><td><code class=\"docutils literal\"><span class=\"pre\">==</span> <span class=\"pre\">0</span></code></td>\n",
    "<td>no error was produced</td>\n",
    "</tr>\n",
    "<tr class=\"row-odd\"><td><code class=\"docutils literal\"><span class=\"pre\">&gt;</span> <span class=\"pre\">0</span></code></td>\n",
    "<td>the process had an error, and exited with that code</td>\n",
    "</tr>\n",
    "<tr class=\"row-even\"><td><code class=\"docutils literal\"><span class=\"pre\">&lt;</span> <span class=\"pre\">0</span></code></td>\n",
    "<td>the process was killed with a signal of <code class=\"docutils literal\"><span class=\"pre\">-1</span> <span class=\"pre\">*</span> <span class=\"pre\">exitcode</span></code></td>\n",
    "</tr>\n",
    "</tbody>\n",
    "</table>"
   ]
  },
  {
   "cell_type": "code",
   "execution_count": 12,
   "metadata": {},
   "outputs": [
    {
     "name": "stdout",
     "output_type": "stream",
     "text": [
      "Starting process for exit_error\n",
      "Starting process for exit_ok\n",
      "Starting process for return_value\n",
      "Starting process for raises\n",
      "Starting process for terminated\n"
     ]
    },
    {
     "name": "stderr",
     "output_type": "stream",
     "text": [
      "Process raises:\n",
      "Traceback (most recent call last):\n",
      "  File \"/home/scott/anaconda3/lib/python3.6/multiprocessing/process.py\", line 249, in _bootstrap\n",
      "    self.run()\n",
      "  File \"/home/scott/anaconda3/lib/python3.6/multiprocessing/process.py\", line 93, in run\n",
      "    self._target(*self._args, **self._kwargs)\n",
      "  File \"<ipython-input-12-79ca24877756>\", line 19, in raises\n",
      "    raise RuntimeError('There was an error!')\n",
      "RuntimeError: There was an error!\n"
     ]
    },
    {
     "name": "stdout",
     "output_type": "stream",
     "text": [
      "     exit_error.exitcode = 1\n",
      "        exit_ok.exitcode = 0\n",
      "   return_value.exitcode = 0\n",
      "         raises.exitcode = 1\n",
      "     terminated.exitcode = -15\n"
     ]
    }
   ],
   "source": [
    "import multiprocessing\n",
    "import sys\n",
    "import time\n",
    "\n",
    "\n",
    "def exit_error():\n",
    "    sys.exit(1)\n",
    "\n",
    "\n",
    "def exit_ok():\n",
    "    return\n",
    "\n",
    "\n",
    "def return_value():\n",
    "    return 1\n",
    "\n",
    "\n",
    "def raises():\n",
    "    raise RuntimeError('There was an error!')\n",
    "\n",
    "\n",
    "def terminated():\n",
    "    time.sleep(3)\n",
    "\n",
    "\n",
    "if __name__ == '__main__':\n",
    "    jobs = []\n",
    "    funcs = [\n",
    "        exit_error,\n",
    "        exit_ok,\n",
    "        return_value,\n",
    "        raises,\n",
    "        terminated,\n",
    "    ]\n",
    "    for f in funcs:\n",
    "        print('Starting process for', f.__name__)\n",
    "        j = multiprocessing.Process(target=f, name=f.__name__)\n",
    "        jobs.append(j)\n",
    "        j.start()\n",
    "\n",
    "    jobs[-1].terminate()\n",
    "exit_ok\n",
    "    for j in jobs:\n",
    "        j.join()\n",
    "        print('{:>15}.exitcode = {}'.format(j.name, j.exitcode))"
   ]
  },
  {
   "cell_type": "markdown",
   "metadata": {},
   "source": [
    "## Logging"
   ]
  },
  {
   "cell_type": "markdown",
   "metadata": {},
   "source": [
    "When debugging concurrency issues, it can be useful to have access to the internals of the objects provided by multiprocessing. There is a convenient module-level function to enable logging called log_to_stderr(). It sets up a logger object using logging and adds a handler so that log messages are sent to the standard error channel."
   ]
  },
  {
   "cell_type": "code",
   "execution_count": 14,
   "metadata": {},
   "outputs": [
    {
     "name": "stderr",
     "output_type": "stream",
     "text": [
      "[INFO/Process-31] child process calling self.run()\n"
     ]
    },
    {
     "name": "stdout",
     "output_type": "stream",
     "text": [
      "Doing some work\n"
     ]
    },
    {
     "name": "stderr",
     "output_type": "stream",
     "text": [
      "[INFO/Process-31] process shutting down\n",
      "[DEBUG/Process-31] running all \"atexit\" finalizers with priority >= 0\n",
      "[DEBUG/Process-31] running the remaining \"atexit\" finalizers\n",
      "[INFO/Process-31] process exiting with exitcode 0\n"
     ]
    }
   ],
   "source": [
    "import multiprocessing\n",
    "import logging\n",
    "import sys\n",
    "\n",
    "\n",
    "def worker():\n",
    "    print('Doing some work')\n",
    "    sys.stdout.flush()\n",
    "\n",
    "\n",
    "if __name__ == '__main__':\n",
    "    multiprocessing.log_to_stderr(logging.DEBUG)\n",
    "    p = multiprocessing.Process(target=worker)\n",
    "    p.start()\n",
    "    p.join()"
   ]
  },
  {
   "cell_type": "markdown",
   "metadata": {},
   "source": [
    "By default, the logging level is set to NOTSET so no messages are produced. Pass a different level to initialize the logger to the level of detail desired."
   ]
  },
  {
   "cell_type": "markdown",
   "metadata": {},
   "source": [
    "To manipulate the logger directly (change its level setting or add handlers), use get_logger()."
   ]
  },
  {
   "cell_type": "code",
   "execution_count": 15,
   "metadata": {},
   "outputs": [
    {
     "name": "stderr",
     "output_type": "stream",
     "text": [
      "[INFO/Process-32] child process calling self.run()\n",
      "[INFO/Process-32] child process calling self.run()\n"
     ]
    },
    {
     "name": "stdout",
     "output_type": "stream",
     "text": [
      "Doing some work\n"
     ]
    },
    {
     "name": "stderr",
     "output_type": "stream",
     "text": [
      "[INFO/Process-32] process shutting down\n",
      "[INFO/Process-32] process shutting down\n",
      "[INFO/Process-32] process exiting with exitcode 0\n",
      "[INFO/Process-32] process exiting with exitcode 0\n"
     ]
    }
   ],
   "source": [
    "import multiprocessing\n",
    "import logging\n",
    "import sys\n",
    "\n",
    "\n",
    "def worker():\n",
    "    print('Doing some work')\n",
    "    sys.stdout.flush()\n",
    "\n",
    "\n",
    "if __name__ == '__main__':\n",
    "    multiprocessing.log_to_stderr()\n",
    "    logger = multiprocessing.get_logger()\n",
    "    logger.setLevel(logging.INFO)\n",
    "    p = multiprocessing.Process(target=worker)\n",
    "    p.start()\n",
    "    p.join()"
   ]
  },
  {
   "cell_type": "markdown",
   "metadata": {},
   "source": [
    "## Subclassing Process"
   ]
  },
  {
   "cell_type": "markdown",
   "metadata": {},
   "source": [
    "Although the simplest way to start a job in a separate process is to use Process and pass a target function, it is also possible to use a custom subclass."
   ]
  },
  {
   "cell_type": "code",
   "execution_count": 16,
   "metadata": {},
   "outputs": [
    {
     "name": "stderr",
     "output_type": "stream",
     "text": [
      "[INFO/Worker-33] child process calling self.run()\n",
      "[INFO/Worker-33] child process calling self.run()\n",
      "[INFO/Worker-34] child process calling self.run()\n"
     ]
    },
    {
     "name": "stdout",
     "output_type": "stream",
     "text": [
      "In Worker-33\n"
     ]
    },
    {
     "name": "stderr",
     "output_type": "stream",
     "text": [
      "[INFO/Worker-34] child process calling self.run()\n",
      "[INFO/Worker-33] process shutting down\n",
      "[INFO/Worker-33] process shutting down\n",
      "[INFO/Worker-33] process exiting with exitcode 0\n",
      "[INFO/Worker-35] child process calling self.run()\n",
      "[INFO/Worker-35] child process calling self.run()\n",
      "[INFO/Worker-33] process exiting with exitcode 0\n"
     ]
    },
    {
     "name": "stdout",
     "output_type": "stream",
     "text": [
      "In Worker-35\n"
     ]
    },
    {
     "name": "stderr",
     "output_type": "stream",
     "text": [
      "[INFO/Worker-36] child process calling self.run()\n",
      "[INFO/Worker-37] child process calling self.run()\n",
      "[INFO/Worker-35] process shutting down\n",
      "[INFO/Worker-36] child process calling self.run()\n",
      "[INFO/Worker-35] process shutting down\n",
      "[INFO/Worker-37] child process calling self.run()\n",
      "[INFO/Worker-35] process exiting with exitcode 0\n"
     ]
    },
    {
     "name": "stdout",
     "output_type": "stream",
     "text": [
      "In Worker-37\n"
     ]
    },
    {
     "name": "stderr",
     "output_type": "stream",
     "text": [
      "[INFO/Worker-35] process exiting with exitcode 0\n",
      "[INFO/Worker-37] process shutting down\n",
      "[INFO/Worker-37] process shutting down\n",
      "[INFO/Worker-37] process exiting with exitcode 0\n",
      "[INFO/Worker-37] process exiting with exitcode 0\n"
     ]
    },
    {
     "name": "stdout",
     "output_type": "stream",
     "text": [
      "In Worker-36\n"
     ]
    },
    {
     "name": "stderr",
     "output_type": "stream",
     "text": [
      "[INFO/Worker-36] process shutting down\n",
      "[INFO/Worker-36] process shutting down\n",
      "[INFO/Worker-36] process exiting with exitcode 0\n",
      "[INFO/Worker-36] process exiting with exitcode 0\n"
     ]
    },
    {
     "name": "stdout",
     "output_type": "stream",
     "text": [
      "In Worker-34\n"
     ]
    },
    {
     "name": "stderr",
     "output_type": "stream",
     "text": [
      "[INFO/Worker-34] process shutting down\n",
      "[INFO/Worker-34] process shutting down\n",
      "[INFO/Worker-34] process exiting with exitcode 0\n",
      "[INFO/Worker-34] process exiting with exitcode 0\n"
     ]
    }
   ],
   "source": [
    "import multiprocessing\n",
    "\n",
    "\n",
    "class Worker(multiprocessing.Process):\n",
    "\n",
    "    def run(self):\n",
    "        print('In {}'.format(self.name))\n",
    "        return\n",
    "\n",
    "\n",
    "if __name__ == '__main__':\n",
    "    jobs = []\n",
    "    for i in range(5):\n",
    "        p = Worker()\n",
    "        jobs.append(p)\n",
    "        p.start()\n",
    "    for j in jobs:\n",
    "        j.join()"
   ]
  },
  {
   "cell_type": "code",
   "execution_count": null,
   "metadata": {
    "collapsed": true
   },
   "outputs": [],
   "source": []
  }
 ],
 "metadata": {
  "kernelspec": {
   "display_name": "Python 3",
   "language": "python",
   "name": "python3"
  },
  "language_info": {
   "codemirror_mode": {
    "name": "ipython",
    "version": 3
   },
   "file_extension": ".py",
   "mimetype": "text/x-python",
   "name": "python",
   "nbconvert_exporter": "python",
   "pygments_lexer": "ipython3",
   "version": "3.6.1"
  }
 },
 "nbformat": 4,
 "nbformat_minor": 2
}
