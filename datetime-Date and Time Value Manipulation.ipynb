{
 "cells": [
  {
   "cell_type": "markdown",
   "metadata": {},
   "source": [
    "Purpose:\n",
    "\n",
    "The datetime module includes functions and classes for doing date and time parsing, formatting, and arithmetic.\n"
   ]
  },
  {
   "cell_type": "markdown",
   "metadata": {},
   "source": [
    "## Times"
   ]
  },
  {
   "cell_type": "markdown",
   "metadata": {},
   "source": [
    "Time value are represented with the time class. A time has attributes for hour, minute, second and microsecond and can also include time zone information."
   ]
  },
  {
   "cell_type": "code",
   "execution_count": 1,
   "metadata": {},
   "outputs": [
    {
     "name": "stdout",
     "output_type": "stream",
     "text": [
      "01:02:03\n",
      "hour       : 1\n",
      "minute     : 2\n",
      "second     : 3\n",
      "microsecond: 0\n",
      "tzinfo     : None\n"
     ]
    }
   ],
   "source": [
    "import datetime\n",
    "\n",
    "t = datetime.time(1, 2, 3)\n",
    "\n",
    "print(t)\n",
    "print('hour       :', t.hour)\n",
    "print('minute     :', t.minute)\n",
    "print('second     :', t.second)\n",
    "print('microsecond:', t.microsecond)\n",
    "print('tzinfo     :', t.tzinfo)"
   ]
  },
  {
   "cell_type": "markdown",
   "metadata": {},
   "source": [
    "datetime min max"
   ]
  },
  {
   "cell_type": "code",
   "execution_count": 2,
   "metadata": {},
   "outputs": [
    {
     "name": "stdout",
     "output_type": "stream",
     "text": [
      "Earliest    : 00:00:00\n",
      "Latest      : 23:59:59.999999\n",
      "Resolution  : 0:00:00.000001\n"
     ]
    }
   ],
   "source": [
    "import datetime\n",
    "\n",
    "print('Earliest    :', datetime.time.min)\n",
    "print(\"Latest      :\", datetime.time.max)\n",
    "print(\"Resolution  :\", datetime.time.resolution)"
   ]
  },
  {
   "cell_type": "markdown",
   "metadata": {},
   "source": [
    "**Note**:\n",
    "\n",
    "the resolution for time is limited to whole microseconds"
   ]
  },
  {
   "cell_type": "code",
   "execution_count": 3,
   "metadata": {},
   "outputs": [
    {
     "name": "stdout",
     "output_type": "stream",
     "text": [
      "1.0 : 00:00:00.000001\n",
      "0.0 : 00:00:00\n",
      "ERROR: integer argument expected, got float\n",
      "ERROR: integer argument expected, got float\n"
     ]
    }
   ],
   "source": [
    "import datetime\n",
    "\n",
    "for m in [1, 0, 0.1, 0.6]:\n",
    "    try:\n",
    "        print('{:02.1f} :'.format(m),\n",
    "              datetime.time(0, 0, 0, microsecond=m))\n",
    "    except TypeError as err:\n",
    "        print('ERROR:', err)"
   ]
  },
  {
   "cell_type": "markdown",
   "metadata": {},
   "source": [
    "## Dates"
   ]
  },
  {
   "cell_type": "markdown",
   "metadata": {},
   "source": [
    "Calendar date values are represented with the date class. Instances have attributes for year, month, and day. It is easy to create a date representing the current date using the today() class method."
   ]
  },
  {
   "cell_type": "code",
   "execution_count": 4,
   "metadata": {},
   "outputs": [
    {
     "name": "stdout",
     "output_type": "stream",
     "text": [
      "2017-11-10\n",
      "ctime  : Fri Nov 10 00:00:00 2017\n",
      "tuple  : tm_year  = 2017\n",
      "         tm_mon   = 11\n",
      "         tm_mday  = 10\n",
      "         tm_hour  = 0\n",
      "         tm_min   = 0\n",
      "         tm_sec   = 0\n",
      "         tm_wday  = 4\n",
      "         tm_yday  = 314\n",
      "         tm_isdst = -1\n",
      "ordinal: 736643\n",
      "Year   : 2017\n",
      "Mon    : 11\n",
      "Day    : 10\n"
     ]
    }
   ],
   "source": [
    "import datetime\n",
    "\n",
    "today = datetime.date.today()\n",
    "\n",
    "print(today)\n",
    "print(\"ctime  :\", today.ctime())\n",
    "tt = today.timetuple()\n",
    "\n",
    "print('tuple  : tm_year  =', tt.tm_year)\n",
    "print('         tm_mon   =', tt.tm_mon)\n",
    "print('         tm_mday  =', tt.tm_mday)\n",
    "print('         tm_hour  =', tt.tm_hour)\n",
    "print('         tm_min   =', tt.tm_min)\n",
    "print('         tm_sec   =', tt.tm_sec)\n",
    "print('         tm_wday  =', tt.tm_wday)\n",
    "print('         tm_yday  =', tt.tm_yday)\n",
    "print('         tm_isdst =', tt.tm_isdst)\n",
    "print('ordinal:', today.toordinal())\n",
    "print('Year   :', today.year)\n",
    "print('Mon    :', today.month)\n",
    "print('Day    :', today.day)"
   ]
  },
  {
   "cell_type": "markdown",
   "metadata": {},
   "source": [
    "There are also class methods for creating instances from POSIX timestamps or integers representing date values from the Gregorian calendar, where January 1 of the year 1 is 1 and each subsequent day increments the value by 1.\n",
    "\n"
   ]
  },
  {
   "cell_type": "code",
   "execution_count": 5,
   "metadata": {},
   "outputs": [
    {
     "name": "stdout",
     "output_type": "stream",
     "text": [
      "o               : 733114\n",
      "fromordinal(o)  : 2008-03-13\n",
      "t               : 1510296445.1038256\n",
      "fromtimestamp(t): 2017-11-10\n"
     ]
    }
   ],
   "source": [
    "import datetime\n",
    "import time\n",
    "\n",
    "o = 733114\n",
    "print('o               :', o)\n",
    "print('fromordinal(o)  :', datetime.date.fromordinal(o))\n",
    "\n",
    "t = time.time()\n",
    "print('t               :', t)\n",
    "print('fromtimestamp(t):', datetime.date.fromtimestamp(t))"
   ]
  },
  {
   "cell_type": "markdown",
   "metadata": {},
   "source": [
    "As with time, the range of date values supported can be determined using the min and max attributes.\n",
    "\n"
   ]
  },
  {
   "cell_type": "code",
   "execution_count": 6,
   "metadata": {},
   "outputs": [
    {
     "name": "stdout",
     "output_type": "stream",
     "text": [
      "Earliest  : 0001-01-01\n",
      "Latest    : 9999-12-31\n",
      "Resolution: 1 day, 0:00:00\n"
     ]
    }
   ],
   "source": [
    "import datetime\n",
    "\n",
    "print('Earliest  :', datetime.date.min)\n",
    "print('Latest    :', datetime.date.max)\n",
    "print('Resolution:', datetime.date.resolution)"
   ]
  },
  {
   "cell_type": "markdown",
   "metadata": {},
   "source": [
    "Another way to create new date instances uses the replace() method of an existing date.\n",
    "\n"
   ]
  },
  {
   "cell_type": "code",
   "execution_count": 7,
   "metadata": {},
   "outputs": [
    {
     "name": "stdout",
     "output_type": "stream",
     "text": [
      "d1: Sat Mar 29 00:00:00 2008\n",
      "d2: Sun Mar 29 00:00:00 2009\n"
     ]
    }
   ],
   "source": [
    "import datetime\n",
    "\n",
    "d1 = datetime.date(2008, 3, 29)\n",
    "print('d1:', d1.ctime())\n",
    "\n",
    "d2 = d1.replace(year=2009)\n",
    "print('d2:', d2.ctime())"
   ]
  },
  {
   "cell_type": "markdown",
   "metadata": {},
   "source": [
    "## timedeltas"
   ]
  },
  {
   "cell_type": "markdown",
   "metadata": {},
   "source": [
    "Future and past dates can be calculated using basic arithmetic on two datetime objects, or by combining a datetime with a timedelta. Subtracting dates produces a timedelta, and a timedelta can be added or subtracted from a date to produce another date. The internal values for a timedelta are stored in days, seconds, and microseconds.\n",
    "\n"
   ]
  },
  {
   "cell_type": "code",
   "execution_count": 8,
   "metadata": {},
   "outputs": [
    {
     "name": "stdout",
     "output_type": "stream",
     "text": [
      "microseconds: 0:00:00.000001\n",
      "milliseconds: 0:00:00.001000\n",
      "seconds     : 0:00:01\n",
      "minutes     : 0:01:00\n",
      "hours       : 1:00:00\n",
      "days        : 1 day, 0:00:00\n",
      "weeks       : 7 days, 0:00:00\n"
     ]
    }
   ],
   "source": [
    "import datetime\n",
    "\n",
    "print('microseconds:', datetime.timedelta(microseconds=1))\n",
    "print('milliseconds:', datetime.timedelta(milliseconds=1))\n",
    "print('seconds     :', datetime.timedelta(seconds=1))\n",
    "print('minutes     :', datetime.timedelta(minutes=1))\n",
    "print('hours       :', datetime.timedelta(hours=1))\n",
    "print('days        :', datetime.timedelta(days=1))\n",
    "print('weeks       :', datetime.timedelta(weeks=1))"
   ]
  },
  {
   "cell_type": "markdown",
   "metadata": {},
   "source": [
    "The full duration of a timedelta can be retrieved as a number of seconds using total_seconds()."
   ]
  },
  {
   "cell_type": "code",
   "execution_count": 9,
   "metadata": {},
   "outputs": [
    {
     "name": "stdout",
     "output_type": "stream",
     "text": [
      "0:00:00.000001  =    1e-06 seconds\n",
      "0:00:00.001000  =    0.001 seconds\n",
      "0:00:01         =      1.0 seconds\n",
      "0:01:00         =     60.0 seconds\n",
      "1:00:00         =   3600.0 seconds\n",
      "1 day, 0:00:00  =  86400.0 seconds\n",
      "7 days, 0:00:00 = 604800.0 seconds\n"
     ]
    }
   ],
   "source": [
    "import datetime\n",
    "\n",
    "for delta in [datetime.timedelta(microseconds=1),\n",
    "              datetime.timedelta(milliseconds=1),\n",
    "              datetime.timedelta(seconds=1),\n",
    "              datetime.timedelta(minutes=1),\n",
    "              datetime.timedelta(hours=1),\n",
    "              datetime.timedelta(days=1),\n",
    "              datetime.timedelta(weeks=1),\n",
    "              ]:\n",
    "    print('{:15} = {:8} seconds'.format(\n",
    "        str(delta), delta.total_seconds())\n",
    "    )"
   ]
  },
  {
   "cell_type": "markdown",
   "metadata": {},
   "source": [
    "## Date Arithmetic"
   ]
  },
  {
   "cell_type": "markdown",
   "metadata": {},
   "source": [
    "Date math uses the standard arithmetic operators.\n",
    "\n"
   ]
  },
  {
   "cell_type": "code",
   "execution_count": 10,
   "metadata": {},
   "outputs": [
    {
     "name": "stdout",
     "output_type": "stream",
     "text": [
      "Today    : 2017-11-10\n",
      "One day  : 1 day, 0:00:00\n",
      "Yesterday: 2017-11-09\n",
      "Tomorrow : 2017-11-11\n",
      "\n",
      "tomorrow - yesterday: 2 days, 0:00:00\n",
      "yesterday - tomorrow: -2 days, 0:00:00\n"
     ]
    }
   ],
   "source": [
    "import datetime\n",
    "\n",
    "today = datetime.date.today()\n",
    "print('Today    :', today)\n",
    "\n",
    "one_day = datetime.timedelta(days=1)\n",
    "print('One day  :', one_day)\n",
    "\n",
    "yesterday = today - one_day\n",
    "print('Yesterday:', yesterday)\n",
    "\n",
    "tomorrow = today + one_day\n",
    "print('Tomorrow :', tomorrow)\n",
    "\n",
    "print()\n",
    "print('tomorrow - yesterday:', tomorrow - yesterday)\n",
    "print('yesterday - tomorrow:', yesterday - tomorrow)"
   ]
  },
  {
   "cell_type": "markdown",
   "metadata": {},
   "source": [
    "A timedelta object also supports arithmetic with integers, floats, and other timedelta instances.\n",
    "\n"
   ]
  },
  {
   "cell_type": "code",
   "execution_count": 11,
   "metadata": {},
   "outputs": [
    {
     "name": "stdout",
     "output_type": "stream",
     "text": [
      "1 day    : 1 day, 0:00:00\n",
      "5 days   : 5 days, 0:00:00\n",
      "1.5 days : 1 day, 12:00:00\n",
      "1/4 day  : 6:00:00\n",
      "meetings per day : 7.0\n"
     ]
    }
   ],
   "source": [
    "import datetime\n",
    "\n",
    "one_day = datetime.timedelta(days=1)\n",
    "print('1 day    :', one_day)\n",
    "print('5 days   :', one_day * 5)\n",
    "print('1.5 days :', one_day * 1.5)\n",
    "print('1/4 day  :', one_day / 4)\n",
    "\n",
    "# assume an hour for lunch\n",
    "work_day = datetime.timedelta(hours=7)\n",
    "meeting_length = datetime.timedelta(hours=1)\n",
    "print('meetings per day :', work_day / meeting_length)"
   ]
  },
  {
   "cell_type": "markdown",
   "metadata": {},
   "source": [
    "## Comparing Values"
   ]
  },
  {
   "cell_type": "markdown",
   "metadata": {},
   "source": [
    "Both date and time values can be compared using the standard comparison operators to determine which is earlier or later.\n",
    "\n"
   ]
  },
  {
   "cell_type": "code",
   "execution_count": 13,
   "metadata": {},
   "outputs": [
    {
     "name": "stdout",
     "output_type": "stream",
     "text": [
      "Times:\n",
      "  t1: 12:55:00\n",
      "  t2: 13:05:00\n",
      "  t1 < t2: True\n",
      "\n",
      "Dates:\n",
      "  d1: 2017-11-10\n",
      "  d2: 2017-11-11\n",
      "  d1 > d2: False\n"
     ]
    }
   ],
   "source": [
    "import datetime\n",
    "import time\n",
    "\n",
    "print('Times:')\n",
    "t1 = datetime.time(12, 55, 0)\n",
    "print('  t1:', t1)\n",
    "t2 = datetime.time(13, 5, 0)\n",
    "print('  t2:', t2)\n",
    "print('  t1 < t2:', t1 < t2)\n",
    "\n",
    "print()\n",
    "print('Dates:')\n",
    "d1 = datetime.date.today()\n",
    "print('  d1:', d1)\n",
    "d2 = datetime.date.today() + datetime.timedelta(days=1)\n",
    "print('  d2:', d2)\n",
    "print('  d1 > d2:', d1 > d2)"
   ]
  },
  {
   "cell_type": "markdown",
   "metadata": {},
   "source": [
    "## Combining Dates and Times"
   ]
  },
  {
   "cell_type": "markdown",
   "metadata": {},
   "source": [
    "Use the datetime class to hold values consisting of both date and time components. As with date, there are several convenient class methods to make creating datetime instances from other common values.\n",
    "\n"
   ]
  },
  {
   "cell_type": "code",
   "execution_count": 14,
   "metadata": {},
   "outputs": [
    {
     "name": "stdout",
     "output_type": "stream",
     "text": [
      "Now    : 2017-11-10 15:05:31.754458\n",
      "Today  : 2017-11-10 15:05:31.754801\n",
      "UTC Now: 2017-11-10 07:05:31.754880\n",
      "\n",
      "year           : 2017\n",
      "month          : 11\n",
      "day            : 10\n",
      "hour           : 15\n",
      "minute         : 5\n",
      "second         : 31\n",
      "microsecond    : 755005\n"
     ]
    }
   ],
   "source": [
    "import datetime\n",
    "\n",
    "print('Now    :', datetime.datetime.now())\n",
    "print('Today  :', datetime.datetime.today())\n",
    "print('UTC Now:', datetime.datetime.utcnow())\n",
    "print()\n",
    "\n",
    "FIELDS = [\n",
    "    'year', 'month', 'day',\n",
    "    'hour', 'minute', 'second',\n",
    "    'microsecond',\n",
    "]\n",
    "\n",
    "d = datetime.datetime.now()\n",
    "for attr in FIELDS:\n",
    "    print('{:15}: {}'.format(attr, getattr(d, attr)))"
   ]
  },
  {
   "cell_type": "markdown",
   "metadata": {},
   "source": [
    "combine date and time"
   ]
  },
  {
   "cell_type": "code",
   "execution_count": 15,
   "metadata": {},
   "outputs": [
    {
     "name": "stdout",
     "output_type": "stream",
     "text": [
      "t : 01:02:03\n",
      "d : 2017-11-10\n",
      "dt: 2017-11-10 01:02:03\n"
     ]
    }
   ],
   "source": [
    "import datetime\n",
    "\n",
    "t = datetime.time(1, 2, 3)\n",
    "print('t :', t)\n",
    "\n",
    "d = datetime.date.today()\n",
    "print('d :', d)\n",
    "\n",
    "dt = datetime.datetime.combine(d, t)\n",
    "print('dt:', dt)"
   ]
  },
  {
   "cell_type": "markdown",
   "metadata": {},
   "source": [
    "## Formatting and Parsing"
   ]
  },
  {
   "cell_type": "markdown",
   "metadata": {},
   "source": [
    "The default string representation of a datetime object uses the ISO-8601 format (YYYY-MM-DDTHH:MM:SS.mmmmmm). Alternate formats can be generated using strftime().\n",
    "\n"
   ]
  },
  {
   "cell_type": "code",
   "execution_count": 16,
   "metadata": {},
   "outputs": [
    {
     "name": "stdout",
     "output_type": "stream",
     "text": [
      "ISO     : 2017-11-10 15:09:12.672865\n",
      "strftime: Fri Nov 10 15:09:12 2017\n",
      "strptime: Fri Nov 10 15:09:12 2017\n"
     ]
    }
   ],
   "source": [
    "\n",
    "import datetime\n",
    "\n",
    "format = \"%a %b %d %H:%M:%S %Y\"\n",
    "\n",
    "today = datetime.datetime.today()\n",
    "print('ISO     :', today)\n",
    "\n",
    "s = today.strftime(format)\n",
    "print('strftime:', s)\n",
    "\n",
    "d = datetime.datetime.strptime(s, format)\n",
    "print('strptime:', d.strftime(format))"
   ]
  },
  {
   "cell_type": "markdown",
   "metadata": {},
   "source": [
    "## Time Zones"
   ]
  },
  {
   "cell_type": "markdown",
   "metadata": {},
   "source": [
    "Within datetime, time zones are represented by subclasses of tzinfo. Since tzinfo is an abstract base class, applications need to define a subclass and provide appropriate implementations for a few methods to make it useful.\n",
    "\n",
    "datetime does include a somewhat naive implementation in the class timezone that uses a fixed offset from UTC, and does not support different offset values on different days of the year, such as where daylight savings time applies, or where the offset from UTC has changed over time"
   ]
  },
  {
   "cell_type": "code",
   "execution_count": 20,
   "metadata": {},
   "outputs": [
    {
     "name": "stdout",
     "output_type": "stream",
     "text": [
      "now: 2017-11-10 15:14:54.960605\n",
      "UTC-06:00 : 2017-11-10 01:14:54.960954-06:00\n",
      "UTC : 2017-11-10 07:14:54.960954+00:00\n",
      "UTC+06:00 : 2017-11-10 13:14:54.960954+06:00\n",
      "CST       : 2017-11-10 15:14:54.960954+08:00\n"
     ]
    }
   ],
   "source": [
    "import datetime\n",
    "\n",
    "min6 = datetime.timezone(datetime.timedelta(hours=-6))\n",
    "plus6 = datetime.timezone(datetime.timedelta(hours=6))\n",
    "\n",
    "print(\"now:\", datetime.datetime.now())\n",
    "\n",
    "d = datetime.datetime.now(min6)\n",
    "\n",
    "print(min6, ':', d)\n",
    "print(datetime.timezone.utc, ':',\n",
    "      d.astimezone(datetime.timezone.utc))\n",
    "print(plus6, ':', d.astimezone(plus6))\n",
    "\n",
    "# convert to the current system timezone\n",
    "d_system = d.astimezone()\n",
    "print(d_system.tzinfo, '      :', d_system)"
   ]
  },
  {
   "cell_type": "markdown",
   "metadata": {},
   "source": [
    "The third party module **pytz** is a better implementation for time zones. It supports named time zones, and the offset database is kept up to date as changes are made by political bodies around the world."
   ]
  },
  {
   "cell_type": "code",
   "execution_count": null,
   "metadata": {},
   "outputs": [],
   "source": []
  }
 ],
 "metadata": {
  "kernelspec": {
   "display_name": "Python 3",
   "language": "python",
   "name": "python3"
  },
  "language_info": {
   "codemirror_mode": {
    "name": "ipython",
    "version": 3
   },
   "file_extension": ".py",
   "mimetype": "text/x-python",
   "name": "python",
   "nbconvert_exporter": "python",
   "pygments_lexer": "ipython3",
   "version": "3.6.1"
  }
 },
 "nbformat": 4,
 "nbformat_minor": 2
}
