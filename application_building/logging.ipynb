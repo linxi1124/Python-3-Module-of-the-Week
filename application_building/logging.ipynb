{
 "cells": [
  {
   "cell_type": "markdown",
   "metadata": {},
   "source": [
    "## Basic component "
   ]
  },
  {
   "cell_type": "markdown",
   "metadata": {},
   "source": [
    "* Logger: A named bucket to which messages can be written for processing\n",
    "\n",
    "* LogRecord: Created by **Logger**.\n",
    "\n",
    "* Formatter: turn the information in log records into output messages.\n",
    "\n",
    "* Filter: provide additional control over which log records are passed from logger to handler\n",
    "\n",
    "* Handler: Engines that determine what happen to each message in a **Logger**."
   ]
  },
  {
   "cell_type": "markdown",
   "metadata": {},
   "source": [
    "## Logging to a File"
   ]
  },
  {
   "cell_type": "markdown",
   "metadata": {},
   "source": [
    "Most applications are configured to log to a file. Use the basicConfig() function to set up the default handler so that debug messages are written to a file.\n",
    "\n"
   ]
  },
  {
   "cell_type": "code",
   "execution_count": 2,
   "metadata": {},
   "outputs": [
    {
     "name": "stdout",
     "output_type": "stream",
     "text": [
      "FILE:\n",
      "DEBUG:root:This message should go to the log file\n",
      "\n"
     ]
    }
   ],
   "source": [
    "import logging\n",
    "\n",
    "LOG_FILENAME = 'logging_example.log'\n",
    "logging.basicConfig(\n",
    "    filename=LOG_FILENAME,\n",
    "    level=logging.DEBUG,\n",
    ")\n",
    "\n",
    "logging.debug('This message should go to the log file')\n",
    "\n",
    "with open(LOG_FILENAME, 'rt') as f:\n",
    "    body = f.read()\n",
    "\n",
    "print('FILE:')\n",
    "print(body)"
   ]
  },
  {
   "cell_type": "markdown",
   "metadata": {},
   "source": [
    "## Rotating Log Files"
   ]
  },
  {
   "cell_type": "code",
   "execution_count": 5,
   "metadata": {},
   "outputs": [
    {
     "name": "stdout",
     "output_type": "stream",
     "text": [
      "logging_rotatingfile_example.log.4\n",
      "logging_rotatingfile_example.log.1\n",
      "logging_rotatingfile_example.log.5\n",
      "logging_rotatingfile_example.log\n",
      "logging_rotatingfile_example.log.2\n",
      "logging_rotatingfile_example.log.3\n"
     ]
    }
   ],
   "source": [
    "import glob\n",
    "import logging\n",
    "import logging.handlers\n",
    "\n",
    "LOG_FILENAME = 'logging_rotatingfile_example.log'\n",
    "\n",
    "# Set up a specific logger with our desired output level\n",
    "my_logger = logging.getLogger('MyLogger')\n",
    "my_logger.setLevel(logging.DEBUG)\n",
    "\n",
    "# Add the log message handler to the logger\n",
    "handler = logging.handlers.RotatingFileHandler(\n",
    "    LOG_FILENAME,\n",
    "    maxBytes=20,\n",
    "    backupCount=5,\n",
    ")\n",
    "my_logger.addHandler(handler)\n",
    "\n",
    "# Log some messages\n",
    "for i in range(20):\n",
    "    my_logger.debug('i = %d' % i)\n",
    "\n",
    "# See what files are created\n",
    "logfiles = glob.glob('%s*' % LOG_FILENAME)\n",
    "for filename in logfiles:\n",
    "    print(filename)"
   ]
  },
  {
   "cell_type": "markdown",
   "metadata": {},
   "source": [
    "The most current file is always logging_rotatingfile_example.out, and each time it reaches the size limit it is renamed with the suffix .1. Each of the existing backup files is renamed to increment the suffix (.1 becomes .2, etc.) and the .5 file is erased."
   ]
  },
  {
   "cell_type": "markdown",
   "metadata": {},
   "source": [
    "## Verbosity Levels"
   ]
  },
  {
   "cell_type": "markdown",
   "metadata": {},
   "source": [
    "Another useful feature of the logging API is the ability to produce different messages at different log levels. This means code can be instrumented with debug messages, for example, and the log level can be set so that those debug messages are not written on a production system. the table below lists the logging levels defined by logging."
   ]
  },
  {
   "cell_type": "markdown",
   "metadata": {},
   "source": [
    "<table border=\"1\" class=\"docutils\" id=\"id3\">\n",
    "<caption><span class=\"caption-text\">Logging Levels</span><a class=\"headerlink\" href=\"#id3\" title=\"Permalink to this table\">¶</a></caption>\n",
    "<colgroup>\n",
    "<col width=\"62%\" />\n",
    "<col width=\"38%\" />\n",
    "</colgroup>\n",
    "<thead valign=\"bottom\">\n",
    "<tr class=\"row-odd\"><th class=\"head\">Level</th>\n",
    "<th class=\"head\">Value</th>\n",
    "</tr>\n",
    "</thead>\n",
    "<tbody valign=\"top\">\n",
    "<tr class=\"row-even\"><td>CRITICAL</td>\n",
    "<td>50</td>\n",
    "</tr>\n",
    "<tr class=\"row-odd\"><td>ERROR</td>\n",
    "<td>40</td>\n",
    "</tr>\n",
    "<tr class=\"row-even\"><td>WARNING</td>\n",
    "<td>30</td>\n",
    "</tr>\n",
    "<tr class=\"row-odd\"><td>INFO</td>\n",
    "<td>20</td>\n",
    "</tr>\n",
    "<tr class=\"row-even\"><td>DEBUG</td>\n",
    "<td>10</td>\n",
    "</tr>\n",
    "<tr class=\"row-odd\"><td>UNSET</td>\n",
    "<td>0</td>\n",
    "</tr>\n",
    "</tbody>\n",
    "</table>"
   ]
  },
  {
   "cell_type": "markdown",
   "metadata": {},
   "source": [
    "## Naming Logger Instances"
   ]
  },
  {
   "cell_type": "markdown",
   "metadata": {},
   "source": [
    "All of the previous log messages all have ‘root’ embedded in them because the code uses the root logger. An easy way to tell where a specific log message comes from is to use a separate logger object for each module. Log messages sent to a logger include the name of that logger. Here is an example of how to log from different modules so it is easy to trace the source of the message."
   ]
  },
  {
   "cell_type": "code",
   "execution_count": 9,
   "metadata": {},
   "outputs": [],
   "source": [
    "import logging\n",
    "\n",
    "logging.basicConfig(level=logging.WARNING)\n",
    "\n",
    "logger1 = logging.getLogger('package1.module1')\n",
    "logger2 = logging.getLogger('package2.module2')\n",
    "\n",
    "logger1.warning('This message comes from one module')\n",
    "logger2.warning('This comes from another module')"
   ]
  },
  {
   "cell_type": "markdown",
   "metadata": {},
   "source": [
    "## Integration with the warnings Module"
   ]
  },
  {
   "cell_type": "markdown",
   "metadata": {},
   "source": [
    "The logging module integrates with [warnings](https://pymotw.com/3/warnings/index.html#module-warnings) through captureWarnings(), which configures warnings to send messages through the logging system instead of outputting them directly."
   ]
  },
  {
   "cell_type": "code",
   "execution_count": 10,
   "metadata": {},
   "outputs": [
    {
     "name": "stderr",
     "output_type": "stream",
     "text": [
      "/home/scott/.virtualenvs/tf35/lib/python3.5/site-packages/ipykernel_launcher.py:8: UserWarning: This warning is not sent to the logs\n",
      "  \n"
     ]
    }
   ],
   "source": [
    "import logging\n",
    "import warnings\n",
    "\n",
    "logging.basicConfig(\n",
    "    level=logging.INFO,\n",
    ")\n",
    "\n",
    "warnings.warn('This warning is not sent to the logs')\n",
    "\n",
    "logging.captureWarnings(True)\n",
    "\n",
    "warnings.warn('This warning is sent to the logs')"
   ]
  },
  {
   "cell_type": "markdown",
   "metadata": {},
   "source": [
    "## Multiple Handlers"
   ]
  },
  {
   "cell_type": "code",
   "execution_count": 13,
   "metadata": {},
   "outputs": [],
   "source": [
    "import logging\n",
    "\n",
    "file_hanlder = logging.FileHandler(\"file_1.log\", mode='a', encoding=None, delay=False)\n",
    "file_hanlder_2 = logging.FileHandler(\"file_2.log\", mode='a', encoding=None, delay=False)\n",
    "\n",
    "logger = logging.getLogger(\"mytestlogger\")\n",
    "\n",
    "logger.addHandler(file_hanlder)\n",
    "logger.addHandler(file_hanlder_2)\n",
    "\n",
    "logger.critical(\"test critical message\")\n"
   ]
  },
  {
   "cell_type": "code",
   "execution_count": null,
   "metadata": {},
   "outputs": [],
   "source": []
  }
 ],
 "metadata": {
  "kernelspec": {
   "display_name": "Python 3",
   "language": "python",
   "name": "python3"
  },
  "language_info": {
   "codemirror_mode": {
    "name": "ipython",
    "version": 3
   },
   "file_extension": ".py",
   "mimetype": "text/x-python",
   "name": "python",
   "nbconvert_exporter": "python",
   "pygments_lexer": "ipython3",
   "version": "3.5.2"
  }
 },
 "nbformat": 4,
 "nbformat_minor": 2
}
